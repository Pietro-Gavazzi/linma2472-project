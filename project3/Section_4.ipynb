{
 "cells": [
  {
   "cell_type": "code",
   "execution_count": 1,
   "metadata": {
    "collapsed": true
   },
   "outputs": [],
   "source": [
    "# PyTorch is a common library for neural networks in Python. torch.nn is a module for building layers of Neural Networks.\n",
    "import torch\n",
    "from torch import nn\n",
    "import torch.nn.functional as F\n",
    "\n",
    "# TorchVision is part of the PyTorch environment. It is necessary to download the datasets MNIST (and EMNIST Letters)\n",
    "import torchvision\n",
    "import torchvision.transforms as transforms\n",
    "\n",
    "# Usual mathematical stuff\n",
    "import numpy as np\n",
    "import math\n",
    "# Plots\n",
    "import matplotlib.pyplot as plt\n",
    "\n",
    "# Timing\n",
    "import time\n",
    "from datetime import datetime\n",
    "import time\n",
    "\n",
    "# additional packages\n",
    "import torchvision.utils as vutils\n",
    "# from torchviz import make_dot"
   ]
  },
  {
   "cell_type": "code",
   "execution_count": 2,
   "outputs": [],
   "source": [
    "# Check if GPU is available\n",
    "\n",
    "def chooseDevice():\n",
    "    device = \"\"\n",
    "    if torch.cuda.is_available():\n",
    "        device = torch.device(\"cuda\")\n",
    "        print(\"GPU available via cuda\")\n",
    "    else:\n",
    "        device = torch.device(\"cpu\")\n",
    "        print(\"GPU not available, CPU available\")\n",
    "    return device"
   ],
   "metadata": {
    "collapsed": false
   }
  },
  {
   "cell_type": "code",
   "execution_count": 3,
   "outputs": [
    {
     "name": "stdout",
     "output_type": "stream",
     "text": [
      "GPU not available, CPU available\n"
     ]
    }
   ],
   "source": [
    "device = chooseDevice()"
   ],
   "metadata": {
    "collapsed": false
   }
  },
  {
   "cell_type": "code",
   "execution_count": 4,
   "outputs": [],
   "source": [
    "_ = torch.manual_seed(2472)"
   ],
   "metadata": {
    "collapsed": false
   }
  },
  {
   "cell_type": "code",
   "execution_count": 12,
   "outputs": [],
   "source": [
    "# Extracts the train and test sets from a chosen image dataset\n",
    "# Values of pixels are normalized between -1 and 1\n",
    "def getData(dataset = \"MNIST\", info = True):\n",
    "    if dataset == \"MNIST\":\n",
    "        transform = transforms.Compose([transforms.ToTensor(), transforms.Normalize((0.5,), (0.5,))])\n",
    "        train_set = torchvision.datasets.MNIST(root=\".\", train=True, download=True, transform=transform)\n",
    "        test_set = torchvision.datasets.MNIST(root=\".\", train=False, download=True, transform=transform)\n",
    "    elif dataset == \"EMNIST_Letters\":\n",
    "        transform = transforms.Compose([transforms.ToTensor(), transforms.Normalize((0.5,), (0.5,))])\n",
    "        train_set = torchvision.datasets.EMNIST(root=\".\", split=\"letters\", train=True, download=True, transform=transform)\n",
    "        test_set = torchvision.datasets.EMNIST(root=\".\", split=\"letters\", train=False, download=True, transform=transform)\n",
    "    else:\n",
    "        print(\"DATASET NOT CORRECTLY DEFINED\")\n",
    "    if info:\n",
    "        print(train_set)\n",
    "        print(test_set)\n",
    "    return train_set, test_set"
   ],
   "metadata": {
    "collapsed": false
   }
  },
  {
   "cell_type": "code",
   "execution_count": 13,
   "outputs": [
    {
     "name": "stdout",
     "output_type": "stream",
     "text": [
      "Dataset MNIST\n",
      "    Number of datapoints: 60000\n",
      "    Root location: .\n",
      "    Split: Train\n",
      "    StandardTransform\n",
      "Transform: Compose(\n",
      "               ToTensor()\n",
      "               Normalize(mean=(0.5,), std=(0.5,))\n",
      "           )\n",
      "Dataset MNIST\n",
      "    Number of datapoints: 10000\n",
      "    Root location: .\n",
      "    Split: Test\n",
      "    StandardTransform\n",
      "Transform: Compose(\n",
      "               ToTensor()\n",
      "               Normalize(mean=(0.5,), std=(0.5,))\n",
      "           )\n"
     ]
    }
   ],
   "source": [
    "# Choose which dataset to use\n",
    "\n",
    "dataset = \"MNIST\"\n",
    "#dataset = \"EMNIST_Letters\"\n",
    "\n",
    "train_set, test_set = getData(dataset = dataset)"
   ],
   "metadata": {
    "collapsed": false
   }
  },
  {
   "cell_type": "code",
   "execution_count": 14,
   "outputs": [],
   "source": [
    "# Get information about the size of the train and test sets.\n",
    "\n",
    "def dataSize(train_set, test_set):\n",
    "    n_train_set = train_set.__len__()\n",
    "    n_test_set = test_set.__len__()\n",
    "    n_tot = n_train_set + n_test_set\n",
    "    ratio_train_test = n_train_set / n_test_set\n",
    "    percentage_train = n_train_set / n_tot\n",
    "    percentage_test = 1.0 - percentage_train\n",
    "    return n_train_set, n_test_set, n_tot, ratio_train_test, percentage_train, percentage_test"
   ],
   "metadata": {
    "collapsed": false
   }
  },
  {
   "cell_type": "code",
   "execution_count": 15,
   "outputs": [],
   "source": [
    "n_train_set, n_test_set, n_tot, ratio_train_test, percentage_train, percentage_test = dataSize(train_set, test_set)"
   ],
   "metadata": {
    "collapsed": false
   }
  },
  {
   "cell_type": "code",
   "execution_count": 16,
   "outputs": [],
   "source": [
    "# Divide dataset into batches\n",
    "\n",
    "def divideInBatches(train_set, test_set, batch_size, n_train_set, n_test_set):\n",
    "    # Train set\n",
    "    n_batches_total = math.ceil(n_train_set/batch_size)\n",
    "    train_loader = torch.utils.data.DataLoader(train_set, batch_size=batch_size, shuffle=True)\n",
    "\n",
    "    # Test set\n",
    "    n_batches_total_test = math.ceil(n_test_set/batch_size)\n",
    "    test_loader = torch.utils.data.DataLoader(test_set, batch_size=batch_size, shuffle=True)\n",
    "\n",
    "    return train_loader, test_loader, n_batches_total, n_batches_total_test"
   ],
   "metadata": {
    "collapsed": false
   }
  },
  {
   "cell_type": "code",
   "execution_count": 17,
   "outputs": [],
   "source": [
    "# Corrects EMNIST Letters data\n",
    "\n",
    "def correctData(real_samples, mnist_labels, dataset):\n",
    "    if dataset == \"EMNIST_Letters\":\n",
    "        real_samples = torch.transpose(real_samples,2,3)\n",
    "        mnist_labels -= 1\n",
    "    return real_samples, mnist_labels"
   ],
   "metadata": {
    "collapsed": false
   }
  },
  {
   "cell_type": "code",
   "execution_count": 18,
   "outputs": [],
   "source": [
    "# Plot digits or letters\n",
    "\n",
    "def showImages(samples, true_labels = None, predicted_labels = None, generated = False, predicted = False, epoch = None):\n",
    "\n",
    "    if generated == True and predicted == True:\n",
    "        plt.close(\"Generated predicted samples\")\n",
    "        f = plt.figure(\"Generated predicted samples\", figsize = (20,15))\n",
    "        f.suptitle(\"Generated predicted samples\", fontsize = 30)\n",
    "    elif generated == True and predicted == False :\n",
    "        if epoch != None:\n",
    "            plt.close(\"Generated samples epoch \" + str(epoch))\n",
    "            f = plt.figure(\"Generated samples epoch \" + str(epoch), figsize = (20,15))\n",
    "            f.suptitle(\"Generated samples epoch \" + str(epoch), fontsize = 30)\n",
    "        else:\n",
    "            plt.close(\"Generated samples\")\n",
    "            f = plt.figure(\"Generated samples\", figsize = (20,15))\n",
    "            f.suptitle(\"Generated samples\", fontsize = 30)\n",
    "    elif predicted == True and generated == False :\n",
    "        if epoch != None:\n",
    "            plt.close(\"Predicted samples epoch \" + str(epoch))\n",
    "            f = plt.figure(\"Predicted samples epoch \" + str(epoch), figsize = (20,15))\n",
    "            f.suptitle(\"Predicted samples epoch \" + str(epoch), fontsize = 30)\n",
    "        else:\n",
    "            plt.close(\"Predicted samples\")\n",
    "            f = plt.figure(\"Predicted samples\", figsize = (20,15))\n",
    "            f.suptitle(\"Predicted samples\", fontsize = 30)\n",
    "    else:\n",
    "        plt.close(\"MNIST samples\")\n",
    "        f = plt.figure(\"MNIST samples\", figsize = (20,15))\n",
    "        f.suptitle(\"MNIST training samples\", fontsize = 30)\n",
    "    f.subplots_adjust(wspace=0.2, hspace=0.4)\n",
    "    plt.rc('axes', titlesize=20)\n",
    "\n",
    "    for i in range(16):\n",
    "        if i < samples.size(0):\n",
    "            if generated:\n",
    "                a = samples[i][0].detach().numpy()\n",
    "            else:\n",
    "                a = samples[i]\n",
    "            fi = f.add_subplot(4, 4, i + 1)\n",
    "            fi.imshow(a.reshape(28, 28), cmap=\"gray_r\")\n",
    "            plt.xticks([])\n",
    "            plt.yticks([])\n",
    "            if generated == True and predicted == True :\n",
    "                fi.title.set_text(\"Pred: \" + str(predicted_labels[i].detach().numpy()))\n",
    "            elif generated == True and predicted == False :\n",
    "                fi.title.set_text(\"Sample \" + str(i))\n",
    "            elif predicted == True and generated == False :\n",
    "                fi.title.set_text(\"Pred: \" + str(predicted_labels[i].detach().numpy()) +  \", true: \" + str(true_labels[i].detach().numpy()))\n",
    "            else:\n",
    "                fi.title.set_text(\"Sample \" + str(i) + \": \" + str(true_labels[i].detach().numpy()))\n",
    "\n",
    "    now = datetime.now().strftime(\"%Y_%m_%d__%H_%M_%S\")\n",
    "    if generated == True and predicted == True :\n",
    "        f.savefig('./Figures/Sample_generated__' + now + '__epoch_' + str(epoch) + '.svg')\n",
    "    elif generated == True and predicted == False :\n",
    "        f.savefig('./Figures/Sample_generated_predicted__' + now + '__epoch_' + str(epoch) + '.svg')\n",
    "    elif predicted == True and generated == False :\n",
    "        f.savefig('./Figures/Sample_predicted__' + now + '__epoch_' + str(epoch) + '.svg')\n",
    "    else:\n",
    "        f.savefig('./Figures/Sample_MNIST.svg')"
   ],
   "metadata": {
    "collapsed": false
   }
  },
  {
   "cell_type": "code",
   "execution_count": 19,
   "outputs": [],
   "source": [
    "\n",
    "def computeGANAccuracy(y_predicted,y_true):\n",
    "\n",
    "    accuracy = torch.sum((y_predicted>0) == y_true) / len(y_true)\n",
    "\n",
    "    return accuracy"
   ],
   "metadata": {
    "collapsed": false
   }
  },
  {
   "cell_type": "code",
   "execution_count": 20,
   "outputs": [],
   "source": [
    "def generate_latent_vectors(dim_latent_space, batch_size):\n",
    "    # generate latent vectors based on a standard normal distribution\n",
    "    latent_vectors = torch.randn(dim_latent_space * batch_size).reshape(batch_size, dim_latent_space)\n",
    "\n",
    "    return latent_vectors"
   ],
   "metadata": {
    "collapsed": false
   }
  },
  {
   "cell_type": "code",
   "execution_count": 21,
   "outputs": [],
   "source": [
    "def loadModel(model, model_name, date_time):\n",
    "    model.load_state_dict(torch.load('./Models/' + model_name ))\n",
    "    model.eval()\n",
    "    return model"
   ],
   "metadata": {
    "collapsed": false
   }
  },
  {
   "cell_type": "code",
   "execution_count": 22,
   "outputs": [],
   "source": [
    "def numberClasses(dataset):\n",
    "    n_classes = len(dataset.classes)\n",
    "    return n_classes"
   ],
   "metadata": {
    "collapsed": false
   }
  },
  {
   "cell_type": "code",
   "execution_count": 23,
   "outputs": [],
   "source": [
    "def plot_cnn_prediction(classifier, data_loader, min=0, max=5):\n",
    "    for i, data in enumerate(data_loader, 0):\n",
    "        if i in range(min, max):\n",
    "            X = data[0].to(device)\n",
    "            y_true = data[1].to(device)\n",
    "            result = classifier(X)\n",
    "            y_hat = classifier.predictLabels(result)[0]\n",
    "            print(\"Saving Images: %d\" % (i+1))\n",
    "            showImages(X, true_labels=y_true, predicted_labels=y_hat, predicted=True)"
   ],
   "metadata": {
    "collapsed": false
   }
  },
  {
   "cell_type": "code",
   "execution_count": 24,
   "outputs": [],
   "source": [
    "class Generator(nn.Module):\n",
    "\n",
    "    def __init__(self, dim_latent_space):\n",
    "        super().__init__()\n",
    "        self.dim_latent_space = dim_latent_space\n",
    "        self.fc = nn.Linear(self.dim_latent_space, 64*7*7)\n",
    "        self.trans_conv1 = nn.ConvTranspose2d(64, 64, kernel_size = 3, stride = 2, padding = 1, output_padding = 1)\n",
    "        self.batch_norm1 = nn.BatchNorm2d(64)\n",
    "        self.trans_conv2 = nn.ConvTranspose2d(64, 32, kernel_size = 3, stride = 1, padding = 1)\n",
    "        self.batch_norm2 = nn.BatchNorm2d(32)\n",
    "        self.trans_conv3 = nn.ConvTranspose2d(32, 16, kernel_size = 3, stride = 1, padding = 1)\n",
    "        self.batch_norm3 = nn.BatchNorm2d(16)\n",
    "        self.trans_conv4 = nn.ConvTranspose2d(16, 1, kernel_size = 3, stride = 2, padding = 1, output_padding = 1)\n",
    "\n",
    "    def forward(self, x):                   # Input = batch_size*dim_latent_space\n",
    "        x = self.fc(x)                      # Output = batch_size*(64*7*7)\n",
    "        x = x.view(-1, 64, 7, 7)            # Output = batch_size*64*7*7\n",
    "        x = self.trans_conv1(x)             # Output = batch_size*64*14*14\n",
    "        x = F.relu(self.batch_norm1(x))\n",
    "        x = self.trans_conv2(x)             # Output = batch_size*32*14*14\n",
    "        x = F.relu(self.batch_norm2(x))\n",
    "        x = self.trans_conv3(x)             # Output = batch_size*16*14*14\n",
    "        x = F.relu(self.batch_norm3(x))\n",
    "        x = self.trans_conv4(x)             # Output = batch_size*1*28*28\n",
    "        x = torch.tanh(x)\n",
    "        return x\n",
    "\n",
    "class Discriminator(nn.Module):\n",
    "\n",
    "    def __init__(self):\n",
    "        super().__init__()\n",
    "        self.conv0 = nn.Conv2d(1, 32, kernel_size = 3, stride = 2, padding = 1)\n",
    "        self.conv0_drop = nn.Dropout2d(0.25)\n",
    "        self.conv1 = nn.Conv2d(32, 64, kernel_size = 3, stride = 1, padding = 1)\n",
    "        self.conv1_drop = nn.Dropout2d(0.25)\n",
    "        self.conv2 = nn.Conv2d(64, 128, kernel_size = 3, stride = 1, padding = 1)\n",
    "        self.conv2_drop = nn.Dropout2d(0.25)\n",
    "        self.conv3 = nn.Conv2d(128, 128, kernel_size = 3, stride = 2, padding = 1)\n",
    "        self.conv3_drop = nn.Dropout2d(0.25)\n",
    "        self.fc = nn.Linear(128*7*7, 1)\n",
    "\n",
    "    def forward(self, x):                               # Input = batch_size*1*28*28\n",
    "        x = x.view(-1, 1, 28, 28)                       # Output = batch_size*1*28*28\n",
    "        x = F.leaky_relu(self.conv0(x), 0.2)            # Output = batch_size*32*14*14\n",
    "        x = self.conv0_drop(x)\n",
    "        x = F.leaky_relu(self.conv1(x), 0.2)            # Output = batch_size*64*14*14\n",
    "        x = self.conv1_drop(x)\n",
    "        x = F.leaky_relu(self.conv2(x), 0.2)            # Output = batch_size*128*14*14\n",
    "        x = self.conv2_drop(x)\n",
    "        x = F.leaky_relu(self.conv3(x), 0.2)            # Output = batch_size*128*7*7\n",
    "        x = self.conv3_drop(x)\n",
    "        x = x.view(-1, 128*7*7)                         # Output = batch_size*(128*7*7)\n",
    "        x = self.fc(x)                                  # Output = batch_size*1\n",
    "        return x\n",
    "class CNN(nn.Module):\n",
    "    def __init__(self, n_classes):\n",
    "        super(CNN, self).__init__()\n",
    "        self.n_classes = n_classes\n",
    "        self.conv1 = nn.Sequential(             # Images input is batch_size*1*28*28\n",
    "            nn.Conv2d(1, 16, 5, 1, 2),          # Output is batch_size*16*28*28\n",
    "            nn.ReLU(),\n",
    "            nn.MaxPool2d(kernel_size=2),        # Output is batch_size*16*14*14\n",
    "        )\n",
    "        self.conv2 = nn.Sequential(\n",
    "            nn.Conv2d(16, 32, 5, 1, 2),         # Output is batch_size*32*14*14\n",
    "            nn.ReLU(),\n",
    "            nn.MaxPool2d(2),                    # Output is batch_size*32*7*7\n",
    "        )\n",
    "        # fully connected layer, output one number for each class\n",
    "        self.out = nn.Sequential(\n",
    "            nn.Linear(32 * 7 * 7, self.n_classes),          # Output is batch_size*n_classes\n",
    "        )\n",
    "\n",
    "    def scaleToProbabilities(self, outmap, scale_factor = 3):\n",
    "        # scale_factor allows to scale your output before passing it into the softmax function\n",
    "        # in order to get numbers interpratble as probabilities\n",
    "\n",
    "        flattened_outmap = outmap.view(outmap.shape[0], -1)\n",
    "        outmap_std = torch.std(flattened_outmap, dim = 1).view(-1, 1)\n",
    "        outmap_scaled_std = torch.div(outmap, outmap_std)\n",
    "        probabilities = nn.functional.softmax(outmap_scaled_std*scale_factor, dim=1)\n",
    "        return probabilities\n",
    "\n",
    "    def predictLabels(self, outmap, scale_factor = 3):\n",
    "        probabilities = self.scaleToProbabilities(outmap, scale_factor = 3)\n",
    "        certainty, predicted_labels = torch.max(probabilities, 1)\n",
    "        predicted_labels = predicted_labels.data.squeeze()\n",
    "        certainty = certainty.data.squeeze()\n",
    "        return predicted_labels, probabilities, certainty\n",
    "\n",
    "    def forward(self, x):\n",
    "        x = self.conv1(x)\n",
    "        x = self.conv2(x)\n",
    "        x = x.view(x.size(0), 32 * 7 * 7)\n",
    "        output = self.out(x)\n",
    "        return output"
   ],
   "metadata": {
    "collapsed": false
   }
  },
  {
   "cell_type": "code",
   "execution_count": 25,
   "outputs": [
    {
     "data": {
      "text/plain": "CNN(\n  (conv1): Sequential(\n    (0): Conv2d(1, 16, kernel_size=(5, 5), stride=(1, 1), padding=(2, 2))\n    (1): ReLU()\n    (2): MaxPool2d(kernel_size=2, stride=2, padding=0, dilation=1, ceil_mode=False)\n  )\n  (conv2): Sequential(\n    (0): Conv2d(16, 32, kernel_size=(5, 5), stride=(1, 1), padding=(2, 2))\n    (1): ReLU()\n    (2): MaxPool2d(kernel_size=2, stride=2, padding=0, dilation=1, ceil_mode=False)\n  )\n  (out): Sequential(\n    (0): Linear(in_features=1568, out_features=10, bias=True)\n  )\n)"
     },
     "execution_count": 25,
     "metadata": {},
     "output_type": "execute_result"
    }
   ],
   "source": [
    "#now we pass rlvs_lot through the image generator\n",
    "#print(rlvs_lot)--> i just wanted to check it, ignore it\n",
    "# Paramater for the batch size\n",
    "# Predefined value = 32\n",
    "\n",
    "n_classes = numberClasses(train_set)\n",
    "\n",
    "\n",
    "\n",
    "dim_latent_space = 100\n",
    "batch_size = 32\n",
    "nb_batches = 200\n",
    "\n",
    "\n",
    "\n",
    "date_time = \"\"\n",
    "genname = \"gen5\"\n",
    "disname = \"dis5\"\n",
    "cnnname = \"cnn_5_epochs\"\n",
    "\n",
    "generator = Generator(dim_latent_space)\n",
    "discriminator = Discriminator()\n",
    "cnn = CNN(n_classes)\n",
    "\n",
    "#loading the generator, discriminator and cnn model (classifier)\n",
    "generator =  loadModel(generator, genname, date_time)\n",
    "discriminator = loadModel(discriminator, disname, date_time)\n",
    "cnn = loadModel(cnn, cnnname, date_time)\n",
    "\n",
    "\n",
    "\n",
    "generator.eval()\n",
    "discriminator.eval()\n",
    "cnn.eval()\n"
   ],
   "metadata": {
    "collapsed": false
   }
  },
  {
   "cell_type": "code",
   "execution_count": 26,
   "outputs": [],
   "source": [
    "def generate_triplets(dim_latent_space=dim_latent_space ,batch_size=batch_size ,nb_batches=nb_batches, generate_latent_vectors=generate_latent_vectors, generator=generator, cnn=cnn):\n",
    "    list_lat_vec = []\n",
    "    list_images = []\n",
    "    list_cnn = []\n",
    "\n",
    "\n",
    "    for i in range(nb_batches):\n",
    "      # make batch_size*nb_batches triplets with the output of cnn\n",
    "      list_lat_vec.append(generate_latent_vectors(dim_latent_space, batch_size))\n",
    "      list_images.append(generator(list_lat_vec[i]))\n",
    "      list_cnn.append(cnn(list_images[i]))\n",
    "\n",
    "    return list_lat_vec, list_images, list_cnn"
   ],
   "metadata": {
    "collapsed": false
   }
  },
  {
   "cell_type": "markdown",
   "source": [
    "## Section 4"
   ],
   "metadata": {
    "collapsed": false
   }
  },
  {
   "cell_type": "markdown",
   "source": [
    "### 4.1 Open message\n",
    "\n",
    "You are asked to generate one list of digits/letters that will represent one message. Therefore, you have to find corresponding latent vectors that we call the ”message latent vectors” and put them, in order, in a PyTorch tensor. Then, you have to save it in a file thanks to the saveLatentVectors function provided below. You can also load previously saved latent vectors with loadLatentVectors."
   ],
   "metadata": {
    "collapsed": false
   }
  },
  {
   "cell_type": "code",
   "execution_count": 32,
   "outputs": [],
   "source": [
    "def generate_triplets(dim_latent_space=dim_latent_space ,batch_size=batch_size ,nb_batches=nb_batches, generate_latent_vectors=generate_latent_vectors, generator=generator, cnn=cnn):\n",
    "    list_lat_vec = []\n",
    "    list_images = []\n",
    "    list_cnn = []\n",
    "\n",
    "\n",
    "    for i in range(nb_batches):\n",
    "      # make batch_size*nb_batches triplets with the output of cnn\n",
    "      list_lat_vec.append(generate_latent_vectors(dim_latent_space, batch_size))\n",
    "      list_images.append(generator(list_lat_vec[i]))\n",
    "      list_cnn.append(cnn(list_images[i]))\n",
    "\n",
    "    return list_lat_vec, list_images, list_cnn\n",
    "\n",
    "def keep_above_threshold(list_lat_vec, list_images, list_cnn, thresh, generator=generator, cnn=cnn, n_classes=n_classes):\n",
    "    flist_lat_vec = []\n",
    "    flist_images = []\n",
    "    flist_cnn = []\n",
    "\n",
    "    nb_batches = len(list_lat_vec)\n",
    "    batch_size = len(list_lat_vec[0])\n",
    "\n",
    "\n",
    "    nbnb0 = np.zeros(n_classes)\n",
    "    nbnb = np.zeros(n_classes)\n",
    "\n",
    "    for i in range(nb_batches):\n",
    "      #  if certainty bigger that the threshold, save the triplet with the label\n",
    "\n",
    "      prob = cnn.predictLabels(list_cnn[i])\n",
    "      # print((prob))\n",
    "      for j in range(batch_size):\n",
    "\n",
    "        # with no threshold\n",
    "        nbnb0[prob[0][j].item()] += 1\n",
    "\n",
    "\n",
    "        # with threshold=thresh\n",
    "        if prob[2][j].item()> thresh:\n",
    "          flist_lat_vec.append(list_lat_vec[i][j])\n",
    "          flist_images.append(list_images[i][j])\n",
    "          flist_cnn.append(prob[0][j].item())\n",
    "          nbnb[flist_cnn[-1]] +=1\n",
    "\n",
    "    return flist_lat_vec, flist_images, flist_cnn, nbnb, nbnb0\n",
    "\n",
    "def devide_in_label(flist_lat_vec, flist_cnn, n_classes=n_classes, cnn=cnn):\n",
    "    #adding each labelled latent vector to its corresponding class\n",
    "\n",
    "    vector_list_label = [[] for i in range(n_classes)]\n",
    "\n",
    "    nb_vecs = len(flist_lat_vec)\n",
    "\n",
    "    for i in range(nb_vecs):\n",
    "        lab = flist_cnn[i]\n",
    "        vector_list_label[lab].append(flist_lat_vec[i])\n",
    "    return vector_list_label\n",
    "\n",
    "def compute_mean_label(vector_list_label):\n",
    "    n_classes = len(vector_list_label)\n",
    "    mean_label = [[] for i in range (n_classes)]\n",
    "\n",
    "    for i in range(n_classes):\n",
    "        mean = torch.mean(torch.stack(vector_list_label[i]), 0) #calculating the mean of these mean latent vectors\n",
    "        mean_label[i] = mean\n",
    "    return mean_label"
   ],
   "metadata": {
    "collapsed": false
   }
  },
  {
   "cell_type": "code",
   "execution_count": 34,
   "outputs": [],
   "source": [
    "thresh = 0.9\n",
    "\n",
    "list_lat_vec, list_images, list_cnn = generate_triplets(nb_batches = nb_batches)\n",
    "flist_lat_vec, flist_images, flist_cnn, nbnb, nbnb0= keep_above_threshold(list_lat_vec, list_images, list_cnn, thresh)\n",
    "vector_list_label = devide_in_label(flist_lat_vec, flist_cnn)\n",
    "mean_label = compute_mean_label(vector_list_label)"
   ],
   "metadata": {
    "collapsed": false
   }
  },
  {
   "cell_type": "code",
   "execution_count": 37,
   "outputs": [],
   "source": [
    "a = generator(torch.stack(mean_label))"
   ],
   "metadata": {
    "collapsed": false
   }
  },
  {
   "cell_type": "code",
   "execution_count": 59,
   "outputs": [],
   "source": [
    "def saveLatentVectors(filename , latent_vectors ):\n",
    "    torch.save(latent_vectors , './Latent_Vectors/' + filename)\n",
    "    return"
   ],
   "metadata": {
    "collapsed": false
   }
  },
  {
   "cell_type": "code",
   "execution_count": 60,
   "outputs": [],
   "source": [
    "def loadLatentVectors(filename):\n",
    "    latent_vectors = torch.load('./Latent_Vectors/' + filename)\n",
    "    return latent_vectors"
   ],
   "metadata": {
    "collapsed": false
   }
  },
  {
   "cell_type": "code",
   "execution_count": 62,
   "outputs": [],
   "source": [
    "saveLatentVectors(\"numerical_latent_vectors\", a)"
   ],
   "metadata": {
    "collapsed": false
   }
  },
  {
   "cell_type": "code",
   "execution_count": 72,
   "outputs": [],
   "source": [
    "numerical_latent_vectors = loadLatentVectors('numerical_latent_vectors')"
   ],
   "metadata": {
    "collapsed": false
   }
  },
  {
   "cell_type": "code",
   "execution_count": 66,
   "outputs": [
    {
     "data": {
      "text/plain": "<Figure size 640x480 with 1 Axes>",
      "image/png": "[encoded data removed]"
     },
     "metadata": {},
     "output_type": "display_data"
    }
   ],
   "source": [
    "plt.figure()\n",
    "plt.imshow(a[0][0].detach().numpy())\n",
    "plt.show()"
   ],
   "metadata": {
    "collapsed": false
   }
  },
  {
   "cell_type": "code",
   "execution_count": 104,
   "outputs": [],
   "source": [
    "def show_message(message, latenet_vectors, meaning):\n",
    "    latent_vectors_list = []\n",
    "\n",
    "    numerical_list = [*message]\n",
    "\n",
    "    n_cols = 4\n",
    "    n_rows = int(np.ceil(len(numerical_list)/4))\n",
    "    f = plt.figure(\"Messages\", figsize = (20,15))\n",
    "    f.suptitle(meaning, fontsize = 30)\n",
    "    f.subplots_adjust(wspace=0.2, hspace=0.2)\n",
    "    j = 0\n",
    "    for i in numerical_list:\n",
    "        latent_vectors_list.append(latenet_vectors[eval(i)][0])\n",
    "        fi = f.add_subplot(n_rows, n_cols, j + 1)\n",
    "        fi.imshow(latenet_vectors[eval(i)][0].detach().numpy(), cmap=\"gray_r\")\n",
    "        plt.xticks([])\n",
    "        plt.yticks([])\n",
    "\n",
    "        j += 1\n",
    "    plt.show()\n",
    "    f.savefig('./Figures/' + meaning + '.png')\n",
    "\n",
    "    saveLatentVectors(meaning, torch.stack(latent_vectors_list))"
   ],
   "metadata": {
    "collapsed": false
   }
  },
  {
   "cell_type": "code",
   "execution_count": 105,
   "outputs": [
    {
     "data": {
      "text/plain": "<Figure size 2000x1500 with 8 Axes>",
      "image/png": "[encoded data removed]"
     },
     "metadata": {},
     "output_type": "display_data"
    }
   ],
   "source": [
    "show_message(\"27062001\", numerical_latent_vectors, \"PIETRO\\'S_BIRTHDAY\")"
   ],
   "metadata": {
    "collapsed": false
   }
  },
  {
   "cell_type": "code",
   "execution_count": null,
   "outputs": [],
   "source": [],
   "metadata": {
    "collapsed": false
   }
  }
 ],
 "metadata": {
  "kernelspec": {
   "display_name": "Python 3",
   "language": "python",
   "name": "python3"
  },
  "language_info": {
   "codemirror_mode": {
    "name": "ipython",
    "version": 2
   },
   "file_extension": ".py",
   "mimetype": "text/x-python",
   "name": "python",
   "nbconvert_exporter": "python",
   "pygments_lexer": "ipython2",
   "version": "2.7.6"
  }
 },
 "nbformat": 4,
 "nbformat_minor": 0
}

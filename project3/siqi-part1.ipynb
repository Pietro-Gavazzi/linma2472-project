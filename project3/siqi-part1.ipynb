{
 "cells": [
  {
   "cell_type": "markdown",
   "id": "threaded-livestock",
   "metadata": {
    "id": "threaded-livestock"
   },
   "source": [
    "\n",
    "# LINMA2472 - Algorithms in Data Science\n",
    "# Homework 3: GAN and CNN to conquer MNIST\n",
    "# Part 1: Implementation\n",
    "Bastien Massion - bastien.massion@uclouvain.be\n",
    "\n",
    "09 November 2022"
   ]
  },
  {
   "cell_type": "markdown",
   "id": "under-opinion",
   "metadata": {
    "id": "under-opinion"
   },
   "source": [
    "## Guidelines\n",
    "This homework is done in Python, using the PyTorch library for neural networks. \n",
    "\n",
    "The homework is divided in 2 parts, this Notebook is the assignment for part 1. The second part will become available next week. The goal of the homework is to use a GAN for generating handwritten numbers (and letters) and a CNN to classify them. This first part is dedicated to the implementation, the second part will focus on analyzing and using the neural networks.\n",
    "\n",
    "The exact instructions for the report will come with the second part. However, every task asked in this Notebook will be useful, so get ahead!\n",
    "\n",
    "As for the previous homeworks, you are making groups of 3, in the Moodle activity \"Group choice for assignment 3\".\n",
    "\n",
    "The deadline for the whole homework is: 30 November 2022, 23:59.\n",
    "\n",
    "Your questions should be posted on the dedicated Moodle \"Class forum\" or sent directly to the mail address: bastien.massion@uclouvain.be."
   ]
  },
  {
   "cell_type": "markdown",
   "id": "democratic-metabolism",
   "metadata": {
    "id": "democratic-metabolism"
   },
   "source": [
    "## Introduction\n",
    "Since their introduction in 2014 by Goodfellow et al., Generative Adversarial Networks (GAN) have taken a predominant place in the deep learning landscape. GANs are deep neural networks composed of two parts: a generator and a discriminator. Those two parts are trained as opponents (hence \"adversarial\"): from the dataset, the generator tries to create new fake data that can fool the discriminator into thinking they are real, while the discriminator tries to distinguish between true and fake data. Often, the most interesting part of this model is the generator, therefore we often refer to GANs as generative models (even if they are also discriminative models). This generative property is used in a lot of applications: mainly for image processing task (style transfer, segmentation, face generation, image inpainting, deblurring, super-resolution,...), but also for natural language processing tasks (text summarization, text generation,...), for music generation or even for medical tasks (tumor detection).\n",
    "\n",
    "Another powerful architecture is Convolutional Neural Networks (CNN). CNNs naturally exploit invariances that are present in data (such that translation in images) in order, for example, to classify them. This is done by applying successive convolutions on data in order to extract the main features. Together with the backpropagation algorithm, the invention of CNN marked the revival of neural networks and deep learning in the 90's. Since then, they have found plenty of applications, mostly in image processing tasks.\n",
    "\n",
    "The goal of this homework in two parts is to implement your first GAN as well as your first CNN, to explore some properties and finally to combine them in order to generate what you desire."
   ]
  },
  {
   "cell_type": "markdown",
   "id": "explicit-combining",
   "metadata": {
    "id": "explicit-combining"
   },
   "source": [
    "## Packages import\n",
    "You will need several packages in order to successfully build, train and use your neural networks. \n",
    "\n",
    "The following packages are necessary and should not be removed. However, if you want to add other packages for your figures, for timing or whatever, feel free to do so."
   ]
  },
  {
   "cell_type": "code",
   "execution_count": 1,
   "id": "sought-statistics",
   "metadata": {
    "id": "sought-statistics",
    "executionInfo": {
     "status": "ok",
     "timestamp": 1668991030041,
     "user_tz": -60,
     "elapsed": 7,
     "user": {
      "displayName": "Maurice Siqi Hu",
      "userId": "09088207360287915119"
     }
    }
   },
   "outputs": [],
   "source": [
    "# PyTorch is a common library for neural networks in Python. torch.nn is a module for building layers of Neural Networks.\n",
    "import torch\n",
    "from torch import nn\n",
    "import torch.nn.functional as F\n",
    "\n",
    "# TorchVision is part of the PyTorch environment. It is necessary to download the datasets MNIST (and EMNIST Letters)\n",
    "import torchvision\n",
    "import torchvision.transforms as transforms\n",
    "\n",
    "# Usual mathematical stuff\n",
    "import numpy as np\n",
    "import math\n",
    "\n",
    "# Plots\n",
    "import matplotlib.pyplot as plt\n",
    "\n",
    "# Timing\n",
    "import time\n",
    "from datetime import datetime"
   ]
  },
  {
   "cell_type": "code",
   "source": [
    "# from google.colab import drive\n",
    "# drive.mount('/content/drive')"
   ],
   "metadata": {
    "colab": {
     "base_uri": "https://localhost:8080/"
    },
    "id": "cov4qze6mimL",
    "executionInfo": {
     "status": "ok",
     "timestamp": 1668991032235,
     "user_tz": -60,
     "elapsed": 2199,
     "user": {
      "displayName": "Maurice Siqi Hu",
      "userId": "09088207360287915119"
     }
    },
    "outputId": "204eefe1-3f36-4df7-f2a2-f5fea437f8e6"
   },
   "id": "cov4qze6mimL",
   "execution_count": 2,
   "outputs": [
    {
     "output_type": "stream",
     "name": "stdout",
     "text": [
      "Drive already mounted at /content/drive; to attempt to forcibly remount, call drive.mount(\"/content/drive\", force_remount=True).\n"
     ]
    }
   ]
  },
  {
   "cell_type": "markdown",
   "id": "urban-entry",
   "metadata": {
    "id": "urban-entry"
   },
   "source": [
    "## Resources\n",
    "Training neural networks is really expensive, especially if your networks are large. It is thus important to look for the most suited computing and storing resources.\n",
    "\n",
    "In practice, parallelisation of computations can speed up the process a lot, by several orders of magnitude. In particular, computing on a GPU (Graphics Processing Unit), which has up to hundreds of cores, will be much faster than on your usual laptop CPU (Central Processing Unit), typically with less than 8 cores. \n",
    "\n",
    "Therefore, it is useful to search for the maximum available computing power.\n",
    "\n",
    "Be reassured, this homework is doable on your standard laptop CPU.\n",
    "\n",
    "But, if you want or need better equipments for this project, there are some solutions."
   ]
  },
  {
   "cell_type": "markdown",
   "id": "grand-atlantic",
   "metadata": {
    "id": "grand-atlantic"
   },
   "source": [
    "### What is available?\n",
    "The function chooseDevice automatically checks if there is a GPU available. If there is one, computations will be done there. Simply be careful of adding \".to(device=device)\" everywhere it will be needed in the rest of the code. Otherwise, computations will be done on CPU.\n",
    "\n",
    "There should be no need to modify the function chooseDevice."
   ]
  },
  {
   "cell_type": "code",
   "execution_count": 2,
   "id": "strong-amino",
   "metadata": {
    "id": "strong-amino",
    "executionInfo": {
     "status": "ok",
     "timestamp": 1668991038428,
     "user_tz": -60,
     "elapsed": 616,
     "user": {
      "displayName": "Maurice Siqi Hu",
      "userId": "09088207360287915119"
     }
    }
   },
   "outputs": [],
   "source": [
    "# Check if GPU is available\n",
    "\n",
    "def chooseDevice():\n",
    "    device = \"\"\n",
    "    if torch.cuda.is_available():\n",
    "        device = torch.device(\"cuda\")\n",
    "        print(\"GPU available via cuda\")\n",
    "    else:\n",
    "        device = torch.device(\"cpu\")\n",
    "        print(\"GPU not available, CPU available\")\n",
    "    return device"
   ]
  },
  {
   "cell_type": "code",
   "execution_count": 3,
   "id": "brave-manner",
   "metadata": {
    "colab": {
     "base_uri": "https://localhost:8080/"
    },
    "id": "brave-manner",
    "executionInfo": {
     "status": "ok",
     "timestamp": 1668991039981,
     "user_tz": -60,
     "elapsed": 4,
     "user": {
      "displayName": "Maurice Siqi Hu",
      "userId": "09088207360287915119"
     }
    },
    "outputId": "1e95a2ad-4514-44c9-96ee-0f4dce645de0"
   },
   "outputs": [
    {
     "name": "stdout",
     "output_type": "stream",
     "text": [
      "GPU not available, CPU available\n"
     ]
    }
   ],
   "source": [
    "device = chooseDevice()"
   ]
  },
  {
   "cell_type": "markdown",
   "id": "careful-disposal",
   "metadata": {
    "id": "careful-disposal"
   },
   "source": [
    "### I need more power: Google Colab\n",
    "If you need or want more computing power, you can use Google Colab. Colab is a free and easy to use service from Google, where you can borrow their efficient resources. Often, GPU are not available (reserved in priority for people with paying subscriptions), but their CPU's are probably better than yours. You just need a Google account in order to run code online. Note that it works with Jupyter Notebooks, which is nice. \n",
    "\n",
    "If, despite this, you are not satisfied, feel free to contact Bastien Massion."
   ]
  },
  {
   "cell_type": "markdown",
   "id": "impaired-causing",
   "metadata": {
    "id": "impaired-causing"
   },
   "source": [
    "## Set random seed\n",
    "Setting the seed for the generation of random numbers is not necessary, but can be useful for keeping consistency in your experiments."
   ]
  },
  {
   "cell_type": "code",
   "execution_count": 4,
   "id": "incident-prevention",
   "metadata": {
    "id": "incident-prevention",
    "executionInfo": {
     "status": "ok",
     "timestamp": 1668991043355,
     "user_tz": -60,
     "elapsed": 439,
     "user": {
      "displayName": "Maurice Siqi Hu",
      "userId": "09088207360287915119"
     }
    }
   },
   "outputs": [],
   "source": [
    "_ = torch.manual_seed(2472) "
   ]
  },
  {
   "cell_type": "markdown",
   "id": "technical-anatomy",
   "metadata": {
    "id": "technical-anatomy"
   },
   "source": [
    "## Datasets\n",
    "Two datasets are proposed. \n",
    "\n",
    "First, the classical MNIST set. MNIST is mandatory and sufficient to complete the whole homework. It contains a total of 70 000 handwritten digits (60 000 train, 10 000 test) from 10 balanced classes (one for each digit). You have already worked with it in the HW2.\n",
    "\n",
    "Then, the EMNIST Letters set. This second dataset is larger (more data and more classes) and optional, but could be used to create more impressive results. It contains a total of 145 600 handwritten letters (124 800 train, 20 800 test) from 26 balanced classes (one for each latin letter, lowercase and uppercase mixed). For your information, EMNIST (Extended MNIST) contains several varations and extensions of MNIST."
   ]
  },
  {
   "cell_type": "markdown",
   "id": "mathematical-census",
   "metadata": {
    "id": "mathematical-census"
   },
   "source": [
    "### Load dataset\n",
    "The datasets are loaded from the module torchvision.\n",
    "\n",
    "There should be no need to modify the function getData."
   ]
  },
  {
   "cell_type": "code",
   "execution_count": 9,
   "id": "wooden-costume",
   "metadata": {
    "id": "wooden-costume",
    "executionInfo": {
     "status": "ok",
     "timestamp": 1668991046621,
     "user_tz": -60,
     "elapsed": 2,
     "user": {
      "displayName": "Maurice Siqi Hu",
      "userId": "09088207360287915119"
     }
    }
   },
   "outputs": [],
   "source": [
    "# Extracts the train and test sets from a chosen image dataset\n",
    "# Values of pixels are normalized between -1 and 1\n",
    "\n",
    "def getData(dataset = \"MNIST\", info = True):\n",
    "    if dataset == \"MNIST\":\n",
    "        transform = transforms.Compose([transforms.ToTensor(), transforms.Normalize((0.5,), (0.5,))])\n",
    "        train_set = torchvision.datasets.MNIST(root=\".\", train=True, download=True, transform=transform)\n",
    "        test_set = torchvision.datasets.MNIST(root=\".\", train=False, download=True, transform=transform)\n",
    "    elif dataset == \"EMNIST_Letters\":\n",
    "        transform = transforms.Compose([transforms.ToTensor(), transforms.Normalize((0.5,), (0.5,))])\n",
    "        train_set = torchvision.datasets.EMNIST(root=\".\", split=\"letters\", train=True, download=True, transform=transform)\n",
    "        test_set = torchvision.datasets.EMNIST(root=\".\", split=\"letters\", train=False, download=True, transform=transform)\n",
    "    else:\n",
    "        print(\"DATASET NOT CORRECTLY DEFINED\")\n",
    "    if info:\n",
    "        print(train_set)\n",
    "        print(test_set)\n",
    "    return train_set, test_set"
   ]
  },
  {
   "cell_type": "code",
   "execution_count": 10,
   "id": "encouraging-ministry",
   "metadata": {
    "colab": {
     "base_uri": "https://localhost:8080/"
    },
    "id": "encouraging-ministry",
    "executionInfo": {
     "status": "ok",
     "timestamp": 1668991047165,
     "user_tz": -60,
     "elapsed": 3,
     "user": {
      "displayName": "Maurice Siqi Hu",
      "userId": "09088207360287915119"
     }
    },
    "outputId": "5168decc-18f6-4ab5-bdca-8f9aaf68a5c7"
   },
   "outputs": [
    {
     "name": "stdout",
     "output_type": "stream",
     "text": [
      "Downloading http://yann.lecun.com/exdb/mnist/train-images-idx3-ubyte.gz\n"
     ]
    },
    {
     "name": "stderr",
     "output_type": "stream",
     "text": [
      "7.6%"
     ]
    },
    {
     "name": "stdout",
     "output_type": "stream",
     "text": [
      "Downloading http://yann.lecun.com/exdb/mnist/train-images-idx3-ubyte.gz to ./MNIST/raw/train-images-idx3-ubyte.gz\n"
     ]
    },
    {
     "name": "stderr",
     "output_type": "stream",
     "text": [
      "100.0%\n"
     ]
    },
    {
     "name": "stdout",
     "output_type": "stream",
     "text": [
      "Extracting ./MNIST/raw/train-images-idx3-ubyte.gz to ./MNIST/raw\n"
     ]
    },
    {
     "name": "stderr",
     "output_type": "stream",
     "text": [
      "100.0%"
     ]
    },
    {
     "name": "stdout",
     "output_type": "stream",
     "text": [
      "\n",
      "Downloading http://yann.lecun.com/exdb/mnist/train-labels-idx1-ubyte.gz\n",
      "Downloading http://yann.lecun.com/exdb/mnist/train-labels-idx1-ubyte.gz to ./MNIST/raw/train-labels-idx1-ubyte.gz\n",
      "Extracting ./MNIST/raw/train-labels-idx1-ubyte.gz to ./MNIST/raw\n",
      "\n",
      "Downloading http://yann.lecun.com/exdb/mnist/t10k-images-idx3-ubyte.gz\n",
      "Downloading http://yann.lecun.com/exdb/mnist/t10k-images-idx3-ubyte.gz to ./MNIST/raw/t10k-images-idx3-ubyte.gz\n"
     ]
    },
    {
     "name": "stderr",
     "output_type": "stream",
     "text": [
      "\n",
      "100.0%\n",
      "100.0%\n"
     ]
    },
    {
     "name": "stdout",
     "output_type": "stream",
     "text": [
      "Extracting ./MNIST/raw/t10k-images-idx3-ubyte.gz to ./MNIST/raw\n",
      "\n",
      "Downloading http://yann.lecun.com/exdb/mnist/t10k-labels-idx1-ubyte.gz\n",
      "Downloading http://yann.lecun.com/exdb/mnist/t10k-labels-idx1-ubyte.gz to ./MNIST/raw/t10k-labels-idx1-ubyte.gz\n",
      "Extracting ./MNIST/raw/t10k-labels-idx1-ubyte.gz to ./MNIST/raw\n",
      "\n",
      "Dataset MNIST\n",
      "    Number of datapoints: 60000\n",
      "    Root location: .\n",
      "    Split: Train\n",
      "    StandardTransform\n",
      "Transform: Compose(\n",
      "               ToTensor()\n",
      "               Normalize(mean=(0.5,), std=(0.5,))\n",
      "           )\n",
      "Dataset MNIST\n",
      "    Number of datapoints: 10000\n",
      "    Root location: .\n",
      "    Split: Test\n",
      "    StandardTransform\n",
      "Transform: Compose(\n",
      "               ToTensor()\n",
      "               Normalize(mean=(0.5,), std=(0.5,))\n",
      "           )\n"
     ]
    }
   ],
   "source": [
    "# Choose which dataset to use\n",
    "\n",
    "dataset = \"MNIST\"\n",
    "#dataset = \"EMNIST_Letters\"\n",
    "\n",
    "train_set, test_set = getData(dataset = dataset)"
   ]
  },
  {
   "cell_type": "markdown",
   "id": "unlikely-approach",
   "metadata": {
    "id": "unlikely-approach"
   },
   "source": [
    "### Get size of dataset\n",
    "This function is just there to extract useful information about the (relative) sizes of the train and test sets.\n",
    "\n",
    "There should be no need to modify the function dataSize."
   ]
  },
  {
   "cell_type": "code",
   "execution_count": 11,
   "id": "southeast-chemistry",
   "metadata": {
    "id": "southeast-chemistry",
    "executionInfo": {
     "status": "ok",
     "timestamp": 1668991063662,
     "user_tz": -60,
     "elapsed": 406,
     "user": {
      "displayName": "Maurice Siqi Hu",
      "userId": "09088207360287915119"
     }
    }
   },
   "outputs": [],
   "source": [
    "# Get information about the size of the train and test sets.\n",
    "\n",
    "def dataSize(train_set, test_set):\n",
    "    n_train_set = train_set.__len__()\n",
    "    n_test_set = test_set.__len__()\n",
    "    n_tot = n_train_set + n_test_set\n",
    "    ratio_train_test = n_train_set / n_test_set\n",
    "    percentage_train = n_train_set / n_tot\n",
    "    percentage_test = 1.0 - percentage_train\n",
    "    return n_train_set, n_test_set, n_tot, ratio_train_test, percentage_train, percentage_test"
   ]
  },
  {
   "cell_type": "code",
   "execution_count": 12,
   "id": "settled-turkish",
   "metadata": {
    "id": "settled-turkish",
    "executionInfo": {
     "status": "ok",
     "timestamp": 1668991064196,
     "user_tz": -60,
     "elapsed": 2,
     "user": {
      "displayName": "Maurice Siqi Hu",
      "userId": "09088207360287915119"
     }
    }
   },
   "outputs": [],
   "source": [
    "n_train_set, n_test_set, n_tot, ratio_train_test, percentage_train, percentage_test = dataSize(train_set, test_set)"
   ]
  },
  {
   "cell_type": "markdown",
   "id": "tropical-shakespeare",
   "metadata": {
    "id": "tropical-shakespeare"
   },
   "source": [
    "### Divide dataset into batches\n",
    "Computing the whole gradient for neural networks is too heavy, as it requires information about the whole dataset. Thus, we use (Mini-)Batch Gradient Descent. This is a variant of Stochastic Gradient Descent (SGD) in which we compute the gradient only for a small number of data, gathered in a batch. Typically, the batch size is orders of magnitude smaller than the whole dataset.\n",
    "\n",
    "The function divideInBatches splits the dataset and loads the data.\n",
    "\n",
    "You can modify the value of parameter batch_size as you wish.\n",
    "\n",
    "There should be no need to modify the function divideInBatches."
   ]
  },
  {
   "cell_type": "code",
   "execution_count": 13,
   "id": "still-conditioning",
   "metadata": {
    "id": "still-conditioning",
    "executionInfo": {
     "status": "ok",
     "timestamp": 1668991068436,
     "user_tz": -60,
     "elapsed": 4,
     "user": {
      "displayName": "Maurice Siqi Hu",
      "userId": "09088207360287915119"
     }
    }
   },
   "outputs": [],
   "source": [
    "# Paramater for the batch size\n",
    "# Predefined value = 32\n",
    "\n",
    "batch_size = 32"
   ]
  },
  {
   "cell_type": "code",
   "execution_count": 14,
   "id": "juvenile-black",
   "metadata": {
    "id": "juvenile-black",
    "executionInfo": {
     "status": "ok",
     "timestamp": 1668991068437,
     "user_tz": -60,
     "elapsed": 4,
     "user": {
      "displayName": "Maurice Siqi Hu",
      "userId": "09088207360287915119"
     }
    }
   },
   "outputs": [],
   "source": [
    "# Divide dataset into batches\n",
    "\n",
    "def divideInBatches(train_set, test_set, batch_size, n_train_set, n_test_set):\n",
    "    # Train set\n",
    "    n_batches_total = math.ceil(n_train_set/batch_size)\n",
    "    train_loader = torch.utils.data.DataLoader(train_set, batch_size=batch_size, shuffle=True)\n",
    "    \n",
    "    # Test set\n",
    "    n_batches_total_test = math.ceil(n_test_set/batch_size)\n",
    "    test_loader = torch.utils.data.DataLoader(test_set, batch_size=batch_size, shuffle=True)\n",
    "    \n",
    "    return train_loader, test_loader, n_batches_total, n_batches_total_test"
   ]
  },
  {
   "cell_type": "code",
   "execution_count": 15,
   "id": "indie-medicare",
   "metadata": {
    "id": "indie-medicare",
    "executionInfo": {
     "status": "ok",
     "timestamp": 1668991070177,
     "user_tz": -60,
     "elapsed": 3,
     "user": {
      "displayName": "Maurice Siqi Hu",
      "userId": "09088207360287915119"
     }
    }
   },
   "outputs": [],
   "source": [
    "train_loader, test_loader, n_batches_total, n_batches_total_test = divideInBatches(train_set, test_set, batch_size, n_train_set, n_test_set)"
   ]
  },
  {
   "cell_type": "markdown",
   "id": "human-stopping",
   "metadata": {
    "id": "human-stopping"
   },
   "source": [
    "### Correct EMNIST Letters data\n",
    "While the MNIST dataset is ready to be used, the EMNIST Letters data need to be slighty modified before use.\n",
    "\n",
    "On the one hand, the x and y axes of the images are flipped, which is unpractical for the visualization.\n",
    "\n",
    "On the other hand, the letters labels go from 1 to 26 (corresponding with their place in the alphabet) instead of from 0 to 25. This could be problematic and is better fixed directly.\n",
    "\n",
    "Therefore, every time a batch is loaded, it should go through a little correcting function first.\n",
    "\n",
    "There should be no need to modify the function correctData."
   ]
  },
  {
   "cell_type": "code",
   "execution_count": 16,
   "id": "signal-threat",
   "metadata": {
    "id": "signal-threat",
    "executionInfo": {
     "status": "ok",
     "timestamp": 1668991076842,
     "user_tz": -60,
     "elapsed": 465,
     "user": {
      "displayName": "Maurice Siqi Hu",
      "userId": "09088207360287915119"
     }
    }
   },
   "outputs": [],
   "source": [
    "# Corrects EMNIST Letters data\n",
    "\n",
    "def correctData(real_samples, mnist_labels, dataset):\n",
    "    if dataset == \"EMNIST_Letters\":\n",
    "        real_samples = torch.transpose(real_samples,2,3)\n",
    "        mnist_labels -= 1\n",
    "    return real_samples, mnist_labels"
   ]
  },
  {
   "cell_type": "code",
   "execution_count": 17,
   "id": "palestinian-interim",
   "metadata": {
    "id": "palestinian-interim",
    "executionInfo": {
     "status": "ok",
     "timestamp": 1668991077348,
     "user_tz": -60,
     "elapsed": 2,
     "user": {
      "displayName": "Maurice Siqi Hu",
      "userId": "09088207360287915119"
     }
    }
   },
   "outputs": [],
   "source": [
    "real_samples, mnist_labels = next(iter(train_loader))\n",
    "real_samples, mnist_labels = correctData(real_samples, mnist_labels, dataset)"
   ]
  },
  {
   "cell_type": "markdown",
   "id": "committed-collector",
   "metadata": {
    "id": "committed-collector"
   },
   "source": [
    "## Show images\n",
    "During the whole homework, it will be important to show samples, either from the dataset, either ones your generate. Here is just a function that can help you visualizing and avoiding losing any plot that you once created. \n",
    "\n",
    "The function showImages allows to represent up to 16 images. You can precise if they are generated by your generator or not (i.e. coming from the dataset). You can also show the true labels for original images and the predicted labels if you use your classifier.\n",
    "\n",
    "The created figures are stored in the folder that you should create : ./Figures. The figures are stored with a predifined name depending on the (date)time. \n",
    "\n",
    "You can of course modify this function as you wish."
   ]
  },
  {
   "cell_type": "code",
   "execution_count": 19,
   "id": "saved-trance",
   "metadata": {
    "id": "saved-trance",
    "executionInfo": {
     "status": "ok",
     "timestamp": 1668991926338,
     "user_tz": -60,
     "elapsed": 4,
     "user": {
      "displayName": "Maurice Siqi Hu",
      "userId": "09088207360287915119"
     }
    }
   },
   "outputs": [],
   "source": [
    "# Plot digits or letters\n",
    "\n",
    "def showImages(samples, true_labels = None, predicted_labels = None, generated = False, predicted = False, epoch = None):\n",
    "    \n",
    "    if generated == True and predicted == True:\n",
    "        plt.close(\"Generated predicted samples\")\n",
    "        f = plt.figure(\"Generated predicted samples\", figsize = (20,15))\n",
    "        f.suptitle(\"Generated predicted samples\", fontsize = 30)\n",
    "    elif generated == True and predicted == False :\n",
    "        if epoch != None:\n",
    "            plt.close(\"Generated samples epoch \" + str(epoch))\n",
    "            f = plt.figure(\"Generated samples epoch \" + str(epoch), figsize = (20,15))\n",
    "            f.suptitle(\"Generated samples epoch \" + str(epoch), fontsize = 30)\n",
    "        else:\n",
    "            plt.close(\"Generated samples\")\n",
    "            f = plt.figure(\"Generated samples\", figsize = (20,15))\n",
    "            f.suptitle(\"Generated samples\", fontsize = 30)            \n",
    "    elif predicted == True and generated == False :\n",
    "        if epoch != None:\n",
    "            plt.close(\"Predicted samples epoch \" + str(epoch))\n",
    "            f = plt.figure(\"Predicted samples epoch \" + str(epoch), figsize = (20,15))\n",
    "            f.suptitle(\"Predicted samples epoch \" + str(epoch), fontsize = 30)\n",
    "        else:\n",
    "            plt.close(\"Predicted samples\")\n",
    "            f = plt.figure(\"Predicted samples\", figsize = (20,15))\n",
    "            f.suptitle(\"Predicted samples\", fontsize = 30)            \n",
    "    else:\n",
    "        plt.close(\"MNIST samples\")\n",
    "        f = plt.figure(\"MNIST samples\", figsize = (20,15))\n",
    "        f.suptitle(\"MNIST training samples\", fontsize = 30)\n",
    "    f.subplots_adjust(wspace=0.2, hspace=0.4)\n",
    "    plt.rc('axes', titlesize=20)\n",
    "    \n",
    "    for i in range(16):\n",
    "        if i < samples.size(0):\n",
    "            fi = f.add_subplot(4, 4, i + 1)\n",
    "            fi.imshow(samples[i].reshape(28, 28), cmap=\"gray_r\")\n",
    "            plt.xticks([])\n",
    "            plt.yticks([]) \n",
    "            if generated == True and predicted == True :\n",
    "                fi.title.set_text(\"Pred: \" + str(predicted_labels[i].detach().numpy()))\n",
    "            elif generated == True and predicted == False :\n",
    "                fi.title.set_text(\"Sample \" + str(i))\n",
    "            elif predicted == True and generated == False :\n",
    "                fi.title.set_text(\"Pred: \" + str(predicted_labels[i].detach().numpy()) +  \", true: \" + str(true_labels[i].detach().numpy()))\n",
    "            else:\n",
    "                fi.title.set_text(\"Sample \" + str(i) + \": \" + str(true_labels[i].detach().numpy()))\n",
    "    \n",
    "    now = datetime.now().strftime(\"%Y_%m_%d__%H_%M\")\n",
    "    if generated == True and predicted == True :\n",
    "        f.savefig('./Figures/Sample_generated__' + now + '__epoch_' + str(epoch) + '.png')\n",
    "    elif generated == True and predicted == False :\n",
    "        f.savefig('./Figures/Sample_generated_predicted__' + now + '__epoch_' + str(epoch) + '.png')\n",
    "    elif predicted == True and generated == False :\n",
    "        f.savefig('./Figures/Sample_predicted__' + now + '__epoch_' + str(epoch) + '.png')\n",
    "    else:\n",
    "        f.savefig('./Figures/Sample_MNIST.png')"
   ]
  },
  {
   "cell_type": "code",
   "execution_count": 20,
   "id": "modular-despite",
   "metadata": {
    "colab": {
     "base_uri": "https://localhost:8080/",
     "height": 1000
    },
    "id": "modular-despite",
    "executionInfo": {
     "status": "error",
     "timestamp": 1668991929574,
     "user_tz": -60,
     "elapsed": 1528,
     "user": {
      "displayName": "Maurice Siqi Hu",
      "userId": "09088207360287915119"
     }
    },
    "outputId": "d121111f-5abf-46ad-9b3a-28f5e0eefce4"
   },
   "outputs": [
    {
     "data": {
      "text/plain": "<Figure size 2000x1500 with 16 Axes>",
      "image/png": "[encoded data removed]"
     },
     "metadata": {},
     "output_type": "display_data"
    }
   ],
   "source": [
    "showImages(real_samples, true_labels = mnist_labels)"
   ]
  },
  {
   "cell_type": "markdown",
   "id": "exotic-donna",
   "metadata": {
    "id": "exotic-donna"
   },
   "source": [
    "## Section 1: Train a GAN on MNIST for image generation\n",
    "In this first part, you are asked to train and test a GAN for the generation of fake handwritten numbers (and letters). \n",
    "\n",
    "Let's just recall what training a model means in machine learning. It is in fact quite simple: given a model architecture, use an optimization scheme to minimize a loss function (representing the gap between the data and the model predictions) in order to find the optimal values of the model parameters. In this Section, all of these elements are treated one by one.\n",
    "\n",
    "Moreover, you receive reference Generator and Discriminator architectures. These neural network architectures should not be changed. Indeed, they are sufficient in order to get nice enough results while keeping the training time reasonable on a laptop CPU (normally less than 2 hours training).\n",
    "\n",
    "However, if you want to train additional Generator and/or Discriminator models that could be larger or smaller (for improved results or faster training for example), feel free to create them by yourself, explain them with comments and name them differently."
   ]
  },
  {
   "cell_type": "markdown",
   "id": "quiet-eagle",
   "metadata": {
    "id": "quiet-eagle"
   },
   "source": [
    "### 1.a Generator class\n",
    "The Generator class takes an input: the dimension of the latent space. Indeed, the generator will create an image (1x28x28) from an input latent vector (1 color i.e. gray-scale, 28x28 pixels). Typically, this vector is of dimension 100 with each entry sampled from a standard normal distribution or from an uniform distribution on [-1,1]. You are free to change this dimension and see what happens.\n",
    "\n",
    "The latent space is thus a space where the information contained in the images is compressed/condensed. This latent space will be the focus of the second part of the homework."
   ]
  },
  {
   "cell_type": "code",
   "execution_count": null,
   "id": "patent-westminster",
   "metadata": {
    "id": "patent-westminster"
   },
   "outputs": [],
   "source": [
    "# Dimension of the latent space\n",
    "# Predefined value = 100\n",
    "\n",
    "dim_latent_space = 100"
   ]
  },
  {
   "cell_type": "markdown",
   "id": "instrumental-crack",
   "metadata": {
    "id": "instrumental-crack"
   },
   "source": [
    "The class below contains the reference Generator architecture. You don't have to worry about the initialization of the model, it is done automatically.\n",
    "\n",
    "This architecture should not be changed.\n",
    "\n",
    "The Generator takes a batch of latent vectors as input, and ouputs one 1x28x28 pixels image for each input."
   ]
  },
  {
   "cell_type": "code",
   "execution_count": null,
   "id": "outer-navigation",
   "metadata": {
    "id": "outer-navigation"
   },
   "outputs": [],
   "source": [
    "class Generator(nn.Module):\n",
    "\n",
    "    def __init__(self, dim_latent_space):\n",
    "        super().__init__()\n",
    "        self.dim_latent_space = dim_latent_space\n",
    "        self.fc = nn.Linear(self.dim_latent_space, 64*7*7)\n",
    "        self.trans_conv1 = nn.ConvTranspose2d(64, 64, kernel_size = 3, stride = 2, padding = 1, output_padding = 1)\n",
    "        self.batch_norm1 = nn.BatchNorm2d(64)\n",
    "        self.trans_conv2 = nn.ConvTranspose2d(64, 32, kernel_size = 3, stride = 1, padding = 1)\n",
    "        self.batch_norm2 = nn.BatchNorm2d(32)\n",
    "        self.trans_conv3 = nn.ConvTranspose2d(32, 16, kernel_size = 3, stride = 1, padding = 1)\n",
    "        self.batch_norm3 = nn.BatchNorm2d(16)\n",
    "        self.trans_conv4 = nn.ConvTranspose2d(16, 1, kernel_size = 3, stride = 2, padding = 1, output_padding = 1)\n",
    "        \n",
    "    def forward(self, x):                   # Input = batch_size*dim_latent_space\n",
    "        x = self.fc(x)                      # Output = batch_size*(64*7*7)\n",
    "        x = x.view(-1, 64, 7, 7)            # Output = batch_size*64*7*7\n",
    "        x = self.trans_conv1(x)             # Output = batch_size*64*14*14\n",
    "        x = F.relu(self.batch_norm1(x))\n",
    "        x = self.trans_conv2(x)             # Output = batch_size*32*14*14\n",
    "        x = F.relu(self.batch_norm2(x))\n",
    "        x = self.trans_conv3(x)             # Output = batch_size*16*14*14\n",
    "        x = F.relu(self.batch_norm3(x))     \n",
    "        x = self.trans_conv4(x)             # Output = batch_size*1*28*28\n",
    "        x = torch.tanh(x)\n",
    "        return x"
   ]
  },
  {
   "cell_type": "code",
   "execution_count": null,
   "id": "numerical-discussion",
   "metadata": {
    "id": "numerical-discussion"
   },
   "outputs": [],
   "source": [
    "generator = Generator(dim_latent_space).to(device=device)"
   ]
  },
  {
   "cell_type": "markdown",
   "id": "mounted-resource",
   "metadata": {
    "id": "mounted-resource"
   },
   "source": [
    "### 1.b Discriminator class\n",
    "The class below contains the reference Discriminator architecture. You don't have to worry about the initialization of the model, it is done automatically.\n",
    "\n",
    "This architecture should not be changed.\n",
    "\n",
    "The Discriminitor takes a batch of 1x28x28 pixels images as input, and ouputs numbers between -inf and +inf. The activation of the last layer represents some likelihood of the image being fake or not, according to the model. Afterwards, it goes through a sigmoid function in order to scale numbers between 0 and 1. An output of 0 means that the model is certain that the corresponding input image is fake, and an output of 0 means that it is certain that it is real."
   ]
  },
  {
   "cell_type": "code",
   "execution_count": null,
   "id": "julian-partnership",
   "metadata": {
    "id": "julian-partnership"
   },
   "outputs": [],
   "source": [
    "class Discriminator(nn.Module):\n",
    "    \n",
    "    def __init__(self):\n",
    "        super().__init__()\n",
    "        self.conv0 = nn.Conv2d(1, 32, kernel_size = 3, stride = 2, padding = 1)     \n",
    "        self.conv0_drop = nn.Dropout2d(0.25)\n",
    "        self.conv1 = nn.Conv2d(32, 64, kernel_size = 3, stride = 1, padding = 1)\n",
    "        self.conv1_drop = nn.Dropout2d(0.25)\n",
    "        self.conv2 = nn.Conv2d(64, 128, kernel_size = 3, stride = 1, padding = 1)\n",
    "        self.conv2_drop = nn.Dropout2d(0.25)\n",
    "        self.conv3 = nn.Conv2d(128, 128, kernel_size = 3, stride = 2, padding = 1)\n",
    "        self.conv3_drop = nn.Dropout2d(0.25)\n",
    "        self.fc = nn.Linear(128*7*7, 1)\n",
    "    \n",
    "    def forward(self, x):                               # Input = batch_size*1*28*28\n",
    "        x = x.view(-1, 1, 28, 28)                       # Output = batch_size*1*28*28\n",
    "        x = F.leaky_relu(self.conv0(x), 0.2)            # Output = batch_size*32*14*14\n",
    "        x = self.conv0_drop(x)\n",
    "        x = F.leaky_relu(self.conv1(x), 0.2)            # Output = batch_size*64*14*14\n",
    "        x = self.conv1_drop(x)\n",
    "        x = F.leaky_relu(self.conv2(x), 0.2)            # Output = batch_size*128*14*14\n",
    "        x = self.conv2_drop(x)\n",
    "        x = F.leaky_relu(self.conv3(x), 0.2)            # Output = batch_size*128*7*7\n",
    "        x = self.conv3_drop(x)\n",
    "        x = x.view(-1, 128*7*7)                         # Output = batch_size*(128*7*7)\n",
    "        x = self.fc(x)                                  # Output = batch_size*1\n",
    "        return x"
   ]
  },
  {
   "cell_type": "code",
   "execution_count": null,
   "id": "realistic-calcium",
   "metadata": {
    "id": "realistic-calcium"
   },
   "outputs": [],
   "source": [
    "discriminator = Discriminator().to(device=device)"
   ]
  },
  {
   "cell_type": "markdown",
   "id": "commercial-checkout",
   "metadata": {
    "id": "commercial-checkout"
   },
   "source": [
    "### 1.c Number of parameters\n",
    "This function counts and prints the number of parameters in any neural network model.\n",
    "\n",
    "There should be no need to modify the function numberParameters."
   ]
  },
  {
   "cell_type": "code",
   "execution_count": null,
   "id": "communist-temperature",
   "metadata": {
    "id": "communist-temperature"
   },
   "outputs": [],
   "source": [
    "def numberParameters(model, trainable = False, model_name = None):\n",
    "    total_params = sum(param.numel() for param in model.parameters())\n",
    "    if model_name != None:\n",
    "        print(\"Number of parameters of \" + model_name + \": \" + str(total_params))\n",
    "    return total_params"
   ]
  },
  {
   "cell_type": "code",
   "execution_count": null,
   "id": "irish-community",
   "metadata": {
    "id": "irish-community",
    "outputId": "413631d0-7975-4aa7-f58e-6228340a961f"
   },
   "outputs": [
    {
     "name": "stdout",
     "output_type": "stream",
     "text": [
      "Number of parameters of discriminator: 246529\n",
      "Number of parameters of generator: 377121\n"
     ]
    }
   ],
   "source": [
    "discriminator_params = numberParameters(discriminator, model_name = \"discriminator\")\n",
    "generator_params = numberParameters(generator, model_name = \"generator\")"
   ]
  },
  {
   "cell_type": "markdown",
   "id": "charged-copying",
   "metadata": {
    "id": "charged-copying"
   },
   "source": [
    "### 1.d Loss function\n",
    "The loss function measures how good the model is. For the discriminator, it a binary classification problem: the discriminator tries to distinguish true data (label = 1) from fake generated ones (label = 0). Therefore, we use a Binary Cross Entropy loss. As the only goal of the generator is to fool the discriminator, it can also be expressed with a Binary Cross Entropy loss function. Think about what inputs we need to give to the loss function for the discriminator and for the generator.\n",
    "\n",
    "You see that BCELoss is replaced by BCEWithLogitsLoss. Think about why this is, and how it links with the last layer of the given Discriminator architecture.\n",
    "\n",
    "This loss function should not be changed."
   ]
  },
  {
   "cell_type": "code",
   "execution_count": null,
   "id": "friendly-royalty",
   "metadata": {
    "id": "friendly-royalty"
   },
   "outputs": [],
   "source": [
    "# Loss function for the GAN\n",
    "\n",
    "#loss_function_gan = nn.BCELoss()\n",
    "loss_function_gan = nn.BCEWithLogitsLoss()"
   ]
  },
  {
   "cell_type": "markdown",
   "id": "electrical-exclusive",
   "metadata": {
    "id": "electrical-exclusive"
   },
   "source": [
    "### 1.e Optimizers\n",
    "Adam is one of the most famous adaptive stochastic gradient descent algorithm. It is massively used for training neural networks.\n",
    "\n",
    "You can play around with the Adam parameters if you want."
   ]
  },
  {
   "cell_type": "code",
   "execution_count": null,
   "id": "identical-protection",
   "metadata": {
    "id": "identical-protection"
   },
   "outputs": [],
   "source": [
    "# Adam optimization parameters\n",
    "# Predefined values: lr_gan = 0.0002, betas_gan = (0.5, 0.999)\n",
    "lr_gan = 0.0002\n",
    "betas_gan = (0.5, 0.999)\n",
    "\n",
    "optimizer_discriminator = torch.optim.Adam(discriminator.parameters(), lr=lr_gan, betas = betas_gan)\n",
    "optimizer_generator = torch.optim.Adam(generator.parameters(), lr=lr_gan, betas = betas_gan)"
   ]
  },
  {
   "cell_type": "markdown",
   "id": "julian-crowd",
   "metadata": {
    "id": "julian-crowd"
   },
   "source": [
    "### 1.f Accuracy\n",
    "We define one error measure as the accuracy reached by the discriminator for its predictions y_predicted, i.e. the ratio between the number of correct classifications and the total number of samples. We suppose that if 0.0 <= y_generated[i] <= 0.5, then it predicts a fake image and if 0.5 < y_generated[i] <= 1.0, it predicts a true image.\n",
    "\n",
    "During the training, data are loaded batch by batch. It could thus be a good idea to consider that the inputs of the following function are the true and predicted labels from one batch of data.\n",
    "\n",
    "Task: complete the computeGANAccuracy function."
   ]
  },
  {
   "cell_type": "code",
   "execution_count": null,
   "id": "blessed-chancellor",
   "metadata": {
    "id": "blessed-chancellor"
   },
   "outputs": [],
   "source": [
    "def computeGANAccuracy(y_predicted,y_true):\n",
    "    \n",
    "    accuracy = 0.0\n",
    "    \n",
    "    # TO COMPLETE\n",
    "    \n",
    "    return accuracy"
   ]
  },
  {
   "cell_type": "markdown",
   "id": "operating-shanghai",
   "metadata": {
    "id": "operating-shanghai"
   },
   "source": [
    "### 1.g Preparing the training process\n",
    "In this part, you are asked to initialize the training process (not the model which is initialized automatically). \n",
    "\n",
    "Let's just first define the number of iterations (epochs) that the training will last. Satisfactory results can be obtained with 5 epochs, but you can of course increase this value for a better training."
   ]
  },
  {
   "cell_type": "code",
   "execution_count": null,
   "id": "continued-lightweight",
   "metadata": {
    "id": "continued-lightweight"
   },
   "outputs": [],
   "source": [
    "# Number of epochs for the training\n",
    "# Predefined value: num_epochs_gan = 5\n",
    "\n",
    "num_epochs_gan = 5"
   ]
  },
  {
   "cell_type": "markdown",
   "id": "optimum-tomato",
   "metadata": {
    "id": "optimum-tomato"
   },
   "source": [
    "It is important to keep track of the evolution of the error metrics during the training process. A simple idea is to store the values of the metrics in arrays, at least after every epoch.\n",
    "\n",
    "Task: Create arrays that will contain the accuracy for train and test sets, as well as the values of the discriminator loss and of the generator loss during the training. Compute the errors before training the model and store them in your arrays."
   ]
  },
  {
   "cell_type": "code",
   "execution_count": null,
   "id": "announced-drain",
   "metadata": {
    "id": "announced-drain"
   },
   "outputs": [],
   "source": [
    "# Error metrics at initialisation\n",
    "\n",
    "# TO COMPLETE"
   ]
  },
  {
   "cell_type": "markdown",
   "id": "southeast-shaft",
   "metadata": {
    "id": "southeast-shaft"
   },
   "source": [
    "It is a good option to keep track of the evolution of the images generated through the training. Defining a reference sample of latent vectors allows to generate the image for the same inputs every time. You can compute the output from those vectors after each epoch to see how the generated images evolve with the training. The latent vectors can be generated from a standard normal distribution, or from a uniform distribution over [-1,1].\n",
    "\n",
    "Task: Define a sample of reference latent vectors."
   ]
  },
  {
   "cell_type": "code",
   "execution_count": null,
   "id": "regional-saudi",
   "metadata": {
    "id": "regional-saudi"
   },
   "outputs": [],
   "source": [
    "# Reference latent vectors\n",
    "\n",
    "# TO COMPLETE"
   ]
  },
  {
   "cell_type": "markdown",
   "id": "frozen-estonia",
   "metadata": {
    "id": "frozen-estonia"
   },
   "source": [
    "### 1.h Training and testing the GAN\n",
    "This is finally the core part of this section: training your GAN.\n",
    "\n",
    "The training will follow an easy structure. Here is the pseudo-code of the training process:\n",
    "\n",
    "\n",
    "    for each epoch:\n",
    "\n",
    "        for each batch:\n",
    "\n",
    "            train the discriminator on the batch:\n",
    "\n",
    "                generate fake data (same amount as size of the batch)\n",
    "\n",
    "                predict if data from the batch and generated data are fake or not\n",
    "\n",
    "                compute the discriminator loss function\n",
    "\n",
    "                backpropagate the error in the discriminator\n",
    "\n",
    "            train the generator on the batch\n",
    "\n",
    "                generate fake data (same amount as size of the batch)\n",
    "\n",
    "                predict if generated data are fake or not\n",
    "\n",
    "                compute the generator loss function\n",
    "\n",
    "                backpropagate the error in the generator\n",
    "\n",
    "        end\n",
    "\n",
    "    end\n",
    "\n",
    "Task: Code the GAN training from the pseudo-code given above. Don't forget to switch between training and evaluation modes for the models, by using train() and eval() Pytorch functions. To understand what to do and why, look for their impact on specific layers of the networks. You may also use the time package in order to get information about the duration of the training. Finally, at every epoch, compute and store the accuracy and the losses of the model and generate images from your reference sample."
   ]
  },
  {
   "cell_type": "code",
   "execution_count": null,
   "id": "unusual-posting",
   "metadata": {
    "id": "unusual-posting"
   },
   "outputs": [],
   "source": [
    "# Training of the GAN\n",
    "\n",
    "# TO COMPLETE"
   ]
  },
  {
   "cell_type": "markdown",
   "id": "returning-drill",
   "metadata": {
    "id": "returning-drill"
   },
   "source": [
    "### 1.i Plot the results\n",
    "You should plot the evolution of your error metrics (accuracy and loss function) in function of the number of epochs, to see how efficient the training is. Show the evolution of the images generated from your reference sample as well.\n",
    "\n",
    "Task: Make those plots, as clean and readable as possible."
   ]
  },
  {
   "cell_type": "code",
   "execution_count": null,
   "id": "veterinary-headset",
   "metadata": {
    "id": "veterinary-headset"
   },
   "outputs": [],
   "source": [
    "# Plots of accuracy and of loss function, images generated from your reference sample.\n",
    "\n",
    "# TO COMPLETE"
   ]
  },
  {
   "cell_type": "markdown",
   "id": "artistic-relations",
   "metadata": {
    "id": "artistic-relations"
   },
   "source": [
    "### 1.j Save your models\n",
    "A really useful feature for your experiments is to be able to save your models. This can be done with the torch.save function. In the function saveModel, a model is stored in the folder ./Models that you may want to create. The (date)time is used to always store your models with a different name and never lose some training that you would have done.\n",
    "\n",
    "Be careful however: the saveModel function below stores the \"state dictionary\" of your model, not your model itself. \n",
    "\n",
    "You can of course modify the function saveModel as you wish."
   ]
  },
  {
   "cell_type": "code",
   "execution_count": null,
   "id": "formal-breathing",
   "metadata": {
    "id": "formal-breathing"
   },
   "outputs": [],
   "source": [
    "def saveModel(model, model_name):\n",
    "    now = datetime.now().strftime(\"%Y_%m_%d__%H_%M\")\n",
    "    torch.save(model.state_dict(), '../Models/' + model_name + '__' + now)\n",
    "\n",
    "#### Example\n",
    "#\n",
    "# D = Discriminator().to(device=device)\n",
    "# saveModel(D, \"Discriminator\")\n",
    "#\n",
    "##\n",
    "# The model D has been saved as \"Discriminator__2022_11_12__15_21\" in the folder ./Models as your code finished running at\n",
    "# 15:21 on the 12 November 2022.\n",
    "##"
   ]
  },
  {
   "cell_type": "markdown",
   "id": "needed-memorabilia",
   "metadata": {
    "id": "needed-memorabilia"
   },
   "source": [
    "### 1.k Load your models\n",
    "You can also load models that you trained and saved earlier with the function loadModel.\n",
    "\n",
    "However, be careful. You will have to first recreate a new instance of your class, and then import the state dictionary in the new instance. This means that the characteristics of your class should not have changed since then. In particular, the number of layers and the size of the layers need to match between the trained model and the most recent class in order to correctly assign the stored parameters. Moreover, there could be some trouble if you changed functions/methods from the class. \n",
    "\n",
    "You can of course modify the function loadModel as you wish."
   ]
  },
  {
   "cell_type": "code",
   "execution_count": null,
   "id": "indirect-france",
   "metadata": {
    "id": "indirect-france"
   },
   "outputs": [],
   "source": [
    "def loadModel(model, model_name, date_time):\n",
    "    model.load_state_dict(torch.load('../Models/' + model_name + '__' + date_time))\n",
    "    model.eval()\n",
    "    return model\n",
    "\n",
    "#### Example\n",
    "#\n",
    "# D = Discriminator().to(device=device)\n",
    "# loadModel(D, \"Discriminator\", \"2022_11_12__15_21\")\n",
    "#\n",
    "##\n",
    "# The model \"Discriminator__2022_11_12__15_21\" from the folder ./Models has been loaded in the Discriminator D\n",
    "##"
   ]
  },
  {
   "cell_type": "markdown",
   "id": "english-still",
   "metadata": {
    "id": "english-still"
   },
   "source": [
    "## Section 2: Train a CNN on MNIST for image classification\n",
    "In this second part, you are asked to train and test a CNN for the classification of handwritten numbers (and letters).\n",
    "\n",
    "Therefore, you receive a reference CNN architecture that should not be changed. Training your CNN should be faster than training your GAN, so there is no fear about that.\n",
    "\n",
    "However, if you want to train additional CNN models (for improved results or faster training for example), feel free to create them by yourself and name the classes differently."
   ]
  },
  {
   "cell_type": "markdown",
   "id": "cellular-boston",
   "metadata": {
    "id": "cellular-boston"
   },
   "source": [
    "### 2.a Number of classes\n",
    "For classification task, it is of course necessary to know the number of classes possible. \n",
    "\n",
    "For the rest of the homework, pay attention not to confuse the label class (ex: the image represents a 2) and a model class (ex: the model is an instance of the CNN class).\n",
    "\n",
    "There should be no need to modify the function numberClasses."
   ]
  },
  {
   "cell_type": "code",
   "execution_count": null,
   "id": "institutional-strand",
   "metadata": {
    "id": "institutional-strand"
   },
   "outputs": [],
   "source": [
    "def numberClasses(dataset):\n",
    "    n_classes = len(dataset.classes)\n",
    "    return n_classes"
   ]
  },
  {
   "cell_type": "code",
   "execution_count": null,
   "id": "systematic-roots",
   "metadata": {
    "id": "systematic-roots"
   },
   "outputs": [],
   "source": [
    "n_classes = numberClasses(train_set)"
   ]
  },
  {
   "cell_type": "markdown",
   "id": "elect-cursor",
   "metadata": {
    "id": "elect-cursor"
   },
   "source": [
    "### 2.b CNN class\n",
    "The class below contains the reference CNN architecture. You don't have to worry about the initialization of the model, it is done automatically.\n",
    "\n",
    "This architecture should not be changed.\n",
    "\n",
    "The CNN architecture is defined by the number of classes. Indeed, for each entry it outputs a vector of size n_classes with values between -inf and +inf. This vector can be passed through the function scaleToProbabilities in order to get scaled and become somewhat interpretable as probabilities of belonging to one class. The function predictLabels extends the scaleToProbabilities function and selects the most activated/highest valued class as the CNN prediction.\n",
    "\n",
    "There should be no need to modify the functions scaleToProbabilities and predictLabels, except playing with the scale_factor."
   ]
  },
  {
   "cell_type": "code",
   "execution_count": null,
   "id": "quantitative-manitoba",
   "metadata": {
    "id": "quantitative-manitoba"
   },
   "outputs": [],
   "source": [
    "class CNN(nn.Module):\n",
    "    def __init__(self, n_classes):\n",
    "        super(CNN, self).__init__()\n",
    "        self.n_classes = n_classes\n",
    "        self.conv1 = nn.Sequential(             # Images input is batch_size*1*28*28\n",
    "            nn.Conv2d(1, 16, 5, 1, 2),          # Output is batch_size*16*28*28\n",
    "            nn.ReLU(),                      \n",
    "            nn.MaxPool2d(kernel_size=2),        # Output is batch_size*16*14*14\n",
    "        )\n",
    "        self.conv2 = nn.Sequential(         \n",
    "            nn.Conv2d(16, 32, 5, 1, 2),         # Output is batch_size*32*14*14\n",
    "            nn.ReLU(),                      \n",
    "            nn.MaxPool2d(2),                    # Output is batch_size*32*7*7\n",
    "        )\n",
    "        # fully connected layer, output one number for each class\n",
    "        self.out = nn.Sequential(         \n",
    "            nn.Linear(32 * 7 * 7, self.n_classes),          # Output is batch_size*n_classes\n",
    "        )\n",
    "    \n",
    "    def scaleToProbabilities(self, outmap, scale_factor = 3): \n",
    "        # scale_factor allows to scale your output before passing it into the softmax function \n",
    "        # in order to get numbers interpratble as probabilities\n",
    "        \n",
    "        flattened_outmap = outmap.view(outmap.shape[0], -1)\n",
    "        outmap_std = torch.std(flattened_outmap, dim = 1).view(-1, 1)\n",
    "        outmap_scaled_std = torch.div(outmap, outmap_std)\n",
    "        probabilities = nn.functional.softmax(outmap_scaled_std*scale_factor, dim=1)\n",
    "        return probabilities\n",
    "    \n",
    "    def predictLabels(self, outmap, scale_factor = 3):\n",
    "        probabilities = self.scaleToProbabilities(outmap, scale_factor = 3)\n",
    "        certainty, predicted_labels = torch.max(probabilities, 1)\n",
    "        predicted_labels = predicted_labels.data.squeeze()\n",
    "        certainty = certainty.data.squeeze()\n",
    "        return predicted_labels, probabilities, certainty\n",
    "        \n",
    "    def forward(self, x):\n",
    "        x = self.conv1(x)\n",
    "        x = self.conv2(x)\n",
    "        x = x.view(x.size(0), 32 * 7 * 7)\n",
    "        output = self.out(x)\n",
    "        return output"
   ]
  },
  {
   "cell_type": "code",
   "execution_count": null,
   "id": "uniform-importance",
   "metadata": {
    "id": "uniform-importance",
    "outputId": "6ad3af8e-3220-40be-ce74-05a63946f8e3"
   },
   "outputs": [
    {
     "name": "stdout",
     "output_type": "stream",
     "text": [
      "Number of parameters of classifier: 28938\n"
     ]
    }
   ],
   "source": [
    "cnn = CNN(n_classes).to(device=device)\n",
    "cnn_params = numberParameters(cnn, model_name = \"classifier\")"
   ]
  },
  {
   "cell_type": "markdown",
   "id": "choice-observation",
   "metadata": {
    "id": "choice-observation"
   },
   "source": [
    "### 2.c Loss function\n",
    "For classification tasks, the main loss function used is Cross Entropy. As entries, it takes the activations of last layer nodes  and the true labels of data (between 0 and n_classes-1). \n",
    "\n",
    "This loss function should not be changed."
   ]
  },
  {
   "cell_type": "code",
   "execution_count": null,
   "id": "perceived-hepatitis",
   "metadata": {
    "id": "perceived-hepatitis"
   },
   "outputs": [],
   "source": [
    "# Loss function for the CNN\n",
    "\n",
    "loss_function_cnn = nn.CrossEntropyLoss()"
   ]
  },
  {
   "cell_type": "markdown",
   "id": "moving-liver",
   "metadata": {
    "id": "moving-liver"
   },
   "source": [
    "### 2.d Optimizer\n",
    "Again, we will use Adam as an optimizer.\n",
    "\n",
    "You can play around with the Adam parameters if you want."
   ]
  },
  {
   "cell_type": "code",
   "execution_count": null,
   "id": "sharp-climb",
   "metadata": {
    "id": "sharp-climb"
   },
   "outputs": [],
   "source": [
    "# Adam optimization parameters\n",
    "# Predefined values: lr_cnn = 0.01, betas_cnn = (0.9, 0.999)\n",
    "lr_cnn = 0.01\n",
    "betas_cnn = (0.9, 0.999)\n",
    "\n",
    "optimizer_cnn = torch.optim.Adam(cnn.parameters(), lr=lr_cnn, betas = betas_cnn)"
   ]
  },
  {
   "cell_type": "markdown",
   "id": "useful-maintenance",
   "metadata": {
    "id": "useful-maintenance"
   },
   "source": [
    "### 2.e Accuracy\n",
    "We define one error measure as the accuracy reached by the CNN for its classifying predictions. In particular, we call accuracy the ratio between the number of correct classifications and the number of samples. We assume that the most activated output corresponds to the class prediction.\n",
    "\n",
    "During the training, data are loaded batch by batch. It could thus be a good idea to consider that the inputs of the following function are the true and predicted labels from one batch of data.\n",
    "\n",
    "Task: complete the computeCNNAccuracy function."
   ]
  },
  {
   "cell_type": "code",
   "execution_count": null,
   "id": "residential-complement",
   "metadata": {
    "id": "residential-complement"
   },
   "outputs": [],
   "source": [
    "def computeCNNAccuracy(y_predicted,y_true):\n",
    "    \n",
    "    accuracy = 0.0\n",
    "    \n",
    "    # TO COMPLETE\n",
    "    \n",
    "    return accuracy"
   ]
  },
  {
   "cell_type": "markdown",
   "id": "cubic-slovak",
   "metadata": {
    "id": "cubic-slovak"
   },
   "source": [
    "### 2.f Preparing the training process\n",
    "In this part, you are asked to initialize the training process (not the model which is initialized automatically). \n",
    "\n",
    "Let's just first define the number of iterations (epochs) that the training will last. Satisfactory results can be obtained with 15 epochs, but you can of course increase this value for a better training."
   ]
  },
  {
   "cell_type": "code",
   "execution_count": null,
   "id": "infectious-commodity",
   "metadata": {
    "id": "infectious-commodity"
   },
   "outputs": [],
   "source": [
    "# Number of epochs for the training\n",
    "# Predefined value: num_epochs_cnn = 15\n",
    "\n",
    "num_epochs_cnn = 15"
   ]
  },
  {
   "cell_type": "markdown",
   "id": "extensive-designation",
   "metadata": {
    "id": "extensive-designation"
   },
   "source": [
    "It is important to keep track of the evolution of the error metrics during the training process. A simple idea is to store the values of the metrics in arrays, at least after every epoch.\n",
    "\n",
    "Task: Create arrays that will contain the accuracy for train and test sets, as well as the values of the CNN loss during the training. Compute the errors before training the model and store them in your arrays."
   ]
  },
  {
   "cell_type": "code",
   "execution_count": null,
   "id": "sublime-company",
   "metadata": {
    "id": "sublime-company"
   },
   "outputs": [],
   "source": [
    "# Error metrics at initialisation\n",
    "\n",
    "# TO COMPLETE"
   ]
  },
  {
   "cell_type": "markdown",
   "id": "practical-england",
   "metadata": {
    "id": "practical-england"
   },
   "source": [
    "### 2.g Training and testing the CNN\n",
    "This is finally the core part of this section: training your CNN.\n",
    "\n",
    "The training will follow an easy structure. Here is the pseudo-code of the training process:\n",
    "\n",
    "    for each epoch:\n",
    "\n",
    "        for each batch:\n",
    "\n",
    "            train the classifier on the batch:\n",
    "\n",
    "                predict the labels\n",
    "\n",
    "                compute the classifier loss function\n",
    "\n",
    "                backpropagate the error in the cnn\n",
    "                \n",
    "        end\n",
    "\n",
    "    end\n",
    "\n",
    "Task: Code the CNN training from the pseudo-code given above. Don't forget to switch between training and evaluation modes for the model, by using train() and eval() Pytorch functions. You may also use the time package in order to get information about the duration of the training. Finally, at every epoch, compute and store the accuracy and the loss of the model and generate images from your reference sample."
   ]
  },
  {
   "cell_type": "code",
   "execution_count": null,
   "id": "outdoor-weight",
   "metadata": {
    "id": "outdoor-weight"
   },
   "outputs": [],
   "source": [
    "# Training of the CNN\n",
    "\n",
    "# TO COMPLETE"
   ]
  },
  {
   "cell_type": "markdown",
   "id": "improved-breast",
   "metadata": {
    "id": "improved-breast"
   },
   "source": [
    "### 2.h Plot the results\n",
    "Again, you should plot the evolution of your error metrics (accuracy and loss function) in function of the number of epochs, to see how efficient the training is. Show the evolution of the images generated from your reference sample as well.\n",
    "\n",
    "Task: Make those plots, as clean and readable as possible."
   ]
  },
  {
   "cell_type": "code",
   "execution_count": null,
   "id": "special-testimony",
   "metadata": {
    "id": "special-testimony"
   },
   "outputs": [],
   "source": [
    "# Plots of accuracy and of loss function, images generated from your reference sample.\n",
    "\n",
    "# TO COMPLETE"
   ]
  },
  {
   "cell_type": "markdown",
   "id": "remarkable-network",
   "metadata": {
    "id": "remarkable-network"
   },
   "source": [
    "## Part 2 coming soon\n",
    "You now have operational GANs and CNNs for handwritten digits (and/or letters). In the second part of the homework, you will combine both networks in order to create what you want and learn more about those neural architectures."
   ]
  }
 ],
 "metadata": {
  "kernelspec": {
   "display_name": "Python 3",
   "language": "python",
   "name": "python3"
  },
  "language_info": {
   "codemirror_mode": {
    "name": "ipython",
    "version": 3
   },
   "file_extension": ".py",
   "mimetype": "text/x-python",
   "name": "python",
   "nbconvert_exporter": "python",
   "pygments_lexer": "ipython3",
   "version": "3.7.3"
  },
  "colab": {
   "provenance": []
  },
  "accelerator": "GPU",
  "gpuClass": "standard"
 },
 "nbformat": 4,
 "nbformat_minor": 5
}

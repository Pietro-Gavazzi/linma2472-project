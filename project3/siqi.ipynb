{
 "cells": [
  {
   "cell_type": "markdown",
   "id": "weighted-bhutan",
   "metadata": {},
   "source": [
    "\n",
    "# LINMA2472 - Algorithms in Data Science\n",
    "# Homework 3: GAN and CNN to conquer MNIST\n",
    "# Part 1: Implementation\n",
    "Bastien Massion - bastien.massion@uclouvain.be\n",
    "\n",
    "12 November 2022 - v2"
   ]
  },
  {
   "cell_type": "markdown",
   "id": "current-airfare",
   "metadata": {},
   "source": [
    "## Guidelines\n",
    "This homework is done in Python, using the PyTorch library for neural networks. \n",
    "\n",
    "The homework is divided in 2 parts, this Notebook is the assignment for part 1. The second part will become available next week. The goal of the homework is to use a GAN for generating handwritten numbers (and letters) and a CNN to classify them. This first part is dedicated to the implementation, the second part will focus on analyzing and using the neural networks.\n",
    "\n",
    "The exact instructions for the report will come with the second part. However, every task asked in this Notebook will be useful, so get ahead!\n",
    "\n",
    "As for the previous homeworks, you are making groups of 3, in the Moodle activity \"Group choice for assignment 3\".\n",
    "\n",
    "The deadline for the whole homework is: 30 November 2022, 23:59.\n",
    "\n",
    "Your questions should be posted on the dedicated Moodle \"Class forum\" or sent directly to the mail address: bastien.massion@uclouvain.be."
   ]
  },
  {
   "cell_type": "markdown",
   "id": "comparative-joyce",
   "metadata": {},
   "source": [
    "## Introduction\n",
    "Since their introduction in 2014 by Goodfellow et al., Generative Adversarial Networks (GAN) have taken a predominant place in the deep learning landscape. GANs are deep neural networks composed of two parts: a generator and a discriminator. Those two parts are trained as opponents (hence \"adversarial\"): from the dataset, the generator tries to create new fake data that can fool the discriminator into thinking they are real, while the discriminator tries to distinguish between true and fake data. Often, the most interesting part of this model is the generator, therefore we often refer to GANs as generative models (even if they are also discriminative models). This generative property is used in a lot of applications: mainly for image processing task (style transfer, segmentation, face generation, image inpainting, deblurring, super-resolution,...), but also for natural language processing tasks (text summarization, text generation,...), for music generation or even for medical tasks (tumor detection).\n",
    "\n",
    "Another powerful architecture is Convolutional Neural Networks (CNN). CNNs naturally exploit invariances that are present in data (such that translation in images) in order, for example, to classify them. This is done by applying successive convolutions on data in order to extract the main features. Together with the backpropagation algorithm, the invention of CNN marked the revival of neural networks and deep learning in the 90's. Since then, they have found plenty of applications, mostly in image processing tasks.\n",
    "\n",
    "The goal of this homework in two parts is to implement your first GAN as well as your first CNN, to explore some properties and finally to combine them in order to generate what you desire."
   ]
  },
  {
   "cell_type": "markdown",
   "id": "attached-nothing",
   "metadata": {},
   "source": [
    "## Packages import\n",
    "You will need several packages in order to successfully build, train and use your neural networks. \n",
    "\n",
    "The following packages are necessary and should not be removed. However, if you want to add other packages for your figures, for timing or whatever, feel free to do so."
   ]
  },
  {
   "cell_type": "code",
   "execution_count": 1,
   "id": "analyzed-facing",
   "metadata": {},
   "outputs": [],
   "source": [
    "# PyTorch is a common library for neural networks in Python. torch.nn is a module for building layers of Neural Networks.\n",
    "import torch\n",
    "from torch import nn\n",
    "import torch.nn.functional as F\n",
    "\n",
    "# TorchVision is part of the PyTorch environment. It is necessary to download the datasets MNIST (and EMNIST Letters)\n",
    "import torchvision\n",
    "import torchvision.transforms as transforms\n",
    "\n",
    "# Usual mathematical stuff\n",
    "import numpy as np\n",
    "import math\n",
    "# Plots\n",
    "import matplotlib.pyplot as plt\n",
    "\n",
    "# Timing\n",
    "import time\n",
    "from datetime import datetime\n",
    "import time"
   ]
  },
  {
   "cell_type": "code",
   "execution_count": 2,
   "id": "3ed2c48c",
   "metadata": {
    "collapsed": false
   },
   "outputs": [],
   "source": [
    "# additional packages\n",
    "import torchvision.utils as vutils"
   ]
  },
  {
   "cell_type": "markdown",
   "id": "celtic-chapel",
   "metadata": {},
   "source": [
    "## Resources\n",
    "Training neural networks is really expensive, especially if your networks are large. It is thus important to look for the most suited computing and storing resources.\n",
    "\n",
    "In practice, parallelisation of computations can speed up the process a lot, by several orders of magnitude. In particular, computing on a GPU (Graphics Processing Unit), which has up to hundreds of cores, will be much faster than on your usual laptop CPU (Central Processing Unit), typically with less than 8 cores. \n",
    "\n",
    "Therefore, it is useful to search for the maximum available computing power.\n",
    "\n",
    "Be reassured, this homework is doable on your standard laptop CPU.\n",
    "\n",
    "But, if you want or need better equipments for this project, there are some solutions."
   ]
  },
  {
   "cell_type": "markdown",
   "id": "psychological-furniture",
   "metadata": {},
   "source": [
    "### What is available?\n",
    "The function chooseDevice automatically checks if there is a GPU available. If there is one, computations will be done there. Simply be careful of adding \".to(device=device)\" everywhere it will be needed in the rest of the code. Otherwise, computations will be done on CPU.\n",
    "\n",
    "There should be no need to modify the function chooseDevice."
   ]
  },
  {
   "cell_type": "code",
   "execution_count": 3,
   "id": "attractive-maine",
   "metadata": {},
   "outputs": [],
   "source": [
    "# Check if GPU is available\n",
    "\n",
    "def chooseDevice():\n",
    "    device = \"\"\n",
    "    if torch.cuda.is_available():\n",
    "        device = torch.device(\"cuda\")\n",
    "        print(\"GPU available via cuda\")\n",
    "    else:\n",
    "        device = torch.device(\"cpu\")\n",
    "        print(\"GPU not available, CPU available\")\n",
    "    return device"
   ]
  },
  {
   "cell_type": "code",
   "execution_count": 4,
   "id": "fancy-digit",
   "metadata": {},
   "outputs": [
    {
     "name": "stdout",
     "output_type": "stream",
     "text": [
      "GPU not available, CPU available\n"
     ]
    }
   ],
   "source": [
    "device = chooseDevice()"
   ]
  },
  {
   "cell_type": "markdown",
   "id": "variable-landscape",
   "metadata": {},
   "source": [
    "### I need more power: Google Colab\n",
    "If you need or want more computing power, you can use Google Colab. Colab is a free and easy to use service from Google, where you can borrow their efficient resources. Often, GPU are not available (reserved in priority for people with paying subscriptions), but their CPU's are probably better than yours. You just need a Google account in order to run code online. Note that it works with Jupyter Notebooks, which is nice. \n",
    "\n",
    "If, despite this, you are not satisfied, feel free to contact Bastien Massion."
   ]
  },
  {
   "cell_type": "markdown",
   "id": "cubic-saint",
   "metadata": {},
   "source": [
    "## Set random seed\n",
    "Setting the seed for the generation of random numbers is not necessary, but can be useful for keeping consistency in your experiments."
   ]
  },
  {
   "cell_type": "code",
   "execution_count": 5,
   "id": "corporate-reading",
   "metadata": {},
   "outputs": [],
   "source": [
    "_ = torch.manual_seed(2472) "
   ]
  },
  {
   "cell_type": "markdown",
   "id": "literary-boston",
   "metadata": {},
   "source": [
    "## Datasets\n",
    "Two datasets are proposed. \n",
    "\n",
    "First, the classical MNIST set. MNIST is mandatory and sufficient to complete the whole homework. It contains a total of 70 000 handwritten digits (60 000 train, 10 000 test) from 10 balanced classes (one for each digit). You have already worked with it in the HW2.\n",
    "\n",
    "Then, the EMNIST Letters set. This second dataset is larger (more data and more classes) and optional, but could be used to create more impressive results. It contains a total of 145 600 handwritten letters (124 800 train, 20 800 test) from 26 balanced classes (one for each latin letter, lowercase and uppercase mixed). For your information, EMNIST (Extended MNIST) contains several varations and extensions of MNIST."
   ]
  },
  {
   "cell_type": "markdown",
   "id": "korean-device",
   "metadata": {},
   "source": [
    "### Load dataset\n",
    "The datasets are loaded from the module torchvision.\n",
    "\n",
    "There should be no need to modify the function getData."
   ]
  },
  {
   "cell_type": "code",
   "execution_count": 6,
   "id": "norwegian-soccer",
   "metadata": {},
   "outputs": [],
   "source": [
    "# Extracts the train and test sets from a chosen image dataset\n",
    "# Values of pixels are normalized between -1 and 1\n",
    "\n",
    "def getData(dataset = \"MNIST\", info = True):\n",
    "    if dataset == \"MNIST\":\n",
    "        transform = transforms.Compose([transforms.ToTensor(), transforms.Normalize((0.5,), (0.5,))])\n",
    "        train_set = torchvision.datasets.MNIST(root=\".\", train=True, download=True, transform=transform)\n",
    "        test_set = torchvision.datasets.MNIST(root=\".\", train=False, download=True, transform=transform)\n",
    "    elif dataset == \"EMNIST_Letters\":\n",
    "        transform = transforms.Compose([transforms.ToTensor(), transforms.Normalize((0.5,), (0.5,))])\n",
    "        train_set = torchvision.datasets.EMNIST(root=\".\", split=\"letters\", train=True, download=True, transform=transform)\n",
    "        test_set = torchvision.datasets.EMNIST(root=\".\", split=\"letters\", train=False, download=True, transform=transform)\n",
    "    else:\n",
    "        print(\"DATASET NOT CORRECTLY DEFINED\")\n",
    "    if info:\n",
    "        print(train_set)\n",
    "        print(test_set)\n",
    "    return train_set, test_set"
   ]
  },
  {
   "cell_type": "code",
   "execution_count": 7,
   "id": "burning-district",
   "metadata": {},
   "outputs": [
    {
     "name": "stdout",
     "output_type": "stream",
     "text": [
      "Dataset MNIST\n",
      "    Number of datapoints: 60000\n",
      "    Root location: .\n",
      "    Split: Train\n",
      "    StandardTransform\n",
      "Transform: Compose(\n",
      "               ToTensor()\n",
      "               Normalize(mean=(0.5,), std=(0.5,))\n",
      "           )\n",
      "Dataset MNIST\n",
      "    Number of datapoints: 10000\n",
      "    Root location: .\n",
      "    Split: Test\n",
      "    StandardTransform\n",
      "Transform: Compose(\n",
      "               ToTensor()\n",
      "               Normalize(mean=(0.5,), std=(0.5,))\n",
      "           )\n"
     ]
    }
   ],
   "source": [
    "# Choose which dataset to use\n",
    "\n",
    "dataset = \"MNIST\"\n",
    "#dataset = \"EMNIST_Letters\"\n",
    "\n",
    "train_set, test_set = getData(dataset = dataset)"
   ]
  },
  {
   "cell_type": "markdown",
   "id": "tropical-indie",
   "metadata": {},
   "source": [
    "### Get size of dataset\n",
    "This function is just there to extract useful information about the (relative) sizes of the train and test sets.\n",
    "\n",
    "There should be no need to modify the function dataSize."
   ]
  },
  {
   "cell_type": "code",
   "execution_count": 8,
   "id": "verbal-dialogue",
   "metadata": {},
   "outputs": [],
   "source": [
    "# Get information about the size of the train and test sets.\n",
    "\n",
    "def dataSize(train_set, test_set):\n",
    "    n_train_set = train_set.__len__()\n",
    "    n_test_set = test_set.__len__()\n",
    "    n_tot = n_train_set + n_test_set\n",
    "    ratio_train_test = n_train_set / n_test_set\n",
    "    percentage_train = n_train_set / n_tot\n",
    "    percentage_test = 1.0 - percentage_train\n",
    "    return n_train_set, n_test_set, n_tot, ratio_train_test, percentage_train, percentage_test"
   ]
  },
  {
   "cell_type": "code",
   "execution_count": 9,
   "id": "military-guard",
   "metadata": {},
   "outputs": [],
   "source": [
    "n_train_set, n_test_set, n_tot, ratio_train_test, percentage_train, percentage_test = dataSize(train_set, test_set)"
   ]
  },
  {
   "cell_type": "markdown",
   "id": "organized-turner",
   "metadata": {},
   "source": [
    "### Divide dataset into batches\n",
    "Computing the whole gradient for neural networks is too heavy, as it requires information about the whole dataset. Thus, we use (Mini-)Batch Gradient Descent. This is a variant of Stochastic Gradient Descent (SGD) in which we compute the gradient only for a small number of data, gathered in a batch. Typically, the batch size is orders of magnitude smaller than the whole dataset.\n",
    "\n",
    "The function divideInBatches splits the dataset and loads the data.\n",
    "\n",
    "You can modify the value of parameter batch_size as you wish.\n",
    "\n",
    "There should be no need to modify the function divideInBatches."
   ]
  },
  {
   "cell_type": "code",
   "execution_count": 10,
   "id": "recognized-enhancement",
   "metadata": {},
   "outputs": [],
   "source": [
    "# Paramater for the batch size\n",
    "# Predefined value = 32\n",
    "\n",
    "batch_size = 32"
   ]
  },
  {
   "cell_type": "code",
   "execution_count": 11,
   "id": "sorted-pakistan",
   "metadata": {},
   "outputs": [],
   "source": [
    "# Divide dataset into batches\n",
    "\n",
    "def divideInBatches(train_set, test_set, batch_size, n_train_set, n_test_set):\n",
    "    # Train set\n",
    "    n_batches_total = math.ceil(n_train_set/batch_size)\n",
    "    train_loader = torch.utils.data.DataLoader(train_set, batch_size=batch_size, shuffle=True)\n",
    "    \n",
    "    # Test set\n",
    "    n_batches_total_test = math.ceil(n_test_set/batch_size)\n",
    "    test_loader = torch.utils.data.DataLoader(test_set, batch_size=batch_size, shuffle=True)\n",
    "    \n",
    "    return train_loader, test_loader, n_batches_total, n_batches_total_test"
   ]
  },
  {
   "cell_type": "code",
   "execution_count": 12,
   "id": "unlike-script",
   "metadata": {},
   "outputs": [],
   "source": [
    "train_loader, test_loader, n_batches_total, n_batches_total_test = divideInBatches(train_set, test_set, batch_size, n_train_set, n_test_set)"
   ]
  },
  {
   "cell_type": "markdown",
   "id": "selected-planner",
   "metadata": {},
   "source": [
    "### Correct EMNIST Letters data\n",
    "While the MNIST dataset is ready to be used, the EMNIST Letters data need to be slighty modified before use.\n",
    "\n",
    "On the one hand, the x and y axes of the images are flipped, which is unpractical for the visualization.\n",
    "\n",
    "On the other hand, the letters labels go from 1 to 26 (corresponding with their place in the alphabet) instead of from 0 to 25. This could be problematic and is better fixed directly.\n",
    "\n",
    "Therefore, every time a batch is loaded, it should go through a little correcting function first.\n",
    "\n",
    "There should be no need to modify the function correctData."
   ]
  },
  {
   "cell_type": "code",
   "execution_count": 13,
   "id": "young-craft",
   "metadata": {},
   "outputs": [],
   "source": [
    "# Corrects EMNIST Letters data\n",
    "\n",
    "def correctData(real_samples, mnist_labels, dataset):\n",
    "    if dataset == \"EMNIST_Letters\":\n",
    "        real_samples = torch.transpose(real_samples,2,3)\n",
    "        mnist_labels -= 1\n",
    "    return real_samples, mnist_labels"
   ]
  },
  {
   "cell_type": "code",
   "execution_count": 14,
   "id": "liable-thinking",
   "metadata": {},
   "outputs": [],
   "source": [
    "real_samples, mnist_labels = next(iter(train_loader))\n",
    "real_samples, mnist_labels = correctData(real_samples, mnist_labels, dataset)"
   ]
  },
  {
   "cell_type": "markdown",
   "id": "abandoned-water",
   "metadata": {},
   "source": [
    "## Show images\n",
    "During the whole homework, it will be important to show samples, either from the dataset, either ones your generate. Here is just a function that can help you visualizing and avoiding losing any plot that you once created. \n",
    "\n",
    "The function showImages allows to represent up to 16 images. You can precise if they are generated by your generator or not (i.e. coming from the dataset). You can also show the true labels for original images and the predicted labels if you use your classifier.\n",
    "\n",
    "The created figures are stored in the folder that you should create : ./Figures. The figures are stored with a predifined name depending on the (date)time. \n",
    "\n",
    "You can of course modify this function as you wish."
   ]
  },
  {
   "cell_type": "code",
   "execution_count": 15,
   "id": "helpful-spanking",
   "metadata": {},
   "outputs": [],
   "source": [
    "# Plot digits or letters\n",
    "\n",
    "def showImages(samples, true_labels = None, predicted_labels = None, generated = False, predicted = False, epoch = None):\n",
    "    \n",
    "    if generated == True and predicted == True:\n",
    "        plt.close(\"Generated predicted samples\")\n",
    "        f = plt.figure(\"Generated predicted samples\", figsize = (20,15))\n",
    "        f.suptitle(\"Generated predicted samples\", fontsize = 30)\n",
    "    elif generated == True and predicted == False :\n",
    "        if epoch != None:\n",
    "            plt.close(\"Generated samples epoch \" + str(epoch))\n",
    "            f = plt.figure(\"Generated samples epoch \" + str(epoch), figsize = (20,15))\n",
    "            f.suptitle(\"Generated samples epoch \" + str(epoch), fontsize = 30)\n",
    "        else:\n",
    "            plt.close(\"Generated samples\")\n",
    "            f = plt.figure(\"Generated samples\", figsize = (20,15))\n",
    "            f.suptitle(\"Generated samples\", fontsize = 30)            \n",
    "    elif predicted == True and generated == False :\n",
    "        if epoch != None:\n",
    "            plt.close(\"Predicted samples epoch \" + str(epoch))\n",
    "            f = plt.figure(\"Predicted samples epoch \" + str(epoch), figsize = (20,15))\n",
    "            f.suptitle(\"Predicted samples epoch \" + str(epoch), fontsize = 30)\n",
    "        else:\n",
    "            plt.close(\"Predicted samples\")\n",
    "            f = plt.figure(\"Predicted samples\", figsize = (20,15))\n",
    "            f.suptitle(\"Predicted samples\", fontsize = 30)            \n",
    "    else:\n",
    "        plt.close(\"MNIST samples\")\n",
    "        f = plt.figure(\"MNIST samples\", figsize = (20,15))\n",
    "        f.suptitle(\"MNIST training samples\", fontsize = 30)\n",
    "    f.subplots_adjust(wspace=0.2, hspace=0.4)\n",
    "    plt.rc('axes', titlesize=20)\n",
    "    \n",
    "    for i in range(16):\n",
    "        if i < samples.size(0):\n",
    "            fi = f.add_subplot(4, 4, i + 1)\n",
    "            fi.imshow(samples[i].reshape(28, 28), cmap=\"gray_r\")\n",
    "            plt.xticks([])\n",
    "            plt.yticks([]) \n",
    "            if generated == True and predicted == True :\n",
    "                fi.title.set_text(\"Pred: \" + str(predicted_labels[i].detach().numpy()))\n",
    "            elif generated == True and predicted == False :\n",
    "                fi.title.set_text(\"Sample \" + str(i))\n",
    "            elif predicted == True and generated == False :\n",
    "                fi.title.set_text(\"Pred: \" + str(predicted_labels[i].detach().numpy()) +  \", true: \" + str(true_labels[i].detach().numpy()))\n",
    "            else:\n",
    "                fi.title.set_text(\"Sample \" + str(i) + \": \" + str(true_labels[i].detach().numpy()))\n",
    "    \n",
    "    now = datetime.now().strftime(\"%Y_%m_%d__%H_%M_%S\")\n",
    "    if generated == True and predicted == True :\n",
    "        f.savefig('./Figures/Sample_generated__' + now + '__epoch_' + str(epoch) + '.png')\n",
    "    elif generated == True and predicted == False :\n",
    "        f.savefig('./Figures/Sample_generated_predicted__' + now + '__epoch_' + str(epoch) + '.png')\n",
    "    elif predicted == True and generated == False :\n",
    "        f.savefig('./Figures/Sample_predicted__' + now + '__epoch_' + str(epoch) + '.png')\n",
    "    else:\n",
    "        f.savefig('./Figures/Sample_MNIST.png')"
   ]
  },
  {
   "cell_type": "code",
   "execution_count": 16,
   "outputs": [
    {
     "data": {
      "text/plain": "torch.Size([32, 1, 28, 28])"
     },
     "execution_count": 16,
     "metadata": {},
     "output_type": "execute_result"
    }
   ],
   "source": [
    "real_samples.shape"
   ],
   "metadata": {
    "collapsed": false
   }
  },
  {
   "cell_type": "code",
   "execution_count": 17,
   "outputs": [
    {
     "data": {
      "text/plain": "<Figure size 2000x1500 with 16 Axes>",
      "image/png": "[encoded data removed]"
     },
     "metadata": {},
     "output_type": "display_data"
    }
   ],
   "source": [
    "showImages(real_samples, true_labels = mnist_labels)"
   ],
   "metadata": {
    "collapsed": false
   }
  },
  {
   "cell_type": "markdown",
   "id": "effective-fluid",
   "metadata": {},
   "source": [
    "## Section 1: Train a GAN on MNIST for image generation\n",
    "In this first part, you are asked to train and test a GAN for the generation of fake handwritten numbers (and letters). \n",
    "\n",
    "Let's just recall what training a model means in machine learning. It is in fact quite simple: given a model architecture, use an optimization scheme to minimize a loss function (representing the gap between the data and the model predictions) in order to find the optimal values of the model parameters. In this Section, all of these elements are treated one by one.\n",
    "\n",
    "Moreover, you receive reference Generator and Discriminator architectures. These neural network architectures should not be changed. Indeed, they are sufficient in order to get nice enough results while keeping the training time reasonable on a laptop CPU (normally less than 2 hours training).\n",
    "\n",
    "However, if you want to train additional Generator and/or Discriminator models that could be larger or smaller (for improved results or faster training for example), feel free to create them by yourself, explain them with comments and name them differently."
   ]
  },
  {
   "cell_type": "markdown",
   "id": "wired-revolution",
   "metadata": {},
   "source": [
    "### 1.a Generator class\n",
    "The Generator class takes an input: the dimension of the latent space. Indeed, the generator will create an image (1x28x28) from an input latent vector (1 color i.e. gray-scale, 28x28 pixels). Typically, this vector is of dimension 100 with each entry sampled from a standard normal distribution or from an uniform distribution on [-1,1]. You are free to change this dimension and see what happens.\n",
    "\n",
    "The latent space is thus a space where the information contained in the images is compressed/condensed. This latent space will be the focus of the second part of the homework."
   ]
  },
  {
   "cell_type": "code",
   "execution_count": 18,
   "id": "unlike-deputy",
   "metadata": {},
   "outputs": [],
   "source": [
    "# Dimension of the latent space\n",
    "# Predefined value = 100\n",
    "\n",
    "dim_latent_space = 100"
   ]
  },
  {
   "cell_type": "markdown",
   "id": "signed-newton",
   "metadata": {},
   "source": [
    "The class below contains the reference Generator architecture. You don't have to worry about the initialization of the model, it is done automatically.\n",
    "\n",
    "This architecture should not be changed.\n",
    "\n",
    "The Generator takes a batch of latent vectors as input, and ouputs one 1x28x28 pixels image for each input."
   ]
  },
  {
   "cell_type": "code",
   "execution_count": 19,
   "id": "quality-prediction",
   "metadata": {},
   "outputs": [],
   "source": [
    "class Generator(nn.Module):\n",
    "\n",
    "    def __init__(self, dim_latent_space):\n",
    "        super().__init__()\n",
    "        self.dim_latent_space = dim_latent_space\n",
    "        self.fc = nn.Linear(self.dim_latent_space, 64*7*7)\n",
    "        self.trans_conv1 = nn.ConvTranspose2d(64, 64, kernel_size = 3, stride = 2, padding = 1, output_padding = 1)\n",
    "        self.batch_norm1 = nn.BatchNorm2d(64)\n",
    "        self.trans_conv2 = nn.ConvTranspose2d(64, 32, kernel_size = 3, stride = 1, padding = 1)\n",
    "        self.batch_norm2 = nn.BatchNorm2d(32)\n",
    "        self.trans_conv3 = nn.ConvTranspose2d(32, 16, kernel_size = 3, stride = 1, padding = 1)\n",
    "        self.batch_norm3 = nn.BatchNorm2d(16)\n",
    "        self.trans_conv4 = nn.ConvTranspose2d(16, 1, kernel_size = 3, stride = 2, padding = 1, output_padding = 1)\n",
    "        \n",
    "    def forward(self, x):                   # Input = batch_size*dim_latent_space\n",
    "        x = self.fc(x)                      # Output = batch_size*(64*7*7)\n",
    "        x = x.view(-1, 64, 7, 7)            # Output = batch_size*64*7*7\n",
    "        x = self.trans_conv1(x)             # Output = batch_size*64*14*14\n",
    "        x = F.relu(self.batch_norm1(x))\n",
    "        x = self.trans_conv2(x)             # Output = batch_size*32*14*14\n",
    "        x = F.relu(self.batch_norm2(x))\n",
    "        x = self.trans_conv3(x)             # Output = batch_size*16*14*14\n",
    "        x = F.relu(self.batch_norm3(x))     \n",
    "        x = self.trans_conv4(x)             # Output = batch_size*1*28*28\n",
    "        x = torch.tanh(x)\n",
    "        return x"
   ]
  },
  {
   "cell_type": "code",
   "execution_count": 20,
   "id": "conscious-essence",
   "metadata": {},
   "outputs": [],
   "source": [
    "generator = Generator(dim_latent_space).to(device=device)"
   ]
  },
  {
   "cell_type": "markdown",
   "id": "concerned-welcome",
   "metadata": {},
   "source": [
    "### 1.b Discriminator class\n",
    "The class below contains the reference Discriminator architecture. You don't have to worry about the initialization of the model, it is done automatically.\n",
    "\n",
    "This architecture should not be changed.\n",
    "\n",
    "The Discriminitor takes a batch of 1x28x28 pixels images as input, and ouputs numbers between -inf and +inf. The activation of the last layer represents some likelihood of the image being fake or not, according to the model. Afterwards, it goes through a sigmoid function in order to scale numbers between 0 and 1. An output of 0 means that the model is certain that the corresponding input image is fake, and an output of 1 means that it is certain that it is real."
   ]
  },
  {
   "cell_type": "code",
   "execution_count": 21,
   "id": "pursuant-heritage",
   "metadata": {},
   "outputs": [],
   "source": [
    "class Discriminator(nn.Module):\n",
    "    \n",
    "    def __init__(self):\n",
    "        super().__init__()\n",
    "        self.conv0 = nn.Conv2d(1, 32, kernel_size = 3, stride = 2, padding = 1)     \n",
    "        self.conv0_drop = nn.Dropout2d(0.25)\n",
    "        self.conv1 = nn.Conv2d(32, 64, kernel_size = 3, stride = 1, padding = 1)\n",
    "        self.conv1_drop = nn.Dropout2d(0.25)\n",
    "        self.conv2 = nn.Conv2d(64, 128, kernel_size = 3, stride = 1, padding = 1)\n",
    "        self.conv2_drop = nn.Dropout2d(0.25)\n",
    "        self.conv3 = nn.Conv2d(128, 128, kernel_size = 3, stride = 2, padding = 1)\n",
    "        self.conv3_drop = nn.Dropout2d(0.25)\n",
    "        self.fc = nn.Linear(128*7*7, 1)\n",
    "    \n",
    "    def forward(self, x):                               # Input = batch_size*1*28*28\n",
    "        x = x.view(-1, 1, 28, 28)                       # Output = batch_size*1*28*28\n",
    "        x = F.leaky_relu(self.conv0(x), 0.2)            # Output = batch_size*32*14*14\n",
    "        x = self.conv0_drop(x)\n",
    "        x = F.leaky_relu(self.conv1(x), 0.2)            # Output = batch_size*64*14*14\n",
    "        x = self.conv1_drop(x)\n",
    "        x = F.leaky_relu(self.conv2(x), 0.2)            # Output = batch_size*128*14*14\n",
    "        x = self.conv2_drop(x)\n",
    "        x = F.leaky_relu(self.conv3(x), 0.2)            # Output = batch_size*128*7*7\n",
    "        x = self.conv3_drop(x)\n",
    "        x = x.view(-1, 128*7*7)                         # Output = batch_size*(128*7*7)\n",
    "        x = self.fc(x)                                  # Output = batch_size*1\n",
    "        return x"
   ]
  },
  {
   "cell_type": "code",
   "execution_count": 22,
   "id": "minimal-wealth",
   "metadata": {},
   "outputs": [],
   "source": [
    "discriminator = Discriminator().to(device=device)"
   ]
  },
  {
   "cell_type": "markdown",
   "id": "fundamental-disorder",
   "metadata": {},
   "source": [
    "### 1.c Number of parameters\n",
    "This function counts and prints the number of parameters in any neural network model.\n",
    "\n",
    "There should be no need to modify the function numberParameters."
   ]
  },
  {
   "cell_type": "code",
   "execution_count": 23,
   "id": "christian-mitchell",
   "metadata": {},
   "outputs": [],
   "source": [
    "def numberParameters(model, trainable = False, model_name = None):\n",
    "    total_params = sum(param.numel() for param in model.parameters())\n",
    "    if model_name != None:\n",
    "        print(\"Number of parameters of \" + model_name + \": \" + str(total_params))\n",
    "    return total_params"
   ]
  },
  {
   "cell_type": "code",
   "execution_count": 24,
   "id": "pointed-annotation",
   "metadata": {},
   "outputs": [
    {
     "name": "stdout",
     "output_type": "stream",
     "text": [
      "Number of parameters of discriminator: 246529\n",
      "Number of parameters of generator: 377121\n"
     ]
    }
   ],
   "source": [
    "discriminator_params = numberParameters(discriminator, model_name = \"discriminator\")\n",
    "generator_params = numberParameters(generator, model_name = \"generator\")"
   ]
  },
  {
   "cell_type": "markdown",
   "id": "published-ranch",
   "metadata": {},
   "source": [
    "### 1.d Loss function\n",
    "The loss function measures how good the model is. For the discriminator, it a binary classification problem: the discriminator tries to distinguish true data (label = 1) from fake generated ones (label = 0). Therefore, we use a Binary Cross Entropy loss. As the only goal of the generator is to fool the discriminator, it can also be expressed with a Binary Cross Entropy loss function. Think about what inputs we need to give to the loss function for the discriminator and for the generator.\n",
    "\n",
    "You see that BCELoss is replaced by BCEWithLogitsLoss. Think about why this is, and how it links with the last layer of the given Discriminator architecture.\n",
    "\n",
    "This loss function should not be changed."
   ]
  },
  {
   "cell_type": "code",
   "execution_count": 25,
   "id": "confirmed-karen",
   "metadata": {},
   "outputs": [],
   "source": [
    "# Loss function for the GAN\n",
    "\n",
    "#loss_function_gan = nn.BCELoss()\n",
    "loss_function_gan = nn.BCEWithLogitsLoss()"
   ]
  },
  {
   "cell_type": "markdown",
   "id": "floral-conspiracy",
   "metadata": {},
   "source": [
    "### 1.e Optimizers\n",
    "Adam is one of the most famous adaptive stochastic gradient descent algorithm. It is massively used for training neural networks.\n",
    "\n",
    "You can play around with the Adam parameters if you want."
   ]
  },
  {
   "cell_type": "code",
   "execution_count": 26,
   "id": "noble-proxy",
   "metadata": {},
   "outputs": [],
   "source": [
    "# Adam optimization parameters\n",
    "# Predefined values: lr_gan = 0.0002, betas_gan = (0.5, 0.999)\n",
    "lr_gan = 0.0002\n",
    "betas_gan = (0.5, 0.999)\n",
    "\n",
    "optimizer_discriminator = torch.optim.Adam(discriminator.parameters(), lr=lr_gan, betas = betas_gan)\n",
    "optimizer_generator = torch.optim.Adam(generator.parameters(), lr=lr_gan, betas = betas_gan)"
   ]
  },
  {
   "cell_type": "code",
   "execution_count": 27,
   "outputs": [
    {
     "data": {
      "text/plain": "<generator object Module.parameters at 0x7fd66d2cc0d0>"
     },
     "execution_count": 27,
     "metadata": {},
     "output_type": "execute_result"
    }
   ],
   "source": [
    "discriminator.parameters()"
   ],
   "metadata": {
    "collapsed": false
   }
  },
  {
   "cell_type": "markdown",
   "id": "alive-burke",
   "metadata": {},
   "source": [
    "### 1.f Accuracy\n",
    "We define one error measure as the accuracy reached by the discriminator for its predictions y_predicted, i.e. the ratio between the number of correct classifications and the total number of samples. We suppose that if 0.0 <= y_generated[i] <= 0.5, then it predicts a fake image and if 0.5 < y_generated[i] <= 1.0, it predicts a true image.\n",
    "\n",
    "During the training, data are loaded batch by batch. It could thus be a good idea to consider that the inputs of the following function are the true and predicted labels from one batch of data.\n",
    "\n",
    "Task: complete the computeGANAccuracy function."
   ]
  },
  {
   "cell_type": "code",
   "execution_count": 28,
   "id": "functioning-charm",
   "metadata": {},
   "outputs": [],
   "source": [
    "def computeGANAccuracy(y_predicted,y_true):\n",
    "    \n",
    "    accuracy = 0.0\n",
    "    \n",
    "    # TO COMPLETE\n",
    "    accuracy = torch.sum((y_predicted>0) == y_true) / len(y_true)\n",
    "\n",
    "    return accuracy"
   ]
  },
  {
   "cell_type": "markdown",
   "id": "talented-speaker",
   "metadata": {},
   "source": [
    "### 1.g Preparing the training process\n",
    "In this part, you are asked to initialize the training process (not the model which is initialized automatically). \n",
    "\n",
    "Let's just first define the number of iterations (epochs) that the training will last. Satisfactory results can be obtained with 5 epochs, but you can of course increase this value for a better training."
   ]
  },
  {
   "cell_type": "code",
   "execution_count": 29,
   "id": "comparative-malaysia",
   "metadata": {},
   "outputs": [],
   "source": [
    "# Number of epochs for the training\n",
    "# Predefined value: num_epochs_gan = 5\n",
    "\n",
    "num_epochs_gan = 5"
   ]
  },
  {
   "cell_type": "markdown",
   "id": "transparent-plain",
   "metadata": {},
   "source": [
    "It is important to keep track of the evolution of the error metrics during the training process. A simple idea is to store the values of the metrics in arrays, at least after every epoch.\n",
    "\n",
    "Task: Create arrays that will contain the accuracy for train and test sets, as well as the values of the discriminator loss and of the generator loss during the training. Compute the errors before training the model and store them in your arrays."
   ]
  },
  {
   "cell_type": "code",
   "execution_count": 30,
   "id": "toxic-scheduling",
   "metadata": {},
   "outputs": [],
   "source": [
    "# Error metrics at initialisation\n",
    "\n",
    "# TO COMPLETE\n",
    "def error_metrics(y_predicted, y_true):\n",
    "    accuracy = computeGANAccuracy(y_predicted, y_true)\n",
    "    loss = loss_function_gan(y_predicted, y_true)\n",
    "\n",
    "    err_metrics = torch.tensor([[accuracy, loss]])\n",
    "\n",
    "    return err_metrics"
   ]
  },
  {
   "cell_type": "markdown",
   "id": "amino-network",
   "metadata": {},
   "source": [
    "It is a good option to keep track of the evolution of the images generated through the training. Defining a reference sample of latent vectors allows to generate the image for the same inputs every time. You can compute the output from those vectors after each epoch to see how the generated images evolve with the training. The latent vectors can be generated from a standard normal distribution, or from a uniform distribution over [-1,1].\n",
    "\n",
    "Task: Define a sample of reference latent vectors."
   ]
  },
  {
   "cell_type": "code",
   "execution_count": 31,
   "id": "secondary-flesh",
   "metadata": {},
   "outputs": [],
   "source": [
    "# Reference latent vectors\n",
    "\n",
    "# TO COMPLETE\n",
    "def generate_latent_vectors(dim_latent_space, batch_size):\n",
    "    # generate latent vectors based on a standard normal distribution\n",
    "    latent_vectors = torch.randn(dim_latent_space * batch_size).reshape(batch_size, dim_latent_space)\n",
    "\n",
    "    return latent_vectors"
   ]
  },
  {
   "cell_type": "code",
   "execution_count": 32,
   "id": "29d0bda8",
   "metadata": {
    "collapsed": false
   },
   "outputs": [],
   "source": [
    "fixed_noise = generate_latent_vectors(dim_latent_space, batch_size).to(device)"
   ]
  },
  {
   "cell_type": "markdown",
   "id": "better-antenna",
   "metadata": {},
   "source": [
    "### 1.h Training and testing the GAN\n",
    "This is finally the core part of this section: training your GAN.\n",
    "\n",
    "The training will follow an easy structure. Here is the pseudo-code of the training process:\n",
    "\n",
    "\n",
    "    for each epoch:\n",
    "\n",
    "        for each batch:\n",
    "\n",
    "            train the discriminator on the batch:\n",
    "\n",
    "                generate fake data (same amount as size of the batch)\n",
    "\n",
    "                predict if data from the batch and generated data are fake or not\n",
    "\n",
    "                compute the discriminator loss function\n",
    "\n",
    "                backpropagate the error in the discriminator\n",
    "\n",
    "            train the generator on the batch\n",
    "\n",
    "                generate fake data (same amount as size of the batch)\n",
    "\n",
    "                predict if generated data are fake or not\n",
    "\n",
    "                compute the generator loss function\n",
    "\n",
    "                backpropagate the error in the generator\n",
    "\n",
    "        end\n",
    "\n",
    "    end\n",
    "\n",
    "Task: Code the GAN training from the pseudo-code given above. Don't forget to switch between training and evaluation modes for the models, by using train() and eval() Pytorch functions. To understand what to do and why, look for their impact on specific layers of the networks. You may also use the time package in order to get information about the duration of the training. Finally, at every epoch, compute and store the accuracy and the losses of the model and generate images from your reference sample."
   ]
  },
  {
   "cell_type": "code",
   "execution_count": 33,
   "id": "2a4ce9f0",
   "metadata": {
    "collapsed": false
   },
   "outputs": [],
   "source": [
    "# Training of the GAN\n",
    "\n",
    "# TO COMPLETE\n",
    "\n",
    "def train_gan(gen, dis, data_loader, dim_latent_space, fixed_noise, num_epochs_gan=5, batch_size=32):\n",
    "    st = time.time()\n",
    "    dis_acc_real = []\n",
    "    dis_acc_fake =[]\n",
    "    G_losses = []\n",
    "    D_losses = []\n",
    "    img_list = []\n",
    "    epoch_list = []\n",
    "    iters = 0\n",
    "\n",
    "    for epoch in range(num_epochs_gan):\n",
    "\n",
    "        for i, data in enumerate(data_loader, 0):\n",
    "            \"\"\"\n",
    "            train the discriminator on the batch:\n",
    "            \"\"\"\n",
    "            X_real = data[0].to(device)\n",
    "            y_real = torch.full((batch_size,), 1, dtype=torch.float, device=device)\n",
    "            ## Train with all-real batch\n",
    "            dis.zero_grad()\n",
    "            # Forward pass real batch through D\n",
    "            outputD_real = dis(X_real).view(-1)\n",
    "            # compute loss on real batch\n",
    "            errD_real = loss_function_gan(outputD_real, y_real)\n",
    "            # compute gradients for Discriminator in backward pass\n",
    "            errD_real.backward()\n",
    "            D_x = outputD_real.mean().item()\n",
    "            # compute accuracy of discriminator on real samples\n",
    "            accD_real = computeGANAccuracy(outputD_real, y_real)\n",
    "\n",
    "\n",
    "            ## Train with all-fake batch\n",
    "            # generate batch of latent vectors\n",
    "            latent_vectors_fake = generate_latent_vectors(dim_latent_space, batch_size)\n",
    "            # generate fake X, y (images, labels)\n",
    "            X_fake = gen(latent_vectors_fake)\n",
    "            y_fake = torch.zeros([32])\n",
    "            outputD_fake = dis(X_fake).view(-1)\n",
    "            errD_fake = loss_function_gan(outputD_fake, y_fake)\n",
    "            errD_fake.backward()\n",
    "            D_G_z1 = outputD_fake.mean().item()\n",
    "\n",
    "            # compute error of Discriminator on fake and real batches\n",
    "            errD = errD_real + errD_fake\n",
    "\n",
    "            # compute accuracy of discriminator on real samples\n",
    "            accD_fake = computeGANAccuracy(outputD_fake, y_fake)\n",
    "\n",
    "            # update Discriminator\n",
    "            optimizer_discriminator.step()\n",
    "\n",
    "            \"\"\"\n",
    "            train the generator on the batch:\n",
    "            \"\"\"\n",
    "            gen.zero_grad()\n",
    "            X_fake = gen(latent_vectors_fake)\n",
    "            y_fake = y_real # for the generator, labels are real for training the generator\n",
    "            # perform another forward pass of all-fake batch using an updated Discriminator\n",
    "            outputD_fake = dis(X_fake).view(-1)\n",
    "            # compute generator's loss\n",
    "            errG = loss_function_gan(outputD_fake, y_fake)\n",
    "            errG.backward(retain_graph=True)\n",
    "\n",
    "            D_G_z2 = outputD_fake.mean().item()\n",
    "\n",
    "            # Update G\n",
    "            optimizer_generator.step()\n",
    "\n",
    "\n",
    "\n",
    "            # print some info evey 50 batch\n",
    "            if i % 50 == 0:\n",
    "                et = time.time()\n",
    "                print('[E %d/%d][B %d/%d][DLoss: %.4f][GLoss: %.4f][reAcc: %.4f][faAcc: %.4f][D(x): %.4f][D(G(z)): %.4f/%.4f][T: %.4fs]'\n",
    "                  % (epoch + 1, num_epochs_gan, i, len(data_loader),\n",
    "                     errD.item(), errG.item(),\n",
    "                     accD_real, accD_fake,\n",
    "                     D_x, D_G_z1, D_G_z2,\n",
    "                     et - st))\n",
    "\n",
    "            # Save Losses for plotting later\n",
    "            G_losses.append(errG.item())\n",
    "            D_losses.append(errD.item())\n",
    "            dis_acc_real.append(accD_real)\n",
    "            dis_acc_fake.append(accD_fake)\n",
    "\n",
    "            # Check how the generator is doing by saving G's output on fixed_noise\n",
    "            # if (iters % 500 == 0) or ((epoch == num_epochs_gan-1) and (i == len(data_loader)-1)):\n",
    "            #     with torch.no_grad():\n",
    "            #         fake = gen(fixed_noise).detach().cpu()\n",
    "            #     img_list.append(vutils.make_grid(fake, padding=2, normalize=True))\n",
    "            if (iters % 500 == 0) or ((epoch == num_epochs_gan-1) and (i == len(data_loader)-1)):\n",
    "                with torch.no_grad():\n",
    "                    img_list.append(gen(fixed_noise).detach().cpu())\n",
    "                    epoch_list.append(epoch)\n",
    "\n",
    "            iters += 1\n",
    "\n",
    "\n",
    "\n",
    "    return dis_acc_real, dis_acc_fake, G_losses, D_losses, img_list, epoch_list"
   ]
  },
  {
   "cell_type": "code",
   "execution_count": 34,
   "outputs": [
    {
     "name": "stdout",
     "output_type": "stream",
     "text": [
      "[E 1/5][B 0/1875][DLoss: 1.3857][GLoss: 0.6698][reAcc: 1.0000][faAcc: 0.0000][D(x): 0.0508][D(G(z)): 0.0482/0.0474][T: 0.3280s]\n",
      "[E 1/5][B 50/1875][DLoss: 0.1086][GLoss: 4.5584][reAcc: 0.9688][faAcc: 1.0000][D(x): 8.0352][D(G(z)): -5.8303/-4.5086][T: 15.6957s]\n",
      "[E 1/5][B 100/1875][DLoss: 0.0295][GLoss: 7.5104][reAcc: 1.0000][faAcc: 1.0000][D(x): 6.9873][D(G(z)): -7.4021/-7.5068][T: 25.8627s]\n",
      "[E 1/5][B 150/1875][DLoss: 0.0155][GLoss: 6.5349][reAcc: 1.0000][faAcc: 1.0000][D(x): 9.4670][D(G(z)): -7.9319/-6.5299][T: 35.7631s]\n",
      "[E 1/5][B 200/1875][DLoss: 0.2756][GLoss: 3.8827][reAcc: 1.0000][faAcc: 0.9375][D(x): 6.4478][D(G(z)): -2.5280/-3.8002][T: 44.4685s]\n",
      "[E 1/5][B 250/1875][DLoss: 0.2711][GLoss: 4.0779][reAcc: 0.9375][faAcc: 0.9375][D(x): 3.7364][D(G(z)): -4.3073/-3.9860][T: 53.0432s]\n",
      "[E 1/5][B 300/1875][DLoss: 0.1949][GLoss: 3.0585][reAcc: 0.9375][faAcc: 0.9688][D(x): 4.4532][D(G(z)): -3.5584/-2.7542][T: 63.1743s]\n",
      "[E 1/5][B 350/1875][DLoss: 0.0611][GLoss: 6.0929][reAcc: 1.0000][faAcc: 1.0000][D(x): 5.8489][D(G(z)): -5.2807/-6.0815][T: 72.1509s]\n",
      "[E 1/5][B 400/1875][DLoss: 0.5453][GLoss: 3.5670][reAcc: 0.9375][faAcc: 0.9062][D(x): 4.1865][D(G(z)): -3.3595/-3.3589][T: 80.5170s]\n",
      "[E 1/5][B 450/1875][DLoss: 0.2384][GLoss: 3.4919][reAcc: 0.9375][faAcc: 1.0000][D(x): 5.7498][D(G(z)): -3.4961/-3.3534][T: 89.7076s]\n",
      "[E 1/5][B 500/1875][DLoss: 0.2663][GLoss: 4.2621][reAcc: 1.0000][faAcc: 0.8750][D(x): 5.5351][D(G(z)): -2.5362/-4.2341][T: 101.7029s]\n",
      "[E 1/5][B 550/1875][DLoss: 0.4188][GLoss: 3.3153][reAcc: 0.9062][faAcc: 0.9375][D(x): 3.4044][D(G(z)): -3.4903/-3.2208][T: 110.1715s]\n",
      "[E 1/5][B 600/1875][DLoss: 0.3386][GLoss: 3.4850][reAcc: 0.8438][faAcc: 1.0000][D(x): 2.7657][D(G(z)): -3.6440/-3.3687][T: 118.6269s]\n",
      "[E 1/5][B 650/1875][DLoss: 0.4540][GLoss: 4.9888][reAcc: 1.0000][faAcc: 0.8125][D(x): 6.1406][D(G(z)): -1.7710/-4.9704][T: 126.9876s]\n",
      "[E 1/5][B 700/1875][DLoss: 0.4433][GLoss: 2.9772][reAcc: 0.8125][faAcc: 0.9688][D(x): 2.8404][D(G(z)): -3.3711/-2.8781][T: 135.4417s]\n",
      "[E 1/5][B 750/1875][DLoss: 0.8258][GLoss: 3.7529][reAcc: 0.9062][faAcc: 0.6875][D(x): 3.9906][D(G(z)): -1.2939/-3.6457][T: 143.7760s]\n",
      "[E 1/5][B 800/1875][DLoss: 0.3980][GLoss: 2.0252][reAcc: 0.8750][faAcc: 0.9688][D(x): 3.5559][D(G(z)): -1.8946/-1.7924][T: 152.5563s]\n",
      "[E 1/5][B 850/1875][DLoss: 0.6787][GLoss: 1.6558][reAcc: 0.7188][faAcc: 0.9688][D(x): 1.6891][D(G(z)): -2.8293/-1.1969][T: 161.0122s]\n",
      "[E 1/5][B 900/1875][DLoss: 0.3829][GLoss: 2.9929][reAcc: 1.0000][faAcc: 0.8750][D(x): 3.6657][D(G(z)): -1.5475/-2.8763][T: 169.4420s]\n",
      "[E 1/5][B 950/1875][DLoss: 0.5179][GLoss: 2.0013][reAcc: 0.8750][faAcc: 0.9375][D(x): 2.1158][D(G(z)): -1.8041/-1.6990][T: 178.1172s]\n",
      "[E 1/5][B 1000/1875][DLoss: 0.6906][GLoss: 1.9954][reAcc: 0.6875][faAcc: 1.0000][D(x): 1.0714][D(G(z)): -2.6787/-1.7061][T: 186.7027s]\n",
      "[E 1/5][B 1050/1875][DLoss: 0.9309][GLoss: 2.2820][reAcc: 0.9062][faAcc: 0.6250][D(x): 2.2315][D(G(z)): -0.4410/-2.0915][T: 195.1478s]\n",
      "[E 1/5][B 1100/1875][DLoss: 1.0055][GLoss: 1.7688][reAcc: 0.9062][faAcc: 0.7188][D(x): 2.5498][D(G(z)): -0.4917/-1.4184][T: 203.5354s]\n",
      "[E 1/5][B 1150/1875][DLoss: 0.7123][GLoss: 1.0683][reAcc: 0.8438][faAcc: 0.9062][D(x): 1.4183][D(G(z)): -1.1957/-0.3833][T: 211.9155s]\n",
      "[E 1/5][B 1200/1875][DLoss: 0.9996][GLoss: 1.3882][reAcc: 0.8438][faAcc: 0.5312][D(x): 1.6588][D(G(z)): -0.4034/-0.8731][T: 220.3125s]\n",
      "[E 1/5][B 1250/1875][DLoss: 0.8019][GLoss: 1.8461][reAcc: 0.8125][faAcc: 0.9375][D(x): 1.1973][D(G(z)): -1.2522/-1.5358][T: 228.6287s]\n",
      "[E 1/5][B 1300/1875][DLoss: 1.0613][GLoss: 1.7971][reAcc: 0.7500][faAcc: 0.6875][D(x): 1.0029][D(G(z)): -0.7455/-1.5213][T: 236.9524s]\n",
      "[E 1/5][B 1350/1875][DLoss: 1.3800][GLoss: 1.9606][reAcc: 0.9688][faAcc: 0.3438][D(x): 2.4438][D(G(z)): 0.5659/-1.7160][T: 245.5884s]\n",
      "[E 1/5][B 1400/1875][DLoss: 1.1659][GLoss: 0.9572][reAcc: 0.4688][faAcc: 0.8750][D(x): 0.2145][D(G(z)): -0.9843/-0.2299][T: 253.8941s]\n",
      "[E 1/5][B 1450/1875][DLoss: 1.0021][GLoss: 1.0597][reAcc: 0.7188][faAcc: 0.8750][D(x): 0.3834][D(G(z)): -1.1055/-0.5098][T: 262.2746s]\n",
      "[E 1/5][B 1500/1875][DLoss: 0.8577][GLoss: 1.1722][reAcc: 0.9062][faAcc: 0.7500][D(x): 1.2484][D(G(z)): -0.6579/-0.7150][T: 270.6076s]\n",
      "[E 1/5][B 1550/1875][DLoss: 1.0648][GLoss: 0.9221][reAcc: 0.6250][faAcc: 0.8125][D(x): 0.3253][D(G(z)): -0.8963/-0.3424][T: 279.0449s]\n",
      "[E 1/5][B 1600/1875][DLoss: 1.1906][GLoss: 1.2612][reAcc: 0.5938][faAcc: 0.7188][D(x): 0.5818][D(G(z)): -0.3249/-0.7716][T: 287.3599s]\n",
      "[E 1/5][B 1650/1875][DLoss: 1.0731][GLoss: 1.0745][reAcc: 0.7812][faAcc: 0.7812][D(x): 0.6329][D(G(z)): -0.6836/-0.4040][T: 295.7200s]\n",
      "[E 1/5][B 1700/1875][DLoss: 1.2706][GLoss: 0.8700][reAcc: 0.2812][faAcc: 0.9688][D(x): -0.4181][D(G(z)): -1.4626/-0.2221][T: 304.0641s]\n",
      "[E 1/5][B 1750/1875][DLoss: 1.2574][GLoss: 1.4803][reAcc: 0.7812][faAcc: 0.5938][D(x): 1.2107][D(G(z)): 0.0825/-1.1570][T: 312.5964s]\n",
      "[E 1/5][B 1800/1875][DLoss: 1.1675][GLoss: 1.4652][reAcc: 0.7812][faAcc: 0.4688][D(x): 0.9471][D(G(z)): -0.0359/-1.1125][T: 320.9341s]\n",
      "[E 1/5][B 1850/1875][DLoss: 0.9976][GLoss: 0.7281][reAcc: 0.7812][faAcc: 0.7812][D(x): 0.5475][D(G(z)): -0.8053/0.1311][T: 329.4352s]\n",
      "[E 2/5][B 0/1875][DLoss: 1.0505][GLoss: 1.3606][reAcc: 0.6562][faAcc: 0.7812][D(x): 0.5953][D(G(z)): -0.6805/-0.9508][T: 334.0295s]\n",
      "[E 2/5][B 50/1875][DLoss: 1.1135][GLoss: 1.0619][reAcc: 0.7812][faAcc: 0.6562][D(x): 0.8634][D(G(z)): -0.4330/-0.5186][T: 342.5306s]\n",
      "[E 2/5][B 100/1875][DLoss: 1.1307][GLoss: 1.4014][reAcc: 0.9062][faAcc: 0.6562][D(x): 0.9105][D(G(z)): -0.2307/-1.0358][T: 351.0789s]\n",
      "[E 2/5][B 150/1875][DLoss: 1.0990][GLoss: 1.1705][reAcc: 0.6875][faAcc: 0.6562][D(x): 0.6629][D(G(z)): -0.3844/-0.6000][T: 362.0880s]\n",
      "[E 2/5][B 200/1875][DLoss: 1.0935][GLoss: 1.0793][reAcc: 0.6250][faAcc: 0.8438][D(x): 0.3032][D(G(z)): -0.9049/-0.5825][T: 370.9335s]\n",
      "[E 2/5][B 250/1875][DLoss: 1.3457][GLoss: 0.8433][reAcc: 0.5312][faAcc: 0.8125][D(x): -0.0835][D(G(z)): -0.5521/-0.1482][T: 379.3640s]\n",
      "[E 2/5][B 300/1875][DLoss: 1.3114][GLoss: 1.0595][reAcc: 0.5625][faAcc: 0.6875][D(x): 0.0844][D(G(z)): -0.6260/-0.4877][T: 388.2319s]\n",
      "[E 2/5][B 350/1875][DLoss: 1.0759][GLoss: 0.8075][reAcc: 0.4688][faAcc: 0.9375][D(x): 0.0778][D(G(z)): -0.9904/-0.0182][T: 396.9110s]\n",
      "[E 2/5][B 400/1875][DLoss: 0.9515][GLoss: 1.0238][reAcc: 0.8125][faAcc: 0.8750][D(x): 0.8141][D(G(z)): -0.6478/-0.4675][T: 405.4509s]\n",
      "[E 2/5][B 450/1875][DLoss: 1.0912][GLoss: 1.2994][reAcc: 0.7812][faAcc: 0.7500][D(x): 0.6125][D(G(z)): -0.4012/-0.8780][T: 413.8908s]\n",
      "[E 2/5][B 500/1875][DLoss: 1.0785][GLoss: 1.3278][reAcc: 0.7500][faAcc: 0.8125][D(x): 0.7009][D(G(z)): -0.3506/-0.9557][T: 422.3706s]\n",
      "[E 2/5][B 550/1875][DLoss: 1.1637][GLoss: 0.8770][reAcc: 0.6562][faAcc: 0.8438][D(x): 0.2490][D(G(z)): -0.6834/-0.2131][T: 430.8358s]\n",
      "[E 2/5][B 600/1875][DLoss: 0.9840][GLoss: 0.9124][reAcc: 0.6562][faAcc: 0.8438][D(x): 0.5697][D(G(z)): -0.7935/-0.3089][T: 439.4583s]\n",
      "[E 2/5][B 650/1875][DLoss: 1.1426][GLoss: 0.9691][reAcc: 0.6250][faAcc: 0.7500][D(x): 0.3862][D(G(z)): -0.5146/-0.3433][T: 447.9750s]\n",
      "[E 2/5][B 700/1875][DLoss: 1.0885][GLoss: 1.0446][reAcc: 0.7500][faAcc: 0.6250][D(x): 1.0966][D(G(z)): -0.1610/-0.5201][T: 456.3530s]\n",
      "[E 2/5][B 750/1875][DLoss: 1.1810][GLoss: 1.1258][reAcc: 0.7500][faAcc: 0.5938][D(x): 0.5679][D(G(z)): -0.2254/-0.6124][T: 464.7943s]\n",
      "[E 2/5][B 800/1875][DLoss: 1.1936][GLoss: 1.0216][reAcc: 0.5000][faAcc: 0.8750][D(x): 0.0523][D(G(z)): -0.7246/-0.5247][T: 473.2210s]\n",
      "[E 2/5][B 850/1875][DLoss: 1.0832][GLoss: 1.0006][reAcc: 0.7500][faAcc: 0.5938][D(x): 0.7522][D(G(z)): -0.2690/-0.4167][T: 482.3635s]\n",
      "[E 2/5][B 900/1875][DLoss: 1.1043][GLoss: 1.1004][reAcc: 0.6562][faAcc: 0.7812][D(x): 0.2615][D(G(z)): -0.7428/-0.6068][T: 498.9187s]\n",
      "[E 2/5][B 950/1875][DLoss: 1.0509][GLoss: 0.8206][reAcc: 0.6250][faAcc: 0.8750][D(x): 0.4776][D(G(z)): -0.7123/-0.0433][T: 509.4270s]\n",
      "[E 2/5][B 1000/1875][DLoss: 1.0093][GLoss: 0.9594][reAcc: 0.6562][faAcc: 0.9062][D(x): 0.5330][D(G(z)): -0.7944/-0.3060][T: 518.2297s]\n",
      "[E 2/5][B 1050/1875][DLoss: 1.2023][GLoss: 0.8358][reAcc: 0.6250][faAcc: 0.6875][D(x): 0.3804][D(G(z)): -0.4420/-0.1366][T: 527.5920s]\n",
      "[E 2/5][B 1100/1875][DLoss: 1.2867][GLoss: 1.0028][reAcc: 0.5312][faAcc: 0.6875][D(x): 0.1028][D(G(z)): -0.4091/-0.4374][T: 536.6735s]\n",
      "[E 2/5][B 1150/1875][DLoss: 1.1327][GLoss: 1.0018][reAcc: 0.7500][faAcc: 0.7500][D(x): 0.5538][D(G(z)): -0.4213/-0.3828][T: 545.9835s]\n",
      "[E 2/5][B 1200/1875][DLoss: 1.2281][GLoss: 0.9717][reAcc: 0.4062][faAcc: 0.8750][D(x): -0.0606][D(G(z)): -0.7386/-0.4215][T: 554.4850s]\n",
      "[E 2/5][B 1250/1875][DLoss: 1.2104][GLoss: 0.6867][reAcc: 0.7812][faAcc: 0.6562][D(x): 0.5403][D(G(z)): -0.1221/0.1570][T: 562.9485s]\n",
      "[E 2/5][B 1300/1875][DLoss: 1.4487][GLoss: 1.0514][reAcc: 0.6562][faAcc: 0.5312][D(x): 0.3510][D(G(z)): 0.0803/-0.5076][T: 571.4569s]\n",
      "[E 2/5][B 1350/1875][DLoss: 1.3474][GLoss: 0.8208][reAcc: 0.3438][faAcc: 0.8438][D(x): -0.0477][D(G(z)): -0.6543/-0.1225][T: 579.9527s]\n",
      "[E 2/5][B 1400/1875][DLoss: 1.0701][GLoss: 0.7845][reAcc: 0.6250][faAcc: 0.8750][D(x): 0.2964][D(G(z)): -0.8728/-0.0633][T: 588.3869s]\n",
      "[E 2/5][B 1450/1875][DLoss: 1.1805][GLoss: 1.0572][reAcc: 0.5938][faAcc: 0.7188][D(x): 0.2370][D(G(z)): -0.5606/-0.5297][T: 596.9834s]\n",
      "[E 2/5][B 1500/1875][DLoss: 1.1367][GLoss: 1.0477][reAcc: 0.5938][faAcc: 0.7812][D(x): 0.3096][D(G(z)): -0.5593/-0.5111][T: 605.4838s]\n",
      "[E 2/5][B 1550/1875][DLoss: 1.0980][GLoss: 0.7891][reAcc: 0.6875][faAcc: 0.8125][D(x): 0.3510][D(G(z)): -0.6737/-0.0722][T: 614.1739s]\n",
      "[E 2/5][B 1600/1875][DLoss: 1.0597][GLoss: 0.9305][reAcc: 0.7188][faAcc: 0.8750][D(x): 0.4201][D(G(z)): -0.6424/-0.3350][T: 622.5969s]\n",
      "[E 2/5][B 1650/1875][DLoss: 1.1725][GLoss: 1.1802][reAcc: 0.9375][faAcc: 0.3750][D(x): 0.8555][D(G(z)): -0.0040/-0.7570][T: 631.0955s]\n",
      "[E 2/5][B 1700/1875][DLoss: 1.1090][GLoss: 0.8345][reAcc: 0.5938][faAcc: 0.8125][D(x): 0.4950][D(G(z)): -0.4904/-0.1550][T: 640.0253s]\n",
      "[E 2/5][B 1750/1875][DLoss: 1.2073][GLoss: 1.0223][reAcc: 0.7188][faAcc: 0.6875][D(x): 0.4579][D(G(z)): -0.3121/-0.5072][T: 648.4616s]\n",
      "[E 2/5][B 1800/1875][DLoss: 1.0962][GLoss: 0.9308][reAcc: 0.6875][faAcc: 0.7188][D(x): 0.5040][D(G(z)): -0.4310/-0.2983][T: 657.0386s]\n",
      "[E 2/5][B 1850/1875][DLoss: 1.2497][GLoss: 0.9119][reAcc: 0.5000][faAcc: 0.8438][D(x): 0.0463][D(G(z)): -0.6038/-0.3189][T: 665.8199s]\n",
      "[E 3/5][B 0/1875][DLoss: 1.1660][GLoss: 0.8346][reAcc: 0.8750][faAcc: 0.5000][D(x): 0.8301][D(G(z)): -0.0606/-0.1426][T: 670.1304s]\n",
      "[E 3/5][B 50/1875][DLoss: 1.2317][GLoss: 1.0159][reAcc: 0.3750][faAcc: 0.8750][D(x): 0.0726][D(G(z)): -0.7867/-0.4524][T: 678.6916s]\n",
      "[E 3/5][B 100/1875][DLoss: 1.1847][GLoss: 1.1499][reAcc: 0.6875][faAcc: 0.6250][D(x): 0.7416][D(G(z)): -0.1705/-0.6272][T: 687.1286s]\n",
      "[E 3/5][B 150/1875][DLoss: 1.0768][GLoss: 0.9344][reAcc: 0.4375][faAcc: 1.0000][D(x): 0.1342][D(G(z)): -0.8659/-0.3738][T: 695.6496s]\n",
      "[E 3/5][B 200/1875][DLoss: 1.1001][GLoss: 1.0566][reAcc: 0.6562][faAcc: 0.7500][D(x): 0.4864][D(G(z)): -0.6399/-0.5495][T: 704.1304s]\n",
      "[E 3/5][B 250/1875][DLoss: 1.1717][GLoss: 0.9737][reAcc: 0.5938][faAcc: 0.8125][D(x): 0.1881][D(G(z)): -0.5600/-0.3945][T: 712.6718s]\n",
      "[E 3/5][B 300/1875][DLoss: 1.1977][GLoss: 1.0076][reAcc: 0.6562][faAcc: 0.5625][D(x): 0.4974][D(G(z)): -0.2971/-0.4723][T: 721.1393s]\n",
      "[E 3/5][B 350/1875][DLoss: 1.2072][GLoss: 0.9960][reAcc: 0.6875][faAcc: 0.6875][D(x): 0.4729][D(G(z)): -0.3237/-0.4657][T: 729.6092s]\n",
      "[E 3/5][B 400/1875][DLoss: 1.2650][GLoss: 1.0272][reAcc: 0.4688][faAcc: 0.8125][D(x): -0.0934][D(G(z)): -0.6910/-0.5054][T: 738.1069s]\n",
      "[E 3/5][B 450/1875][DLoss: 1.1198][GLoss: 1.2236][reAcc: 0.8750][faAcc: 0.5625][D(x): 0.8317][D(G(z)): -0.0977/-0.8092][T: 746.5041s]\n",
      "[E 3/5][B 500/1875][DLoss: 1.1301][GLoss: 1.1573][reAcc: 0.5312][faAcc: 0.9062][D(x): 0.1559][D(G(z)): -0.9002/-0.6503][T: 755.0365s]\n",
      "[E 3/5][B 550/1875][DLoss: 1.3462][GLoss: 0.8812][reAcc: 0.7188][faAcc: 0.5625][D(x): 0.5159][D(G(z)): -0.0222/-0.2287][T: 763.4933s]\n",
      "[E 3/5][B 600/1875][DLoss: 1.1479][GLoss: 0.9329][reAcc: 0.5938][faAcc: 0.8438][D(x): 0.3923][D(G(z)): -0.5087/-0.3362][T: 771.9661s]\n",
      "[E 3/5][B 650/1875][DLoss: 1.2707][GLoss: 1.0964][reAcc: 0.5312][faAcc: 0.7500][D(x): 0.2135][D(G(z)): -0.4430/-0.6255][T: 780.4009s]\n",
      "[E 3/5][B 700/1875][DLoss: 1.2548][GLoss: 1.0788][reAcc: 0.5000][faAcc: 0.7188][D(x): 0.4133][D(G(z)): -0.2986/-0.5503][T: 788.8945s]\n",
      "[E 3/5][B 750/1875][DLoss: 1.1617][GLoss: 0.7824][reAcc: 0.7188][faAcc: 0.6562][D(x): 0.5130][D(G(z)): -0.2826/-0.0513][T: 797.3459s]\n",
      "[E 3/5][B 800/1875][DLoss: 1.0288][GLoss: 1.0993][reAcc: 0.7500][faAcc: 0.8125][D(x): 0.6380][D(G(z)): -0.5935/-0.5785][T: 805.8033s]\n",
      "[E 3/5][B 850/1875][DLoss: 1.3588][GLoss: 0.9960][reAcc: 0.7188][faAcc: 0.4375][D(x): 0.5742][D(G(z)): 0.1212/-0.4621][T: 814.3117s]\n",
      "[E 3/5][B 900/1875][DLoss: 1.1537][GLoss: 1.0499][reAcc: 0.6875][faAcc: 0.7500][D(x): 0.5463][D(G(z)): -0.3368/-0.5218][T: 822.8587s]\n",
      "[E 3/5][B 950/1875][DLoss: 1.2653][GLoss: 1.0752][reAcc: 0.5625][faAcc: 0.7188][D(x): 0.2157][D(G(z)): -0.4307/-0.5346][T: 831.4300s]\n",
      "[E 3/5][B 1000/1875][DLoss: 1.1238][GLoss: 1.1815][reAcc: 0.6562][faAcc: 0.7812][D(x): 0.3710][D(G(z)): -0.4780/-0.7532][T: 840.2574s]\n",
      "[E 3/5][B 1050/1875][DLoss: 0.9581][GLoss: 1.0679][reAcc: 0.8125][faAcc: 0.8438][D(x): 0.9789][D(G(z)): -0.4436/-0.5208][T: 848.7298s]\n",
      "[E 3/5][B 1100/1875][DLoss: 1.2031][GLoss: 1.1983][reAcc: 0.5938][faAcc: 0.8125][D(x): 0.2592][D(G(z)): -0.5398/-0.7174][T: 857.1957s]\n",
      "[E 3/5][B 1150/1875][DLoss: 1.2441][GLoss: 0.8682][reAcc: 0.4688][faAcc: 0.8125][D(x): 0.1164][D(G(z)): -0.4848/-0.2215][T: 865.9586s]\n",
      "[E 3/5][B 1200/1875][DLoss: 1.2991][GLoss: 0.9827][reAcc: 0.6875][faAcc: 0.6562][D(x): 0.3995][D(G(z)): -0.1641/-0.4058][T: 874.7328s]\n",
      "[E 3/5][B 1250/1875][DLoss: 1.3325][GLoss: 1.2436][reAcc: 0.4375][faAcc: 0.7812][D(x): -0.1472][D(G(z)): -0.5749/-0.7677][T: 883.1809s]\n",
      "[E 3/5][B 1300/1875][DLoss: 1.2062][GLoss: 1.2608][reAcc: 0.6250][faAcc: 0.6562][D(x): 0.4206][D(G(z)): -0.2773/-0.8329][T: 891.6394s]\n",
      "[E 3/5][B 1350/1875][DLoss: 1.0158][GLoss: 1.1217][reAcc: 0.7812][faAcc: 0.8125][D(x): 0.5031][D(G(z)): -0.9605/-0.6167][T: 900.0723s]\n",
      "[E 3/5][B 1400/1875][DLoss: 1.1705][GLoss: 1.1903][reAcc: 0.6875][faAcc: 0.7500][D(x): 0.3919][D(G(z)): -0.3551/-0.7841][T: 908.5070s]\n",
      "[E 3/5][B 1450/1875][DLoss: 1.2279][GLoss: 0.9491][reAcc: 0.6875][faAcc: 0.5000][D(x): 0.7023][D(G(z)): -0.1382/-0.2984][T: 916.8845s]\n",
      "[E 3/5][B 1500/1875][DLoss: 1.0414][GLoss: 0.9573][reAcc: 0.7500][faAcc: 0.6875][D(x): 0.6550][D(G(z)): -0.5170/-0.3865][T: 925.4349s]\n",
      "[E 3/5][B 1550/1875][DLoss: 1.2414][GLoss: 0.8983][reAcc: 0.5625][faAcc: 0.6875][D(x): 0.3031][D(G(z)): -0.3936/-0.2500][T: 934.4827s]\n",
      "[E 3/5][B 1600/1875][DLoss: 1.0197][GLoss: 0.9539][reAcc: 0.7500][faAcc: 0.6875][D(x): 0.6286][D(G(z)): -0.5962/-0.3665][T: 943.0979s]\n",
      "[E 3/5][B 1650/1875][DLoss: 0.9752][GLoss: 1.1460][reAcc: 0.7812][faAcc: 0.8125][D(x): 0.6873][D(G(z)): -0.6326/-0.6891][T: 951.5618s]\n",
      "[E 3/5][B 1700/1875][DLoss: 1.1580][GLoss: 1.0833][reAcc: 0.7812][faAcc: 0.7188][D(x): 0.4819][D(G(z)): -0.3091/-0.5900][T: 960.1184s]\n",
      "[E 3/5][B 1750/1875][DLoss: 1.3508][GLoss: 1.0372][reAcc: 0.5938][faAcc: 0.5312][D(x): 0.4106][D(G(z)): -0.0027/-0.5008][T: 968.9063s]\n",
      "[E 3/5][B 1800/1875][DLoss: 1.1570][GLoss: 0.9788][reAcc: 0.7812][faAcc: 0.6875][D(x): 0.5817][D(G(z)): -0.2819/-0.4160][T: 981.7805s]\n",
      "[E 3/5][B 1850/1875][DLoss: 1.0713][GLoss: 1.0064][reAcc: 0.8125][faAcc: 0.6250][D(x): 0.6733][D(G(z)): -0.3601/-0.3944][T: 990.5065s]\n",
      "[E 4/5][B 0/1875][DLoss: 1.2860][GLoss: 0.8506][reAcc: 0.5312][faAcc: 0.6562][D(x): 0.3233][D(G(z)): -0.2386/-0.1528][T: 994.8345s]\n",
      "[E 4/5][B 50/1875][DLoss: 1.1557][GLoss: 0.9579][reAcc: 0.6562][faAcc: 0.8125][D(x): 0.5362][D(G(z)): -0.4797/-0.4076][T: 1003.2535s]\n",
      "[E 4/5][B 100/1875][DLoss: 1.2722][GLoss: 1.0782][reAcc: 0.5938][faAcc: 0.6250][D(x): 0.2774][D(G(z)): -0.3769/-0.5353][T: 1011.7414s]\n",
      "[E 4/5][B 150/1875][DLoss: 1.2108][GLoss: 1.0794][reAcc: 0.5312][faAcc: 0.7500][D(x): 0.3100][D(G(z)): -0.3914/-0.4961][T: 1020.1687s]\n",
      "[E 4/5][B 200/1875][DLoss: 1.0502][GLoss: 0.9372][reAcc: 0.7188][faAcc: 0.8438][D(x): 0.6016][D(G(z)): -0.5108/-0.2414][T: 1028.5889s]\n",
      "[E 4/5][B 250/1875][DLoss: 1.2183][GLoss: 1.1669][reAcc: 0.5625][faAcc: 0.7188][D(x): 0.3203][D(G(z)): -0.5109/-0.6605][T: 1037.0377s]\n",
      "[E 4/5][B 300/1875][DLoss: 1.1769][GLoss: 0.7912][reAcc: 0.6562][faAcc: 0.6250][D(x): 0.4899][D(G(z)): -0.3934/-0.0533][T: 1045.4958s]\n",
      "[E 4/5][B 350/1875][DLoss: 1.0581][GLoss: 1.0558][reAcc: 0.7188][faAcc: 0.9062][D(x): 0.4288][D(G(z)): -0.6612/-0.5305][T: 1055.2771s]\n",
      "[E 4/5][B 400/1875][DLoss: 1.2619][GLoss: 1.0554][reAcc: 0.5625][faAcc: 0.5625][D(x): 0.3737][D(G(z)): -0.3495/-0.4870][T: 1063.7939s]\n",
      "[E 4/5][B 450/1875][DLoss: 1.1470][GLoss: 1.2405][reAcc: 0.5938][faAcc: 0.8438][D(x): 0.2038][D(G(z)): -0.8184/-0.8044][T: 1072.2862s]\n",
      "[E 4/5][B 500/1875][DLoss: 1.1525][GLoss: 0.9745][reAcc: 0.7500][faAcc: 0.6250][D(x): 0.6070][D(G(z)): -0.2893/-0.4230][T: 1080.8362s]\n",
      "[E 4/5][B 550/1875][DLoss: 1.1504][GLoss: 1.3125][reAcc: 0.7500][faAcc: 0.6562][D(x): 0.4440][D(G(z)): -0.3934/-0.8952][T: 1089.3558s]\n",
      "[E 4/5][B 600/1875][DLoss: 1.1560][GLoss: 0.8331][reAcc: 0.6875][faAcc: 0.6875][D(x): 0.4760][D(G(z)): -0.4538/-0.1475][T: 1097.8555s]\n",
      "[E 4/5][B 650/1875][DLoss: 1.2167][GLoss: 1.0333][reAcc: 0.7812][faAcc: 0.5938][D(x): 0.7491][D(G(z)): -0.1455/-0.4092][T: 1106.5027s]\n",
      "[E 4/5][B 700/1875][DLoss: 1.1742][GLoss: 1.1906][reAcc: 0.7500][faAcc: 0.7188][D(x): 0.5690][D(G(z)): -0.2938/-0.7208][T: 1115.0701s]\n",
      "[E 4/5][B 750/1875][DLoss: 1.1509][GLoss: 1.1622][reAcc: 0.6562][faAcc: 0.6250][D(x): 0.5055][D(G(z)): -0.3801/-0.6306][T: 1123.5214s]\n",
      "[E 4/5][B 800/1875][DLoss: 1.0783][GLoss: 1.3355][reAcc: 0.5938][faAcc: 0.7812][D(x): 0.5299][D(G(z)): -0.6222/-0.9147][T: 1131.9923s]\n",
      "[E 4/5][B 850/1875][DLoss: 1.2650][GLoss: 1.1835][reAcc: 0.6875][faAcc: 0.5625][D(x): 0.7152][D(G(z)): -0.1237/-0.6362][T: 1140.8298s]\n",
      "[E 4/5][B 900/1875][DLoss: 1.1734][GLoss: 0.9710][reAcc: 0.6875][faAcc: 0.7188][D(x): 0.7295][D(G(z)): -0.4152/-0.4279][T: 1149.3588s]\n",
      "[E 4/5][B 950/1875][DLoss: 1.1983][GLoss: 0.8560][reAcc: 0.5938][faAcc: 0.7500][D(x): 0.1921][D(G(z)): -0.5518/-0.1506][T: 1157.8636s]\n",
      "[E 4/5][B 1000/1875][DLoss: 1.1313][GLoss: 1.0903][reAcc: 0.6250][faAcc: 0.8438][D(x): 0.2699][D(G(z)): -0.6631/-0.5975][T: 1166.3064s]\n",
      "[E 4/5][B 1050/1875][DLoss: 1.2265][GLoss: 1.0508][reAcc: 0.7812][faAcc: 0.5625][D(x): 0.7785][D(G(z)): -0.0014/-0.5063][T: 1174.8704s]\n",
      "[E 4/5][B 1100/1875][DLoss: 1.1687][GLoss: 1.0750][reAcc: 0.7500][faAcc: 0.6562][D(x): 0.5531][D(G(z)): -0.4475/-0.5207][T: 1183.8080s]\n",
      "[E 4/5][B 1150/1875][DLoss: 1.1639][GLoss: 1.1094][reAcc: 0.7500][faAcc: 0.6875][D(x): 0.5548][D(G(z)): -0.2957/-0.6354][T: 1192.2777s]\n",
      "[E 4/5][B 1200/1875][DLoss: 1.0560][GLoss: 0.9631][reAcc: 0.9375][faAcc: 0.6562][D(x): 0.8242][D(G(z)): -0.2437/-0.3564][T: 1200.7447s]\n",
      "[E 4/5][B 1250/1875][DLoss: 1.0208][GLoss: 1.1052][reAcc: 0.8750][faAcc: 0.6250][D(x): 1.0808][D(G(z)): -0.2729/-0.6004][T: 1209.1697s]\n",
      "[E 4/5][B 1300/1875][DLoss: 1.1817][GLoss: 1.2147][reAcc: 0.7188][faAcc: 0.6250][D(x): 0.6776][D(G(z)): -0.2919/-0.8006][T: 1217.5392s]\n",
      "[E 4/5][B 1350/1875][DLoss: 1.1218][GLoss: 1.0510][reAcc: 0.6250][faAcc: 0.8125][D(x): 0.4312][D(G(z)): -0.6062/-0.5401][T: 1226.0635s]\n",
      "[E 4/5][B 1400/1875][DLoss: 1.2384][GLoss: 1.1058][reAcc: 0.6562][faAcc: 0.5938][D(x): 0.6806][D(G(z)): -0.1092/-0.5751][T: 1235.3175s]\n",
      "[E 4/5][B 1450/1875][DLoss: 1.2449][GLoss: 1.1136][reAcc: 0.6250][faAcc: 0.6875][D(x): 0.4269][D(G(z)): -0.2885/-0.6280][T: 1243.7409s]\n",
      "[E 4/5][B 1500/1875][DLoss: 1.3038][GLoss: 0.9452][reAcc: 0.5625][faAcc: 0.6250][D(x): 0.1634][D(G(z)): -0.4055/-0.2552][T: 1252.1678s]\n",
      "[E 4/5][B 1550/1875][DLoss: 1.0860][GLoss: 0.9191][reAcc: 0.9062][faAcc: 0.5312][D(x): 1.0294][D(G(z)): -0.0388/-0.2354][T: 1260.7156s]\n",
      "[E 4/5][B 1600/1875][DLoss: 1.1920][GLoss: 1.1350][reAcc: 0.8125][faAcc: 0.5938][D(x): 0.4981][D(G(z)): -0.1726/-0.5743][T: 1269.8054s]\n",
      "[E 4/5][B 1650/1875][DLoss: 1.1475][GLoss: 1.0734][reAcc: 0.6562][faAcc: 0.6250][D(x): 0.7289][D(G(z)): -0.3124/-0.5403][T: 1278.2252s]\n",
      "[E 4/5][B 1700/1875][DLoss: 1.1298][GLoss: 1.1615][reAcc: 0.8750][faAcc: 0.4375][D(x): 1.1075][D(G(z)): 0.0733/-0.7103][T: 1286.6882s]\n",
      "[E 4/5][B 1750/1875][DLoss: 1.0555][GLoss: 1.1807][reAcc: 0.9062][faAcc: 0.6562][D(x): 1.0301][D(G(z)): -0.1696/-0.6791][T: 1295.4476s]\n",
      "[E 4/5][B 1800/1875][DLoss: 1.2455][GLoss: 0.8981][reAcc: 0.5000][faAcc: 0.8438][D(x): -0.0219][D(G(z)): -0.6863/-0.2879][T: 1303.8855s]\n",
      "[E 4/5][B 1850/1875][DLoss: 1.3804][GLoss: 1.2092][reAcc: 0.6250][faAcc: 0.5938][D(x): 0.4009][D(G(z)): -0.2064/-0.7466][T: 1312.3488s]\n",
      "[E 5/5][B 0/1875][DLoss: 1.3299][GLoss: 0.9351][reAcc: 0.5312][faAcc: 0.6562][D(x): 0.0316][D(G(z)): -0.4422/-0.3069][T: 1316.7237s]\n",
      "[E 5/5][B 50/1875][DLoss: 1.0781][GLoss: 1.0579][reAcc: 0.7812][faAcc: 0.6875][D(x): 0.8207][D(G(z)): -0.3548/-0.5446][T: 1325.1489s]\n",
      "[E 5/5][B 100/1875][DLoss: 1.1768][GLoss: 1.1267][reAcc: 0.7188][faAcc: 0.6875][D(x): 0.3442][D(G(z)): -0.5429/-0.6402][T: 1333.5700s]\n",
      "[E 5/5][B 150/1875][DLoss: 1.1223][GLoss: 0.9334][reAcc: 0.6562][faAcc: 0.8125][D(x): 0.4316][D(G(z)): -0.7237/-0.3624][T: 1341.9620s]\n",
      "[E 5/5][B 200/1875][DLoss: 1.3156][GLoss: 1.0505][reAcc: 0.4375][faAcc: 0.8750][D(x): -0.1501][D(G(z)): -0.9617/-0.4350][T: 1350.6863s]\n",
      "[E 5/5][B 250/1875][DLoss: 1.1291][GLoss: 1.1940][reAcc: 0.7812][faAcc: 0.7188][D(x): 0.7699][D(G(z)): -0.4078/-0.6691][T: 1359.1300s]\n",
      "[E 5/5][B 300/1875][DLoss: 1.0141][GLoss: 0.8672][reAcc: 0.8125][faAcc: 0.6875][D(x): 0.6823][D(G(z)): -0.5016/-0.1705][T: 1367.5132s]\n",
      "[E 5/5][B 350/1875][DLoss: 1.0019][GLoss: 1.0829][reAcc: 0.8125][faAcc: 0.7500][D(x): 0.7916][D(G(z)): -0.5175/-0.5535][T: 1375.9814s]\n",
      "[E 5/5][B 400/1875][DLoss: 1.0537][GLoss: 1.1187][reAcc: 0.7812][faAcc: 0.6875][D(x): 0.8486][D(G(z)): -0.3476/-0.6345][T: 1384.3917s]\n",
      "[E 5/5][B 450/1875][DLoss: 1.2638][GLoss: 1.0652][reAcc: 0.6562][faAcc: 0.7500][D(x): 0.3244][D(G(z)): -0.3540/-0.4762][T: 1392.8011s]\n",
      "[E 5/5][B 500/1875][DLoss: 1.1888][GLoss: 0.8795][reAcc: 0.7500][faAcc: 0.6250][D(x): 0.6332][D(G(z)): -0.3604/-0.2262][T: 1401.2345s]\n",
      "[E 5/5][B 550/1875][DLoss: 1.2216][GLoss: 1.1911][reAcc: 0.8125][faAcc: 0.6250][D(x): 0.5660][D(G(z)): -0.1571/-0.7285][T: 1409.6443s]\n",
      "[E 5/5][B 600/1875][DLoss: 1.1795][GLoss: 1.2814][reAcc: 0.6875][faAcc: 0.7500][D(x): 0.1548][D(G(z)): -0.7423/-0.8392][T: 1418.1181s]\n",
      "[E 5/5][B 650/1875][DLoss: 1.1801][GLoss: 0.8973][reAcc: 0.7188][faAcc: 0.5938][D(x): 0.8039][D(G(z)): -0.1404/-0.2660][T: 1426.5065s]\n",
      "[E 5/5][B 700/1875][DLoss: 0.9779][GLoss: 1.1447][reAcc: 0.7812][faAcc: 0.8438][D(x): 0.7678][D(G(z)): -0.5366/-0.6641][T: 1434.8971s]\n",
      "[E 5/5][B 750/1875][DLoss: 1.2175][GLoss: 1.2858][reAcc: 0.4062][faAcc: 0.8438][D(x): 0.0652][D(G(z)): -0.6074/-0.8532][T: 1443.5322s]\n",
      "[E 5/5][B 800/1875][DLoss: 1.1316][GLoss: 1.0795][reAcc: 0.5938][faAcc: 0.8125][D(x): 0.2418][D(G(z)): -0.7889/-0.5734][T: 1451.9217s]\n",
      "[E 5/5][B 850/1875][DLoss: 1.1147][GLoss: 1.0568][reAcc: 0.5625][faAcc: 0.8750][D(x): 0.4223][D(G(z)): -0.6288/-0.5378][T: 1460.3643s]\n",
      "[E 5/5][B 900/1875][DLoss: 1.1344][GLoss: 1.0116][reAcc: 0.5938][faAcc: 0.9062][D(x): 0.1315][D(G(z)): -0.9597/-0.4757][T: 1468.8101s]\n",
      "[E 5/5][B 950/1875][DLoss: 1.2904][GLoss: 0.9115][reAcc: 0.7188][faAcc: 0.5000][D(x): 0.7262][D(G(z)): 0.0110/-0.3317][T: 1477.2235s]\n",
      "[E 5/5][B 1000/1875][DLoss: 1.1077][GLoss: 1.2762][reAcc: 0.6562][faAcc: 0.7188][D(x): 0.4770][D(G(z)): -0.6191/-0.7403][T: 1485.7471s]\n",
      "[E 5/5][B 1050/1875][DLoss: 1.1762][GLoss: 1.1357][reAcc: 0.8125][faAcc: 0.5625][D(x): 0.8952][D(G(z)): -0.1454/-0.6461][T: 1494.2351s]\n",
      "[E 5/5][B 1100/1875][DLoss: 1.1406][GLoss: 1.0816][reAcc: 0.6875][faAcc: 0.6250][D(x): 0.5594][D(G(z)): -0.4160/-0.5480][T: 1502.7899s]\n",
      "[E 5/5][B 1150/1875][DLoss: 1.1016][GLoss: 1.1058][reAcc: 0.7188][faAcc: 0.6562][D(x): 0.8280][D(G(z)): -0.3139/-0.5825][T: 1511.1844s]\n",
      "[E 5/5][B 1200/1875][DLoss: 1.2549][GLoss: 1.1101][reAcc: 0.4688][faAcc: 0.7500][D(x): 0.0625][D(G(z)): -0.6469/-0.6312][T: 1519.6400s]\n",
      "[E 5/5][B 1250/1875][DLoss: 1.1696][GLoss: 1.1076][reAcc: 0.5938][faAcc: 0.8125][D(x): 0.2312][D(G(z)): -0.6851/-0.5738][T: 1528.1504s]\n",
      "[E 5/5][B 1300/1875][DLoss: 1.1449][GLoss: 1.1016][reAcc: 0.8438][faAcc: 0.4375][D(x): 0.9432][D(G(z)): -0.0777/-0.5493][T: 1537.0497s]\n",
      "[E 5/5][B 1350/1875][DLoss: 1.0492][GLoss: 0.8931][reAcc: 0.6875][faAcc: 0.8125][D(x): 0.4741][D(G(z)): -0.5885/-0.2509][T: 1545.4665s]\n",
      "[E 5/5][B 1400/1875][DLoss: 1.2639][GLoss: 0.9787][reAcc: 0.8125][faAcc: 0.5312][D(x): 0.6935][D(G(z)): -0.0158/-0.3513][T: 1553.9191s]\n",
      "[E 5/5][B 1450/1875][DLoss: 1.2003][GLoss: 0.9860][reAcc: 0.5000][faAcc: 0.7188][D(x): 0.2707][D(G(z)): -0.4814/-0.3794][T: 1562.2829s]\n",
      "[E 5/5][B 1500/1875][DLoss: 1.0572][GLoss: 1.2388][reAcc: 0.8438][faAcc: 0.6250][D(x): 0.8691][D(G(z)): -0.3909/-0.8199][T: 1571.0840s]\n",
      "[E 5/5][B 1550/1875][DLoss: 1.2059][GLoss: 1.0359][reAcc: 0.6250][faAcc: 0.7500][D(x): 0.1697][D(G(z)): -0.4371/-0.4583][T: 1579.4550s]\n",
      "[E 5/5][B 1600/1875][DLoss: 1.0977][GLoss: 0.8582][reAcc: 0.6875][faAcc: 0.7188][D(x): 0.6063][D(G(z)): -0.5026/-0.1707][T: 1587.8844s]\n",
      "[E 5/5][B 1650/1875][DLoss: 1.0929][GLoss: 0.8804][reAcc: 0.7812][faAcc: 0.6875][D(x): 0.9513][D(G(z)): -0.2474/-0.2190][T: 1596.2832s]\n",
      "[E 5/5][B 1700/1875][DLoss: 1.0970][GLoss: 0.9890][reAcc: 0.6562][faAcc: 0.7188][D(x): 0.5636][D(G(z)): -0.5963/-0.3396][T: 1604.7290s]\n",
      "[E 5/5][B 1750/1875][DLoss: 1.1533][GLoss: 1.0695][reAcc: 0.5938][faAcc: 0.8125][D(x): 0.2675][D(G(z)): -0.5885/-0.5952][T: 1613.0921s]\n",
      "[E 5/5][B 1800/1875][DLoss: 1.1397][GLoss: 1.1708][reAcc: 0.6562][faAcc: 0.8438][D(x): 0.1314][D(G(z)): -0.8324/-0.7207][T: 1621.5426s]\n",
      "[E 5/5][B 1850/1875][DLoss: 1.1158][GLoss: 0.9618][reAcc: 0.6562][faAcc: 0.7188][D(x): 0.5297][D(G(z)): -0.5152/-0.4011][T: 1630.3230s]\n"
     ]
    }
   ],
   "source": [
    "dis_acc_real, dis_acc_fake, G_losses, D_losses, img_list, epoch_list = train_gan(generator, discriminator, train_loader, dim_latent_space, fixed_noise, num_epochs_gan=num_epochs_gan, batch_size=batch_size)"
   ],
   "metadata": {
    "collapsed": false
   }
  },
  {
   "cell_type": "code",
   "execution_count": 44,
   "outputs": [
    {
     "data": {
      "text/plain": "tensor([[0.],\n        [1.],\n        [1.],\n        [1.],\n        [0.],\n        [1.],\n        [0.],\n        [0.],\n        [1.],\n        [1.],\n        [1.],\n        [1.],\n        [1.],\n        [1.],\n        [1.],\n        [1.],\n        [0.],\n        [1.],\n        [0.],\n        [1.],\n        [1.],\n        [0.],\n        [1.],\n        [1.],\n        [1.],\n        [0.],\n        [1.],\n        [0.],\n        [1.],\n        [1.],\n        [1.],\n        [0.]], grad_fn=<IndexPutBackward0>)"
     },
     "execution_count": 44,
     "metadata": {},
     "output_type": "execute_result"
    }
   ],
   "source": [
    "# predict on the real samples using trained discriminator\n",
    "y_predicted = discriminator(real_samples)\n",
    "y_predicted[y_predicted>0] = 1\n",
    "y_predicted[y_predicted<0] = 0\n",
    "y_predicted"
   ],
   "metadata": {
    "collapsed": false
   }
  },
  {
   "cell_type": "markdown",
   "metadata": {
    "collapsed": false
   },
   "source": [
    "### 1.i Plot the results\n",
    "You should plot the evolution of your error metrics (accuracy and loss function) in function of the number of epochs, to see how efficient the training is. Show the evolution of the images generated from your reference sample as well.\n",
    "\n",
    "Task: Make those plots, as clean and readable as possible."
   ]
  },
  {
   "cell_type": "code",
   "execution_count": null,
   "id": "experimental-magic",
   "metadata": {},
   "outputs": [],
   "source": [
    "# Plots of accuracy and of loss function, images generated from your reference sample.\n",
    "\n",
    "# TO COMPLETE\n",
    "model_results = dis_acc_real, dis_acc_fake, G_losses, D_losses, img_list, epoch_list\n",
    "\n",
    "def plot_results(model_results):\n",
    "    dis_acc_real, dis_acc_fake, G_losses, D_losses, img_list, epoch_list = model_results\n",
    "    x_epoch = list(set(epoch_list))\n",
    "\n",
    "    plt.figure()\n",
    "    plt.plot(x_epoch, dis_acc_real, label = \"D Acc on real\")\n",
    "    plt.plot(x_epoch, dis_acc_fake, label = \"D Acc on fake\")\n",
    "    plt.plot(x_epoch, G_losses, label = \"Loss func of G\")\n",
    "    plt.plot(x_epoch, D_losses, label = \"Loss func of D\")\n",
    "    plt.legend()\n",
    "    plt.show()\n",
    "    # # plot the images from reference sample\n",
    "    # for i in range(len(epoch_list)):\n",
    "    #     showImages(img_list[i], generated=True, epoch=epoch_list[i])"
   ]
  },
  {
   "cell_type": "code",
   "execution_count": 51,
   "outputs": [],
   "source": [
    "x_epochs = torch.arange(0, len(train_loader) * num_epochs_gan) / len(train_loader)"
   ],
   "metadata": {
    "collapsed": false
   }
  },
  {
   "cell_type": "code",
   "execution_count": 57,
   "outputs": [
    {
     "data": {
      "text/plain": "<Figure size 1000x500 with 1 Axes>",
      "image/png": "[encoded data removed]"
     },
     "metadata": {},
     "output_type": "display_data"
    }
   ],
   "source": [
    "plt.figure(figsize=(10,5))\n",
    "plt.title(\"Generator and Discriminator Loss During Training\")\n",
    "plt.plot(x_epochs, G_losses, label=\"Generator\")\n",
    "plt.plot(x_epochs, D_losses, label=\"Discriminator\")\n",
    "plt.xlabel(\"Epochs\")\n",
    "plt.ylabel(\"Loss\")\n",
    "plt.legend()\n",
    "plt.savefig('./Figures/GD_loss.svg')\n",
    "plt.show()"
   ],
   "metadata": {
    "collapsed": false
   }
  },
  {
   "cell_type": "markdown",
   "id": "pediatric-stranger",
   "metadata": {},
   "source": [
    "### 1.j Save your models\n",
    "A really useful feature for your experiments is to be able to save your models. This can be done with the torch.save function. In the function saveModel, a model is stored in the folder ./Models that you may want to create. The (date)time is used to always store your models with a different name and never lose some training that you would have done.\n",
    "\n",
    "Be careful however: the saveModel function below stores the \"state dictionary\" of your model, not your model itself. \n",
    "\n",
    "You can of course modify the function saveModel as you wish."
   ]
  },
  {
   "cell_type": "code",
   "execution_count": 36,
   "id": "reflected-channels",
   "metadata": {},
   "outputs": [],
   "source": [
    "def saveModel(model, model_name):\n",
    "    now = datetime.now().strftime(\"%Y_%m_%d__%H_%M\")\n",
    "    torch.save(model.state_dict(), './Models/' + model_name + '__' + now)\n",
    "\n",
    "#### Example\n",
    "#\n",
    "# D = Discriminator().to(device=device)\n",
    "# saveModel(D, \"Discriminator\")\n",
    "#\n",
    "##\n",
    "# The model D has been saved as \"Discriminator__2022_11_12__15_21\" in the folder ./Models as your code finished running at\n",
    "# 15:21 on the 12 November 2022.\n",
    "##"
   ]
  },
  {
   "cell_type": "code",
   "execution_count": 39,
   "outputs": [],
   "source": [
    "D = Discriminator().to(device=device)\n",
    "saveModel(D, \"Discriminator\")\n",
    "\n",
    "# G = Generator().to(device=device)\n",
    "# saveModel(G, \"Generator\")"
   ],
   "metadata": {
    "collapsed": false
   }
  },
  {
   "cell_type": "code",
   "execution_count": 43,
   "outputs": [],
   "source": [
    "G = Generator(dim_latent_space).to(device=device)\n",
    "saveModel(G, \"Generator\")"
   ],
   "metadata": {
    "collapsed": false
   }
  },
  {
   "cell_type": "markdown",
   "id": "moderate-direction",
   "metadata": {},
   "source": [
    "### 1.k Load your models\n",
    "You can also load models that you trained and saved earlier with the function loadModel.\n",
    "\n",
    "However, be careful. You will have to first recreate a new instance of your class, and then import the state dictionary in the new instance. This means that the characteristics of your class should not have changed since then. In particular, the number of layers and the size of the layers need to match between the trained model and the most recent class in order to correctly assign the stored parameters. Moreover, there could be some trouble if you changed functions/methods from the class. \n",
    "\n",
    "You can of course modify the function loadModel as you wish."
   ]
  },
  {
   "cell_type": "code",
   "execution_count": null,
   "id": "pressed-violation",
   "metadata": {},
   "outputs": [],
   "source": [
    "def loadModel(model, model_name, date_time):\n",
    "    model.load_state_dict(torch.load('./Models/' + model_name + '__' + date_time))\n",
    "    model.eval()\n",
    "    return model\n",
    "\n",
    "#### Example\n",
    "#\n",
    "# D = Discriminator().to(device=device)\n",
    "# loadModel(D, \"Discriminator\", \"2022_11_12__15_21\")\n",
    "#\n",
    "##\n",
    "# The model \"Discriminator__2022_11_12__15_21\" from the folder ./Models has been loaded in the Discriminator D\n",
    "##"
   ]
  },
  {
   "cell_type": "code",
   "execution_count": null,
   "outputs": [],
   "source": [
    "D = Discriminator().to(device=device)\n",
    "loadModel(D, \"Discriminator\", \"2022_11_27__21_50\")"
   ],
   "metadata": {
    "collapsed": false
   }
  },
  {
   "cell_type": "markdown",
   "id": "middle-syria",
   "metadata": {},
   "source": [
    "## Section 2: Train a CNN on MNIST for image classification\n",
    "In this second part, you are asked to train and test a CNN for the classification of handwritten numbers (and letters).\n",
    "\n",
    "Therefore, you receive a reference CNN architecture that should not be changed. Training your CNN should be faster than training your GAN, so there is no fear about that.\n",
    "\n",
    "However, if you want to train additional CNN models (for improved results or faster training for example), feel free to create them by yourself and name the classes differently."
   ]
  },
  {
   "cell_type": "markdown",
   "id": "computational-square",
   "metadata": {},
   "source": [
    "### 2.a Number of classes\n",
    "For classification task, it is of course necessary to know the number of classes possible. \n",
    "\n",
    "For the rest of the homework, pay attention not to confuse the label class (ex: the image represents a 2) and a model class (ex: the model is an instance of the CNN class).\n",
    "\n",
    "There should be no need to modify the function numberClasses."
   ]
  },
  {
   "cell_type": "code",
   "execution_count": null,
   "id": "fossil-provincial",
   "metadata": {},
   "outputs": [],
   "source": [
    "def numberClasses(dataset):\n",
    "    n_classes = len(dataset.classes)\n",
    "    return n_classes"
   ]
  },
  {
   "cell_type": "code",
   "execution_count": null,
   "id": "racial-token",
   "metadata": {},
   "outputs": [],
   "source": [
    "n_classes = numberClasses(train_set)"
   ]
  },
  {
   "cell_type": "markdown",
   "id": "oriental-attack",
   "metadata": {},
   "source": [
    "### 2.b CNN class\n",
    "The class below contains the reference CNN architecture. You don't have to worry about the initialization of the model, it is done automatically.\n",
    "\n",
    "This architecture should not be changed.\n",
    "\n",
    "The CNN architecture is defined by the number of classes. Indeed, for each entry it outputs a vector of size n_classes with values between -inf and +inf. This vector can be passed through the function scaleToProbabilities in order to get scaled and become somewhat interpretable as probabilities of belonging to one class. The function predictLabels extends the scaleToProbabilities function and selects the most activated/highest valued class as the CNN prediction.\n",
    "\n",
    "There should be no need to modify the functions scaleToProbabilities and predictLabels, except playing with the scale_factor."
   ]
  },
  {
   "cell_type": "code",
   "execution_count": null,
   "id": "referenced-morris",
   "metadata": {},
   "outputs": [],
   "source": [
    "class CNN(nn.Module):\n",
    "    def __init__(self, n_classes):\n",
    "        super(CNN, self).__init__()\n",
    "        self.n_classes = n_classes\n",
    "        self.conv1 = nn.Sequential(             # Images input is batch_size*1*28*28\n",
    "            nn.Conv2d(1, 16, 5, 1, 2),          # Output is batch_size*16*28*28\n",
    "            nn.ReLU(),                      \n",
    "            nn.MaxPool2d(kernel_size=2),        # Output is batch_size*16*14*14\n",
    "        )\n",
    "        self.conv2 = nn.Sequential(         \n",
    "            nn.Conv2d(16, 32, 5, 1, 2),         # Output is batch_size*32*14*14\n",
    "            nn.ReLU(),                      \n",
    "            nn.MaxPool2d(2),                    # Output is batch_size*32*7*7\n",
    "        )\n",
    "        # fully connected layer, output one number for each class\n",
    "        self.out = nn.Sequential(         \n",
    "            nn.Linear(32 * 7 * 7, self.n_classes),          # Output is batch_size*n_classes\n",
    "        )\n",
    "    \n",
    "    def scaleToProbabilities(self, outmap, scale_factor = 3): \n",
    "        # scale_factor allows to scale your output before passing it into the softmax function \n",
    "        # in order to get numbers interpratble as probabilities\n",
    "        \n",
    "        flattened_outmap = outmap.view(outmap.shape[0], -1)\n",
    "        outmap_std = torch.std(flattened_outmap, dim = 1).view(-1, 1)\n",
    "        outmap_scaled_std = torch.div(outmap, outmap_std)\n",
    "        probabilities = nn.functional.softmax(outmap_scaled_std*scale_factor, dim=1)\n",
    "        return probabilities\n",
    "    \n",
    "    def predictLabels(self, outmap, scale_factor = 3):\n",
    "        probabilities = self.scaleToProbabilities(outmap, scale_factor = 3)\n",
    "        certainty, predicted_labels = torch.max(probabilities, 1)\n",
    "        predicted_labels = predicted_labels.data.squeeze()\n",
    "        certainty = certainty.data.squeeze()\n",
    "        return predicted_labels, probabilities, certainty\n",
    "        \n",
    "    def forward(self, x):\n",
    "        x = self.conv1(x)\n",
    "        x = self.conv2(x)\n",
    "        x = x.view(x.size(0), 32 * 7 * 7)\n",
    "        output = self.out(x)\n",
    "        return output"
   ]
  },
  {
   "cell_type": "code",
   "execution_count": null,
   "id": "wanted-scientist",
   "metadata": {},
   "outputs": [],
   "source": [
    "cnn = CNN(n_classes).to(device=device)\n",
    "cnn_params = numberParameters(cnn, model_name = \"classifier\")"
   ]
  },
  {
   "cell_type": "markdown",
   "id": "every-occurrence",
   "metadata": {},
   "source": [
    "### 2.c Loss function\n",
    "For classification tasks, the main loss function used is Cross Entropy. As entries, it takes the activations of last layer nodes  and the true labels of data (between 0 and n_classes-1). \n",
    "\n",
    "This loss function should not be changed."
   ]
  },
  {
   "cell_type": "code",
   "execution_count": null,
   "id": "korean-cleveland",
   "metadata": {},
   "outputs": [],
   "source": [
    "# Loss function for the CNN\n",
    "\n",
    "loss_function_cnn = nn.CrossEntropyLoss()"
   ]
  },
  {
   "cell_type": "markdown",
   "id": "controversial-palace",
   "metadata": {},
   "source": [
    "### 2.d Optimizer\n",
    "Again, we will use Adam as an optimizer.\n",
    "\n",
    "You can play around with the Adam parameters if you want."
   ]
  },
  {
   "cell_type": "code",
   "execution_count": null,
   "id": "national-asset",
   "metadata": {},
   "outputs": [],
   "source": [
    "# Adam optimization parameters\n",
    "# Predefined values: lr_cnn = 0.01, betas_cnn = (0.9, 0.999)\n",
    "lr_cnn = 0.01\n",
    "betas_cnn = (0.9, 0.999)\n",
    "\n",
    "optimizer_cnn = torch.optim.Adam(cnn.parameters(), lr=lr_cnn, betas = betas_cnn)"
   ]
  },
  {
   "cell_type": "markdown",
   "id": "literary-border",
   "metadata": {},
   "source": [
    "### 2.e Accuracy\n",
    "We define one error measure as the accuracy reached by the CNN for its classifying predictions. In particular, we call accuracy the ratio between the number of correct classifications and the number of samples. We assume that the most activated output corresponds to the class prediction.\n",
    "\n",
    "During the training, data are loaded batch by batch. It could thus be a good idea to consider that the inputs of the following function are the true and predicted labels from one batch of data.\n",
    "\n",
    "Task: complete the computeCNNAccuracy function."
   ]
  },
  {
   "cell_type": "code",
   "execution_count": null,
   "id": "ambient-miracle",
   "metadata": {},
   "outputs": [],
   "source": [
    "def computeCNNAccuracy(y_predicted,y_true):\n",
    "    \n",
    "    accuracy = 0.0\n",
    "    \n",
    "    # TO COMPLETE\n",
    "    \n",
    "    return accuracy"
   ]
  },
  {
   "cell_type": "markdown",
   "id": "cleared-turtle",
   "metadata": {},
   "source": [
    "### 2.f Preparing the training process\n",
    "In this part, you are asked to initialize the training process (not the model which is initialized automatically). \n",
    "\n",
    "Let's just first define the number of iterations (epochs) that the training will last. Satisfactory results can be obtained with 15 epochs, but you can of course increase this value for a better training."
   ]
  },
  {
   "cell_type": "code",
   "execution_count": null,
   "id": "official-prince",
   "metadata": {},
   "outputs": [],
   "source": [
    "# Number of epochs for the training\n",
    "# Predefined value: num_epochs_cnn = 15\n",
    "\n",
    "num_epochs_cnn = 15"
   ]
  },
  {
   "cell_type": "markdown",
   "id": "medium-scotland",
   "metadata": {},
   "source": [
    "It is important to keep track of the evolution of the error metrics during the training process. A simple idea is to store the values of the metrics in arrays, at least after every epoch.\n",
    "\n",
    "Task: Create arrays that will contain the accuracy for train and test sets, as well as the values of the CNN loss during the training. Compute the errors before training the model and store them in your arrays."
   ]
  },
  {
   "cell_type": "code",
   "execution_count": null,
   "id": "impressed-handbook",
   "metadata": {},
   "outputs": [],
   "source": [
    "# Error metrics at initialisation\n",
    "\n",
    "# TO COMPLETE"
   ]
  },
  {
   "cell_type": "markdown",
   "id": "multiple-diesel",
   "metadata": {},
   "source": [
    "### 2.g Training and testing the CNN\n",
    "This is finally the core part of this section: training your CNN.\n",
    "\n",
    "The training will follow an easy structure. Here is the pseudo-code of the training process:\n",
    "\n",
    "    for each epoch:\n",
    "\n",
    "        for each batch:\n",
    "\n",
    "            train the classifier on the batch:\n",
    "\n",
    "                predict the labels\n",
    "\n",
    "                compute the classifier loss function\n",
    "\n",
    "                backpropagate the error in the cnn\n",
    "                \n",
    "        end\n",
    "\n",
    "    end\n",
    "\n",
    "Task: Code the CNN training from the pseudo-code given above. Don't forget to switch between training and evaluation modes for the model, by using train() and eval() Pytorch functions. You may also use the time package in order to get information about the duration of the training. Finally, at every epoch, compute and store the accuracy and the loss of the model and predict labels for a reference sample (which could be the reference images generated with your GAN after training or from batch of the dataset)."
   ]
  },
  {
   "cell_type": "code",
   "execution_count": null,
   "id": "acute-indianapolis",
   "metadata": {},
   "outputs": [],
   "source": [
    "# Training of the CNN\n",
    "\n",
    "# TO COMPLETE"
   ]
  },
  {
   "cell_type": "markdown",
   "id": "brutal-marriage",
   "metadata": {},
   "source": [
    "### 2.h Plot the results\n",
    "Again, you should plot the evolution of your error metrics (accuracy and loss function) in function of the number of epochs, to see how efficient the training is. Show the evolution of the predicted labels for a reference sample of images (ex: from your GAN reference generated images or from a reference batch from dataset).\n",
    "\n",
    "Task: Make those plots, as clean and readable as possible."
   ]
  },
  {
   "cell_type": "code",
   "execution_count": null,
   "id": "checked-proceeding",
   "metadata": {},
   "outputs": [],
   "source": [
    "# Plots of accuracy and of loss function, images generated from your reference sample.\n",
    "\n",
    "# TO COMPLETE"
   ]
  },
  {
   "cell_type": "markdown",
   "id": "consolidated-intent",
   "metadata": {},
   "source": [
    "## Part 2 coming soon\n",
    "You now have operational GANs and CNNs for handwritten digits (and/or letters). In the second part of the homework, you will combine both networks in order to create what you want and learn more about those neural architectures."
   ]
  }
 ],
 "metadata": {
  "kernelspec": {
   "display_name": "Python 3",
   "language": "python",
   "name": "python3"
  },
  "language_info": {
   "codemirror_mode": {
    "name": "ipython",
    "version": 3
   },
   "file_extension": ".py",
   "mimetype": "text/x-python",
   "name": "python",
   "nbconvert_exporter": "python",
   "pygments_lexer": "ipython3",
   "version": "3.7.3"
  }
 },
 "nbformat": 4,
 "nbformat_minor": 5
}

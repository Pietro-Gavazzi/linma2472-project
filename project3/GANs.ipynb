{
 "cells": [
  {
   "cell_type": "code",
   "execution_count": 1,
   "metadata": {
    "collapsed": true
   },
   "outputs": [],
   "source": [
    "import torch\n",
    "from torch import nn"
   ]
  },
  {
   "cell_type": "markdown",
   "source": [
    "## Linear\n",
    "\n",
    "`nn.Linear(in_features, out_features)`: transforming dim(input_features) -> dim(out_features)."
   ],
   "metadata": {
    "collapsed": false
   }
  },
  {
   "cell_type": "code",
   "execution_count": 2,
   "outputs": [
    {
     "name": "stdout",
     "output_type": "stream",
     "text": [
      "tensor([[-2.2715,  1.0469,  1.1009,  ...,  0.3863, -1.2427,  1.1894],\n",
      "        [-1.0017, -0.2499, -1.7330,  ..., -0.6386,  1.0998,  2.2117],\n",
      "        [-1.2249,  0.5472,  0.2633,  ...,  0.5409, -1.1213,  1.2235],\n",
      "        ...,\n",
      "        [ 0.0595, -0.8820, -0.1542,  ...,  1.4208,  0.0487, -0.0374],\n",
      "        [ 0.8551,  0.3868, -0.2543,  ..., -1.2761,  0.2877,  1.7959],\n",
      "        [-0.0613,  0.0364, -0.3441,  ..., -1.0678, -0.6769, -0.2491]]) torch.Size([32, 100])\n",
      "tensor([[ 0.1357, -1.3102, -0.5126,  ...,  0.4650,  0.1355, -0.1611],\n",
      "        [-0.9807,  1.0665,  0.1441,  ..., -0.2644,  0.3335,  0.9826],\n",
      "        [-0.5451,  0.5540, -0.7484,  ..., -0.0804, -0.2828, -1.0688],\n",
      "        ...,\n",
      "        [-0.0341, -0.2762, -0.4835,  ..., -0.4562, -0.1242,  0.6484],\n",
      "        [-0.4137,  0.3708,  0.1887,  ..., -0.2941,  0.3293,  0.4666],\n",
      "        [-0.2309, -0.0319, -1.0241,  ..., -1.1321, -1.0192,  0.6312]],\n",
      "       grad_fn=<AddmmBackward0>) torch.Size([32, 3136])\n"
     ]
    }
   ],
   "source": [
    "x = torch.randn(32, 100)\n",
    "print(x, x.shape)\n",
    "\n",
    "model = nn.Linear(100, 64*7*7) # nn.Linear: transforming dim(input_features) -> dim(out_features).\n",
    "                               # E.g., from 100 dims -> 3136 dims\n",
    "print(model(x), model(x).shape)"
   ],
   "metadata": {
    "collapsed": false
   }
  },
  {
   "cell_type": "code",
   "execution_count": null,
   "outputs": [],
   "source": [],
   "metadata": {
    "collapsed": false,
    "pycharm": {
     "is_executing": true
    }
   }
  }
 ],
 "metadata": {
  "kernelspec": {
   "display_name": "Python 3",
   "language": "python",
   "name": "python3"
  },
  "language_info": {
   "codemirror_mode": {
    "name": "ipython",
    "version": 2
   },
   "file_extension": ".py",
   "mimetype": "text/x-python",
   "name": "python",
   "nbconvert_exporter": "python",
   "pygments_lexer": "ipython2",
   "version": "2.7.6"
  }
 },
 "nbformat": 4,
 "nbformat_minor": 0
}

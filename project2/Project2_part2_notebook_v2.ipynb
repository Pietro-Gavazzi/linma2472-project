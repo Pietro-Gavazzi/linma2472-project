{
 "cells": [
  {
   "cell_type": "markdown",
   "metadata": {},
   "source": [
    "<h1><center>LINMA2472 : Project 2 - part 2, Random Fourier Features </center></h1>\n",
    "\n",
    "$\\textbf{Author}$: Remi Delogne, remi.delogne@uclouvain.be"
   ]
  },
  {
   "cell_type": "markdown",
   "metadata": {},
   "source": [
    "Import the following packages and functions. Refer to their documentation on the internet for more information on installation and usage.\n"
   ]
  },
  {
   "cell_type": "code",
   "execution_count": 1,
   "metadata": {},
   "outputs": [
    {
     "data": {
      "text/html": [
       "<style>.container { width:80% !important; }</style>"
      ],
      "text/plain": [
       "<IPython.core.display.HTML object>"
      ]
     },
     "metadata": {},
     "output_type": "display_data"
    }
   ],
   "source": [
    "import numpy as np\n",
    "from sklearn import preprocessing\n",
    "from sklearn.model_selection import train_test_split\n",
    "from sklearn import datasets, svm\n",
    "from sklearn.svm import LinearSVC\n",
    "from sklearn import metrics\n",
    "from sklearn.metrics import accuracy_score\n",
    "\n",
    "from keras.datasets import mnist #Contains the dataset\n",
    "from matplotlib import pyplot\n",
    "\n",
    "import time #Used to find the execution time of a part of the code\n",
    "\n",
    "from IPython.display import display, HTML #For visual comfort\n",
    "display(HTML(\"<style>.container { width:80% !important; }</style>\"))"
   ]
  },
  {
   "cell_type": "code",
   "execution_count": 2,
   "metadata": {},
   "outputs": [],
   "source": [
    "# load dataset and rescale the data to [0,15]\n",
    "''' load dataset: (we use the larger subset for testing and the smaller \n",
    "for training to demonstrate the efficiency of evaluating of new instances with RFF)'''\n",
    "(testX,testy),(trainX,trainy) = mnist.load_data()\n",
    "#Rescaling\n",
    "trainX = np.floor(trainX/16)\n",
    "testX = np.floor(testX/16)"
   ]
  },
  {
   "cell_type": "code",
   "execution_count": 3,
   "metadata": {},
   "outputs": [
    {
     "data": {
      "image/png": "[encoded data removed]",
      "text/plain": [
       "<Figure size 640x480 with 9 Axes>"
      ]
     },
     "metadata": {},
     "output_type": "display_data"
    },
    {
     "name": "stdout",
     "output_type": "stream",
     "text": [
      "(10000, 784)\n"
     ]
    }
   ],
   "source": [
    "#Plot some images, for fun\n",
    "for i in range(9):\n",
    "    pyplot.subplot(330+1+i)\n",
    "    pyplot.imshow(trainX[i], cmap=pyplot.get_cmap('gray'))\n",
    "pyplot.show()\n",
    "\n",
    "#Put the data in vector form\n",
    "trainX=trainX.reshape((10000,-1))\n",
    "testX=testX.reshape((60000,-1))\n",
    "print(trainX.shape)"
   ]
  },
  {
   "cell_type": "markdown",
   "metadata": {},
   "source": [
    "### Use the *time* package functions to time the executions of parts of your code:"
   ]
  },
  {
   "cell_type": "code",
   "execution_count": 4,
   "metadata": {},
   "outputs": [
    {
     "name": "stdout",
     "output_type": "stream",
     "text": [
      "Total time: 1.0800 seconds\n"
     ]
    }
   ],
   "source": [
    "#Example of timing a piece of code\n",
    "tik=time.perf_counter() # Start\n",
    "for i in range (10000000):\n",
    "    i=i+1\n",
    "tok=time.perf_counter() # Finish\n",
    "print(f'Total time: {tok-tik:.4f} seconds')#prints the result to 3 decimal places"
   ]
  },
  {
   "cell_type": "markdown",
   "metadata": {},
   "source": [
    "### Train a linear SVM on the training data and evaluate it on the testing data\n",
    "Use the tik-tok method to see how long the classifier takes to evaluate the 60.000 testing instances.\n",
    "\n",
    "Use the accuracy metric to judge the quality of your classifier."
   ]
  },
  {
   "cell_type": "code",
   "execution_count": null,
   "metadata": {},
   "outputs": [
    {
     "name": "stdout",
     "output_type": "stream",
     "text": [
      "Training finished in 11.642 seconds,\n",
      "Testing Finished in 94.569 seconds with accuracy of 0.907.\n"
     ]
    }
   ],
   "source": [
    "#Define the classifier\n",
    "clfLin=svm.SVC(kernel=\"linear\")\n",
    "\n",
    "#Train the classifier\n",
    "tik = time.perf_counter() # Start measuring training time\n",
    "clfLin.fit(trainX,trainy)\n",
    "tok = time.perf_counter() # Stop measuring training time\n",
    "linear_training_time = tok - tik\n",
    "\n",
    "#Evaluate its accuracy\n",
    "tik = time.perf_counter()\n",
    "predicted=clfLin.predict(testX)\n",
    "score_linear=accuracy_score(testy,predicted)\n",
    "tok = time.perf_counter()\n",
    "linear_testing_time = tok - tik\n",
    "\n",
    "print(f\"Training finished in {linear_training_time:.3f} seconds,\")\n",
    "print(f\"Testing Finished in {linear_testing_time:.3f} seconds with accuracy of {score_linear:.3f}.\")"
   ]
  },
  {
   "cell_type": "code",
   "execution_count": null,
   "metadata": {},
   "outputs": [],
   "source": [
    "# Training finished in 14.570 seconds,\n",
    "# Testing Finished in 150.221 seconds with accuracy of 0.907."
   ]
  },
  {
   "cell_type": "markdown",
   "metadata": {},
   "source": [
    "### Train a Kernel SVM with the Gaussian Kernel on the training data and evaluate it on the testing data\n",
    "Use the tik-tok method to see how long the classifier takes to evaluate the $60000$ testing instances.\n",
    "\n",
    "Use the accuracy metric to judge the quality of your classifier.\n",
    "\n",
    "You may stick to the default parameters of sci-kit learn."
   ]
  },
  {
   "cell_type": "code",
   "execution_count": null,
   "metadata": {},
   "outputs": [
    {
     "name": "stdout",
     "output_type": "stream",
     "text": [
      "Training finished in 21.783 seconds,\n",
      "Testing Finished in 215.649 seconds with accuracy of 0.956.\n"
     ]
    }
   ],
   "source": [
    "#Define the classifier\n",
    "clfKernel=svm.SVC(kernel='rbf')\n",
    "#Train it\n",
    "tik = time.perf_counter()\n",
    "clfKernel.fit(trainX, trainy)\n",
    "tok = time.perf_counter()\n",
    "rbf_training_time = tok - tik\n",
    "\n",
    "#Use it\n",
    "tik = time.perf_counter()\n",
    "predicted=clfKernel.predict(testX)\n",
    "score_rbf=accuracy_score(testy,predicted)\n",
    "tok = time.perf_counter()\n",
    "rbf_testing_time = tok - tik\n",
    "\n",
    "print(f\"Training finished in {rbf_training_time:.3f} seconds,\")\n",
    "print(f\"Testing Finished in {rbf_testing_time:.3f} seconds with accuracy of {score_rbf:.3f}.\")"
   ]
  },
  {
   "cell_type": "code",
   "execution_count": null,
   "metadata": {},
   "outputs": [],
   "source": [
    "# Training finished in 33.737 seconds,\n",
    "# Testing Finished in 331.451 seconds with accuracy of 0.956."
   ]
  },
  {
   "cell_type": "markdown",
   "metadata": {},
   "source": [
    "### *TO DO*: Use the following functions to implement Random Fourier Features\n",
    "\n",
    "You are here going to try to approximate the Gaussian kernel used in the second classfier.\n",
    "\n",
    "Use the first function to generate your $\\boldsymbol\\omega_i$ (using an appropriate distribution) and your $b_i$ (using appropriate distributions), this should return $D$ vectors $\\boldsymbol\\omega_i\\in\\mathbb R^d$ (in the form of a matrix for example) and $D$ values $b_i\\in[0,2\\pi]$. \n",
    "\n",
    "Use the second function to create the mapping $\\boldsymbol z(\\boldsymbol x)$ as described in the slides."
   ]
  },
  {
   "cell_type": "code",
   "execution_count": 5,
   "metadata": {},
   "outputs": [],
   "source": [
    "\n",
    "def generate_freq(D, d, std):\n",
    "  W = np.random.normal(0,std,(D, d, 1))\n",
    "  b = np.random.uniform(0, 2*np.pi, (D, 1)) \n",
    "  return W,b\n",
    "\n",
    "\n",
    "\n",
    "def transform(data, W, b):\n",
    "  D = len(b)\n",
    "  return np.sqrt(2/D) * np.asarray([np.cos(  W[i].T@data.T + b[i]*np.ones(len(data)))[0] for i in range(D)]).T\n",
    "\n"
   ]
  },
  {
   "cell_type": "markdown",
   "metadata": {},
   "source": [
    "### *TO DO*: Transform your trainX and testX\n",
    "\n",
    "Use the function you defined to transform your data.\n",
    "\n",
    "Make sure you only generate $\\boldsymbol W$ and $\\boldsymbol b$ once.\n",
    "\n",
    "Use a standard deviation of $\\frac{1}{100}$ et $D=300$ random features to start with. Watch out, in the original version of the homework it was specified that the variance was $\\frac{1}{100}$ but it must be the standard deviation instead.\n",
    "\n",
    "You may also use the tik-tok method to time the procedure of creating Random features."
   ]
  },
  {
   "cell_type": "code",
   "execution_count": 6,
   "metadata": {},
   "outputs": [
    {
     "name": "stdout",
     "output_type": "stream",
     "text": [
      "RFF transformation time : 10.167 seconds.\n"
     ]
    }
   ],
   "source": [
    "D=300 #Number of sample vectors w_i\n",
    "sigma=0.01 #std of distributon\n",
    "d=28*28 #Original number of dimensions\n",
    "\n",
    "tik = time.perf_counter()\n",
    "W,b=generate_freq(D,d, sigma)\n",
    "trainX_rff=transform(trainX, W, b)\n",
    "testX_rff=transform(testX, W, b)\n",
    "tok = time.perf_counter()\n",
    "rff_time = tok - tik\n",
    "print(f\"RFF transformation time : {rff_time:.3f} seconds.\")"
   ]
  },
  {
   "cell_type": "code",
   "execution_count": 40,
   "metadata": {},
   "outputs": [
    {
     "name": "stdout",
     "output_type": "stream",
     "text": [
      "Dimension of trainX after transformation : (10000, 1).\n",
      "Dimension of testX after transformation : (60000, 1).\n"
     ]
    }
   ],
   "source": [
    "#Sanity check, do the dimensions of your transformations match your expectation?\n",
    "#Bear in mind that there are more instances in the test set than in the trianing set here\n",
    "print(f\"Dimension of trainX after transformation : {trainX_rff.shape}.\")\n",
    "print(f\"Dimension of testX after transformation : {testX_rff.shape}.\")\n"
   ]
  },
  {
   "cell_type": "markdown",
   "metadata": {},
   "source": [
    "### Use another linear SVM to classify the transformed data\n",
    "Now that the instances have been transformed, theory tells us that they are much more ameneable to linear classification than before."
   ]
  },
  {
   "cell_type": "code",
   "execution_count": 45,
   "metadata": {},
   "outputs": [
    {
     "name": "stdout",
     "output_type": "stream",
     "text": [
      "Training Finished in 7.225 seconds\n",
      "Testing Finished in 62.871 seconds with accuracy of 0.916\n"
     ]
    }
   ],
   "source": [
    "C=1\n",
    "#Define the classifier\n",
    "clfRff = svm.SVC(kernel=\"linear\",C=C)\n",
    "\n",
    "#Train it\n",
    "tik = time.perf_counter()\n",
    "clfRff.fit(trainX_rff, trainy)\n",
    "tok = time.perf_counter() \n",
    "training_time_rff = tok - tik\n",
    "print(f\"Training Finished in {training_time_rff:.3f} seconds\")\n",
    "\n",
    "#Use it\n",
    "tik = time.perf_counter()\n",
    "predicted = clfRff.predict(testX_rff)\n",
    "score_rff = accuracy_score(testy,predicted)\n",
    "tok = time.perf_counter()\n",
    "testing_time_rff = tok - tik\n",
    "print(f\"Testing Finished in {testing_time_rff:.3f} seconds with accuracy of {score_rff:.3f}\")"
   ]
  },
  {
   "cell_type": "code",
   "execution_count": null,
   "metadata": {},
   "outputs": [],
   "source": [
    "# Training Finished in 7.225 seconds\n",
    "# Testing Finished in 62.871 seconds with accuracy of 0.916"
   ]
  },
  {
   "cell_type": "markdown",
   "metadata": {},
   "source": [
    "### Additional workspace "
   ]
  },
  {
   "cell_type": "markdown",
   "metadata": {},
   "source": [
    "Investigate the relationship between $D$ and the accuracy of the classifier."
   ]
  },
  {
   "cell_type": "code",
   "execution_count": 10,
   "metadata": {},
   "outputs": [
    {
     "name": "stdout",
     "output_type": "stream",
     "text": [
      "D is  5\n",
      "creating RFF : 0.219 seconds\n",
      "traing time : 4.739 seconds\n",
      "22.252 seconds\n",
      "D is  10\n",
      "creating RFF : 0.275 seconds\n",
      "traing time : 4.663 seconds\n",
      "23.247 seconds\n",
      "D is  20\n",
      "creating RFF : 0.563 seconds\n",
      "traing time : 2.957 seconds\n",
      "24.378 seconds\n",
      "D is  50\n",
      "creating RFF : 1.387 seconds\n",
      "traing time : 3.471 seconds\n",
      "23.606 seconds\n",
      "D is  100\n",
      "creating RFF : 2.886 seconds\n",
      "traing time : 3.197 seconds\n",
      "26.041 seconds\n",
      "D is  200\n",
      "creating RFF : 5.711 seconds\n",
      "traing time : 4.845 seconds\n",
      "39.660 seconds\n",
      "D is  500\n",
      "creating RFF : 13.641 seconds\n",
      "traing time : 10.653 seconds\n",
      "79.307 seconds\n",
      "D is  1000\n",
      "creating RFF : 27.305 seconds\n",
      "traing time : 15.664 seconds\n"
     ]
    }
   ],
   "source": [
    "#Define a vector to store the accuracy values you will get\n",
    "accuracy=np.zeros(8)\n",
    "time_array = np.zeros((8, 3))\n",
    "#Define for which values of D you want to test the RFF\n",
    "#maybe time some operations in the loop as well to see the RFF classifier becomes too slow as D grows\n",
    "for i in (range(8)):\n",
    "    D=[5, 10, 20, 50, 100, 200, 500, 1000][i]\n",
    "    print(\"D is \", D)\n",
    "\n",
    "    tik = time.perf_counter()\n",
    "    W,b=generate_freq(D,d, sigma)\n",
    "    trainX_rff=transform(trainX, W, b)\n",
    "    testX_rff=transform(testX, W, b)\n",
    "    tok = time.perf_counter() \n",
    "    training_time_rff = tok - tik\n",
    "    print(f\"creating RFF : {training_time_rff:.3f} seconds\")\n",
    "    time_array[i][0] = training_time_rff\n",
    "\n",
    "\n",
    "\n",
    "    tik = time.perf_counter()\n",
    "    clfRff = svm.SVC(kernel=\"linear\")\n",
    "    clfRff.fit(trainX_rff, trainy)\n",
    "    tok = time.perf_counter() \n",
    "    training_time_rff = tok - tik\n",
    "    print(f\"traing time : {training_time_rff:.3f} seconds\")\n",
    "    time_array[i][1] = training_time_rff\n",
    "\n",
    "\n",
    "    tik = time.perf_counter()\n",
    "    predicted = clfRff.predict(testX_rff)\n",
    "    tok = time.perf_counter() \n",
    "    training_time_rff = tok - tik\n",
    "    print(f\"{training_time_rff:.3f} seconds\")\n",
    "    time_array[i][2] = training_time_rff\n",
    "\n",
    "    score_rff = accuracy_score(testy,predicted)\n",
    "    accuracy[i] = score_rff\n",
    "\n",
    "print(accuracy)\n",
    "print(time_array)\n",
    "\n",
    "\n",
    "# tik = time.perf_counter()\n",
    "# tok = time.perf_counter() \n",
    "# training_time_rff = tok - tik\n",
    "# print(f\"{training_time_rff:.3f} seconds\")"
   ]
  },
  {
   "cell_type": "code",
   "execution_count": 1,
   "metadata": {},
   "outputs": [],
   "source": [
    "import matplotlib.pyplot as plt\n",
    "import numpy as np\n",
    "# the accuracy of the linear SVM with RFF,\n",
    "\n",
    "accuracy = [0.27373333, 0.38498333, 0.53865,  0.74556667, 0.84,  0.89896667, 0.93016667, 0.94343333]\n",
    "timeMatrix = [\n",
    " [1.58435900e-01, 7.33797500e+00, 3.29611966e+01],\n",
    " [3.00891000e-01, 6.44995850e+00, 3.10691643e+01],\n",
    " [5.89777000e-01, 4.23899820e+00, 2.63975392e+01],\n",
    " [1.30077630e+00, 3.93779990e+00, 2.49074315e+01],\n",
    " [3.12639840e+00, 3.10104970e+00, 2.97078774e+01],\n",
    " [6.15553160e+00, 5.61012820e+00, 4.70750080e+01],\n",
    " [1.69245852e+01, 1.37226283e+01, 8.81485033e+01],\n",
    " [2.93837232e+01, 2.11920477e+01, 1.61495947e+02]]\n",
    "\n",
    "\n",
    "x = [5, 10, 20, 50, 100, 200, 500, 1000]"
   ]
  },
  {
   "cell_type": "markdown",
   "metadata": {},
   "source": [
    "### Don't forget to add plots and other nice things"
   ]
  },
  {
   "cell_type": "code",
   "execution_count": 3,
   "metadata": {},
   "outputs": [
    {
     "data": {
      "image/png": "[encoded data removed]",
      "text/plain": [
       "<Figure size 1000x400 with 1 Axes>"
      ]
     },
     "metadata": {},
     "output_type": "display_data"
    }
   ],
   "source": [
    "\n",
    "\n",
    "# the accuracy of the linear SVM with RFF,\n",
    "\n",
    "plt.rcParams[\"figure.figsize\"] = (10,4)\n",
    "plt.plot( x, accuracy, '-*', label=\"Gaussian RFF SVM accuracy\")\n",
    "plt.plot(x, np.ones(8)*0.956, color = \"red\", label=\"Gaussian SVM accuracy\")\n",
    "plt.plot(x, np.ones(8)*0.907, color = \"green\", label=\"Linear SVM accuracy\")\n",
    "\n",
    "plt.xscale('log')\n",
    "plt.ylim((0,1))\n",
    "plt.title(\"Accuracy of Gaussian RFF varying the number of samples\")\n",
    "plt.ylabel(\"Accuracy\")\n",
    "plt.xlabel(\"Number of samples\")\n",
    "plt.legend()\n",
    "plt.show()\n",
    "\n",
    "\n",
    "\n"
   ]
  },
  {
   "cell_type": "code",
   "execution_count": null,
   "metadata": {},
   "outputs": [],
   "source": [
    "# •the time taken to create the RFF,\n"
   ]
  },
  {
   "cell_type": "code",
   "execution_count": null,
   "metadata": {},
   "outputs": [],
   "source": [
    "# •the time taken to train the SVM with RFF,\n"
   ]
  },
  {
   "cell_type": "code",
   "execution_count": null,
   "metadata": {},
   "outputs": [],
   "source": [
    "# •the time taken by the classifier to classify the testing instances"
   ]
  },
  {
   "cell_type": "code",
   "execution_count": null,
   "metadata": {},
   "outputs": [],
   "source": []
  },
  {
   "cell_type": "code",
   "execution_count": null,
   "metadata": {},
   "outputs": [],
   "source": []
  },
  {
   "cell_type": "code",
   "execution_count": null,
   "metadata": {},
   "outputs": [],
   "source": []
  },
  {
   "cell_type": "code",
   "execution_count": null,
   "metadata": {},
   "outputs": [],
   "source": []
  },
  {
   "cell_type": "code",
   "execution_count": null,
   "metadata": {},
   "outputs": [],
   "source": []
  },
  {
   "cell_type": "code",
   "execution_count": null,
   "metadata": {},
   "outputs": [],
   "source": []
  },
  {
   "cell_type": "code",
   "execution_count": null,
   "metadata": {},
   "outputs": [],
   "source": []
  },
  {
   "cell_type": "code",
   "execution_count": null,
   "metadata": {},
   "outputs": [],
   "source": []
  },
  {
   "cell_type": "markdown",
   "metadata": {},
   "source": [
    "### Good luck =D"
   ]
  },
  {
   "cell_type": "code",
   "execution_count": null,
   "metadata": {},
   "outputs": [],
   "source": []
  }
 ],
 "metadata": {
  "kernelspec": {
   "display_name": "Python 3.10.2 64-bit",
   "language": "python",
   "name": "python3"
  },
  "language_info": {
   "codemirror_mode": {
    "name": "ipython",
    "version": 3
   },
   "file_extension": ".py",
   "mimetype": "text/x-python",
   "name": "python",
   "nbconvert_exporter": "python",
   "pygments_lexer": "ipython3",
   "version": "3.10.2"
  },
  "vscode": {
   "interpreter": {
    "hash": "369f2c481f4da34e4445cda3fffd2e751bd1c4d706f27375911949ba6bb62e1c"
   }
  }
 },
 "nbformat": 4,
 "nbformat_minor": 4
}

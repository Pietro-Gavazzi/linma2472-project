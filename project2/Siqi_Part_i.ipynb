{
 "cells": [
  {
   "cell_type": "code",
   "execution_count": 1,
   "id": "c9e3a924",
   "metadata": {},
   "outputs": [],
   "source": [
    "# note Grakel does not seem to support Python >=3.10, Python 3.9 works fine\n",
    "# you are free to remove imports that are not useful for you\n",
    "from grakel.datasets import fetch_dataset\n",
    "from grakel.kernels import WeisfeilerLehman, VertexHistogram\n",
    "from sklearn.model_selection import train_test_split,cross_val_score\n",
    "from sklearn.svm import SVC\n",
    "from sklearn.metrics import accuracy_score\n",
    "from sklearn.decomposition import KernelPCA # to check your own implementation\n",
    "from sklearn.manifold import TSNE\n",
    "import numpy as np\n",
    "from numpy.linalg import matrix_rank\n",
    "import scipy\n",
    "import matplotlib.pyplot as plt\n",
    "import math\n",
    "\n",
    "import sympy as sp\n",
    "import pandas as pd\n",
    "import seaborn as sns\n",
    "import warnings\n",
    "import cmath"
   ]
  },
  {
   "cell_type": "code",
   "execution_count": 2,
   "id": "195a11e7",
   "metadata": {},
   "outputs": [],
   "source": [
    "# Some datasets, more datasets here https://ls11-www.cs.tu-dortmund.de/staff/morris/graphkerneldatasets\n",
    "\n",
    "\"\"\"\n",
    "    The MUTAG dataset consists of 188 chemical compounds divided into two \n",
    "    classes according to their mutagenic effect on a bacterium. \n",
    "\n",
    "    The chemical data was obtained form http://cdb.ics.uci.edu and converted \n",
    "    to graphs, where vertices represent atoms and edges represent chemical \n",
    "    bonds. Explicit hydrogen atoms have been removed and vertices are labeled\n",
    "    by atom type and edges by bond type (single, double, triple or aromatic).\n",
    "    Chemical data was processed using the Chemistry Development Kit (v1.4).\n",
    "\"\"\"\n",
    "\n",
    "\"\"\"\n",
    "    ENZYMES is a dataset of protein tertiary structures obtained from (Borgwardt et al., 2005) \n",
    "    consisting of 600 enzymes from the BRENDA enzyme database (Schomburg et al., 2004). \n",
    "    In this case the task is to correctly assign each enzyme to one of the 6 EC top-level \n",
    "    classes. \n",
    "\"\"\"\n",
    "\n",
    "\"\"\"\n",
    "    NCI1 and NCI109 represent two balanced subsets of datasets of chemical compounds screened \n",
    "    for activity against non-small cell lung cancer and ovarian cancer cell lines respectively\n",
    "    (Wale and Karypis (2006) and http://pubchem.ncbi.nlm.nih.gov).\n",
    "\"\"\"\n",
    "\n",
    "dataset_mutag = fetch_dataset(\"MUTAG\", verbose=False) # just replace by the name of the datasets you want \"ENZYMES\", \"NCI1\"\n",
    "dataset_enzymes = fetch_dataset(\"ENZYMES\", verbose=False) \n",
    "dataset_nci1 = fetch_dataset(\"NCI1\", verbose=False) \n",
    "\n",
    "G_mutag, y_mutag = dataset_mutag.data, dataset_mutag.target\n",
    "G_enzymes, y_enzymes = dataset_enzymes.data, dataset_enzymes.target\n",
    "G_nci1, y_nci1 = dataset_nci1.data, dataset_nci1.target\n"
   ]
  },
  {
   "cell_type": "code",
   "execution_count": 3,
   "id": "3f3ae231",
   "metadata": {},
   "outputs": [],
   "source": [
    "# Splits the dataset into a training and a test set\n",
    "# G_train, G_test, y_train, y_test = train_test_split(G, y, test_size=0.2, random_state=42)"
   ]
  },
  {
   "cell_type": "code",
   "execution_count": 4,
   "id": "bd2b7a26",
   "metadata": {},
   "outputs": [
    {
     "name": "stdout",
     "output_type": "stream",
     "text": [
      "================ The kernel matrix for MUTAG dataset is: ================\n",
      "Shape: (188, 188)\n",
      "[[1.         0.57509215 0.56413802 ... 0.55589197 0.71673825 0.64498003]\n",
      " [0.57509215 1.         0.5513308  ... 0.51454723 0.54701457 0.56085824]\n",
      " [0.56413802 0.5513308  1.         ... 0.52679836 0.53859896 0.57635157]\n",
      " ...\n",
      " [0.55589197 0.51454723 0.52679836 ... 1.         0.52197292 0.59571429]\n",
      " [0.71673825 0.54701457 0.53859896 ... 0.52197292 1.         0.61896063]\n",
      " [0.64498003 0.56085824 0.57635157 ... 0.59571429 0.61896063 1.        ]]\n",
      "=============== The kernel matrix for ENZYMES dataset is: ===============\n",
      "Shape: (600, 600)\n",
      "[[1.         0.58845372 0.58161065 ... 0.5508986  0.63145753 0.59481709]\n",
      " [0.58845372 1.         0.53959038 ... 0.50167845 0.58340193 0.55308598]\n",
      " [0.58161065 0.53959038 1.         ... 0.42261408 0.54549444 0.51226803]\n",
      " ...\n",
      " [0.5508986  0.50167845 0.42261408 ... 1.         0.6492513  0.63026702]\n",
      " [0.63145753 0.58340193 0.54549444 ... 0.6492513  1.         0.75188966]\n",
      " [0.59481709 0.55308598 0.51226803 ... 0.63026702 0.75188966 1.        ]]\n",
      "================ The kernel matrix for NCI1 dataset is: =================\n",
      "Shape: (4110, 4110)\n",
      "[[1.         0.4610952  0.50394134 ... 0.47938765 0.49063447 0.47968865]\n",
      " [0.4610952  1.         0.3514993  ... 0.64153243 0.66878464 0.59489101]\n",
      " [0.50394134 0.3514993  1.         ... 0.35890137 0.37469464 0.35659979]\n",
      " ...\n",
      " [0.47938765 0.64153243 0.35890137 ... 1.         0.74854503 0.67689217]\n",
      " [0.49063447 0.66878464 0.37469464 ... 0.74854503 1.         0.66600608]\n",
      " [0.47968865 0.59489101 0.35659979 ... 0.67689217 0.66600608 1.        ]]\n"
     ]
    }
   ],
   "source": [
    "# 4.1.2 Compute the kernels\n",
    "gk_1 = WeisfeilerLehman(n_iter=10, base_graph_kernel=VertexHistogram, normalize=True)\n",
    "K_mutag = gk_1.fit_transform(G_mutag)\n",
    "\n",
    "gk_2 = WeisfeilerLehman(n_iter=10, base_graph_kernel=VertexHistogram, normalize=True)\n",
    "K_enzymes = gk_1.fit_transform(G_enzymes)\n",
    "\n",
    "gk_3 = WeisfeilerLehman(n_iter=10, base_graph_kernel=VertexHistogram, normalize=True)\n",
    "K_nci1 = gk_1.fit_transform(G_nci1)\n",
    "\n",
    "print(\"================ The kernel matrix for MUTAG dataset is: ================\")\n",
    "print(\"Shape:\", K_mutag.shape)\n",
    "print(K_mutag)\n",
    "print(\"=============== The kernel matrix for ENZYMES dataset is: ===============\")\n",
    "print(\"Shape:\", K_enzymes.shape)\n",
    "print(K_enzymes)\n",
    "print(\"================ The kernel matrix for NCI1 dataset is: =================\")\n",
    "print(\"Shape:\", K_nci1.shape)\n",
    "print(K_nci1)"
   ]
  },
  {
   "cell_type": "code",
   "execution_count": 5,
   "id": "55a454e9",
   "metadata": {},
   "outputs": [
    {
     "name": "stdout",
     "output_type": "stream",
     "text": [
      "rank(K_mutag) = 175\n",
      "rank(K_enzymes) = 595\n",
      "rank(K_nci1) = 4002\n"
     ]
    }
   ],
   "source": [
    "# 4.1.4 Explicit embedding versus kernel\n",
    "rank_mutag = matrix_rank(K_mutag)\n",
    "rank_enzymes = matrix_rank(K_enzymes)\n",
    "rank_nci1 = matrix_rank(K_nci1)\n",
    "\n",
    "print(\"rank(\" + \"K_mutag\" + \") =\", rank_mutag)\n",
    "print(\"rank(\" + \"K_enzymes\" + \") =\", rank_enzymes)\n",
    "print(\"rank(\" + \"K_nci1\" + \") =\", rank_nci1)"
   ]
  },
  {
   "cell_type": "code",
   "execution_count": 6,
   "id": "223fe039",
   "metadata": {},
   "outputs": [],
   "source": [
    "# 4.2.2 kernel-PCA implementation \n",
    "\n",
    "def decompose(K):\n",
    "    K_matrix = K\n",
    "#     eigval, eigvec = eigen_val_vec(K_matrix)\n",
    "    eigval, eigvec = np.linalg.eig(K_matrix)\n",
    "#     if not is_pos_semidef(eigval):\n",
    "#         warnings.warn(\"The kernel matrix is not positive semi definitive!\")\n",
    "    # Normalize eigenvectors and compute singular values of K\n",
    "    tuple_eig = [(np.sqrt(eigval[i]), eigvec[:,i] / cmath.sqrt(eigval[i])) for i in range(len(eigval))]\n",
    "    tuple_eig.sort(key=lambda x: x[0], reverse=True)\n",
    "    return tuple_eig\n",
    "\n",
    "def is_pos_semidef(x):\n",
    "    return np.all(x >= 0)  # if all the eigen values >= 0, then it's positive semi definitive\n",
    "\n",
    "# def eigen_val_vec(matrix):\n",
    "#     results = sp.Matrix(matrix).eigenvects()\n",
    "#     eigval, eigvec = [], []\n",
    "\n",
    "#     for result in results:\n",
    "#         for _ in range(result[1]):\n",
    "#             eigval.append(result[0])\n",
    "#             eigvec.append(result[2][_].values())\n",
    "\n",
    "#     eigval, eigvec = np.array(eigval, dtype='float64'), np.array(eigvec, dtype='float64').T\n",
    "\n",
    "#     return eigval, eigvec\n",
    "\n",
    "def projection(tuple_eig, n_components):\n",
    "    tuples_eig_dim = tuple_eig[:n_components]\n",
    "    sigma = np.diag([i[0] for i in tuples_eig_dim])\n",
    "    v = np.array([list(j[1]) for j in tuples_eig_dim]).T\n",
    "    sigma = np.real_if_close(sigma, tol=1)\n",
    "    v = np.real_if_close(v, tol=1)\n",
    "    scores = sigma @ v.T\n",
    "\n",
    "    return scores"
   ]
  },
  {
   "cell_type": "code",
   "execution_count": 7,
   "id": "8ad73370",
   "metadata": {
    "scrolled": true
   },
   "outputs": [],
   "source": [
    "def get_scores_kpca(K):    \n",
    "    K_matrix = K\n",
    "    one_mat = np.ones(K_matrix.shape) / K_matrix.shape[1]\n",
    "    K_tilde = K_matrix - one_mat @ K_matrix - K_matrix @ one_mat + one_mat @ K_matrix @ one_mat\n",
    "    tuple_eig = decompose(K_tilde)\n",
    "    scores = projection(tuple_eig, 2)\n",
    "    \n",
    "    return scores"
   ]
  },
  {
   "cell_type": "code",
   "execution_count": null,
   "id": "a104818e",
   "metadata": {
    "scrolled": true
   },
   "outputs": [
    {
     "name": "stderr",
     "output_type": "stream",
     "text": [
      "/Users/maurice/opt/anaconda3/lib/python3.7/site-packages/ipykernel_launcher.py:10: RuntimeWarning: divide by zero encountered in true_divide\n",
      "  # Remove the CWD from sys.path while we load stuff.\n",
      "/Users/maurice/opt/anaconda3/lib/python3.7/site-packages/ipykernel_launcher.py:10: RuntimeWarning: invalid value encountered in true_divide\n",
      "  # Remove the CWD from sys.path while we load stuff.\n",
      "/Users/maurice/opt/anaconda3/lib/python3.7/site-packages/ipykernel_launcher.py:10: RuntimeWarning: invalid value encountered in sqrt\n",
      "  # Remove the CWD from sys.path while we load stuff.\n"
     ]
    }
   ],
   "source": [
    "scores_mutag = get_scores_kpca(K_mutag)\n",
    "scores_enzymes = get_scores_kpca(K_enzymes)\n",
    "scores_nci1 = get_scores_kpca(K_nci1)"
   ]
  },
  {
   "cell_type": "code",
   "execution_count": null,
   "id": "6d99604c",
   "metadata": {},
   "outputs": [],
   "source": [
    "# 4.2.3 kernel-PCA visualization\n",
    "def plot_2d(x_1, x_2, classes, plot_title, x_label, y_label, file_name, extension):\n",
    "    plot_data = pd.DataFrame([x_1, x_2, classes]).T\n",
    "    plot_data.columns = ['x_1', 'x_2', 'class']\n",
    "    \n",
    "    sns.set_context('notebook', font_scale=1.1)\n",
    "    sns.set_style('ticks')\n",
    "#     fig = plt.figure(figsize =(16, 10), dpi=200)\n",
    "    sns.lmplot(x='x_1',\n",
    "              y='x_2',\n",
    "              data=plot_data,\n",
    "              fit_reg=False,\n",
    "              legend=True,\n",
    "              height=9,\n",
    "              hue='class',\n",
    "              scatter_kws={\"s\":200, \"alpha\":0.3})\n",
    "    \n",
    "#     plt.legend(['y$=$-1', 'y$=$1'] ,title=\"Class\")\n",
    "    plt.title(plot_title, weight='bold').set_fontsize(14)\n",
    "    plt.xlabel(x_label, weight='bold').set_fontsize(10)\n",
    "    plt.ylabel(y_label, weight='bold').set_fontsize(10)\n",
    "    plt.savefig(file_name, format=extension, bbox_inches='tight')\n",
    "    plt.show()"
   ]
  },
  {
   "cell_type": "code",
   "execution_count": null,
   "id": "c630e3fa",
   "metadata": {
    "scrolled": false
   },
   "outputs": [],
   "source": [
    "# 4.2.3 kernel-PCA visualization\n",
    "# colors = ['g' if i == 1 else 'b' for i in y]\n",
    "\n",
    "def plot_2d_dataset(scores, y, dataset, file_name, extension):\n",
    "    plot_2d(scores[0, :], scores[1, :], y, \n",
    "            'Kernel-PCA Results: ' + dataset,\n",
    "            'kernel principal component 0', \n",
    "            'kernel principal component 1', \n",
    "            file_name,\n",
    "            extension)\n",
    "    \n",
    "plot_2d_dataset(scores_mutag, y_mutag, 'MUTAG', 'Kernel-PCA_MUTAG.svg', 'svg')\n",
    "plot_2d_dataset(scores_enzymes, y_enzymes, 'ENZYMES', 'Kernel-PCA_ENZYMES.svg', 'svg')\n",
    "plot_2d_dataset(scores_nci1, y_nci1, 'NCI1', 'Kernel-PCA_NCI1.svg', 'svg')"
   ]
  },
  {
   "cell_type": "code",
   "execution_count": null,
   "id": "4cb385b6",
   "metadata": {},
   "outputs": [],
   "source": [
    "# 4.2.4 Distance\n",
    "def distance(K):\n",
    "    pair_dist_lists = []\n",
    "    for i in range(K.shape[0]):\n",
    "        pair_dist_list = []\n",
    "        for j in range(K.shape[0]):\n",
    "            pair_dist_list.append(np.sqrt(K[i, i] + K[j, j] - 2*K[i, j]))\n",
    "        pair_dist_lists.append(pair_dist_list)\n",
    "    d_pairwise = np.array(pair_dist_lists)\n",
    "#     display(d_pairwise)\n",
    "    return d_pairwise\n",
    "\n",
    "d_pairwise_mutag = distance(K_mutag)\n",
    "d_pairwise_enzymes = distance(K_enzymes)\n",
    "d_pairwise_nci1 = distance(K_nci1)\n",
    "\n",
    "print(\"================ The pairwise distance for MUTAG dataset is: ================\")\n",
    "print(d_pairwise_mutag)\n",
    "print(\"================ The pairwise distance for ENZYMES dataset is: ================\")\n",
    "print(d_pairwise_enzymes)\n",
    "print(\"================ The pairwise distance for NCI1 dataset is: ================\")\n",
    "print(d_pairwise_nci1)"
   ]
  },
  {
   "cell_type": "code",
   "execution_count": null,
   "id": "25ec57e3",
   "metadata": {},
   "outputs": [],
   "source": [
    "# 4.2.5 tSNE\n",
    "d_pairwise_embedded_mutag = TSNE(n_components=2, learning_rate='auto', init='random', perplexity=5).fit_transform(d_pairwise_mutag)\n",
    "# d_pairwise_embedded_mutag.shape\n",
    "\n",
    "d_pairwise_embedded_enzymes = TSNE(n_components=2, learning_rate='auto', init='random', perplexity=5).fit_transform(d_pairwise_enzymes)\n",
    "# d_pairwise_embedded_enzymes.shape\n",
    "\n",
    "d_pairwise_embedded_nci1 = TSNE(n_components=2, learning_rate='auto', init='random', perplexity=5).fit_transform(d_pairwise_nci1)\n",
    "# d_pairwise_embedded_nci1.shape\n"
   ]
  },
  {
   "cell_type": "code",
   "execution_count": null,
   "id": "8211830b",
   "metadata": {
    "scrolled": false
   },
   "outputs": [],
   "source": [
    "# tSNE visualization\n",
    "def plot_2d_tsne(d_pairwise_embedded, y, dataset, file_name, extension):\n",
    "    plot_2d(d_pairwise_embedded[:, 0], d_pairwise_embedded[:, 1], y, \n",
    "            'tSNE Results: MUTAG',\n",
    "            'Dimension 0', \n",
    "            'Dimension 1', \n",
    "            file_name, \n",
    "            extension)\n",
    "    \n",
    "plot_2d_tsne(d_pairwise_embedded_mutag, y_mutag, 'MUTAG', 'TSNE_MUTAG.svg', 'svg')\n",
    "plot_2d_tsne(d_pairwise_embedded_enzymes, y_enzymes, 'ENZYMES', 'TSNE_ENZYMES.svg', 'svg')\n",
    "plot_2d_tsne(d_pairwise_embedded_nci1, y_nci1, 'NCI1', 'TSNE_NCI1.svg', 'svg')"
   ]
  },
  {
   "cell_type": "code",
   "execution_count": null,
   "id": "a3cfa961",
   "metadata": {},
   "outputs": [],
   "source": []
  }
 ],
 "metadata": {
  "kernelspec": {
   "display_name": "Python 3",
   "language": "python",
   "name": "python3"
  },
  "language_info": {
   "codemirror_mode": {
    "name": "ipython",
    "version": 3
   },
   "file_extension": ".py",
   "mimetype": "text/x-python",
   "name": "python",
   "nbconvert_exporter": "python",
   "pygments_lexer": "ipython3",
   "version": "3.7.4"
  },
  "varInspector": {
   "cols": {
    "lenName": 16,
    "lenType": 16,
    "lenVar": 40
   },
   "kernels_config": {
    "python": {
     "delete_cmd_postfix": "",
     "delete_cmd_prefix": "del ",
     "library": "var_list.py",
     "varRefreshCmd": "print(var_dic_list())"
    },
    "r": {
     "delete_cmd_postfix": ") ",
     "delete_cmd_prefix": "rm(",
     "library": "var_list.r",
     "varRefreshCmd": "cat(var_dic_list()) "
    }
   },
   "types_to_exclude": [
    "module",
    "function",
    "builtin_function_or_method",
    "instance",
    "_Feature"
   ],
   "window_display": true
  }
 },
 "nbformat": 4,
 "nbformat_minor": 5
}

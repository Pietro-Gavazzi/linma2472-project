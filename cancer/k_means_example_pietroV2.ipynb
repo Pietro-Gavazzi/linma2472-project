{
 "cells": [
  {
   "cell_type": "code",
   "execution_count": null,
   "metadata": {
    "pycharm": {
     "is_executing": true
    }
   },
   "outputs": [],
   "source": [
    "\n",
    "\n",
    "## author: Piotr Grabowski, 03.07.2016 for Kaggle, retro engineered to be compatible with python 3 made by Pietro Gavazzi\n",
    "# https://www.kaggle.com/code/piotrgrabo/kmeans-example\n",
    "\n",
    "import numpy as np\n",
    "import pandas as pd\n",
    "from sklearn.cluster import KMeans\n",
    "from sklearn import metrics\n",
    "import re\n",
    "from sklearn.impute import SimpleImputer\n",
    "from numpy import random\n",
    "import seaborn as sb\n",
    "import matplotlib.pyplot as plt \n",
    "\n",
    "\n"
   ]
  },
  {
   "cell_type": "code",
   "execution_count": null,
   "metadata": {
    "pycharm": {
     "is_executing": true
    }
   },
   "outputs": [],
   "source": [
    "### Set path to the data set\n",
    "dataset_path = \"./dataset/77_cancer_proteomes_CPTAC_itraq.csv\"\n",
    "clinical_info = \"./dataset/clinical_data_breast_cancer.csv\"\n",
    "pam50_proteins = \"./dataset/PAM50_proteins.csv\"\n",
    "\n",
    "## Load data\n",
    "data = pd.read_csv(dataset_path,header=0,index_col=0)\n",
    "clinical_file = pd.read_csv(clinical_info,header=0,index_col=0)## holds clinical information about each patient/sample\n",
    "pam50 = pd.read_csv(pam50_proteins,header=0)\n",
    "\n",
    "# RefSeq protein ID (each protein has a unique ID in a RefSeq database)\n",
    "print(data.index.name)\n",
    "data.head()\n"
   ]
  },
  {
   "cell_type": "code",
   "execution_count": null,
   "metadata": {
    "pycharm": {
     "is_executing": true
    }
   },
   "outputs": [],
   "source": [
    "## Drop unused information columns\n",
    "data.drop(['gene_symbol','gene_name'],axis=1,inplace=True)\n",
    "\n",
    "\n",
    "## Change the protein data sample names to a format matching the clinical data set\n",
    "data.rename(columns=lambda x: \"TCGA-%s\" % (re.split('[_|-|.]',x)[0]) if bool(re.search(\"TCGA\",x)) is True else x,inplace=True)\n",
    "\n",
    "data.head()"
   ]
  },
  {
   "cell_type": "code",
   "execution_count": null,
   "metadata": {
    "pycharm": {
     "is_executing": true
    }
   },
   "outputs": [],
   "source": [
    "## Transpose data for the clustering algorithm since we want to divide patient samples, not proteins\n",
    "print(data.shape)\n",
    "datat = data.transpose()\n",
    "print(datat.shape)\n",
    "\n",
    "datat.head()\n"
   ]
  },
  {
   "cell_type": "code",
   "execution_count": null,
   "metadata": {
    "pycharm": {
     "is_executing": true
    }
   },
   "outputs": [],
   "source": [
    "print(len(clinical_file.index))\n",
    "print(len(datat.index))"
   ]
  },
  {
   "cell_type": "code",
   "execution_count": null,
   "metadata": {
    "pycharm": {
     "is_executing": true
    }
   },
   "outputs": [],
   "source": [
    "## Drop clinical entries for samples not in our protein data set\n",
    "clinical = clinical_file.loc[[x for x in clinical_file.index.tolist() if x in datat.index],:]\n",
    "\n",
    "print(clinical.shape)\n",
    "clinical.head()"
   ]
  },
  {
   "cell_type": "code",
   "execution_count": null,
   "metadata": {
    "pycharm": {
     "is_executing": true
    }
   },
   "outputs": [],
   "source": [
    "## Add clinical meta data to our protein data set, note: all numerical features for analysis start with NP_ or XP_\n",
    "merged = datat.merge(clinical,left_index=True,right_index=True)\n",
    "\n",
    "\n",
    "# Drop the duplicated columns (added by Pietro Gavazzi)\n",
    "liste = merged.index.copy()\n",
    "liste = list(liste)\n",
    "\n",
    "for i in np.unique(merged.index):\n",
    "    liste.remove(i)\n",
    "\n",
    "## Change name to make it look nicer in the code!\n",
    "processed = merged.drop(np.unique(liste))\n",
    "\n",
    "\n",
    "processed.shape\n",
    "\n"
   ]
  },
  {
   "cell_type": "code",
   "execution_count": null,
   "metadata": {
    "pycharm": {
     "is_executing": true
    }
   },
   "outputs": [],
   "source": [
    "\n",
    "from sklearn.model_selection import train_test_split\n",
    "X_train, X_test = train_test_split(processed, random_state=42)\n",
    "X_train.head()"
   ]
  },
  {
   "cell_type": "code",
   "execution_count": null,
   "metadata": {
    "pycharm": {
     "is_executing": true
    }
   },
   "outputs": [],
   "source": [
    "## Numerical data for the algorithm, NP_xx/XP_xx are protein identifiers from RefSeq database\n",
    "processed_numerical = processed.loc[:,[x for x in processed.columns if bool(re.search(\"NP_|XP_\",x)) == True]]\n",
    "\n",
    "## Select only the PAM50 proteins - known panel of genes used for breast cancer subtype prediction\n",
    "processed_numerical_p50 = processed_numerical.iloc[:,processed_numerical.columns.isin(pam50['RefSeqProteinID'])]\n",
    "processed_numerical_p50.head()\n",
    "\n",
    "\n"
   ]
  },
  {
   "cell_type": "code",
   "execution_count": null,
   "metadata": {
    "pycharm": {
     "is_executing": true
    }
   },
   "outputs": [],
   "source": [
    "## Impute missing values (maybe another method would work better?)\n",
    "\n",
    "\n",
    "processed_numerical_p50_bis = processed_numerical_p50.copy()\n",
    "\n",
    "for date, row in processed_numerical_p50_bis.T.iteritems():\n",
    "    imputer = SimpleImputer(missing_values=np.nan, strategy='median')\n",
    "    imputer = imputer.fit(processed_numerical_p50_bis.loc[[date]].T)\n",
    "    trow = imputer.transform(processed_numerical_p50_bis.loc[[date]].T)\n",
    "    processed_numerical_p50_bis.loc[[date]] = trow.T\n",
    "\n",
    "\n",
    "processed_numerical_p50_bis.head()\n",
    "\n"
   ]
  },
  {
   "cell_type": "code",
   "execution_count": null,
   "metadata": {
    "pycharm": {
     "is_executing": true
    }
   },
   "outputs": [],
   "source": [
    "## Check which number of clusters works best, 20 and 79 are just for fun and comparison.\n",
    "n_clusters = [2,3,4,5,6,7,8,10,20,len(processed_numerical_p50_bis)-1]\n",
    "\n",
    "def compare_k_means(k_list,data):\n",
    "    ## Run clustering with different k and check the metrics\n",
    "    for k in k_list:\n",
    "        clusterer = KMeans(n_clusters=k)\n",
    "        clusterer.fit(data)\n",
    "        ## The higher (up to 1) the better\n",
    "        print(\"Silhouette Coefficient for k == %s: %s\" % (\n",
    "        k, round(metrics.silhouette_score(data, clusterer.labels_), 4)))\n",
    "        ## The higher (up to 1) the better\n",
    "        print(\"Homogeneity score for k == %s: %s\" % (\n",
    "        k, round(metrics.homogeneity_score(processed['PAM50 mRNA'], clusterer.labels_),4)))\n",
    "        print(\"------------------------\")\n",
    "\n",
    "## What if we use a random set of 43 proteins? Will the clustering be as good?\n",
    "## Create a random numerical matrix with imputation:\n",
    "processed_numerical_random = processed_numerical.iloc[:,random.choice(range(processed_numerical.shape[1]),43)]\n",
    "imputer_rnd = imputer.fit(processed_numerical_random)\n",
    "processed_numerical_random = imputer_rnd.transform(processed_numerical_random)\n",
    "\n",
    "\n"
   ]
  },
  {
   "cell_type": "code",
   "execution_count": null,
   "metadata": {
    "pycharm": {
     "is_executing": true
    }
   },
   "outputs": [],
   "source": [
    "## Check different numbers of clusters for the PAM50 proteins, there are 4 subtypes of cancer in this data\n",
    "## 3 samples of healthy patients were dropped at the beginning...\n",
    "compare_k_means(n_clusters,processed_numerical_p50_bis)\n",
    "## seems that k==3 works good, the silhouette score is still high and the homogeneity score jumps ~2-fold\n",
    "## this is what they report in the paper to be the best number of clusters!\n",
    "## k == 79 has homogeneity score of 1.0, no wonder since the algorithm can assign all the points their separate clusters!\n",
    "## However, for our application, such clustering would be worthless.\n",
    "\n",
    "\n"
   ]
  },
  {
   "cell_type": "code",
   "execution_count": null,
   "metadata": {
    "pycharm": {
     "is_executing": true
    }
   },
   "outputs": [],
   "source": [
    "## Use random proteins for comparison\n",
    "compare_k_means(n_clusters,processed_numerical_random)\n",
    "## The scores should be significantly lower than for the PAM50 proteins!"
   ]
  },
  {
   "cell_type": "code",
   "execution_count": null,
   "metadata": {
    "pycharm": {
     "is_executing": true
    }
   },
   "outputs": [],
   "source": [
    "\n",
    "\n",
    "## Visualize data using k==3, show the heatmap of protein expression for the used PAM50 proteins (43 available in our data)\n",
    "clusterer_final = KMeans(n_clusters=4)\n",
    "clusterer_final = clusterer_final.fit(processed_numerical_p50_bis)\n",
    "clusterer_final.labels_ = [i*((10//max(clusterer_final.labels_))+1) for i in clusterer_final.labels_]\n",
    "\n",
    "\n",
    "processed_p50_plot = pd.DataFrame(processed_numerical_p50_bis)\n",
    "processed_p50_plot['KMeans_cluster'] = clusterer_final.labels_\n",
    "processed_p50_plot.sort_values('KMeans_cluster',axis=0,inplace=True)\n",
    "\n",
    "## Look at the heatmap of protein expression in all patients and look at their assigned cluster\n",
    "## Proteins can either be more expressed (more is produced, less degraded), not changed or lower expressed than the used reference\n",
    "## Since each protein has a distinct function in the cell, their levels describe the functional/signaling state the cell is in.\n"
   ]
  },
  {
   "cell_type": "code",
   "execution_count": null,
   "metadata": {
    "pycharm": {
     "is_executing": true
    }
   },
   "outputs": [],
   "source": [
    "processed_p50_plot.index.name = 'Patient'\n",
    "sb.heatmap(processed_p50_plot) ## The x-axis are the PAM50 proteins we used and the right-most column is the cluster marker\n",
    "plt.savefig('cluster.png')\n",
    "## Looks like the clustering works quite decently here!\n",
    "\n",
    "## Each cluster means a different molecular signature for each patient. Such patients have different treatment options available\n",
    "## to them!\n"
   ]
  },
  {
   "cell_type": "code",
   "execution_count": null,
   "metadata": {
    "pycharm": {
     "is_executing": true
    }
   },
   "outputs": [],
   "source": [
    "# Part added by Pietro Gavazzi"
   ]
  },
  {
   "cell_type": "code",
   "execution_count": null,
   "metadata": {
    "pycharm": {
     "is_executing": true
    }
   },
   "outputs": [],
   "source": [
    "# https://www.docteur-eric-sebban.fr/cancer-du-sein/diagnostic-cancer-sein/stades-et-types-de-cancer-du-sein/ \n",
    "\n",
    "\n",
    "# «T» pour la taille et l’infiltration de la tumeur, allant de Tx (tumeur non évaluable) à T4.\n",
    "# «N» pour le degré d’envahissement des ganglions lymphatiques, allant de Nx (envahissement des ganglions non évaluable) à N3.\n",
    "\n",
    "\n",
    "\n",
    "\n",
    "dataf = pd.DataFrame({ \"label\":clusterer_final.labels_}, index=processed.index, dtype=str)\n",
    "dataf = pd.get_dummies(dataf)\n",
    "tbm = pd.get_dummies(processed, columns=[\"Integrated Clusters (with PAM50)\"]).T.loc[[\"Integrated Clusters (with PAM50)_1\", \"Integrated Clusters (with PAM50)_2\", \"Integrated Clusters (with PAM50)_3\", \"Integrated Clusters (with PAM50)_4\"]].T\n",
    "dataf = dataf.merge(tbm, left_index=True,right_index=True)\n",
    "matrix = np.zeros((len(dataf.T), len(dataf.T)))\n",
    "\n",
    "indi = 0\n",
    "for i in dataf.T.index:\n",
    "    indj = 0\n",
    "    for j in dataf.T.index:\n",
    "        matrix[indi][indj]+=np.array(dataf[i])@np.array(dataf[j])\n",
    "        indj+=1\n",
    "    indi+=1\n",
    "\n",
    "\n",
    "for i in range(len(matrix)):\n",
    "    matrix[i]/=matrix[i][i]\n",
    "\n",
    "sb.heatmap(matrix, xticklabels=dataf.columns, yticklabels=dataf.columns, annot=True)"
   ]
  },
  {
   "cell_type": "code",
   "execution_count": null,
   "metadata": {
    "pycharm": {
     "is_executing": true
    }
   },
   "outputs": [],
   "source": []
  }
 ],
 "metadata": {
  "kernelspec": {
   "display_name": "Python 3.10.5 64-bit",
   "language": "python",
   "name": "python3"
  },
  "language_info": {
   "codemirror_mode": {
    "name": "ipython",
    "version": 3
   },
   "file_extension": ".py",
   "mimetype": "text/x-python",
   "name": "python",
   "nbconvert_exporter": "python",
   "pygments_lexer": "ipython3",
   "version": "3.10.5"
  },
  "orig_nbformat": 4,
  "vscode": {
   "interpreter": {
    "hash": "e7370f93d1d0cde622a1f8e1c04877d8463912d04d973331ad4851f04de6915a"
   }
  }
 },
 "nbformat": 4,
 "nbformat_minor": 2
}

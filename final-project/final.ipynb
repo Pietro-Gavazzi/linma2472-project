{
 "cells": [
  {
   "cell_type": "markdown",
   "metadata": {
    "collapsed": false
   },
   "source": [
    "## 1. Load packages"
   ]
  },
  {
   "cell_type": "code",
   "execution_count": 1,
   "metadata": {
    "collapsed": true
   },
   "outputs": [],
   "source": [
    "# data processing packages\n",
    "import numpy as np\n",
    "from numpy import random\n",
    "import pandas as pd\n",
    "import re\n",
    "\n",
    "# machine learning packages\n",
    "from sklearn.impute import SimpleImputer\n",
    "from sklearn.preprocessing import StandardScaler\n",
    "from sklearn.cluster import KMeans\n",
    "from sklearn.cluster import AgglomerativeClustering\n",
    "from sklearn import metrics\n",
    "from sklearn.decomposition import PCA, KernelPCA\n",
    "from sklearn.manifold import Isomap\n",
    "from sklearn.tree import DecisionTreeClassifier\n",
    "from scipy.cluster.hierarchy import dendrogram, linkage, leaves_list\n",
    "\n",
    "# visualization packages\n",
    "import seaborn as sb\n",
    "import matplotlib.pyplot as plt\n",
    "\n",
    "# other packages\n",
    "import torch\n",
    "from pathlib import Path\n",
    "import random\n",
    "import itertools\n",
    "import time\n",
    "\n",
    "\n",
    "import warnings\n",
    "warnings.filterwarnings(\"ignore\")\n"
   ]
  },
  {
   "cell_type": "markdown",
   "metadata": {
    "collapsed": false
   },
   "source": [
    "## 2. Read the files"
   ]
  },
  {
   "cell_type": "code",
   "execution_count": 2,
   "metadata": {
    "collapsed": false
   },
   "outputs": [],
   "source": [
    "## Create the necessary folders\n",
    "Path('./Figures/').mkdir(parents=True, exist_ok=True)\n",
    "Path('./Results/').mkdir(parents=True, exist_ok=True)"
   ]
  },
  {
   "cell_type": "code",
   "execution_count": 3,
   "metadata": {
    "collapsed": false
   },
   "outputs": [
    {
     "name": "stdout",
     "output_type": "stream",
     "text": [
      "RefSeq_accession_number\n"
     ]
    },
    {
     "data": {
      "text/plain": "                        gene_symbol  \\\nRefSeq_accession_number               \nNP_958782                      PLEC   \nNP_958785                       NaN   \nNP_958786                      PLEC   \nNP_000436                       NaN   \nNP_958781                       NaN   \n...                             ...   \nNP_001191293                    NaN   \nNP_775791                       NaN   \nNP_004065                     COX8A   \nNP_068752                      MIIP   \nNP_219494                  KIAA1737   \n\n                                                              gene_name  \\\nRefSeq_accession_number                                                   \nNP_958782                                             plectin isoform 1   \nNP_958785                                            plectin isoform 1g   \nNP_958786                                            plectin isoform 1a   \nNP_000436                                            plectin isoform 1c   \nNP_958781                                            plectin isoform 1e   \n...                                                                 ...   \nNP_001191293                                   protein FAM24B precursor   \nNP_775791                      putative uncharacterized protein C9orf62   \nNP_004065                cytochrome c oxidase subunit 8A, mitochondrial   \nNP_068752                     migration and invasion-inhibitory protein   \nNP_219494                              uncharacterized protein KIAA1737   \n\n                         AO-A12D.01TCGA  C8-A131.01TCGA  AO-A12B.01TCGA  \\\nRefSeq_accession_number                                                   \nNP_958782                      1.096131        2.609943       -0.659828   \nNP_958785                      1.111370        2.650422       -0.648742   \nNP_958786                      1.111370        2.650422       -0.654285   \nNP_000436                      1.107561        2.646374       -0.632113   \nNP_958781                      1.115180        2.646374       -0.640428   \n...                                 ...             ...             ...   \nNP_001191293                        NaN             NaN             NaN   \nNP_775791                           NaN             NaN             NaN   \nNP_004065                           NaN             NaN             NaN   \nNP_068752                     -0.633517        4.840325       -1.965192   \nNP_219494                     12.666488        0.140736       -2.854835   \n\n                         BH-A18Q.02TCGA  C8-A130.02TCGA  C8-A138.03TCGA  \\\nRefSeq_accession_number                                                   \nNP_958782                      0.195341       -0.494060        2.765081   \nNP_958785                      0.215413       -0.503899        2.779709   \nNP_958786                      0.215413       -0.500619        2.779709   \nNP_000436                      0.205377       -0.510459        2.797995   \nNP_958781                      0.215413       -0.503899        2.787023   \n...                                 ...             ...             ...   \nNP_001191293                 -16.029761        1.729692        4.107251   \nNP_775791                     -2.046065       -0.425182       -3.203370   \nNP_004065                     -1.778435       -0.149673        1.971481   \nNP_068752                           NaN             NaN             NaN   \nNP_219494                     -3.069752       -0.047997             NaN   \n\n                         E2-A154.03TCGA  C8-A12L.04TCGA  ...  AO-A12B.34TCGA  \\\nRefSeq_accession_number                                  ...                   \nNP_958782                      0.862659        1.407570  ...       -0.963904   \nNP_958785                      0.870186        1.407570  ...       -0.938210   \nNP_958786                      0.870186        1.410312  ...       -0.943919   \nNP_000436                      0.866423        1.407570  ...       -0.935355   \nNP_958781                      0.870186        1.413053  ...       -0.935355   \n...                                 ...             ...  ...             ...   \nNP_001191293                  -9.584499       -5.196859  ...       -6.662350   \nNP_775791                     -4.786183             NaN  ...             NaN   \nNP_004065                     -3.103949       -0.933726  ...             NaN   \nNP_068752                           NaN             NaN  ...             NaN   \nNP_219494                           NaN             NaN  ...       -6.002860   \n\n                         A2-A0SW.35TCGA  AO-A0JL.35TCGA  BH-A0BV.35TCGA  \\\nRefSeq_accession_number                                                   \nNP_958782                     -0.487772        -0.10668       -0.065838   \nNP_958785                     -0.487772        -0.10668       -0.055893   \nNP_958786                     -0.487772        -0.10668       -0.065838   \nNP_000436                     -0.487772        -0.10668       -0.055893   \nNP_958781                     -0.503853        -0.10668       -0.062523   \n...                                 ...             ...             ...   \nNP_001191293                        NaN             NaN             NaN   \nNP_775791                           NaN             NaN             NaN   \nNP_004065                           NaN             NaN             NaN   \nNP_068752                           NaN             NaN             NaN   \nNP_219494                           NaN             NaN             NaN   \n\n                         A2-A0YM.36TCGA  BH-A0C7.36TCGA  A2-A0SX.36TCGA  \\\nRefSeq_accession_number                                                   \nNP_958782                      0.655850       -0.552212       -0.398560   \nNP_958785                      0.658143       -0.547749       -0.392601   \nNP_958786                      0.655850       -0.552212       -0.392601   \nNP_000436                      0.655850       -0.552212       -0.392601   \nNP_958781                      0.651264       -0.556675       -0.395581   \n...                                 ...             ...             ...   \nNP_001191293                        NaN             NaN             NaN   \nNP_775791                           NaN             NaN             NaN   \nNP_004065                           NaN             NaN             NaN   \nNP_068752                           NaN             NaN             NaN   \nNP_219494                           NaN             NaN             NaN   \n\n                         263d3f-I.CPTAC  blcdb9-I.CPTAC  c4155b-C.CPTAC  \nRefSeq_accession_number                                                  \nNP_958782                      0.598585       -0.191285        0.566975  \nNP_958785                      0.606697       -0.183918        0.578702  \nNP_958786                      0.603993       -0.186022        0.576747  \nNP_000436                      0.603993       -0.186022        0.576747  \nNP_958781                      0.603993       -0.167079        0.576747  \n...                                 ...             ...             ...  \nNP_001191293                  -8.020071       -3.093822       -4.602418  \nNP_775791                      0.049608       -0.646977        0.240590  \nNP_004065                           NaN             NaN             NaN  \nNP_068752                      0.019861       -1.718327       -0.369183  \nNP_219494                           NaN             NaN             NaN  \n\n[12553 rows x 85 columns]",
      "text/html": "<div>\n<style scoped>\n    .dataframe tbody tr th:only-of-type {\n        vertical-align: middle;\n    }\n\n    .dataframe tbody tr th {\n        vertical-align: top;\n    }\n\n    .dataframe thead th {\n        text-align: right;\n    }\n</style>\n<table border=\"1\" class=\"dataframe\">\n  <thead>\n    <tr style=\"text-align: right;\">\n      <th></th>\n      <th>gene_symbol</th>\n      <th>gene_name</th>\n      <th>AO-A12D.01TCGA</th>\n      <th>C8-A131.01TCGA</th>\n      <th>AO-A12B.01TCGA</th>\n      <th>BH-A18Q.02TCGA</th>\n      <th>C8-A130.02TCGA</th>\n      <th>C8-A138.03TCGA</th>\n      <th>E2-A154.03TCGA</th>\n      <th>C8-A12L.04TCGA</th>\n      <th>...</th>\n      <th>AO-A12B.34TCGA</th>\n      <th>A2-A0SW.35TCGA</th>\n      <th>AO-A0JL.35TCGA</th>\n      <th>BH-A0BV.35TCGA</th>\n      <th>A2-A0YM.36TCGA</th>\n      <th>BH-A0C7.36TCGA</th>\n      <th>A2-A0SX.36TCGA</th>\n      <th>263d3f-I.CPTAC</th>\n      <th>blcdb9-I.CPTAC</th>\n      <th>c4155b-C.CPTAC</th>\n    </tr>\n    <tr>\n      <th>RefSeq_accession_number</th>\n      <th></th>\n      <th></th>\n      <th></th>\n      <th></th>\n      <th></th>\n      <th></th>\n      <th></th>\n      <th></th>\n      <th></th>\n      <th></th>\n      <th></th>\n      <th></th>\n      <th></th>\n      <th></th>\n      <th></th>\n      <th></th>\n      <th></th>\n      <th></th>\n      <th></th>\n      <th></th>\n      <th></th>\n    </tr>\n  </thead>\n  <tbody>\n    <tr>\n      <th>NP_958782</th>\n      <td>PLEC</td>\n      <td>plectin isoform 1</td>\n      <td>1.096131</td>\n      <td>2.609943</td>\n      <td>-0.659828</td>\n      <td>0.195341</td>\n      <td>-0.494060</td>\n      <td>2.765081</td>\n      <td>0.862659</td>\n      <td>1.407570</td>\n      <td>...</td>\n      <td>-0.963904</td>\n      <td>-0.487772</td>\n      <td>-0.10668</td>\n      <td>-0.065838</td>\n      <td>0.655850</td>\n      <td>-0.552212</td>\n      <td>-0.398560</td>\n      <td>0.598585</td>\n      <td>-0.191285</td>\n      <td>0.566975</td>\n    </tr>\n    <tr>\n      <th>NP_958785</th>\n      <td>NaN</td>\n      <td>plectin isoform 1g</td>\n      <td>1.111370</td>\n      <td>2.650422</td>\n      <td>-0.648742</td>\n      <td>0.215413</td>\n      <td>-0.503899</td>\n      <td>2.779709</td>\n      <td>0.870186</td>\n      <td>1.407570</td>\n      <td>...</td>\n      <td>-0.938210</td>\n      <td>-0.487772</td>\n      <td>-0.10668</td>\n      <td>-0.055893</td>\n      <td>0.658143</td>\n      <td>-0.547749</td>\n      <td>-0.392601</td>\n      <td>0.606697</td>\n      <td>-0.183918</td>\n      <td>0.578702</td>\n    </tr>\n    <tr>\n      <th>NP_958786</th>\n      <td>PLEC</td>\n      <td>plectin isoform 1a</td>\n      <td>1.111370</td>\n      <td>2.650422</td>\n      <td>-0.654285</td>\n      <td>0.215413</td>\n      <td>-0.500619</td>\n      <td>2.779709</td>\n      <td>0.870186</td>\n      <td>1.410312</td>\n      <td>...</td>\n      <td>-0.943919</td>\n      <td>-0.487772</td>\n      <td>-0.10668</td>\n      <td>-0.065838</td>\n      <td>0.655850</td>\n      <td>-0.552212</td>\n      <td>-0.392601</td>\n      <td>0.603993</td>\n      <td>-0.186022</td>\n      <td>0.576747</td>\n    </tr>\n    <tr>\n      <th>NP_000436</th>\n      <td>NaN</td>\n      <td>plectin isoform 1c</td>\n      <td>1.107561</td>\n      <td>2.646374</td>\n      <td>-0.632113</td>\n      <td>0.205377</td>\n      <td>-0.510459</td>\n      <td>2.797995</td>\n      <td>0.866423</td>\n      <td>1.407570</td>\n      <td>...</td>\n      <td>-0.935355</td>\n      <td>-0.487772</td>\n      <td>-0.10668</td>\n      <td>-0.055893</td>\n      <td>0.655850</td>\n      <td>-0.552212</td>\n      <td>-0.392601</td>\n      <td>0.603993</td>\n      <td>-0.186022</td>\n      <td>0.576747</td>\n    </tr>\n    <tr>\n      <th>NP_958781</th>\n      <td>NaN</td>\n      <td>plectin isoform 1e</td>\n      <td>1.115180</td>\n      <td>2.646374</td>\n      <td>-0.640428</td>\n      <td>0.215413</td>\n      <td>-0.503899</td>\n      <td>2.787023</td>\n      <td>0.870186</td>\n      <td>1.413053</td>\n      <td>...</td>\n      <td>-0.935355</td>\n      <td>-0.503853</td>\n      <td>-0.10668</td>\n      <td>-0.062523</td>\n      <td>0.651264</td>\n      <td>-0.556675</td>\n      <td>-0.395581</td>\n      <td>0.603993</td>\n      <td>-0.167079</td>\n      <td>0.576747</td>\n    </tr>\n    <tr>\n      <th>...</th>\n      <td>...</td>\n      <td>...</td>\n      <td>...</td>\n      <td>...</td>\n      <td>...</td>\n      <td>...</td>\n      <td>...</td>\n      <td>...</td>\n      <td>...</td>\n      <td>...</td>\n      <td>...</td>\n      <td>...</td>\n      <td>...</td>\n      <td>...</td>\n      <td>...</td>\n      <td>...</td>\n      <td>...</td>\n      <td>...</td>\n      <td>...</td>\n      <td>...</td>\n      <td>...</td>\n    </tr>\n    <tr>\n      <th>NP_001191293</th>\n      <td>NaN</td>\n      <td>protein FAM24B precursor</td>\n      <td>NaN</td>\n      <td>NaN</td>\n      <td>NaN</td>\n      <td>-16.029761</td>\n      <td>1.729692</td>\n      <td>4.107251</td>\n      <td>-9.584499</td>\n      <td>-5.196859</td>\n      <td>...</td>\n      <td>-6.662350</td>\n      <td>NaN</td>\n      <td>NaN</td>\n      <td>NaN</td>\n      <td>NaN</td>\n      <td>NaN</td>\n      <td>NaN</td>\n      <td>-8.020071</td>\n      <td>-3.093822</td>\n      <td>-4.602418</td>\n    </tr>\n    <tr>\n      <th>NP_775791</th>\n      <td>NaN</td>\n      <td>putative uncharacterized protein C9orf62</td>\n      <td>NaN</td>\n      <td>NaN</td>\n      <td>NaN</td>\n      <td>-2.046065</td>\n      <td>-0.425182</td>\n      <td>-3.203370</td>\n      <td>-4.786183</td>\n      <td>NaN</td>\n      <td>...</td>\n      <td>NaN</td>\n      <td>NaN</td>\n      <td>NaN</td>\n      <td>NaN</td>\n      <td>NaN</td>\n      <td>NaN</td>\n      <td>NaN</td>\n      <td>0.049608</td>\n      <td>-0.646977</td>\n      <td>0.240590</td>\n    </tr>\n    <tr>\n      <th>NP_004065</th>\n      <td>COX8A</td>\n      <td>cytochrome c oxidase subunit 8A, mitochondrial</td>\n      <td>NaN</td>\n      <td>NaN</td>\n      <td>NaN</td>\n      <td>-1.778435</td>\n      <td>-0.149673</td>\n      <td>1.971481</td>\n      <td>-3.103949</td>\n      <td>-0.933726</td>\n      <td>...</td>\n      <td>NaN</td>\n      <td>NaN</td>\n      <td>NaN</td>\n      <td>NaN</td>\n      <td>NaN</td>\n      <td>NaN</td>\n      <td>NaN</td>\n      <td>NaN</td>\n      <td>NaN</td>\n      <td>NaN</td>\n    </tr>\n    <tr>\n      <th>NP_068752</th>\n      <td>MIIP</td>\n      <td>migration and invasion-inhibitory protein</td>\n      <td>-0.633517</td>\n      <td>4.840325</td>\n      <td>-1.965192</td>\n      <td>NaN</td>\n      <td>NaN</td>\n      <td>NaN</td>\n      <td>NaN</td>\n      <td>NaN</td>\n      <td>...</td>\n      <td>NaN</td>\n      <td>NaN</td>\n      <td>NaN</td>\n      <td>NaN</td>\n      <td>NaN</td>\n      <td>NaN</td>\n      <td>NaN</td>\n      <td>0.019861</td>\n      <td>-1.718327</td>\n      <td>-0.369183</td>\n    </tr>\n    <tr>\n      <th>NP_219494</th>\n      <td>KIAA1737</td>\n      <td>uncharacterized protein KIAA1737</td>\n      <td>12.666488</td>\n      <td>0.140736</td>\n      <td>-2.854835</td>\n      <td>-3.069752</td>\n      <td>-0.047997</td>\n      <td>NaN</td>\n      <td>NaN</td>\n      <td>NaN</td>\n      <td>...</td>\n      <td>-6.002860</td>\n      <td>NaN</td>\n      <td>NaN</td>\n      <td>NaN</td>\n      <td>NaN</td>\n      <td>NaN</td>\n      <td>NaN</td>\n      <td>NaN</td>\n      <td>NaN</td>\n      <td>NaN</td>\n    </tr>\n  </tbody>\n</table>\n<p>12553 rows × 85 columns</p>\n</div>"
     },
     "execution_count": 3,
     "metadata": {},
     "output_type": "execute_result"
    }
   ],
   "source": [
    "## Set path to the data set\n",
    "dataset_path = \"./dataset/77_cancer_proteomes_CPTAC_itraq.csv\"\n",
    "clinical_info = \"./dataset/clinical_data_breast_cancer.csv\"\n",
    "pam50_proteins = \"./dataset/PAM50_proteins.csv\"\n",
    "\n",
    "## Load data\n",
    "data = pd.read_csv(dataset_path,header=0,index_col=0)\n",
    "clinical_file = pd.read_csv(clinical_info,header=0,index_col=0) ## holds clinical information about each patient/sample\n",
    "pam50 = pd.read_csv(pam50_proteins,header=0)\n",
    "\n",
    "# RefSeq protein ID (each protein has a unique ID in a RefSeq database)\n",
    "print(data.index.name)\n",
    "data"
   ]
  },
  {
   "cell_type": "markdown",
   "metadata": {
    "collapsed": false
   },
   "source": [
    "## 3. Data Set Processing"
   ]
  },
  {
   "cell_type": "code",
   "execution_count": 4,
   "metadata": {
    "collapsed": false
   },
   "outputs": [
    {
     "data": {
      "text/plain": "                         TCGA-AO-A12D  TCGA-C8-A131  TCGA-AO-A12B  \\\nRefSeq_accession_number                                             \nNP_958782                    1.096131      2.609943     -0.659828   \nNP_958785                    1.111370      2.650422     -0.648742   \nNP_958786                    1.111370      2.650422     -0.654285   \nNP_000436                    1.107561      2.646374     -0.632113   \nNP_958781                    1.115180      2.646374     -0.640428   \n\n                         TCGA-BH-A18Q  TCGA-C8-A130  TCGA-C8-A138  \\\nRefSeq_accession_number                                             \nNP_958782                    0.195341     -0.494060      2.765081   \nNP_958785                    0.215413     -0.503899      2.779709   \nNP_958786                    0.215413     -0.500619      2.779709   \nNP_000436                    0.205377     -0.510459      2.797995   \nNP_958781                    0.215413     -0.503899      2.787023   \n\n                         TCGA-E2-A154  TCGA-C8-A12L  TCGA-A2-A0EX  \\\nRefSeq_accession_number                                             \nNP_958782                    0.862659      1.407570      1.185108   \nNP_958785                    0.870186      1.407570      1.192612   \nNP_958786                    0.870186      1.410312      1.188860   \nNP_000436                    0.866423      1.407570      1.185108   \nNP_958781                    0.870186      1.413053      1.200116   \n\n                         TCGA-AO-A12D  ...  TCGA-AO-A12B  TCGA-A2-A0SW  \\\nRefSeq_accession_number                ...                               \nNP_958782                    1.100688  ...     -0.963904     -0.487772   \nNP_958785                    1.100688  ...     -0.938210     -0.487772   \nNP_958786                    1.100688  ...     -0.943919     -0.487772   \nNP_000436                    1.100688  ...     -0.935355     -0.487772   \nNP_958781                    1.093358  ...     -0.935355     -0.503853   \n\n                         TCGA-AO-A0JL  TCGA-BH-A0BV  TCGA-A2-A0YM  \\\nRefSeq_accession_number                                             \nNP_958782                    -0.10668     -0.065838      0.655850   \nNP_958785                    -0.10668     -0.055893      0.658143   \nNP_958786                    -0.10668     -0.065838      0.655850   \nNP_000436                    -0.10668     -0.055893      0.655850   \nNP_958781                    -0.10668     -0.062523      0.651264   \n\n                         TCGA-BH-A0C7  TCGA-A2-A0SX  263d3f-I.CPTAC  \\\nRefSeq_accession_number                                               \nNP_958782                   -0.552212     -0.398560        0.598585   \nNP_958785                   -0.547749     -0.392601        0.606697   \nNP_958786                   -0.552212     -0.392601        0.603993   \nNP_000436                   -0.552212     -0.392601        0.603993   \nNP_958781                   -0.556675     -0.395581        0.603993   \n\n                         blcdb9-I.CPTAC  c4155b-C.CPTAC  \nRefSeq_accession_number                                  \nNP_958782                     -0.191285        0.566975  \nNP_958785                     -0.183918        0.578702  \nNP_958786                     -0.186022        0.576747  \nNP_000436                     -0.186022        0.576747  \nNP_958781                     -0.167079        0.576747  \n\n[5 rows x 83 columns]",
      "text/html": "<div>\n<style scoped>\n    .dataframe tbody tr th:only-of-type {\n        vertical-align: middle;\n    }\n\n    .dataframe tbody tr th {\n        vertical-align: top;\n    }\n\n    .dataframe thead th {\n        text-align: right;\n    }\n</style>\n<table border=\"1\" class=\"dataframe\">\n  <thead>\n    <tr style=\"text-align: right;\">\n      <th></th>\n      <th>TCGA-AO-A12D</th>\n      <th>TCGA-C8-A131</th>\n      <th>TCGA-AO-A12B</th>\n      <th>TCGA-BH-A18Q</th>\n      <th>TCGA-C8-A130</th>\n      <th>TCGA-C8-A138</th>\n      <th>TCGA-E2-A154</th>\n      <th>TCGA-C8-A12L</th>\n      <th>TCGA-A2-A0EX</th>\n      <th>TCGA-AO-A12D</th>\n      <th>...</th>\n      <th>TCGA-AO-A12B</th>\n      <th>TCGA-A2-A0SW</th>\n      <th>TCGA-AO-A0JL</th>\n      <th>TCGA-BH-A0BV</th>\n      <th>TCGA-A2-A0YM</th>\n      <th>TCGA-BH-A0C7</th>\n      <th>TCGA-A2-A0SX</th>\n      <th>263d3f-I.CPTAC</th>\n      <th>blcdb9-I.CPTAC</th>\n      <th>c4155b-C.CPTAC</th>\n    </tr>\n    <tr>\n      <th>RefSeq_accession_number</th>\n      <th></th>\n      <th></th>\n      <th></th>\n      <th></th>\n      <th></th>\n      <th></th>\n      <th></th>\n      <th></th>\n      <th></th>\n      <th></th>\n      <th></th>\n      <th></th>\n      <th></th>\n      <th></th>\n      <th></th>\n      <th></th>\n      <th></th>\n      <th></th>\n      <th></th>\n      <th></th>\n      <th></th>\n    </tr>\n  </thead>\n  <tbody>\n    <tr>\n      <th>NP_958782</th>\n      <td>1.096131</td>\n      <td>2.609943</td>\n      <td>-0.659828</td>\n      <td>0.195341</td>\n      <td>-0.494060</td>\n      <td>2.765081</td>\n      <td>0.862659</td>\n      <td>1.407570</td>\n      <td>1.185108</td>\n      <td>1.100688</td>\n      <td>...</td>\n      <td>-0.963904</td>\n      <td>-0.487772</td>\n      <td>-0.10668</td>\n      <td>-0.065838</td>\n      <td>0.655850</td>\n      <td>-0.552212</td>\n      <td>-0.398560</td>\n      <td>0.598585</td>\n      <td>-0.191285</td>\n      <td>0.566975</td>\n    </tr>\n    <tr>\n      <th>NP_958785</th>\n      <td>1.111370</td>\n      <td>2.650422</td>\n      <td>-0.648742</td>\n      <td>0.215413</td>\n      <td>-0.503899</td>\n      <td>2.779709</td>\n      <td>0.870186</td>\n      <td>1.407570</td>\n      <td>1.192612</td>\n      <td>1.100688</td>\n      <td>...</td>\n      <td>-0.938210</td>\n      <td>-0.487772</td>\n      <td>-0.10668</td>\n      <td>-0.055893</td>\n      <td>0.658143</td>\n      <td>-0.547749</td>\n      <td>-0.392601</td>\n      <td>0.606697</td>\n      <td>-0.183918</td>\n      <td>0.578702</td>\n    </tr>\n    <tr>\n      <th>NP_958786</th>\n      <td>1.111370</td>\n      <td>2.650422</td>\n      <td>-0.654285</td>\n      <td>0.215413</td>\n      <td>-0.500619</td>\n      <td>2.779709</td>\n      <td>0.870186</td>\n      <td>1.410312</td>\n      <td>1.188860</td>\n      <td>1.100688</td>\n      <td>...</td>\n      <td>-0.943919</td>\n      <td>-0.487772</td>\n      <td>-0.10668</td>\n      <td>-0.065838</td>\n      <td>0.655850</td>\n      <td>-0.552212</td>\n      <td>-0.392601</td>\n      <td>0.603993</td>\n      <td>-0.186022</td>\n      <td>0.576747</td>\n    </tr>\n    <tr>\n      <th>NP_000436</th>\n      <td>1.107561</td>\n      <td>2.646374</td>\n      <td>-0.632113</td>\n      <td>0.205377</td>\n      <td>-0.510459</td>\n      <td>2.797995</td>\n      <td>0.866423</td>\n      <td>1.407570</td>\n      <td>1.185108</td>\n      <td>1.100688</td>\n      <td>...</td>\n      <td>-0.935355</td>\n      <td>-0.487772</td>\n      <td>-0.10668</td>\n      <td>-0.055893</td>\n      <td>0.655850</td>\n      <td>-0.552212</td>\n      <td>-0.392601</td>\n      <td>0.603993</td>\n      <td>-0.186022</td>\n      <td>0.576747</td>\n    </tr>\n    <tr>\n      <th>NP_958781</th>\n      <td>1.115180</td>\n      <td>2.646374</td>\n      <td>-0.640428</td>\n      <td>0.215413</td>\n      <td>-0.503899</td>\n      <td>2.787023</td>\n      <td>0.870186</td>\n      <td>1.413053</td>\n      <td>1.200116</td>\n      <td>1.093358</td>\n      <td>...</td>\n      <td>-0.935355</td>\n      <td>-0.503853</td>\n      <td>-0.10668</td>\n      <td>-0.062523</td>\n      <td>0.651264</td>\n      <td>-0.556675</td>\n      <td>-0.395581</td>\n      <td>0.603993</td>\n      <td>-0.167079</td>\n      <td>0.576747</td>\n    </tr>\n  </tbody>\n</table>\n<p>5 rows × 83 columns</p>\n</div>"
     },
     "execution_count": 4,
     "metadata": {},
     "output_type": "execute_result"
    }
   ],
   "source": [
    "## Drop unused information columns\n",
    "data.drop(['gene_symbol','gene_name'],axis=1,inplace=True)\n",
    "\n",
    "## Change the protein data sample names to a format matching the clinical data set\n",
    "data.rename(columns=lambda x: \"TCGA-%s\" % (re.split('[_|-|.]',x)[0]) if bool(re.search(\"TCGA\",x)) is True else x,inplace=True)\n",
    "\n",
    "data.head()"
   ]
  },
  {
   "cell_type": "code",
   "execution_count": 5,
   "metadata": {
    "collapsed": false
   },
   "outputs": [
    {
     "name": "stdout",
     "output_type": "stream",
     "text": [
      "(12553, 83)\n",
      "(83, 12553)\n"
     ]
    },
    {
     "data": {
      "text/plain": "RefSeq_accession_number  NP_958782  NP_958785  NP_958786  NP_000436  \\\nTCGA-AO-A12D              1.096131   1.111370   1.111370   1.107561   \nTCGA-C8-A131              2.609943   2.650422   2.650422   2.646374   \nTCGA-AO-A12B             -0.659828  -0.648742  -0.654285  -0.632113   \nTCGA-BH-A18Q              0.195341   0.215413   0.215413   0.205377   \nTCGA-C8-A130             -0.494060  -0.503899  -0.500619  -0.510459   \n\nRefSeq_accession_number  NP_958781  NP_958780  NP_958783  NP_958784  \\\nTCGA-AO-A12D              1.115180   1.107561   1.111370   1.111370   \nTCGA-C8-A131              2.646374   2.646374   2.650422   2.650422   \nTCGA-AO-A12B             -0.640428  -0.654285  -0.648742  -0.648742   \nTCGA-BH-A18Q              0.215413   0.215413   0.215413   0.215413   \nTCGA-C8-A130             -0.503899  -0.503899  -0.500619  -0.500619   \n\nRefSeq_accession_number  NP_112598  NP_001611  ...  NP_001193600  NP_061134  \\\nTCGA-AO-A12D             -1.517390   0.482754  ...           NaN        NaN   \nTCGA-C8-A131              3.909313  -1.045294  ...           NaN        NaN   \nTCGA-AO-A12B             -0.618256   1.222003  ...           NaN        NaN   \nTCGA-BH-A18Q             -1.035760  -0.517226  ...      0.048144        NaN   \nTCGA-C8-A130             -1.845366  -0.405503  ...      1.457462        NaN   \n\nRefSeq_accession_number  NP_932347  NP_003593  NP_997203  NP_001191293  \\\nTCGA-AO-A12D                   NaN  -0.340163        NaN           NaN   \nTCGA-C8-A131                   NaN   3.451902        NaN           NaN   \nTCGA-AO-A12B                   NaN  -1.718531        NaN           NaN   \nTCGA-BH-A18Q             -0.881872   2.527072  -8.111243    -16.029761   \nTCGA-C8-A130              1.710012   0.296389  -1.753529      1.729692   \n\nRefSeq_accession_number  NP_775791  NP_004065  NP_068752  NP_219494  \nTCGA-AO-A12D                   NaN        NaN  -0.633517  12.666488  \nTCGA-C8-A131                   NaN        NaN   4.840325   0.140736  \nTCGA-AO-A12B                   NaN        NaN  -1.965192  -2.854835  \nTCGA-BH-A18Q             -2.046065  -1.778435        NaN  -3.069752  \nTCGA-C8-A130             -0.425182  -0.149673        NaN  -0.047997  \n\n[5 rows x 12553 columns]",
      "text/html": "<div>\n<style scoped>\n    .dataframe tbody tr th:only-of-type {\n        vertical-align: middle;\n    }\n\n    .dataframe tbody tr th {\n        vertical-align: top;\n    }\n\n    .dataframe thead th {\n        text-align: right;\n    }\n</style>\n<table border=\"1\" class=\"dataframe\">\n  <thead>\n    <tr style=\"text-align: right;\">\n      <th>RefSeq_accession_number</th>\n      <th>NP_958782</th>\n      <th>NP_958785</th>\n      <th>NP_958786</th>\n      <th>NP_000436</th>\n      <th>NP_958781</th>\n      <th>NP_958780</th>\n      <th>NP_958783</th>\n      <th>NP_958784</th>\n      <th>NP_112598</th>\n      <th>NP_001611</th>\n      <th>...</th>\n      <th>NP_001193600</th>\n      <th>NP_061134</th>\n      <th>NP_932347</th>\n      <th>NP_003593</th>\n      <th>NP_997203</th>\n      <th>NP_001191293</th>\n      <th>NP_775791</th>\n      <th>NP_004065</th>\n      <th>NP_068752</th>\n      <th>NP_219494</th>\n    </tr>\n  </thead>\n  <tbody>\n    <tr>\n      <th>TCGA-AO-A12D</th>\n      <td>1.096131</td>\n      <td>1.111370</td>\n      <td>1.111370</td>\n      <td>1.107561</td>\n      <td>1.115180</td>\n      <td>1.107561</td>\n      <td>1.111370</td>\n      <td>1.111370</td>\n      <td>-1.517390</td>\n      <td>0.482754</td>\n      <td>...</td>\n      <td>NaN</td>\n      <td>NaN</td>\n      <td>NaN</td>\n      <td>-0.340163</td>\n      <td>NaN</td>\n      <td>NaN</td>\n      <td>NaN</td>\n      <td>NaN</td>\n      <td>-0.633517</td>\n      <td>12.666488</td>\n    </tr>\n    <tr>\n      <th>TCGA-C8-A131</th>\n      <td>2.609943</td>\n      <td>2.650422</td>\n      <td>2.650422</td>\n      <td>2.646374</td>\n      <td>2.646374</td>\n      <td>2.646374</td>\n      <td>2.650422</td>\n      <td>2.650422</td>\n      <td>3.909313</td>\n      <td>-1.045294</td>\n      <td>...</td>\n      <td>NaN</td>\n      <td>NaN</td>\n      <td>NaN</td>\n      <td>3.451902</td>\n      <td>NaN</td>\n      <td>NaN</td>\n      <td>NaN</td>\n      <td>NaN</td>\n      <td>4.840325</td>\n      <td>0.140736</td>\n    </tr>\n    <tr>\n      <th>TCGA-AO-A12B</th>\n      <td>-0.659828</td>\n      <td>-0.648742</td>\n      <td>-0.654285</td>\n      <td>-0.632113</td>\n      <td>-0.640428</td>\n      <td>-0.654285</td>\n      <td>-0.648742</td>\n      <td>-0.648742</td>\n      <td>-0.618256</td>\n      <td>1.222003</td>\n      <td>...</td>\n      <td>NaN</td>\n      <td>NaN</td>\n      <td>NaN</td>\n      <td>-1.718531</td>\n      <td>NaN</td>\n      <td>NaN</td>\n      <td>NaN</td>\n      <td>NaN</td>\n      <td>-1.965192</td>\n      <td>-2.854835</td>\n    </tr>\n    <tr>\n      <th>TCGA-BH-A18Q</th>\n      <td>0.195341</td>\n      <td>0.215413</td>\n      <td>0.215413</td>\n      <td>0.205377</td>\n      <td>0.215413</td>\n      <td>0.215413</td>\n      <td>0.215413</td>\n      <td>0.215413</td>\n      <td>-1.035760</td>\n      <td>-0.517226</td>\n      <td>...</td>\n      <td>0.048144</td>\n      <td>NaN</td>\n      <td>-0.881872</td>\n      <td>2.527072</td>\n      <td>-8.111243</td>\n      <td>-16.029761</td>\n      <td>-2.046065</td>\n      <td>-1.778435</td>\n      <td>NaN</td>\n      <td>-3.069752</td>\n    </tr>\n    <tr>\n      <th>TCGA-C8-A130</th>\n      <td>-0.494060</td>\n      <td>-0.503899</td>\n      <td>-0.500619</td>\n      <td>-0.510459</td>\n      <td>-0.503899</td>\n      <td>-0.503899</td>\n      <td>-0.500619</td>\n      <td>-0.500619</td>\n      <td>-1.845366</td>\n      <td>-0.405503</td>\n      <td>...</td>\n      <td>1.457462</td>\n      <td>NaN</td>\n      <td>1.710012</td>\n      <td>0.296389</td>\n      <td>-1.753529</td>\n      <td>1.729692</td>\n      <td>-0.425182</td>\n      <td>-0.149673</td>\n      <td>NaN</td>\n      <td>-0.047997</td>\n    </tr>\n  </tbody>\n</table>\n<p>5 rows × 12553 columns</p>\n</div>"
     },
     "execution_count": 5,
     "metadata": {},
     "output_type": "execute_result"
    }
   ],
   "source": [
    "## Transpose data for the clustering algorithm since we want to divide patient samples, not proteins\n",
    "print(data.shape)\n",
    "datat = data.transpose()\n",
    "print(datat.shape)\n",
    "\n",
    "datat.head()"
   ]
  },
  {
   "cell_type": "code",
   "execution_count": 6,
   "metadata": {
    "collapsed": false
   },
   "outputs": [
    {
     "name": "stdout",
     "output_type": "stream",
     "text": [
      "Number of patients in clinical data set:  105\n",
      "Number of patients in protein data set:  83\n"
     ]
    }
   ],
   "source": [
    "print(\"Number of patients in clinical data set: \", len(clinical_file.index))\n",
    "print(\"Number of patients in protein data set: \", len(datat.index))"
   ]
  },
  {
   "cell_type": "code",
   "execution_count": 7,
   "metadata": {
    "collapsed": false
   },
   "outputs": [
    {
     "name": "stdout",
     "output_type": "stream",
     "text": [
      "The shape of the clinical data set:  (77, 29)\n"
     ]
    },
    {
     "data": {
      "text/plain": "                  Gender  Age at Initial Pathologic Diagnosis ER Status  \\\nComplete TCGA ID                                                          \nTCGA-A2-A0CM      FEMALE                                   40  Negative   \nTCGA-BH-A18Q      FEMALE                                   56  Negative   \nTCGA-A7-A0CE      FEMALE                                   57  Negative   \nTCGA-D8-A142      FEMALE                                   74  Negative   \nTCGA-AO-A0J6      FEMALE                                   61  Negative   \n...                  ...                                  ...       ...   \nTCGA-AR-A1AV        MALE                                   68  Positive   \nTCGA-BH-A0C7      FEMALE                                   48  Positive   \nTCGA-BH-A0DD        MALE                                   58  Positive   \nTCGA-C8-A12U      FEMALE                                   46  Positive   \nTCGA-E2-A15A      FEMALE                                   45  Positive   \n\n                 PR Status HER2 Final Status Tumor Tumor--T1 Coded Node  \\\nComplete TCGA ID                                                          \nTCGA-A2-A0CM      Negative          Negative    T2         T_Other   N0   \nTCGA-BH-A18Q      Negative          Negative    T2         T_Other   N1   \nTCGA-A7-A0CE      Negative          Negative    T2         T_Other   N0   \nTCGA-D8-A142      Negative          Negative    T3         T_Other   N0   \nTCGA-AO-A0J6      Negative          Negative    T2         T_Other   N0   \n...                    ...               ...   ...             ...  ...   \nTCGA-AR-A1AV      Positive          Negative    T2         T_Other   N1   \nTCGA-BH-A0C7      Negative          Positive    T2         T_Other   N1   \nTCGA-BH-A0DD      Positive          Positive    T2         T_Other   N1   \nTCGA-C8-A12U      Positive          Negative    T2         T_Other   N1   \nTCGA-E2-A15A      Positive          Negative    T2         T_Other   N3   \n\n                 Node-Coded Metastasis  ...  PAM50 mRNA  \\\nComplete TCGA ID                        ...               \nTCGA-A2-A0CM       Negative         M0  ...  Basal-like   \nTCGA-BH-A18Q       Positive         M0  ...  Basal-like   \nTCGA-A7-A0CE       Negative         M0  ...  Basal-like   \nTCGA-D8-A142       Negative         M0  ...  Basal-like   \nTCGA-AO-A0J6       Negative         M0  ...  Basal-like   \n...                     ...        ...  ...         ...   \nTCGA-AR-A1AV       Positive         M0  ...   Luminal B   \nTCGA-BH-A0C7       Positive         M0  ...   Luminal B   \nTCGA-BH-A0DD       Positive         M0  ...   Luminal B   \nTCGA-C8-A12U       Positive         M0  ...   Luminal B   \nTCGA-E2-A15A       Positive         M0  ...   Luminal B   \n\n                 SigClust Unsupervised mRNA SigClust Intrinsic mRNA  \\\nComplete TCGA ID                                                      \nTCGA-A2-A0CM                            -12                     -13   \nTCGA-BH-A18Q                            -12                     -13   \nTCGA-A7-A0CE                              0                     -13   \nTCGA-D8-A142                              0                     -13   \nTCGA-AO-A0J6                            -12                     -13   \n...                                     ...                     ...   \nTCGA-AR-A1AV                             -5                      -2   \nTCGA-BH-A0C7                             -3                       0   \nTCGA-BH-A0DD                             -3                      -6   \nTCGA-C8-A12U                             -5                      -2   \nTCGA-E2-A15A                             -5                      -2   \n\n                 miRNA Clusters methylation Clusters  RPPA Clusters  \\\nComplete TCGA ID                                                      \nTCGA-A2-A0CM                  4                    4          Basal   \nTCGA-BH-A18Q                  5                    5          Basal   \nTCGA-A7-A0CE                  5                    5          Basal   \nTCGA-D8-A142                  3                    5              X   \nTCGA-AO-A0J6                  2                    5          Basal   \n...                         ...                  ...            ...   \nTCGA-AR-A1AV                  7                    3         LumA/B   \nTCGA-BH-A0C7                  4                    4         LumA/B   \nTCGA-BH-A0DD                  4                    4         LumA/B   \nTCGA-C8-A12U                  5                    4          Basal   \nTCGA-E2-A15A                  4                    4           Her2   \n\n                  CN Clusters  Integrated Clusters (with PAM50)  \\\nComplete TCGA ID                                                  \nTCGA-A2-A0CM                4                                 2   \nTCGA-BH-A18Q                1                                 2   \nTCGA-A7-A0CE                1                                 2   \nTCGA-D8-A142                1                                 2   \nTCGA-AO-A0J6                1                                 2   \n...                       ...                               ...   \nTCGA-AR-A1AV                3                                 4   \nTCGA-BH-A0C7                5                                 4   \nTCGA-BH-A0DD                3                                 4   \nTCGA-C8-A12U                5                                 4   \nTCGA-E2-A15A                4                                 4   \n\n                  Integrated Clusters (no exp) Integrated Clusters (unsup exp)  \nComplete TCGA ID                                                                \nTCGA-A2-A0CM                                 1                               1  \nTCGA-BH-A18Q                                 2                               2  \nTCGA-A7-A0CE                                 2                               2  \nTCGA-D8-A142                                 2                               2  \nTCGA-AO-A0J6                                 2                               2  \n...                                        ...                             ...  \nTCGA-AR-A1AV                                 4                               5  \nTCGA-BH-A0C7                                 1                               3  \nTCGA-BH-A0DD                                 1                               3  \nTCGA-C8-A12U                                 1                               1  \nTCGA-E2-A15A                                 1                               1  \n\n[77 rows x 29 columns]",
      "text/html": "<div>\n<style scoped>\n    .dataframe tbody tr th:only-of-type {\n        vertical-align: middle;\n    }\n\n    .dataframe tbody tr th {\n        vertical-align: top;\n    }\n\n    .dataframe thead th {\n        text-align: right;\n    }\n</style>\n<table border=\"1\" class=\"dataframe\">\n  <thead>\n    <tr style=\"text-align: right;\">\n      <th></th>\n      <th>Gender</th>\n      <th>Age at Initial Pathologic Diagnosis</th>\n      <th>ER Status</th>\n      <th>PR Status</th>\n      <th>HER2 Final Status</th>\n      <th>Tumor</th>\n      <th>Tumor--T1 Coded</th>\n      <th>Node</th>\n      <th>Node-Coded</th>\n      <th>Metastasis</th>\n      <th>...</th>\n      <th>PAM50 mRNA</th>\n      <th>SigClust Unsupervised mRNA</th>\n      <th>SigClust Intrinsic mRNA</th>\n      <th>miRNA Clusters</th>\n      <th>methylation Clusters</th>\n      <th>RPPA Clusters</th>\n      <th>CN Clusters</th>\n      <th>Integrated Clusters (with PAM50)</th>\n      <th>Integrated Clusters (no exp)</th>\n      <th>Integrated Clusters (unsup exp)</th>\n    </tr>\n    <tr>\n      <th>Complete TCGA ID</th>\n      <th></th>\n      <th></th>\n      <th></th>\n      <th></th>\n      <th></th>\n      <th></th>\n      <th></th>\n      <th></th>\n      <th></th>\n      <th></th>\n      <th></th>\n      <th></th>\n      <th></th>\n      <th></th>\n      <th></th>\n      <th></th>\n      <th></th>\n      <th></th>\n      <th></th>\n      <th></th>\n      <th></th>\n    </tr>\n  </thead>\n  <tbody>\n    <tr>\n      <th>TCGA-A2-A0CM</th>\n      <td>FEMALE</td>\n      <td>40</td>\n      <td>Negative</td>\n      <td>Negative</td>\n      <td>Negative</td>\n      <td>T2</td>\n      <td>T_Other</td>\n      <td>N0</td>\n      <td>Negative</td>\n      <td>M0</td>\n      <td>...</td>\n      <td>Basal-like</td>\n      <td>-12</td>\n      <td>-13</td>\n      <td>4</td>\n      <td>4</td>\n      <td>Basal</td>\n      <td>4</td>\n      <td>2</td>\n      <td>1</td>\n      <td>1</td>\n    </tr>\n    <tr>\n      <th>TCGA-BH-A18Q</th>\n      <td>FEMALE</td>\n      <td>56</td>\n      <td>Negative</td>\n      <td>Negative</td>\n      <td>Negative</td>\n      <td>T2</td>\n      <td>T_Other</td>\n      <td>N1</td>\n      <td>Positive</td>\n      <td>M0</td>\n      <td>...</td>\n      <td>Basal-like</td>\n      <td>-12</td>\n      <td>-13</td>\n      <td>5</td>\n      <td>5</td>\n      <td>Basal</td>\n      <td>1</td>\n      <td>2</td>\n      <td>2</td>\n      <td>2</td>\n    </tr>\n    <tr>\n      <th>TCGA-A7-A0CE</th>\n      <td>FEMALE</td>\n      <td>57</td>\n      <td>Negative</td>\n      <td>Negative</td>\n      <td>Negative</td>\n      <td>T2</td>\n      <td>T_Other</td>\n      <td>N0</td>\n      <td>Negative</td>\n      <td>M0</td>\n      <td>...</td>\n      <td>Basal-like</td>\n      <td>0</td>\n      <td>-13</td>\n      <td>5</td>\n      <td>5</td>\n      <td>Basal</td>\n      <td>1</td>\n      <td>2</td>\n      <td>2</td>\n      <td>2</td>\n    </tr>\n    <tr>\n      <th>TCGA-D8-A142</th>\n      <td>FEMALE</td>\n      <td>74</td>\n      <td>Negative</td>\n      <td>Negative</td>\n      <td>Negative</td>\n      <td>T3</td>\n      <td>T_Other</td>\n      <td>N0</td>\n      <td>Negative</td>\n      <td>M0</td>\n      <td>...</td>\n      <td>Basal-like</td>\n      <td>0</td>\n      <td>-13</td>\n      <td>3</td>\n      <td>5</td>\n      <td>X</td>\n      <td>1</td>\n      <td>2</td>\n      <td>2</td>\n      <td>2</td>\n    </tr>\n    <tr>\n      <th>TCGA-AO-A0J6</th>\n      <td>FEMALE</td>\n      <td>61</td>\n      <td>Negative</td>\n      <td>Negative</td>\n      <td>Negative</td>\n      <td>T2</td>\n      <td>T_Other</td>\n      <td>N0</td>\n      <td>Negative</td>\n      <td>M0</td>\n      <td>...</td>\n      <td>Basal-like</td>\n      <td>-12</td>\n      <td>-13</td>\n      <td>2</td>\n      <td>5</td>\n      <td>Basal</td>\n      <td>1</td>\n      <td>2</td>\n      <td>2</td>\n      <td>2</td>\n    </tr>\n    <tr>\n      <th>...</th>\n      <td>...</td>\n      <td>...</td>\n      <td>...</td>\n      <td>...</td>\n      <td>...</td>\n      <td>...</td>\n      <td>...</td>\n      <td>...</td>\n      <td>...</td>\n      <td>...</td>\n      <td>...</td>\n      <td>...</td>\n      <td>...</td>\n      <td>...</td>\n      <td>...</td>\n      <td>...</td>\n      <td>...</td>\n      <td>...</td>\n      <td>...</td>\n      <td>...</td>\n      <td>...</td>\n    </tr>\n    <tr>\n      <th>TCGA-AR-A1AV</th>\n      <td>MALE</td>\n      <td>68</td>\n      <td>Positive</td>\n      <td>Positive</td>\n      <td>Negative</td>\n      <td>T2</td>\n      <td>T_Other</td>\n      <td>N1</td>\n      <td>Positive</td>\n      <td>M0</td>\n      <td>...</td>\n      <td>Luminal B</td>\n      <td>-5</td>\n      <td>-2</td>\n      <td>7</td>\n      <td>3</td>\n      <td>LumA/B</td>\n      <td>3</td>\n      <td>4</td>\n      <td>4</td>\n      <td>5</td>\n    </tr>\n    <tr>\n      <th>TCGA-BH-A0C7</th>\n      <td>FEMALE</td>\n      <td>48</td>\n      <td>Positive</td>\n      <td>Negative</td>\n      <td>Positive</td>\n      <td>T2</td>\n      <td>T_Other</td>\n      <td>N1</td>\n      <td>Positive</td>\n      <td>M0</td>\n      <td>...</td>\n      <td>Luminal B</td>\n      <td>-3</td>\n      <td>0</td>\n      <td>4</td>\n      <td>4</td>\n      <td>LumA/B</td>\n      <td>5</td>\n      <td>4</td>\n      <td>1</td>\n      <td>3</td>\n    </tr>\n    <tr>\n      <th>TCGA-BH-A0DD</th>\n      <td>MALE</td>\n      <td>58</td>\n      <td>Positive</td>\n      <td>Positive</td>\n      <td>Positive</td>\n      <td>T2</td>\n      <td>T_Other</td>\n      <td>N1</td>\n      <td>Positive</td>\n      <td>M0</td>\n      <td>...</td>\n      <td>Luminal B</td>\n      <td>-3</td>\n      <td>-6</td>\n      <td>4</td>\n      <td>4</td>\n      <td>LumA/B</td>\n      <td>3</td>\n      <td>4</td>\n      <td>1</td>\n      <td>3</td>\n    </tr>\n    <tr>\n      <th>TCGA-C8-A12U</th>\n      <td>FEMALE</td>\n      <td>46</td>\n      <td>Positive</td>\n      <td>Positive</td>\n      <td>Negative</td>\n      <td>T2</td>\n      <td>T_Other</td>\n      <td>N1</td>\n      <td>Positive</td>\n      <td>M0</td>\n      <td>...</td>\n      <td>Luminal B</td>\n      <td>-5</td>\n      <td>-2</td>\n      <td>5</td>\n      <td>4</td>\n      <td>Basal</td>\n      <td>5</td>\n      <td>4</td>\n      <td>1</td>\n      <td>1</td>\n    </tr>\n    <tr>\n      <th>TCGA-E2-A15A</th>\n      <td>FEMALE</td>\n      <td>45</td>\n      <td>Positive</td>\n      <td>Positive</td>\n      <td>Negative</td>\n      <td>T2</td>\n      <td>T_Other</td>\n      <td>N3</td>\n      <td>Positive</td>\n      <td>M0</td>\n      <td>...</td>\n      <td>Luminal B</td>\n      <td>-5</td>\n      <td>-2</td>\n      <td>4</td>\n      <td>4</td>\n      <td>Her2</td>\n      <td>4</td>\n      <td>4</td>\n      <td>1</td>\n      <td>1</td>\n    </tr>\n  </tbody>\n</table>\n<p>77 rows × 29 columns</p>\n</div>"
     },
     "execution_count": 7,
     "metadata": {},
     "output_type": "execute_result"
    }
   ],
   "source": [
    "## Drop clinical entries for samples not in our protein data set\n",
    "clinical = clinical_file.loc[[x for x in clinical_file.index.tolist() if x in datat.index],:]\n",
    "\n",
    "print(\"The shape of the clinical data set: \", clinical.shape)\n",
    "clinical"
   ]
  },
  {
   "cell_type": "code",
   "execution_count": 8,
   "metadata": {
    "collapsed": false
   },
   "outputs": [
    {
     "name": "stdout",
     "output_type": "stream",
     "text": [
      "Shape of the merged data set:  (74, 12582)\n",
      "with 74 patients and 12582 features\n"
     ]
    },
    {
     "data": {
      "text/plain": "              NP_958782  NP_958785  NP_958786  NP_000436  NP_958781  \\\nTCGA-A2-A0CM   0.683404   0.694424   0.698098   0.687077   0.687077   \nTCGA-A2-A0D2   0.107491   0.104164   0.107491   0.097512   0.104164   \nTCGA-A2-A0EQ  -0.912670  -0.927979  -0.927979  -0.931806  -0.927979   \nTCGA-A2-A0EV   0.452986   0.472590   0.472590   0.458587   0.472590   \nTCGA-A2-A0EX   1.185108   1.192612   1.188860   1.185108   1.200116   \n\n              NP_958780  NP_958783  NP_958784  NP_112598  NP_001611  ...  \\\nTCGA-A2-A0CM   0.698098   0.698098   0.698098  -2.652150  -0.984373  ...   \nTCGA-A2-A0D2   0.104164   0.104164   0.104164  -0.880454  -1.512473  ...   \nTCGA-A2-A0EQ  -0.927979  -0.927979  -0.927979  -3.071151  -2.278943  ...   \nTCGA-A2-A0EV   0.472590   0.472590   0.472590  -0.742871   1.811277  ...   \nTCGA-A2-A0EX   1.188860   1.188860   1.192612   1.046289   2.138081  ...   \n\n                 PAM50 mRNA  SigClust Unsupervised mRNA  \\\nTCGA-A2-A0CM     Basal-like                         -12   \nTCGA-A2-A0D2     Basal-like                         -12   \nTCGA-A2-A0EQ  HER2-enriched                          -5   \nTCGA-A2-A0EV      Luminal A                          -4   \nTCGA-A2-A0EX      Luminal A                          -7   \n\n              SigClust Intrinsic mRNA  miRNA Clusters  methylation Clusters  \\\nTCGA-A2-A0CM                      -13               4                     4   \nTCGA-A2-A0D2                      -13               4                     5   \nTCGA-A2-A0EQ                       -2               5                     4   \nTCGA-A2-A0EV                        0               4                     2   \nTCGA-A2-A0EX                       -5               4                     4   \n\n              RPPA Clusters  CN Clusters  Integrated Clusters (with PAM50)  \\\nTCGA-A2-A0CM          Basal            4                                 2   \nTCGA-A2-A0D2          Basal            3                                 2   \nTCGA-A2-A0EQ          Basal            4                                 4   \nTCGA-A2-A0EV          ReacI            3                                 3   \nTCGA-A2-A0EX          ReacI            4                                 3   \n\n              Integrated Clusters (no exp)  Integrated Clusters (unsup exp)  \nTCGA-A2-A0CM                             1                                1  \nTCGA-A2-A0D2                             2                                2  \nTCGA-A2-A0EQ                             1                                1  \nTCGA-A2-A0EV                             3                                4  \nTCGA-A2-A0EX                             1                                4  \n\n[5 rows x 12582 columns]",
      "text/html": "<div>\n<style scoped>\n    .dataframe tbody tr th:only-of-type {\n        vertical-align: middle;\n    }\n\n    .dataframe tbody tr th {\n        vertical-align: top;\n    }\n\n    .dataframe thead th {\n        text-align: right;\n    }\n</style>\n<table border=\"1\" class=\"dataframe\">\n  <thead>\n    <tr style=\"text-align: right;\">\n      <th></th>\n      <th>NP_958782</th>\n      <th>NP_958785</th>\n      <th>NP_958786</th>\n      <th>NP_000436</th>\n      <th>NP_958781</th>\n      <th>NP_958780</th>\n      <th>NP_958783</th>\n      <th>NP_958784</th>\n      <th>NP_112598</th>\n      <th>NP_001611</th>\n      <th>...</th>\n      <th>PAM50 mRNA</th>\n      <th>SigClust Unsupervised mRNA</th>\n      <th>SigClust Intrinsic mRNA</th>\n      <th>miRNA Clusters</th>\n      <th>methylation Clusters</th>\n      <th>RPPA Clusters</th>\n      <th>CN Clusters</th>\n      <th>Integrated Clusters (with PAM50)</th>\n      <th>Integrated Clusters (no exp)</th>\n      <th>Integrated Clusters (unsup exp)</th>\n    </tr>\n  </thead>\n  <tbody>\n    <tr>\n      <th>TCGA-A2-A0CM</th>\n      <td>0.683404</td>\n      <td>0.694424</td>\n      <td>0.698098</td>\n      <td>0.687077</td>\n      <td>0.687077</td>\n      <td>0.698098</td>\n      <td>0.698098</td>\n      <td>0.698098</td>\n      <td>-2.652150</td>\n      <td>-0.984373</td>\n      <td>...</td>\n      <td>Basal-like</td>\n      <td>-12</td>\n      <td>-13</td>\n      <td>4</td>\n      <td>4</td>\n      <td>Basal</td>\n      <td>4</td>\n      <td>2</td>\n      <td>1</td>\n      <td>1</td>\n    </tr>\n    <tr>\n      <th>TCGA-A2-A0D2</th>\n      <td>0.107491</td>\n      <td>0.104164</td>\n      <td>0.107491</td>\n      <td>0.097512</td>\n      <td>0.104164</td>\n      <td>0.104164</td>\n      <td>0.104164</td>\n      <td>0.104164</td>\n      <td>-0.880454</td>\n      <td>-1.512473</td>\n      <td>...</td>\n      <td>Basal-like</td>\n      <td>-12</td>\n      <td>-13</td>\n      <td>4</td>\n      <td>5</td>\n      <td>Basal</td>\n      <td>3</td>\n      <td>2</td>\n      <td>2</td>\n      <td>2</td>\n    </tr>\n    <tr>\n      <th>TCGA-A2-A0EQ</th>\n      <td>-0.912670</td>\n      <td>-0.927979</td>\n      <td>-0.927979</td>\n      <td>-0.931806</td>\n      <td>-0.927979</td>\n      <td>-0.927979</td>\n      <td>-0.927979</td>\n      <td>-0.927979</td>\n      <td>-3.071151</td>\n      <td>-2.278943</td>\n      <td>...</td>\n      <td>HER2-enriched</td>\n      <td>-5</td>\n      <td>-2</td>\n      <td>5</td>\n      <td>4</td>\n      <td>Basal</td>\n      <td>4</td>\n      <td>4</td>\n      <td>1</td>\n      <td>1</td>\n    </tr>\n    <tr>\n      <th>TCGA-A2-A0EV</th>\n      <td>0.452986</td>\n      <td>0.472590</td>\n      <td>0.472590</td>\n      <td>0.458587</td>\n      <td>0.472590</td>\n      <td>0.472590</td>\n      <td>0.472590</td>\n      <td>0.472590</td>\n      <td>-0.742871</td>\n      <td>1.811277</td>\n      <td>...</td>\n      <td>Luminal A</td>\n      <td>-4</td>\n      <td>0</td>\n      <td>4</td>\n      <td>2</td>\n      <td>ReacI</td>\n      <td>3</td>\n      <td>3</td>\n      <td>3</td>\n      <td>4</td>\n    </tr>\n    <tr>\n      <th>TCGA-A2-A0EX</th>\n      <td>1.185108</td>\n      <td>1.192612</td>\n      <td>1.188860</td>\n      <td>1.185108</td>\n      <td>1.200116</td>\n      <td>1.188860</td>\n      <td>1.188860</td>\n      <td>1.192612</td>\n      <td>1.046289</td>\n      <td>2.138081</td>\n      <td>...</td>\n      <td>Luminal A</td>\n      <td>-7</td>\n      <td>-5</td>\n      <td>4</td>\n      <td>4</td>\n      <td>ReacI</td>\n      <td>4</td>\n      <td>3</td>\n      <td>1</td>\n      <td>4</td>\n    </tr>\n  </tbody>\n</table>\n<p>5 rows × 12582 columns</p>\n</div>"
     },
     "execution_count": 8,
     "metadata": {},
     "output_type": "execute_result"
    }
   ],
   "source": [
    "## Add clinical meta data to our protein data set, note: all numerical features for analysis start with NP_ or XP_\n",
    "merged = datat.merge(clinical,left_index=True,right_index=True)\n",
    "\n",
    "# Drop the duplicated columns (added by Pietro Gavazzi)\n",
    "liste = merged.index.copy()\n",
    "liste = list(liste)\n",
    "\n",
    "for i in np.unique(merged.index):\n",
    "    liste.remove(i)\n",
    "\n",
    "## Change name to make it look nicer in the code!\n",
    "processed = merged.drop(np.unique(liste))\n",
    "\n",
    "print(\"Shape of the merged data set: \", processed.shape)\n",
    "print(\"with %d patients and %d features\" % (processed.shape[0], processed.shape[1]))\n",
    "\n",
    "processed.head()"
   ]
  },
  {
   "cell_type": "code",
   "execution_count": 9,
   "metadata": {
    "collapsed": false
   },
   "outputs": [
    {
     "data": {
      "text/plain": "Index(['NP_958782', 'NP_958785', 'NP_958786', 'NP_000436', 'NP_958781',\n       'NP_958780', 'NP_958783', 'NP_958784', 'NP_112598', 'NP_001611',\n       ...\n       'NP_001193600', 'NP_061134', 'NP_932347', 'NP_003593', 'NP_997203',\n       'NP_001191293', 'NP_775791', 'NP_004065', 'NP_068752', 'NP_219494'],\n      dtype='object', length=12553)"
     },
     "execution_count": 9,
     "metadata": {},
     "output_type": "execute_result"
    }
   ],
   "source": [
    "## Numerical data for the algorithm, NP_xx/XP_xx are protein identifiers from RefSeq database\n",
    "X = processed.loc[:,[x for x in processed.columns if bool(re.search(\"NP_|XP_|YP_\",x)) == True]]\n",
    "Y = pd.get_dummies(processed.drop(X.columns, axis=1)['Integrated Clusters (with PAM50)'], prefix=\"PAM50\")\n",
    "\n",
    "## Select only the PAM50 proteins - known panel of genes used for breast cancer subtype prediction\n",
    "# processed_numerical_p50 = processed_numerical.iloc[:,processed_numerical.columns.isin(pam50['RefSeqProteinID'])]\n",
    "# processed_numerical_p50.head()\n",
    "\n",
    "X.columns"
   ]
  },
  {
   "cell_type": "code",
   "execution_count": 10,
   "metadata": {
    "collapsed": false
   },
   "outputs": [
    {
     "data": {
      "text/plain": "              PAM50_1  PAM50_2  PAM50_3  PAM50_4\nTCGA-A2-A0CM        0        1        0        0\nTCGA-A2-A0D2        0        1        0        0\nTCGA-A2-A0EQ        0        0        0        1\nTCGA-A2-A0EV        0        0        1        0\nTCGA-A2-A0EX        0        0        1        0",
      "text/html": "<div>\n<style scoped>\n    .dataframe tbody tr th:only-of-type {\n        vertical-align: middle;\n    }\n\n    .dataframe tbody tr th {\n        vertical-align: top;\n    }\n\n    .dataframe thead th {\n        text-align: right;\n    }\n</style>\n<table border=\"1\" class=\"dataframe\">\n  <thead>\n    <tr style=\"text-align: right;\">\n      <th></th>\n      <th>PAM50_1</th>\n      <th>PAM50_2</th>\n      <th>PAM50_3</th>\n      <th>PAM50_4</th>\n    </tr>\n  </thead>\n  <tbody>\n    <tr>\n      <th>TCGA-A2-A0CM</th>\n      <td>0</td>\n      <td>1</td>\n      <td>0</td>\n      <td>0</td>\n    </tr>\n    <tr>\n      <th>TCGA-A2-A0D2</th>\n      <td>0</td>\n      <td>1</td>\n      <td>0</td>\n      <td>0</td>\n    </tr>\n    <tr>\n      <th>TCGA-A2-A0EQ</th>\n      <td>0</td>\n      <td>0</td>\n      <td>0</td>\n      <td>1</td>\n    </tr>\n    <tr>\n      <th>TCGA-A2-A0EV</th>\n      <td>0</td>\n      <td>0</td>\n      <td>1</td>\n      <td>0</td>\n    </tr>\n    <tr>\n      <th>TCGA-A2-A0EX</th>\n      <td>0</td>\n      <td>0</td>\n      <td>1</td>\n      <td>0</td>\n    </tr>\n  </tbody>\n</table>\n</div>"
     },
     "execution_count": 10,
     "metadata": {},
     "output_type": "execute_result"
    }
   ],
   "source": [
    "Y.head()"
   ]
  },
  {
   "cell_type": "code",
   "execution_count": 11,
   "metadata": {
    "collapsed": false
   },
   "outputs": [],
   "source": [
    "# Save the data\n",
    "torch.save(X, './Results/X')\n",
    "torch.save(Y, './Results/Y')"
   ]
  },
  {
   "cell_type": "markdown",
   "metadata": {
    "collapsed": false
   },
   "source": [
    "## 3. Data Engineering"
   ]
  },
  {
   "cell_type": "code",
   "execution_count": 12,
   "metadata": {
    "collapsed": false
   },
   "outputs": [],
   "source": [
    "# Read the processed data set\n",
    "X = torch.load('./Results/X')\n",
    "Y = torch.load('./Results/Y')"
   ]
  },
  {
   "cell_type": "code",
   "execution_count": 13,
   "metadata": {
    "collapsed": false
   },
   "outputs": [
    {
     "data": {
      "text/plain": "              NP_958782  NP_958785  NP_958786  NP_000436  NP_958781  \\\nTCGA-A2-A0CM   0.683404   0.694424   0.698098   0.687077   0.687077   \nTCGA-A2-A0D2   0.107491   0.104164   0.107491   0.097512   0.104164   \nTCGA-A2-A0EQ  -0.912670  -0.927979  -0.927979  -0.931806  -0.927979   \nTCGA-A2-A0EV   0.452986   0.472590   0.472590   0.458587   0.472590   \nTCGA-A2-A0EX   1.185108   1.192612   1.188860   1.185108   1.200116   \n\n              NP_958780  NP_958783  NP_958784  NP_112598  NP_001611  ...  \\\nTCGA-A2-A0CM   0.698098   0.698098   0.698098  -2.652150  -0.984373  ...   \nTCGA-A2-A0D2   0.104164   0.104164   0.104164  -0.880454  -1.512473  ...   \nTCGA-A2-A0EQ  -0.927979  -0.927979  -0.927979  -3.071151  -2.278943  ...   \nTCGA-A2-A0EV   0.472590   0.472590   0.472590  -0.742871   1.811277  ...   \nTCGA-A2-A0EX   1.188860   1.188860   1.192612   1.046289   2.138081  ...   \n\n              NP_001193600  NP_061134  NP_932347  NP_003593  NP_997203  \\\nTCGA-A2-A0CM           NaN        NaN   1.153614        NaN        NaN   \nTCGA-A2-A0D2      0.919136  -1.648856   0.832649        NaN  -8.324969   \nTCGA-A2-A0EQ     -0.801685        NaN        NaN   3.802310  -6.373934   \nTCGA-A2-A0EV     -4.966177  -1.471027        NaN  -0.474013 -12.278546   \nTCGA-A2-A0EX      1.451490  -2.018981   0.877456        NaN        NaN   \n\n              NP_001191293  NP_775791  NP_004065  NP_068752  NP_219494  \nTCGA-A2-A0CM           NaN        NaN        NaN        NaN        NaN  \nTCGA-A2-A0D2     -4.679219        NaN  -1.106650        NaN  -6.941181  \nTCGA-A2-A0EQ     -1.123160        NaN        NaN        NaN        NaN  \nTCGA-A2-A0EV    -10.337729  -0.653251        NaN        NaN        NaN  \nTCGA-A2-A0EX     -6.101005        NaN  -1.726336        NaN        NaN  \n\n[5 rows x 12553 columns]",
      "text/html": "<div>\n<style scoped>\n    .dataframe tbody tr th:only-of-type {\n        vertical-align: middle;\n    }\n\n    .dataframe tbody tr th {\n        vertical-align: top;\n    }\n\n    .dataframe thead th {\n        text-align: right;\n    }\n</style>\n<table border=\"1\" class=\"dataframe\">\n  <thead>\n    <tr style=\"text-align: right;\">\n      <th></th>\n      <th>NP_958782</th>\n      <th>NP_958785</th>\n      <th>NP_958786</th>\n      <th>NP_000436</th>\n      <th>NP_958781</th>\n      <th>NP_958780</th>\n      <th>NP_958783</th>\n      <th>NP_958784</th>\n      <th>NP_112598</th>\n      <th>NP_001611</th>\n      <th>...</th>\n      <th>NP_001193600</th>\n      <th>NP_061134</th>\n      <th>NP_932347</th>\n      <th>NP_003593</th>\n      <th>NP_997203</th>\n      <th>NP_001191293</th>\n      <th>NP_775791</th>\n      <th>NP_004065</th>\n      <th>NP_068752</th>\n      <th>NP_219494</th>\n    </tr>\n  </thead>\n  <tbody>\n    <tr>\n      <th>TCGA-A2-A0CM</th>\n      <td>0.683404</td>\n      <td>0.694424</td>\n      <td>0.698098</td>\n      <td>0.687077</td>\n      <td>0.687077</td>\n      <td>0.698098</td>\n      <td>0.698098</td>\n      <td>0.698098</td>\n      <td>-2.652150</td>\n      <td>-0.984373</td>\n      <td>...</td>\n      <td>NaN</td>\n      <td>NaN</td>\n      <td>1.153614</td>\n      <td>NaN</td>\n      <td>NaN</td>\n      <td>NaN</td>\n      <td>NaN</td>\n      <td>NaN</td>\n      <td>NaN</td>\n      <td>NaN</td>\n    </tr>\n    <tr>\n      <th>TCGA-A2-A0D2</th>\n      <td>0.107491</td>\n      <td>0.104164</td>\n      <td>0.107491</td>\n      <td>0.097512</td>\n      <td>0.104164</td>\n      <td>0.104164</td>\n      <td>0.104164</td>\n      <td>0.104164</td>\n      <td>-0.880454</td>\n      <td>-1.512473</td>\n      <td>...</td>\n      <td>0.919136</td>\n      <td>-1.648856</td>\n      <td>0.832649</td>\n      <td>NaN</td>\n      <td>-8.324969</td>\n      <td>-4.679219</td>\n      <td>NaN</td>\n      <td>-1.106650</td>\n      <td>NaN</td>\n      <td>-6.941181</td>\n    </tr>\n    <tr>\n      <th>TCGA-A2-A0EQ</th>\n      <td>-0.912670</td>\n      <td>-0.927979</td>\n      <td>-0.927979</td>\n      <td>-0.931806</td>\n      <td>-0.927979</td>\n      <td>-0.927979</td>\n      <td>-0.927979</td>\n      <td>-0.927979</td>\n      <td>-3.071151</td>\n      <td>-2.278943</td>\n      <td>...</td>\n      <td>-0.801685</td>\n      <td>NaN</td>\n      <td>NaN</td>\n      <td>3.802310</td>\n      <td>-6.373934</td>\n      <td>-1.123160</td>\n      <td>NaN</td>\n      <td>NaN</td>\n      <td>NaN</td>\n      <td>NaN</td>\n    </tr>\n    <tr>\n      <th>TCGA-A2-A0EV</th>\n      <td>0.452986</td>\n      <td>0.472590</td>\n      <td>0.472590</td>\n      <td>0.458587</td>\n      <td>0.472590</td>\n      <td>0.472590</td>\n      <td>0.472590</td>\n      <td>0.472590</td>\n      <td>-0.742871</td>\n      <td>1.811277</td>\n      <td>...</td>\n      <td>-4.966177</td>\n      <td>-1.471027</td>\n      <td>NaN</td>\n      <td>-0.474013</td>\n      <td>-12.278546</td>\n      <td>-10.337729</td>\n      <td>-0.653251</td>\n      <td>NaN</td>\n      <td>NaN</td>\n      <td>NaN</td>\n    </tr>\n    <tr>\n      <th>TCGA-A2-A0EX</th>\n      <td>1.185108</td>\n      <td>1.192612</td>\n      <td>1.188860</td>\n      <td>1.185108</td>\n      <td>1.200116</td>\n      <td>1.188860</td>\n      <td>1.188860</td>\n      <td>1.192612</td>\n      <td>1.046289</td>\n      <td>2.138081</td>\n      <td>...</td>\n      <td>1.451490</td>\n      <td>-2.018981</td>\n      <td>0.877456</td>\n      <td>NaN</td>\n      <td>NaN</td>\n      <td>-6.101005</td>\n      <td>NaN</td>\n      <td>-1.726336</td>\n      <td>NaN</td>\n      <td>NaN</td>\n    </tr>\n  </tbody>\n</table>\n<p>5 rows × 12553 columns</p>\n</div>"
     },
     "execution_count": 13,
     "metadata": {},
     "output_type": "execute_result"
    }
   ],
   "source": [
    "X.head()"
   ]
  },
  {
   "cell_type": "code",
   "execution_count": 14,
   "metadata": {
    "collapsed": false
   },
   "outputs": [
    {
     "data": {
      "text/plain": "              PAM50_1  PAM50_2  PAM50_3  PAM50_4\nTCGA-A2-A0CM        0        1        0        0\nTCGA-A2-A0D2        0        1        0        0\nTCGA-A2-A0EQ        0        0        0        1\nTCGA-A2-A0EV        0        0        1        0\nTCGA-A2-A0EX        0        0        1        0",
      "text/html": "<div>\n<style scoped>\n    .dataframe tbody tr th:only-of-type {\n        vertical-align: middle;\n    }\n\n    .dataframe tbody tr th {\n        vertical-align: top;\n    }\n\n    .dataframe thead th {\n        text-align: right;\n    }\n</style>\n<table border=\"1\" class=\"dataframe\">\n  <thead>\n    <tr style=\"text-align: right;\">\n      <th></th>\n      <th>PAM50_1</th>\n      <th>PAM50_2</th>\n      <th>PAM50_3</th>\n      <th>PAM50_4</th>\n    </tr>\n  </thead>\n  <tbody>\n    <tr>\n      <th>TCGA-A2-A0CM</th>\n      <td>0</td>\n      <td>1</td>\n      <td>0</td>\n      <td>0</td>\n    </tr>\n    <tr>\n      <th>TCGA-A2-A0D2</th>\n      <td>0</td>\n      <td>1</td>\n      <td>0</td>\n      <td>0</td>\n    </tr>\n    <tr>\n      <th>TCGA-A2-A0EQ</th>\n      <td>0</td>\n      <td>0</td>\n      <td>0</td>\n      <td>1</td>\n    </tr>\n    <tr>\n      <th>TCGA-A2-A0EV</th>\n      <td>0</td>\n      <td>0</td>\n      <td>1</td>\n      <td>0</td>\n    </tr>\n    <tr>\n      <th>TCGA-A2-A0EX</th>\n      <td>0</td>\n      <td>0</td>\n      <td>1</td>\n      <td>0</td>\n    </tr>\n  </tbody>\n</table>\n</div>"
     },
     "execution_count": 14,
     "metadata": {},
     "output_type": "execute_result"
    }
   ],
   "source": [
    "Y.head()"
   ]
  },
  {
   "cell_type": "markdown",
   "metadata": {
    "collapsed": false
   },
   "source": [
    "### 3.1 Missing value process\n",
    "We drop all the columns with nan values"
   ]
  },
  {
   "cell_type": "code",
   "execution_count": 15,
   "metadata": {
    "collapsed": false
   },
   "outputs": [],
   "source": [
    "nan_counts = np.sum(X.isna(), axis=0)\n",
    "col_to_drop = nan_counts[nan_counts != 0].index\n",
    "X.drop(col_to_drop, axis=1, inplace=True)"
   ]
  },
  {
   "cell_type": "code",
   "execution_count": 16,
   "metadata": {
    "collapsed": false
   },
   "outputs": [
    {
     "data": {
      "text/plain": "(74, 8023)"
     },
     "execution_count": 16,
     "metadata": {},
     "output_type": "execute_result"
    }
   ],
   "source": [
    "X.shape"
   ]
  },
  {
   "cell_type": "markdown",
   "metadata": {
    "collapsed": false
   },
   "source": [
    "### 3.2 Data Scaling\n",
    "We use the standardization for each feature of the data set"
   ]
  },
  {
   "cell_type": "code",
   "execution_count": 17,
   "metadata": {
    "collapsed": false
   },
   "outputs": [
    {
     "data": {
      "text/plain": "(74, 8023)"
     },
     "execution_count": 17,
     "metadata": {},
     "output_type": "execute_result"
    }
   ],
   "source": [
    "col_names = X.columns\n",
    "idx = X.index\n",
    "scaler = StandardScaler()\n",
    "X_scaled = pd.DataFrame(scaler.fit_transform(X), columns=col_names, index=idx)\n",
    "X_scaled.shape"
   ]
  },
  {
   "cell_type": "code",
   "execution_count": 18,
   "metadata": {
    "collapsed": false
   },
   "outputs": [
    {
     "data": {
      "text/plain": "              NP_958782  NP_958785  NP_958786  NP_000436  NP_958781  \\\nTCGA-A2-A0CM   0.452431   0.457240   0.461851   0.454087   0.449388   \nTCGA-A2-A0D2  -0.172432  -0.181569  -0.177678  -0.185102  -0.181181   \nTCGA-A2-A0EQ  -1.279303  -1.298605  -1.298919  -1.301058  -1.297708   \nTCGA-A2-A0EV   0.202429   0.217160   0.217664   0.206365   0.217365   \nTCGA-A2-A0EX   0.996779   0.996403   0.993265   0.994038   1.004370   \n...                 ...        ...        ...        ...        ...   \nTCGA-C8-A138   2.711043   2.714039   2.715889   2.742683   2.721017   \nTCGA-D8-A142   0.295315   0.292507   0.293051   0.289189   0.292678   \nTCGA-E2-A154   0.646923   0.647458   0.648194   0.648529   0.647467   \nTCGA-E2-A158  -1.467939  -1.479897  -1.480308  -1.478522  -1.478917   \nTCGA-E2-A15A   2.076366   2.065137   2.066638   2.072804   2.064499   \n\n              NP_958780  NP_958783  NP_958784  NP_112598  NP_001611  ...  \\\nTCGA-A2-A0CM   0.461992   0.462014   0.461871  -1.154705  -0.927883  ...   \nTCGA-A2-A0D2  -0.181168  -0.180454  -0.180530  -0.262565  -1.283112  ...   \nTCGA-A2-A0EQ  -1.298859  -1.296940  -1.296900  -1.365693  -1.798682  ...   \nTCGA-A2-A0EV   0.217794   0.218079   0.217961  -0.193284   0.952625  ...   \nTCGA-A2-A0EX   0.993431   0.992880   0.996740   0.707650   1.172451  ...   \n...                 ...        ...        ...        ...        ...  ...   \nTCGA-C8-A138   2.716135   2.717684   2.717306   1.291391   0.238750  ...   \nTCGA-D8-A142   0.293185   0.293388   0.293263   0.106161  -0.085811  ...   \nTCGA-E2-A154   0.648344   0.648165   0.648002   1.147694   1.314459  ...   \nTCGA-E2-A158  -1.477830  -1.475718  -1.475660   0.229446  -1.038804  ...   \nTCGA-E2-A15A   2.066853   2.065146   2.064836   1.143434   0.337105  ...   \n\n              NP_001652  NP_071753  NP_001294  NP_065775  NP_001094348  \\\nTCGA-A2-A0CM   0.044546  -0.965931   0.677192   0.362810     -0.448672   \nTCGA-A2-A0D2   0.780823   0.803122   0.274983   0.640327      0.336494   \nTCGA-A2-A0EQ   0.779414   0.489079   0.336844   0.928380      0.638359   \nTCGA-A2-A0EV   0.392444   0.600195   0.721871   0.920962     -1.391716   \nTCGA-A2-A0EX   0.777902   0.828705   0.845406   0.301582     -0.061610   \n...                 ...        ...        ...        ...           ...   \nTCGA-C8-A138  -1.915083  -1.072697  -0.528912  -0.570562      0.774013   \nTCGA-D8-A142   0.596749   1.741597   0.734238   0.423549      0.241682   \nTCGA-E2-A154   0.540979  -0.460462  -1.040990  -0.542866     -0.580825   \nTCGA-E2-A158   0.403608  -0.114534   0.753064  -0.238230      0.690123   \nTCGA-E2-A15A   0.773730  -0.032524   0.186504   0.954949      0.295237   \n\n              XP_003846524  NP_443073  NP_001004456  NP_997625  NP_003270  \nTCGA-A2-A0CM      0.278981  -0.212651      0.434459  -0.183720   0.450670  \nTCGA-A2-A0D2     -0.556361  -0.097150     -0.132248   0.073308   0.166313  \nTCGA-A2-A0EQ      0.067456   0.325932     -0.109886  -0.094616   0.004053  \nTCGA-A2-A0EV     -1.922260   0.473734      1.559915  -0.154031  -1.207976  \nTCGA-A2-A0EX      0.251906   0.428227      1.128522   1.486423   0.941278  \n...                    ...        ...           ...        ...        ...  \nTCGA-C8-A138      1.149504  -1.650540     -0.149274  -1.312052  -0.234429  \nTCGA-D8-A142      0.089117   1.604141      1.521944   1.118896  -0.334321  \nTCGA-E2-A154     -0.931097   0.500013      1.758582   0.266633  -0.300594  \nTCGA-E2-A158      0.557149  -0.250745     -0.112657  -0.280932   1.171750  \nTCGA-E2-A15A      0.875008  -0.346156     -0.913560  -0.545462   1.035328  \n\n[74 rows x 8023 columns]",
      "text/html": "<div>\n<style scoped>\n    .dataframe tbody tr th:only-of-type {\n        vertical-align: middle;\n    }\n\n    .dataframe tbody tr th {\n        vertical-align: top;\n    }\n\n    .dataframe thead th {\n        text-align: right;\n    }\n</style>\n<table border=\"1\" class=\"dataframe\">\n  <thead>\n    <tr style=\"text-align: right;\">\n      <th></th>\n      <th>NP_958782</th>\n      <th>NP_958785</th>\n      <th>NP_958786</th>\n      <th>NP_000436</th>\n      <th>NP_958781</th>\n      <th>NP_958780</th>\n      <th>NP_958783</th>\n      <th>NP_958784</th>\n      <th>NP_112598</th>\n      <th>NP_001611</th>\n      <th>...</th>\n      <th>NP_001652</th>\n      <th>NP_071753</th>\n      <th>NP_001294</th>\n      <th>NP_065775</th>\n      <th>NP_001094348</th>\n      <th>XP_003846524</th>\n      <th>NP_443073</th>\n      <th>NP_001004456</th>\n      <th>NP_997625</th>\n      <th>NP_003270</th>\n    </tr>\n  </thead>\n  <tbody>\n    <tr>\n      <th>TCGA-A2-A0CM</th>\n      <td>0.452431</td>\n      <td>0.457240</td>\n      <td>0.461851</td>\n      <td>0.454087</td>\n      <td>0.449388</td>\n      <td>0.461992</td>\n      <td>0.462014</td>\n      <td>0.461871</td>\n      <td>-1.154705</td>\n      <td>-0.927883</td>\n      <td>...</td>\n      <td>0.044546</td>\n      <td>-0.965931</td>\n      <td>0.677192</td>\n      <td>0.362810</td>\n      <td>-0.448672</td>\n      <td>0.278981</td>\n      <td>-0.212651</td>\n      <td>0.434459</td>\n      <td>-0.183720</td>\n      <td>0.450670</td>\n    </tr>\n    <tr>\n      <th>TCGA-A2-A0D2</th>\n      <td>-0.172432</td>\n      <td>-0.181569</td>\n      <td>-0.177678</td>\n      <td>-0.185102</td>\n      <td>-0.181181</td>\n      <td>-0.181168</td>\n      <td>-0.180454</td>\n      <td>-0.180530</td>\n      <td>-0.262565</td>\n      <td>-1.283112</td>\n      <td>...</td>\n      <td>0.780823</td>\n      <td>0.803122</td>\n      <td>0.274983</td>\n      <td>0.640327</td>\n      <td>0.336494</td>\n      <td>-0.556361</td>\n      <td>-0.097150</td>\n      <td>-0.132248</td>\n      <td>0.073308</td>\n      <td>0.166313</td>\n    </tr>\n    <tr>\n      <th>TCGA-A2-A0EQ</th>\n      <td>-1.279303</td>\n      <td>-1.298605</td>\n      <td>-1.298919</td>\n      <td>-1.301058</td>\n      <td>-1.297708</td>\n      <td>-1.298859</td>\n      <td>-1.296940</td>\n      <td>-1.296900</td>\n      <td>-1.365693</td>\n      <td>-1.798682</td>\n      <td>...</td>\n      <td>0.779414</td>\n      <td>0.489079</td>\n      <td>0.336844</td>\n      <td>0.928380</td>\n      <td>0.638359</td>\n      <td>0.067456</td>\n      <td>0.325932</td>\n      <td>-0.109886</td>\n      <td>-0.094616</td>\n      <td>0.004053</td>\n    </tr>\n    <tr>\n      <th>TCGA-A2-A0EV</th>\n      <td>0.202429</td>\n      <td>0.217160</td>\n      <td>0.217664</td>\n      <td>0.206365</td>\n      <td>0.217365</td>\n      <td>0.217794</td>\n      <td>0.218079</td>\n      <td>0.217961</td>\n      <td>-0.193284</td>\n      <td>0.952625</td>\n      <td>...</td>\n      <td>0.392444</td>\n      <td>0.600195</td>\n      <td>0.721871</td>\n      <td>0.920962</td>\n      <td>-1.391716</td>\n      <td>-1.922260</td>\n      <td>0.473734</td>\n      <td>1.559915</td>\n      <td>-0.154031</td>\n      <td>-1.207976</td>\n    </tr>\n    <tr>\n      <th>TCGA-A2-A0EX</th>\n      <td>0.996779</td>\n      <td>0.996403</td>\n      <td>0.993265</td>\n      <td>0.994038</td>\n      <td>1.004370</td>\n      <td>0.993431</td>\n      <td>0.992880</td>\n      <td>0.996740</td>\n      <td>0.707650</td>\n      <td>1.172451</td>\n      <td>...</td>\n      <td>0.777902</td>\n      <td>0.828705</td>\n      <td>0.845406</td>\n      <td>0.301582</td>\n      <td>-0.061610</td>\n      <td>0.251906</td>\n      <td>0.428227</td>\n      <td>1.128522</td>\n      <td>1.486423</td>\n      <td>0.941278</td>\n    </tr>\n    <tr>\n      <th>...</th>\n      <td>...</td>\n      <td>...</td>\n      <td>...</td>\n      <td>...</td>\n      <td>...</td>\n      <td>...</td>\n      <td>...</td>\n      <td>...</td>\n      <td>...</td>\n      <td>...</td>\n      <td>...</td>\n      <td>...</td>\n      <td>...</td>\n      <td>...</td>\n      <td>...</td>\n      <td>...</td>\n      <td>...</td>\n      <td>...</td>\n      <td>...</td>\n      <td>...</td>\n      <td>...</td>\n    </tr>\n    <tr>\n      <th>TCGA-C8-A138</th>\n      <td>2.711043</td>\n      <td>2.714039</td>\n      <td>2.715889</td>\n      <td>2.742683</td>\n      <td>2.721017</td>\n      <td>2.716135</td>\n      <td>2.717684</td>\n      <td>2.717306</td>\n      <td>1.291391</td>\n      <td>0.238750</td>\n      <td>...</td>\n      <td>-1.915083</td>\n      <td>-1.072697</td>\n      <td>-0.528912</td>\n      <td>-0.570562</td>\n      <td>0.774013</td>\n      <td>1.149504</td>\n      <td>-1.650540</td>\n      <td>-0.149274</td>\n      <td>-1.312052</td>\n      <td>-0.234429</td>\n    </tr>\n    <tr>\n      <th>TCGA-D8-A142</th>\n      <td>0.295315</td>\n      <td>0.292507</td>\n      <td>0.293051</td>\n      <td>0.289189</td>\n      <td>0.292678</td>\n      <td>0.293185</td>\n      <td>0.293388</td>\n      <td>0.293263</td>\n      <td>0.106161</td>\n      <td>-0.085811</td>\n      <td>...</td>\n      <td>0.596749</td>\n      <td>1.741597</td>\n      <td>0.734238</td>\n      <td>0.423549</td>\n      <td>0.241682</td>\n      <td>0.089117</td>\n      <td>1.604141</td>\n      <td>1.521944</td>\n      <td>1.118896</td>\n      <td>-0.334321</td>\n    </tr>\n    <tr>\n      <th>TCGA-E2-A154</th>\n      <td>0.646923</td>\n      <td>0.647458</td>\n      <td>0.648194</td>\n      <td>0.648529</td>\n      <td>0.647467</td>\n      <td>0.648344</td>\n      <td>0.648165</td>\n      <td>0.648002</td>\n      <td>1.147694</td>\n      <td>1.314459</td>\n      <td>...</td>\n      <td>0.540979</td>\n      <td>-0.460462</td>\n      <td>-1.040990</td>\n      <td>-0.542866</td>\n      <td>-0.580825</td>\n      <td>-0.931097</td>\n      <td>0.500013</td>\n      <td>1.758582</td>\n      <td>0.266633</td>\n      <td>-0.300594</td>\n    </tr>\n    <tr>\n      <th>TCGA-E2-A158</th>\n      <td>-1.467939</td>\n      <td>-1.479897</td>\n      <td>-1.480308</td>\n      <td>-1.478522</td>\n      <td>-1.478917</td>\n      <td>-1.477830</td>\n      <td>-1.475718</td>\n      <td>-1.475660</td>\n      <td>0.229446</td>\n      <td>-1.038804</td>\n      <td>...</td>\n      <td>0.403608</td>\n      <td>-0.114534</td>\n      <td>0.753064</td>\n      <td>-0.238230</td>\n      <td>0.690123</td>\n      <td>0.557149</td>\n      <td>-0.250745</td>\n      <td>-0.112657</td>\n      <td>-0.280932</td>\n      <td>1.171750</td>\n    </tr>\n    <tr>\n      <th>TCGA-E2-A15A</th>\n      <td>2.076366</td>\n      <td>2.065137</td>\n      <td>2.066638</td>\n      <td>2.072804</td>\n      <td>2.064499</td>\n      <td>2.066853</td>\n      <td>2.065146</td>\n      <td>2.064836</td>\n      <td>1.143434</td>\n      <td>0.337105</td>\n      <td>...</td>\n      <td>0.773730</td>\n      <td>-0.032524</td>\n      <td>0.186504</td>\n      <td>0.954949</td>\n      <td>0.295237</td>\n      <td>0.875008</td>\n      <td>-0.346156</td>\n      <td>-0.913560</td>\n      <td>-0.545462</td>\n      <td>1.035328</td>\n    </tr>\n  </tbody>\n</table>\n<p>74 rows × 8023 columns</p>\n</div>"
     },
     "execution_count": 18,
     "metadata": {},
     "output_type": "execute_result"
    }
   ],
   "source": [
    "X_scaled"
   ]
  },
  {
   "cell_type": "code",
   "execution_count": 19,
   "metadata": {
    "collapsed": false
   },
   "outputs": [
    {
     "data": {
      "text/plain": "              PAM50_1  PAM50_2  PAM50_3  PAM50_4\nTCGA-A2-A0CM        0        1        0        0\nTCGA-A2-A0D2        0        1        0        0\nTCGA-A2-A0EQ        0        0        0        1\nTCGA-A2-A0EV        0        0        1        0\nTCGA-A2-A0EX        0        0        1        0\n...               ...      ...      ...      ...\nTCGA-C8-A138        1        0        0        0\nTCGA-D8-A142        0        1        0        0\nTCGA-E2-A154        0        0        1        0\nTCGA-E2-A158        0        1        0        0\nTCGA-E2-A15A        0        0        0        1\n\n[74 rows x 4 columns]",
      "text/html": "<div>\n<style scoped>\n    .dataframe tbody tr th:only-of-type {\n        vertical-align: middle;\n    }\n\n    .dataframe tbody tr th {\n        vertical-align: top;\n    }\n\n    .dataframe thead th {\n        text-align: right;\n    }\n</style>\n<table border=\"1\" class=\"dataframe\">\n  <thead>\n    <tr style=\"text-align: right;\">\n      <th></th>\n      <th>PAM50_1</th>\n      <th>PAM50_2</th>\n      <th>PAM50_3</th>\n      <th>PAM50_4</th>\n    </tr>\n  </thead>\n  <tbody>\n    <tr>\n      <th>TCGA-A2-A0CM</th>\n      <td>0</td>\n      <td>1</td>\n      <td>0</td>\n      <td>0</td>\n    </tr>\n    <tr>\n      <th>TCGA-A2-A0D2</th>\n      <td>0</td>\n      <td>1</td>\n      <td>0</td>\n      <td>0</td>\n    </tr>\n    <tr>\n      <th>TCGA-A2-A0EQ</th>\n      <td>0</td>\n      <td>0</td>\n      <td>0</td>\n      <td>1</td>\n    </tr>\n    <tr>\n      <th>TCGA-A2-A0EV</th>\n      <td>0</td>\n      <td>0</td>\n      <td>1</td>\n      <td>0</td>\n    </tr>\n    <tr>\n      <th>TCGA-A2-A0EX</th>\n      <td>0</td>\n      <td>0</td>\n      <td>1</td>\n      <td>0</td>\n    </tr>\n    <tr>\n      <th>...</th>\n      <td>...</td>\n      <td>...</td>\n      <td>...</td>\n      <td>...</td>\n    </tr>\n    <tr>\n      <th>TCGA-C8-A138</th>\n      <td>1</td>\n      <td>0</td>\n      <td>0</td>\n      <td>0</td>\n    </tr>\n    <tr>\n      <th>TCGA-D8-A142</th>\n      <td>0</td>\n      <td>1</td>\n      <td>0</td>\n      <td>0</td>\n    </tr>\n    <tr>\n      <th>TCGA-E2-A154</th>\n      <td>0</td>\n      <td>0</td>\n      <td>1</td>\n      <td>0</td>\n    </tr>\n    <tr>\n      <th>TCGA-E2-A158</th>\n      <td>0</td>\n      <td>1</td>\n      <td>0</td>\n      <td>0</td>\n    </tr>\n    <tr>\n      <th>TCGA-E2-A15A</th>\n      <td>0</td>\n      <td>0</td>\n      <td>0</td>\n      <td>1</td>\n    </tr>\n  </tbody>\n</table>\n<p>74 rows × 4 columns</p>\n</div>"
     },
     "execution_count": 19,
     "metadata": {},
     "output_type": "execute_result"
    }
   ],
   "source": [
    "Y"
   ]
  },
  {
   "cell_type": "markdown",
   "metadata": {
    "collapsed": false
   },
   "source": [
    "## 4. Basic model"
   ]
  },
  {
   "cell_type": "markdown",
   "metadata": {
    "collapsed": false
   },
   "source": [
    "### 4.1 K-Means model"
   ]
  },
  {
   "cell_type": "code",
   "execution_count": 20,
   "metadata": {
    "collapsed": false
   },
   "outputs": [],
   "source": [
    "kmeans = KMeans(n_clusters=4, algorithm='full').fit(X_scaled)\n",
    "pred0 = kmeans.labels_"
   ]
  },
  {
   "cell_type": "markdown",
   "metadata": {
    "collapsed": false
   },
   "source": [
    "### 4.2 Evaluation Metric"
   ]
  },
  {
   "cell_type": "code",
   "execution_count": 21,
   "metadata": {
    "collapsed": false
   },
   "outputs": [],
   "source": [
    "\n",
    "# https://medium.com/data-science-in-your-pocket/calculating-precision-recall-for-multi-class-classification-9055931ee229 \n",
    "\n",
    "\n",
    "permutation_matrices = []\n",
    "for i in itertools.permutations([0, 1, 2, 3]):\n",
    "    matrix = np.zeros((4, 4))\n",
    "    for j in range(len(matrix)):\n",
    "        matrix[j][i[j]] = 1\n",
    "\n",
    "    permutation_matrices.append(matrix)\n",
    "\n",
    "\n",
    "\n",
    "def get_dataframe(y_array_pred, y_true):\n",
    "    pred = pd.DataFrame(pd.get_dummies(y_array_pred))\n",
    "    pred.columns = ['cluster_' + str(x) for x in range(1, 5)]\n",
    "    pred = pred.set_index(y_true.index)\n",
    "    return(pred)\n",
    "\n",
    "\n",
    "\n",
    "def calculate_mean_prec(matrix):\n",
    "    matrix = np.array(matrix)\n",
    "    assert(matrix.shape[0]==matrix.shape[1]), f\"matrix must be squared, same number of true labels {matrix.shape[0]} as predicted{matrix.shape[1]}\"\n",
    "\n",
    "    prec = np.zeros(len(matrix))\n",
    "\n",
    "    for i in range(len(matrix)):\n",
    "        true_pos_classified_pos = matrix[i][i]\n",
    "        classified_pos= np.sum(matrix[i])\n",
    "        prec[i] = true_pos_classified_pos/classified_pos\n",
    "    \n",
    "    return np.mean(prec)\n",
    "\n",
    "def calculate_mean_recall(matrix):\n",
    "    matrix = np.array(matrix)\n",
    "    assert(matrix.shape[0]==matrix.shape[1]), f\"matrix must be squared, same number of true labels {matrix.shape[0]} as predicted{matrix.shape[1]}\"\n",
    "\n",
    "    rec = np.zeros(len(matrix.T))\n",
    "\n",
    "    for i in range(len(matrix.T)):\n",
    "        true_pos_classified_pos = matrix.T[i][i]\n",
    "        true_pos= np.sum(matrix.T[i])\n",
    "        rec[i] = true_pos_classified_pos/true_pos\n",
    "\n",
    "    return np.mean(rec)\n",
    "\n",
    "\n",
    "def model_eval(y_true, y_pred):\n",
    "\n",
    "    length = len(y_true.T)\n",
    "    assert (y_pred.shape==y_true.shape), f\"expected same shape of colums for both y_true: {y_true.shape} and y_pred {y_pred.shape}\"\n",
    "    \n",
    "    matrix = np.zeros((length, length))\n",
    "\n",
    "    indi = 0\n",
    "    for i in y_pred.T.index:\n",
    "        indj = 0\n",
    "        for j in y_true.T.index:\n",
    "            matrix[indi][indj] += np.array(y_pred[i]) @ np.array(y_true[j])\n",
    "            indj+=1\n",
    "        indi+=1\n",
    "\n",
    "    \n",
    "    matrix = pd.DataFrame(matrix, columns=y_true.T.index, index=y_pred.T.index)\n",
    "\n",
    "\n",
    "    best_perm = None\n",
    "    best_Fscore = 0\n",
    "    best_prec = 0\n",
    "    best_rec = 0\n",
    "\n",
    "    ## version 3.0\n",
    "    for permu_mat in permutation_matrices:\n",
    "        M = permu_mat@matrix\n",
    "\n",
    "        prec = calculate_mean_prec(M)\n",
    "        rec = calculate_mean_recall(M)\n",
    "\n",
    "        Fscore = 2/(1/prec + 1/rec)\n",
    "        \n",
    "        if Fscore > best_Fscore:\n",
    "            best_perm = permu_mat\n",
    "            best_Fscore = Fscore\n",
    "            best_prec = prec\n",
    "            best_rec = rec\n",
    "    \n",
    "    new_matrix = best_perm@matrix\n",
    "\n",
    "    indexes = []\n",
    "    for i in range(len(best_perm)):\n",
    "        for j in range(len(best_perm)):\n",
    "            if best_perm[i][j]==1:\n",
    "                indexes.append(matrix.index[j])\n",
    "\n",
    "\n",
    "    new_matrix.index = indexes\n",
    "\n",
    "    return new_matrix, best_Fscore, best_prec, best_rec"
   ]
  },
  {
   "cell_type": "code",
   "execution_count": 22,
   "metadata": {
    "collapsed": false
   },
   "outputs": [
    {
     "data": {
      "text/plain": "           PAM50_1  PAM50_2  PAM50_3  PAM50_4\ncluster_3      4.0      0.0      2.0      3.0\ncluster_4      3.0     10.0      3.0      6.0\ncluster_2      1.0      4.0     13.0      6.0\ncluster_1      2.0      4.0      5.0      8.0",
      "text/html": "<div>\n<style scoped>\n    .dataframe tbody tr th:only-of-type {\n        vertical-align: middle;\n    }\n\n    .dataframe tbody tr th {\n        vertical-align: top;\n    }\n\n    .dataframe thead th {\n        text-align: right;\n    }\n</style>\n<table border=\"1\" class=\"dataframe\">\n  <thead>\n    <tr style=\"text-align: right;\">\n      <th></th>\n      <th>PAM50_1</th>\n      <th>PAM50_2</th>\n      <th>PAM50_3</th>\n      <th>PAM50_4</th>\n    </tr>\n  </thead>\n  <tbody>\n    <tr>\n      <th>cluster_3</th>\n      <td>4.0</td>\n      <td>0.0</td>\n      <td>2.0</td>\n      <td>3.0</td>\n    </tr>\n    <tr>\n      <th>cluster_4</th>\n      <td>3.0</td>\n      <td>10.0</td>\n      <td>3.0</td>\n      <td>6.0</td>\n    </tr>\n    <tr>\n      <th>cluster_2</th>\n      <td>1.0</td>\n      <td>4.0</td>\n      <td>13.0</td>\n      <td>6.0</td>\n    </tr>\n    <tr>\n      <th>cluster_1</th>\n      <td>2.0</td>\n      <td>4.0</td>\n      <td>5.0</td>\n      <td>8.0</td>\n    </tr>\n  </tbody>\n</table>\n</div>"
     },
     "execution_count": 22,
     "metadata": {},
     "output_type": "execute_result"
    }
   ],
   "source": [
    "y_pred = get_dataframe(pred0, Y)\n",
    "new_matrix, best_Fscore, best_prec, best_rec = model_eval(Y, y_pred)\n",
    "new_matrix"
   ]
  },
  {
   "cell_type": "code",
   "execution_count": 23,
   "metadata": {
    "collapsed": false
   },
   "outputs": [
    {
     "data": {
      "text/plain": "0.4662869382003349"
     },
     "execution_count": 23,
     "metadata": {},
     "output_type": "execute_result"
    }
   ],
   "source": [
    "best_Fscore"
   ]
  },
  {
   "cell_type": "markdown",
   "metadata": {
    "collapsed": false
   },
   "source": [
    "## 5. Model improvement"
   ]
  },
  {
   "cell_type": "markdown",
   "metadata": {
    "collapsed": false
   },
   "source": [
    "### 5.1 Feature selection"
   ]
  },
  {
   "attachments": {},
   "cell_type": "markdown",
   "metadata": {},
   "source": [
    "#### 5.1.1 One feature only"
   ]
  },
  {
   "cell_type": "code",
   "execution_count": null,
   "metadata": {
    "pycharm": {
     "is_executing": true
    }
   },
   "outputs": [],
   "source": [
    "\n",
    "Fscor_list = []\n",
    "max_Fscore = 0\n",
    "feature_selected = None\n",
    "\n",
    "for i in range(X_scaled.shape[1]):\n",
    "    print(str(i)+\"/\"+str(8022))\n",
    "    X_reduced = np.array(X_scaled.iloc[:, i]).reshape(-1, 1)\n",
    "    k_means = KMeans(n_clusters=4).fit(X_reduced)\n",
    "    pred_ = k_means.labels_\n",
    "    y_pred_ = get_dataframe(pred_, Y)\n",
    "    _, Fscore = model_eval(Y, y_pred_)\n",
    "    Fscor_list.append(Fscore)\n",
    "\n",
    "    if Fscore > max_Fscore:\n",
    "        max_Fscore = Fscore\n",
    "        feature_selected = X_scaled.columns[i]\n",
    "\n",
    "print(max_Fscore)\n",
    "print(feature_selected)"
   ]
  },
  {
   "attachments": {},
   "cell_type": "markdown",
   "metadata": {},
   "source": [
    "#### 5.1.2 PCA on all the features"
   ]
  },
  {
   "cell_type": "code",
   "execution_count": null,
   "metadata": {
    "collapsed": false,
    "pycharm": {
     "is_executing": true
    }
   },
   "outputs": [],
   "source": [
    "fscore_list = []\n",
    "explained_variance = []\n",
    "n_components_list = np.arange(2, 75)\n",
    "for n_components in n_components_list:\n",
    "    # print(n_components)\n",
    "    pca = PCA(n_components=n_components)\n",
    "    pca.fit(X_scaled)\n",
    "    X_reduced = pca.transform(X_scaled)\n",
    "    kmeans = KMeans(n_clusters=4, algorithm='full').fit(X_reduced)\n",
    "    pred_ = kmeans.labels_\n",
    "    y_pred = get_dataframe(pred_, Y)\n",
    "    _, best_Fscore, best_prec, best_rec = model_eval(Y, y_pred)\n",
    "    fscore_list.append(best_Fscore)\n",
    "    explained_variance.append(pca.explained_variance_ratio_)\n",
    "\n"
   ]
  },
  {
   "cell_type": "code",
   "execution_count": null,
   "metadata": {
    "collapsed": false,
    "pycharm": {
     "is_executing": true
    }
   },
   "outputs": [],
   "source": [
    "y_max = np.max(fscore_list) # 0.5989\n",
    "x_max = (np.argmax(fscore_list) + 2) # 67\n",
    "x = n_components_list\n",
    "\n",
    "plt.figure(figsize=(16, 8))\n",
    "plt.plot(x, fscore_list, label='PCA clustering results')\n",
    "plt.plot([x_max], [y_max], 'ro', markersize=8, color='r', label='maximum')\n",
    "plt.ylabel('F-score', fontdict={'fontsize':14})\n",
    "plt.xlabel('Number of componenets', fontdict={'fontsize':14})\n",
    "ax = plt.gca()\n",
    "ax.tick_params(axis='x', which='major', labelsize=12)\n",
    "ax.tick_params(axis='y', which='major', labelsize=12)\n",
    "plt.legend()\n",
    "plt.savefig('./Figures/PCA_feature_selection.pdf')\n",
    "plt.show()\n",
    "\n"
   ]
  },
  {
   "cell_type": "code",
   "execution_count": null,
   "metadata": {
    "pycharm": {
     "is_executing": true
    }
   },
   "outputs": [],
   "source": [
    "# #test  PCA\n",
    "\n",
    "# fscore_list = []\n",
    "# explained_variance = []\n",
    "# n_components_list = np.arange(2, 75)\n",
    "\n",
    "# for i in range(49):\n",
    "#     print(i)\n",
    "#     GX = np.random.normal(0, 1, X_scaled.shape)\n",
    "#     for n_components in n_components_list:\n",
    "#         # print(n_components)\n",
    "#         pca = PCA(n_components=n_components)\n",
    "#         pca.fit(GX)\n",
    "#         X_reduced = pca.transform(GX)\n",
    "#         kmeans = KMeans(n_clusters=4, algorithm='full').fit(X_reduced)\n",
    "#         pred_ = kmeans.labels_\n",
    "#         y_pred = get_dataframe(pred_, Y)\n",
    "#         _, best_Fscore, best_prec, best_rec = model_eval(Y, y_pred)\n",
    "#         fscore_list.append(best_Fscore)\n",
    "#         explained_variance.append(pca.explained_variance_ratio_)\n",
    "\n"
   ]
  },
  {
   "cell_type": "code",
   "execution_count": null,
   "metadata": {
    "pycharm": {
     "is_executing": true
    }
   },
   "outputs": [],
   "source": [
    "# fscore_list = np.array(fscore_list)\n",
    "\n",
    "# print(max(fscore_list))\n",
    "# plt.hist(fscore_list, 50)\n",
    "# plt.xlim([0, 1])\n",
    "# plt.title(\"Histogram of Fscores when performing 49 times the pca test with random data\")\n",
    "# plt.xlabel(\"F-score\")"
   ]
  },
  {
   "attachments": {},
   "cell_type": "markdown",
   "metadata": {},
   "source": [
    "#### 5.1.3 Kernel PCA"
   ]
  },
  {
   "cell_type": "code",
   "execution_count": 24,
   "metadata": {
    "collapsed": false
   },
   "outputs": [
    {
     "ename": "KeyboardInterrupt",
     "evalue": "",
     "output_type": "error",
     "traceback": [
      "\u001B[0;31m---------------------------------------------------------------------------\u001B[0m",
      "\u001B[0;31mKeyboardInterrupt\u001B[0m                         Traceback (most recent call last)",
      "\u001B[0;32m/var/folders/p9/1bnh9_q90b5c28x182btbjsm0000gn/T/ipykernel_92844/736103373.py\u001B[0m in \u001B[0;36m<module>\u001B[0;34m\u001B[0m\n\u001B[1;32m      5\u001B[0m     \u001B[0mkpca\u001B[0m \u001B[0;34m=\u001B[0m \u001B[0mKernelPCA\u001B[0m\u001B[0;34m(\u001B[0m\u001B[0mn_components\u001B[0m\u001B[0;34m=\u001B[0m\u001B[0mn_components\u001B[0m\u001B[0;34m,\u001B[0m \u001B[0mkernel\u001B[0m\u001B[0;34m=\u001B[0m\u001B[0;34m'rbf'\u001B[0m\u001B[0;34m)\u001B[0m\u001B[0;34m\u001B[0m\u001B[0;34m\u001B[0m\u001B[0m\n\u001B[1;32m      6\u001B[0m     \u001B[0mkpca\u001B[0m\u001B[0;34m.\u001B[0m\u001B[0mfit\u001B[0m\u001B[0;34m(\u001B[0m\u001B[0mX_scaled\u001B[0m\u001B[0;34m)\u001B[0m\u001B[0;34m\u001B[0m\u001B[0;34m\u001B[0m\u001B[0m\n\u001B[0;32m----> 7\u001B[0;31m     \u001B[0mX_reduced\u001B[0m \u001B[0;34m=\u001B[0m \u001B[0mkpca\u001B[0m\u001B[0;34m.\u001B[0m\u001B[0mtransform\u001B[0m\u001B[0;34m(\u001B[0m\u001B[0mX_scaled\u001B[0m\u001B[0;34m)\u001B[0m\u001B[0;34m\u001B[0m\u001B[0;34m\u001B[0m\u001B[0m\n\u001B[0m\u001B[1;32m      8\u001B[0m     \u001B[0mkmeans\u001B[0m \u001B[0;34m=\u001B[0m \u001B[0mKMeans\u001B[0m\u001B[0;34m(\u001B[0m\u001B[0mn_clusters\u001B[0m\u001B[0;34m=\u001B[0m\u001B[0;36m4\u001B[0m\u001B[0;34m,\u001B[0m \u001B[0malgorithm\u001B[0m\u001B[0;34m=\u001B[0m\u001B[0;34m'full'\u001B[0m\u001B[0;34m)\u001B[0m\u001B[0;34m.\u001B[0m\u001B[0mfit\u001B[0m\u001B[0;34m(\u001B[0m\u001B[0mX_reduced\u001B[0m\u001B[0;34m)\u001B[0m\u001B[0;34m\u001B[0m\u001B[0;34m\u001B[0m\u001B[0m\n\u001B[1;32m      9\u001B[0m     \u001B[0mpred_\u001B[0m \u001B[0;34m=\u001B[0m \u001B[0mkmeans\u001B[0m\u001B[0;34m.\u001B[0m\u001B[0mlabels_\u001B[0m\u001B[0;34m\u001B[0m\u001B[0;34m\u001B[0m\u001B[0m\n",
      "\u001B[0;32m~/opt/anaconda3/lib/python3.7/site-packages/sklearn/decomposition/_kernel_pca.py\u001B[0m in \u001B[0;36mtransform\u001B[0;34m(self, X)\u001B[0m\n\u001B[1;32m    487\u001B[0m         \"\"\"\n\u001B[1;32m    488\u001B[0m         \u001B[0mcheck_is_fitted\u001B[0m\u001B[0;34m(\u001B[0m\u001B[0mself\u001B[0m\u001B[0;34m)\u001B[0m\u001B[0;34m\u001B[0m\u001B[0;34m\u001B[0m\u001B[0m\n\u001B[0;32m--> 489\u001B[0;31m         \u001B[0mX\u001B[0m \u001B[0;34m=\u001B[0m \u001B[0mself\u001B[0m\u001B[0;34m.\u001B[0m\u001B[0m_validate_data\u001B[0m\u001B[0;34m(\u001B[0m\u001B[0mX\u001B[0m\u001B[0;34m,\u001B[0m \u001B[0maccept_sparse\u001B[0m\u001B[0;34m=\u001B[0m\u001B[0;34m\"csr\"\u001B[0m\u001B[0;34m,\u001B[0m \u001B[0mreset\u001B[0m\u001B[0;34m=\u001B[0m\u001B[0;32mFalse\u001B[0m\u001B[0;34m)\u001B[0m\u001B[0;34m\u001B[0m\u001B[0;34m\u001B[0m\u001B[0m\n\u001B[0m\u001B[1;32m    490\u001B[0m \u001B[0;34m\u001B[0m\u001B[0m\n\u001B[1;32m    491\u001B[0m         \u001B[0;31m# Compute centered gram matrix between X and training data X_fit_\u001B[0m\u001B[0;34m\u001B[0m\u001B[0;34m\u001B[0m\u001B[0;34m\u001B[0m\u001B[0m\n",
      "\u001B[0;32m~/opt/anaconda3/lib/python3.7/site-packages/sklearn/base.py\u001B[0m in \u001B[0;36m_validate_data\u001B[0;34m(self, X, y, reset, validate_separately, **check_params)\u001B[0m\n\u001B[1;32m    564\u001B[0m             \u001B[0;32mraise\u001B[0m \u001B[0mValueError\u001B[0m\u001B[0;34m(\u001B[0m\u001B[0;34m\"Validation should be done on X, y or both.\"\u001B[0m\u001B[0;34m)\u001B[0m\u001B[0;34m\u001B[0m\u001B[0;34m\u001B[0m\u001B[0m\n\u001B[1;32m    565\u001B[0m         \u001B[0;32melif\u001B[0m \u001B[0;32mnot\u001B[0m \u001B[0mno_val_X\u001B[0m \u001B[0;32mand\u001B[0m \u001B[0mno_val_y\u001B[0m\u001B[0;34m:\u001B[0m\u001B[0;34m\u001B[0m\u001B[0;34m\u001B[0m\u001B[0m\n\u001B[0;32m--> 566\u001B[0;31m             \u001B[0mX\u001B[0m \u001B[0;34m=\u001B[0m \u001B[0mcheck_array\u001B[0m\u001B[0;34m(\u001B[0m\u001B[0mX\u001B[0m\u001B[0;34m,\u001B[0m \u001B[0;34m**\u001B[0m\u001B[0mcheck_params\u001B[0m\u001B[0;34m)\u001B[0m\u001B[0;34m\u001B[0m\u001B[0;34m\u001B[0m\u001B[0m\n\u001B[0m\u001B[1;32m    567\u001B[0m             \u001B[0mout\u001B[0m \u001B[0;34m=\u001B[0m \u001B[0mX\u001B[0m\u001B[0;34m\u001B[0m\u001B[0;34m\u001B[0m\u001B[0m\n\u001B[1;32m    568\u001B[0m         \u001B[0;32melif\u001B[0m \u001B[0mno_val_X\u001B[0m \u001B[0;32mand\u001B[0m \u001B[0;32mnot\u001B[0m \u001B[0mno_val_y\u001B[0m\u001B[0;34m:\u001B[0m\u001B[0;34m\u001B[0m\u001B[0;34m\u001B[0m\u001B[0m\n",
      "\u001B[0;32m~/opt/anaconda3/lib/python3.7/site-packages/sklearn/utils/validation.py\u001B[0m in \u001B[0;36mcheck_array\u001B[0;34m(array, accept_sparse, accept_large_sparse, dtype, order, copy, force_all_finite, ensure_2d, allow_nd, ensure_min_samples, ensure_min_features, estimator)\u001B[0m\n\u001B[1;32m    663\u001B[0m \u001B[0;34m\u001B[0m\u001B[0m\n\u001B[1;32m    664\u001B[0m         \u001B[0;32mif\u001B[0m \u001B[0mall\u001B[0m\u001B[0;34m(\u001B[0m\u001B[0misinstance\u001B[0m\u001B[0;34m(\u001B[0m\u001B[0mdtype\u001B[0m\u001B[0;34m,\u001B[0m \u001B[0mnp\u001B[0m\u001B[0;34m.\u001B[0m\u001B[0mdtype\u001B[0m\u001B[0;34m)\u001B[0m \u001B[0;32mfor\u001B[0m \u001B[0mdtype\u001B[0m \u001B[0;32min\u001B[0m \u001B[0mdtypes_orig\u001B[0m\u001B[0;34m)\u001B[0m\u001B[0;34m:\u001B[0m\u001B[0;34m\u001B[0m\u001B[0;34m\u001B[0m\u001B[0m\n\u001B[0;32m--> 665\u001B[0;31m             \u001B[0mdtype_orig\u001B[0m \u001B[0;34m=\u001B[0m \u001B[0mnp\u001B[0m\u001B[0;34m.\u001B[0m\u001B[0mresult_type\u001B[0m\u001B[0;34m(\u001B[0m\u001B[0;34m*\u001B[0m\u001B[0mdtypes_orig\u001B[0m\u001B[0;34m)\u001B[0m\u001B[0;34m\u001B[0m\u001B[0;34m\u001B[0m\u001B[0m\n\u001B[0m\u001B[1;32m    666\u001B[0m \u001B[0;34m\u001B[0m\u001B[0m\n\u001B[1;32m    667\u001B[0m     \u001B[0;32mif\u001B[0m \u001B[0mdtype_numeric\u001B[0m\u001B[0;34m:\u001B[0m\u001B[0;34m\u001B[0m\u001B[0;34m\u001B[0m\u001B[0m\n",
      "\u001B[0;32m<__array_function__ internals>\u001B[0m in \u001B[0;36mresult_type\u001B[0;34m(*args, **kwargs)\u001B[0m\n",
      "\u001B[0;31mKeyboardInterrupt\u001B[0m: "
     ]
    }
   ],
   "source": [
    "fscore_list_kernel = []\n",
    "n_components_list = np.arange(2, 300)\n",
    "for n_components in n_components_list:\n",
    "    # print(n_components)\n",
    "    kpca = KernelPCA(n_components=n_components, kernel='rbf')\n",
    "    kpca.fit(X_scaled)\n",
    "    X_reduced = kpca.transform(X_scaled)\n",
    "    kmeans = KMeans(n_clusters=4, algorithm='full').fit(X_reduced)\n",
    "    pred_ = kmeans.labels_\n",
    "    y_pred = get_dataframe(pred_, Y)\n",
    "    _, best_Fscore, best_prec, best_rec = model_eval(Y, y_pred)\n",
    "    fscore_list_kernel.append(best_Fscore)"
   ]
  },
  {
   "cell_type": "code",
   "execution_count": null,
   "metadata": {
    "collapsed": false
   },
   "outputs": [],
   "source": [
    "y_max = np.max(fscore_list_kernel) # 0.6213\n",
    "x_max = (np.argmax(fscore_list_kernel) + 2) # 183\n",
    "x = n_components_list\n",
    "\n",
    "plt.figure(figsize=(16, 8))\n",
    "plt.plot(x, fscore_list_kernel, label='Kernel PCA clustering results')\n",
    "plt.plot([x_max], [y_max], 'ro', markersize=8, label='maximum')\n",
    "plt.ylabel('F-score', fontdict={'fontsize':14})\n",
    "plt.xlabel('Number of componenets', fontdict={'fontsize':14})\n",
    "ax = plt.gca()\n",
    "ax.tick_params(axis='x', which='major', labelsize=12)\n",
    "ax.tick_params(axis='y', which='major', labelsize=12)\n",
    "plt.legend()\n",
    "plt.savefig('./Figures/KPCA_feature_selection.pdf')\n",
    "plt.show()"
   ]
  },
  {
   "cell_type": "code",
   "execution_count": 33,
   "metadata": {},
   "outputs": [
    {
     "name": "stdout",
     "output_type": "stream",
     "text": [
      "0\n",
      "1\n",
      "2\n",
      "3\n",
      "4\n",
      "5\n",
      "6\n",
      "7\n",
      "8\n",
      "9\n",
      "10\n",
      "11\n",
      "12\n",
      "13\n",
      "14\n",
      "15\n",
      "16\n",
      "17\n",
      "18\n",
      "19\n",
      "20\n",
      "21\n",
      "22\n",
      "23\n",
      "24\n",
      "25\n",
      "26\n",
      "27\n",
      "28\n",
      "29\n",
      "30\n",
      "31\n",
      "32\n",
      "33\n",
      "34\n",
      "35\n",
      "36\n",
      "37\n",
      "38\n",
      "39\n",
      "40\n",
      "41\n",
      "42\n",
      "43\n",
      "44\n",
      "45\n",
      "46\n",
      "47\n",
      "48\n"
     ]
    }
   ],
   "source": [
    "# test k-PCA \n",
    "fscore_list_kernel = []\n",
    "\n",
    "for i in range(49):\n",
    "    print(i)\n",
    "    GX = np.random.normal(0, 1, X_scaled.shape)\n",
    "    n_components_list = np.arange(2, 300)\n",
    "    for n_components in n_components_list:\n",
    "        # print(n_components)\n",
    "        kpca = KernelPCA(n_components=n_components, kernel='rbf')\n",
    "        kpca.fit(GX)\n",
    "        X_reduced = kpca.transform(GX)\n",
    "        kmeans = KMeans(n_clusters=4, algorithm='full').fit(X_reduced)\n",
    "        pred_ = kmeans.labels_\n",
    "        y_pred = get_dataframe(pred_, Y)\n",
    "        _, best_Fscore, best_prec, best_rec = model_eval(Y, y_pred)\n",
    "        fscore_list_kernel.append(best_Fscore)"
   ]
  },
  {
   "cell_type": "code",
   "execution_count": 34,
   "outputs": [
    {
     "data": {
      "text/plain": "14602"
     },
     "execution_count": 34,
     "metadata": {},
     "output_type": "execute_result"
    }
   ],
   "source": [
    "len(fscore_list_kernel)"
   ],
   "metadata": {
    "collapsed": false
   }
  },
  {
   "cell_type": "code",
   "execution_count": 35,
   "metadata": {},
   "outputs": [
    {
     "name": "stdout",
     "output_type": "stream",
     "text": [
      "0.5231923281400078\n"
     ]
    },
    {
     "data": {
      "text/plain": "<Figure size 640x480 with 1 Axes>",
      "image/png": "[encoded data removed]"
     },
     "metadata": {},
     "output_type": "display_data"
    }
   ],
   "source": [
    "fscore_list_kernel = np.array(fscore_list_kernel)\n",
    "print(max(fscore_list_kernel))\n",
    "plt.hist(fscore_list_kernel, 50)\n",
    "plt.xlim([0, 1])\n",
    "# plt.title(\"Histogram of F-scores when performing 49 times the kernel pca test with random data\")\n",
    "plt.xlabel(\"F-score\")\n",
    "plt.savefig(\"./Figures/hist.pdf\")\n",
    "plt.show()"
   ]
  },
  {
   "cell_type": "markdown",
   "metadata": {
    "collapsed": false
   },
   "source": [
    "### 5.2 Hierarchical Clustering"
   ]
  },
  {
   "cell_type": "markdown",
   "metadata": {
    "collapsed": false
   },
   "source": [
    "#### 5.2.1 Hierarchical Clustering based on PCA 67 dimensions"
   ]
  },
  {
   "cell_type": "code",
   "execution_count": null,
   "metadata": {
    "collapsed": false,
    "pycharm": {
     "is_executing": true
    }
   },
   "outputs": [],
   "source": [
    "# import matplotlib as mpl\n",
    "# mpl.rcParams.update({'font.size': 20})\n",
    "pca = PCA(n_components=67)\n",
    "pca.fit(X_scaled)\n",
    "X_reduced = pca.transform(X_scaled)\n",
    "plt.figure(figsize=(16, 10), dpi=100)\n",
    "linkage_data = linkage(X_reduced, method='ward', metric='euclidean')\n",
    "dendrogram(linkage_data)\n",
    "ax = plt.gca()\n",
    "ax.tick_params(axis='x', which='major', labelsize=12)\n",
    "ax.tick_params(axis='y', which='major', labelsize=12)\n",
    "plt.xlabel('Patients', fontdict={'fontsize':15})\n",
    "plt.ylabel('Distance', fontdict={'fontsize':15})\n",
    "plt.savefig('./Figures/dendro_pca.pdf')\n",
    "plt.show()"
   ]
  },
  {
   "cell_type": "code",
   "execution_count": null,
   "metadata": {
    "collapsed": false,
    "pycharm": {
     "is_executing": true
    }
   },
   "outputs": [],
   "source": [
    "leaves_list(linkage_data).tolist()"
   ]
  },
  {
   "cell_type": "code",
   "execution_count": null,
   "metadata": {
    "collapsed": false,
    "pycharm": {
     "is_executing": true
    }
   },
   "outputs": [],
   "source": [
    "c1 = [65, 62, 23, 25, 54]\n",
    "c2 = [57, 56, 14, 31, 11, 44, 68, 70, 3, 50, 58, 10, 47, 28, 71, 53, 60, 6, 36, 8, 22, 4, 9, 12, 32, 7, 35, 51]\n",
    "c3 = [2, 49, 63, 45, 64, 26, 29, 61, 15, 40, 72, 67, 1, 59, 0, 52]\n",
    "c4 = [27, 34, 42, 5, 46, 17, 73, 24, 69, 55, 13, 20, 37, 18, 39, 41, 33, 38, 43, 19, 48, 30, 66, 16, 21]"
   ]
  },
  {
   "cell_type": "code",
   "execution_count": null,
   "metadata": {
    "collapsed": false,
    "pycharm": {
     "is_executing": true
    }
   },
   "outputs": [],
   "source": [
    "Y_copy = Y.copy()\n",
    "Y_copy['ind'] = np.arange(Y_copy.shape[0])\n",
    "pred_hier = Y_copy['ind'].apply(lambda x: 0 if x in c1 else 1 if x in c2 else 2 if x in c3 else 3)"
   ]
  },
  {
   "cell_type": "code",
   "execution_count": null,
   "metadata": {
    "collapsed": false,
    "pycharm": {
     "is_executing": true
    }
   },
   "outputs": [],
   "source": [
    "y_pred = get_dataframe(pred_hier, Y)\n",
    "_, best_Fscore, best_prec, best_rec = model_eval(Y, y_pred)"
   ]
  },
  {
   "cell_type": "code",
   "execution_count": null,
   "metadata": {
    "collapsed": false,
    "pycharm": {
     "is_executing": true
    }
   },
   "outputs": [],
   "source": [
    "best_Fscore"
   ]
  },
  {
   "cell_type": "markdown",
   "metadata": {
    "collapsed": false
   },
   "source": [
    "#### 5.2.2 Hierarchical Clustering based on KPCA 183 dimensions"
   ]
  },
  {
   "cell_type": "code",
   "execution_count": null,
   "metadata": {
    "collapsed": false,
    "pycharm": {
     "is_executing": true
    }
   },
   "outputs": [],
   "source": [
    "# import matplotlib as mpl\n",
    "# mpl.rcParams.update({'font.size': 20})\n",
    "kpca = KernelPCA(n_components=183)\n",
    "kpca.fit(X_scaled)\n",
    "X_reduced = kpca.transform(X_scaled)\n",
    "plt.figure(figsize=(16, 10), dpi=100)\n",
    "linkage_data = linkage(X_reduced, method='ward', metric='euclidean')\n",
    "dendrogram(linkage_data)\n",
    "ax = plt.gca()\n",
    "ax.tick_params(axis='x', which='major', labelsize=12)\n",
    "ax.tick_params(axis='y', which='major', labelsize=12)\n",
    "plt.xlabel('Patients', fontdict={'fontsize':15})\n",
    "plt.ylabel('Distance', fontdict={'fontsize':15})\n",
    "plt.savefig('./Figures/dendro_kpca.pdf')\n",
    "plt.show()"
   ]
  },
  {
   "cell_type": "code",
   "execution_count": null,
   "metadata": {
    "collapsed": false,
    "pycharm": {
     "is_executing": true
    }
   },
   "outputs": [],
   "source": [
    "leaves_list(linkage_data).tolist()"
   ]
  },
  {
   "cell_type": "code",
   "execution_count": null,
   "metadata": {
    "collapsed": false,
    "pycharm": {
     "is_executing": true
    }
   },
   "outputs": [],
   "source": [
    "c1 = [7, 36, 6, 51, 57, 56, 14, 31, 4, 9, 32, 12, 35]\n",
    "c2 = [65, 11, 44, 68, 70, 3, 50, 58, 10, 47, 28, 71, 23, 25, 54, 62, 53, 21, 60, 8, 22]\n",
    "c3 = [2, 49, 63, 45, 52, 64, 26, 29, 67, 1, 59, 40, 72, 0, 15]\n",
    "c4 = [27, 34, 42, 5, 46, 17, 61, 73, 24, 69, 55, 13, 20, 37, 18, 39, 41, 33, 38, 43, 19, 48, 16, 30, 66]"
   ]
  },
  {
   "cell_type": "code",
   "execution_count": null,
   "metadata": {
    "collapsed": false,
    "pycharm": {
     "is_executing": true
    }
   },
   "outputs": [],
   "source": [
    "Y_copy = Y.copy()\n",
    "Y_copy['ind'] = np.arange(Y_copy.shape[0])\n",
    "pred_hier_2 = Y_copy['ind'].apply(lambda x: 0 if x in c1 else 1 if x in c2 else 2 if x in c3 else 3)\n",
    "y_pred = get_dataframe(pred_hier_2, Y)\n",
    "_, Fscore, prec, rec = model_eval(Y, y_pred)"
   ]
  },
  {
   "cell_type": "code",
   "execution_count": null,
   "metadata": {
    "collapsed": false,
    "pycharm": {
     "is_executing": true
    }
   },
   "outputs": [],
   "source": [
    "Fscore"
   ]
  }
 ],
 "metadata": {
  "kernelspec": {
   "display_name": "Python 3",
   "language": "python",
   "name": "python3"
  },
  "language_info": {
   "codemirror_mode": {
    "name": "ipython",
    "version": 3
   },
   "file_extension": ".py",
   "mimetype": "text/x-python",
   "name": "python",
   "nbconvert_exporter": "python",
   "pygments_lexer": "ipython3",
   "version": "3.10.2"
  },
  "vscode": {
   "interpreter": {
    "hash": "369f2c481f4da34e4445cda3fffd2e751bd1c4d706f27375911949ba6bb62e1c"
   }
  }
 },
 "nbformat": 4,
 "nbformat_minor": 0
}

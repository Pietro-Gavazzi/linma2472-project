{
 "cells": [
  {
   "cell_type": "markdown",
   "source": [
    "## 1. Load packages"
   ],
   "metadata": {
    "collapsed": false
   }
  },
  {
   "cell_type": "code",
   "execution_count": 1,
   "metadata": {
    "collapsed": true
   },
   "outputs": [],
   "source": [
    "# data processing packages\n",
    "import numpy as np\n",
    "from numpy import random\n",
    "import pandas as pd\n",
    "import re\n",
    "\n",
    "# machine learning packages\n",
    "from sklearn.impute import SimpleImputer\n",
    "from sklearn.preprocessing import StandardScaler\n",
    "from sklearn.cluster import KMeans\n",
    "from sklearn import metrics\n",
    "\n",
    "# visualization packages\n",
    "import seaborn as sb\n",
    "import matplotlib.pyplot as plt\n",
    "\n",
    "# other packages\n",
    "import torch\n",
    "from pathlib import Path"
   ]
  },
  {
   "cell_type": "markdown",
   "source": [
    "## 2. Read the files"
   ],
   "metadata": {
    "collapsed": false
   }
  },
  {
   "cell_type": "code",
   "execution_count": 2,
   "outputs": [],
   "source": [
    "## Create the necessary folders\n",
    "Path('./Figures/').mkdir(parents=True, exist_ok=True)\n",
    "Path('./Results/').mkdir(parents=True, exist_ok=True)"
   ],
   "metadata": {
    "collapsed": false
   }
  },
  {
   "cell_type": "code",
   "execution_count": 3,
   "outputs": [
    {
     "name": "stdout",
     "output_type": "stream",
     "text": [
      "RefSeq_accession_number\n"
     ]
    },
    {
     "data": {
      "text/plain": "                        gene_symbol           gene_name  AO-A12D.01TCGA  \\\nRefSeq_accession_number                                                   \nNP_958782                      PLEC   plectin isoform 1        1.096131   \nNP_958785                       NaN  plectin isoform 1g        1.111370   \nNP_958786                      PLEC  plectin isoform 1a        1.111370   \nNP_000436                       NaN  plectin isoform 1c        1.107561   \nNP_958781                       NaN  plectin isoform 1e        1.115180   \n\n                         C8-A131.01TCGA  AO-A12B.01TCGA  BH-A18Q.02TCGA  \\\nRefSeq_accession_number                                                   \nNP_958782                      2.609943       -0.659828        0.195341   \nNP_958785                      2.650422       -0.648742        0.215413   \nNP_958786                      2.650422       -0.654285        0.215413   \nNP_000436                      2.646374       -0.632113        0.205377   \nNP_958781                      2.646374       -0.640428        0.215413   \n\n                         C8-A130.02TCGA  C8-A138.03TCGA  E2-A154.03TCGA  \\\nRefSeq_accession_number                                                   \nNP_958782                     -0.494060        2.765081        0.862659   \nNP_958785                     -0.503899        2.779709        0.870186   \nNP_958786                     -0.500619        2.779709        0.870186   \nNP_000436                     -0.510459        2.797995        0.866423   \nNP_958781                     -0.503899        2.787023        0.870186   \n\n                         C8-A12L.04TCGA  ...  AO-A12B.34TCGA  A2-A0SW.35TCGA  \\\nRefSeq_accession_number                  ...                                   \nNP_958782                      1.407570  ...       -0.963904       -0.487772   \nNP_958785                      1.407570  ...       -0.938210       -0.487772   \nNP_958786                      1.410312  ...       -0.943919       -0.487772   \nNP_000436                      1.407570  ...       -0.935355       -0.487772   \nNP_958781                      1.413053  ...       -0.935355       -0.503853   \n\n                         AO-A0JL.35TCGA  BH-A0BV.35TCGA  A2-A0YM.36TCGA  \\\nRefSeq_accession_number                                                   \nNP_958782                      -0.10668       -0.065838        0.655850   \nNP_958785                      -0.10668       -0.055893        0.658143   \nNP_958786                      -0.10668       -0.065838        0.655850   \nNP_000436                      -0.10668       -0.055893        0.655850   \nNP_958781                      -0.10668       -0.062523        0.651264   \n\n                         BH-A0C7.36TCGA  A2-A0SX.36TCGA  263d3f-I.CPTAC  \\\nRefSeq_accession_number                                                   \nNP_958782                     -0.552212       -0.398560        0.598585   \nNP_958785                     -0.547749       -0.392601        0.606697   \nNP_958786                     -0.552212       -0.392601        0.603993   \nNP_000436                     -0.552212       -0.392601        0.603993   \nNP_958781                     -0.556675       -0.395581        0.603993   \n\n                         blcdb9-I.CPTAC  c4155b-C.CPTAC  \nRefSeq_accession_number                                  \nNP_958782                     -0.191285        0.566975  \nNP_958785                     -0.183918        0.578702  \nNP_958786                     -0.186022        0.576747  \nNP_000436                     -0.186022        0.576747  \nNP_958781                     -0.167079        0.576747  \n\n[5 rows x 85 columns]",
      "text/html": "<div>\n<style scoped>\n    .dataframe tbody tr th:only-of-type {\n        vertical-align: middle;\n    }\n\n    .dataframe tbody tr th {\n        vertical-align: top;\n    }\n\n    .dataframe thead th {\n        text-align: right;\n    }\n</style>\n<table border=\"1\" class=\"dataframe\">\n  <thead>\n    <tr style=\"text-align: right;\">\n      <th></th>\n      <th>gene_symbol</th>\n      <th>gene_name</th>\n      <th>AO-A12D.01TCGA</th>\n      <th>C8-A131.01TCGA</th>\n      <th>AO-A12B.01TCGA</th>\n      <th>BH-A18Q.02TCGA</th>\n      <th>C8-A130.02TCGA</th>\n      <th>C8-A138.03TCGA</th>\n      <th>E2-A154.03TCGA</th>\n      <th>C8-A12L.04TCGA</th>\n      <th>...</th>\n      <th>AO-A12B.34TCGA</th>\n      <th>A2-A0SW.35TCGA</th>\n      <th>AO-A0JL.35TCGA</th>\n      <th>BH-A0BV.35TCGA</th>\n      <th>A2-A0YM.36TCGA</th>\n      <th>BH-A0C7.36TCGA</th>\n      <th>A2-A0SX.36TCGA</th>\n      <th>263d3f-I.CPTAC</th>\n      <th>blcdb9-I.CPTAC</th>\n      <th>c4155b-C.CPTAC</th>\n    </tr>\n    <tr>\n      <th>RefSeq_accession_number</th>\n      <th></th>\n      <th></th>\n      <th></th>\n      <th></th>\n      <th></th>\n      <th></th>\n      <th></th>\n      <th></th>\n      <th></th>\n      <th></th>\n      <th></th>\n      <th></th>\n      <th></th>\n      <th></th>\n      <th></th>\n      <th></th>\n      <th></th>\n      <th></th>\n      <th></th>\n      <th></th>\n      <th></th>\n    </tr>\n  </thead>\n  <tbody>\n    <tr>\n      <th>NP_958782</th>\n      <td>PLEC</td>\n      <td>plectin isoform 1</td>\n      <td>1.096131</td>\n      <td>2.609943</td>\n      <td>-0.659828</td>\n      <td>0.195341</td>\n      <td>-0.494060</td>\n      <td>2.765081</td>\n      <td>0.862659</td>\n      <td>1.407570</td>\n      <td>...</td>\n      <td>-0.963904</td>\n      <td>-0.487772</td>\n      <td>-0.10668</td>\n      <td>-0.065838</td>\n      <td>0.655850</td>\n      <td>-0.552212</td>\n      <td>-0.398560</td>\n      <td>0.598585</td>\n      <td>-0.191285</td>\n      <td>0.566975</td>\n    </tr>\n    <tr>\n      <th>NP_958785</th>\n      <td>NaN</td>\n      <td>plectin isoform 1g</td>\n      <td>1.111370</td>\n      <td>2.650422</td>\n      <td>-0.648742</td>\n      <td>0.215413</td>\n      <td>-0.503899</td>\n      <td>2.779709</td>\n      <td>0.870186</td>\n      <td>1.407570</td>\n      <td>...</td>\n      <td>-0.938210</td>\n      <td>-0.487772</td>\n      <td>-0.10668</td>\n      <td>-0.055893</td>\n      <td>0.658143</td>\n      <td>-0.547749</td>\n      <td>-0.392601</td>\n      <td>0.606697</td>\n      <td>-0.183918</td>\n      <td>0.578702</td>\n    </tr>\n    <tr>\n      <th>NP_958786</th>\n      <td>PLEC</td>\n      <td>plectin isoform 1a</td>\n      <td>1.111370</td>\n      <td>2.650422</td>\n      <td>-0.654285</td>\n      <td>0.215413</td>\n      <td>-0.500619</td>\n      <td>2.779709</td>\n      <td>0.870186</td>\n      <td>1.410312</td>\n      <td>...</td>\n      <td>-0.943919</td>\n      <td>-0.487772</td>\n      <td>-0.10668</td>\n      <td>-0.065838</td>\n      <td>0.655850</td>\n      <td>-0.552212</td>\n      <td>-0.392601</td>\n      <td>0.603993</td>\n      <td>-0.186022</td>\n      <td>0.576747</td>\n    </tr>\n    <tr>\n      <th>NP_000436</th>\n      <td>NaN</td>\n      <td>plectin isoform 1c</td>\n      <td>1.107561</td>\n      <td>2.646374</td>\n      <td>-0.632113</td>\n      <td>0.205377</td>\n      <td>-0.510459</td>\n      <td>2.797995</td>\n      <td>0.866423</td>\n      <td>1.407570</td>\n      <td>...</td>\n      <td>-0.935355</td>\n      <td>-0.487772</td>\n      <td>-0.10668</td>\n      <td>-0.055893</td>\n      <td>0.655850</td>\n      <td>-0.552212</td>\n      <td>-0.392601</td>\n      <td>0.603993</td>\n      <td>-0.186022</td>\n      <td>0.576747</td>\n    </tr>\n    <tr>\n      <th>NP_958781</th>\n      <td>NaN</td>\n      <td>plectin isoform 1e</td>\n      <td>1.115180</td>\n      <td>2.646374</td>\n      <td>-0.640428</td>\n      <td>0.215413</td>\n      <td>-0.503899</td>\n      <td>2.787023</td>\n      <td>0.870186</td>\n      <td>1.413053</td>\n      <td>...</td>\n      <td>-0.935355</td>\n      <td>-0.503853</td>\n      <td>-0.10668</td>\n      <td>-0.062523</td>\n      <td>0.651264</td>\n      <td>-0.556675</td>\n      <td>-0.395581</td>\n      <td>0.603993</td>\n      <td>-0.167079</td>\n      <td>0.576747</td>\n    </tr>\n  </tbody>\n</table>\n<p>5 rows × 85 columns</p>\n</div>"
     },
     "execution_count": 3,
     "metadata": {},
     "output_type": "execute_result"
    }
   ],
   "source": [
    "## Set path to the data set\n",
    "dataset_path = \"./dataset/77_cancer_proteomes_CPTAC_itraq.csv\"\n",
    "clinical_info = \"./dataset/clinical_data_breast_cancer.csv\"\n",
    "pam50_proteins = \"./dataset/PAM50_proteins.csv\"\n",
    "\n",
    "## Load data\n",
    "data = pd.read_csv(dataset_path,header=0,index_col=0)\n",
    "clinical_file = pd.read_csv(clinical_info,header=0,index_col=0) ## holds clinical information about each patient/sample\n",
    "pam50 = pd.read_csv(pam50_proteins,header=0)\n",
    "\n",
    "# RefSeq protein ID (each protein has a unique ID in a RefSeq database)\n",
    "print(data.index.name)\n",
    "data.head()"
   ],
   "metadata": {
    "collapsed": false
   }
  },
  {
   "cell_type": "markdown",
   "source": [
    "## 3. Data Set Processing"
   ],
   "metadata": {
    "collapsed": false
   }
  },
  {
   "cell_type": "code",
   "execution_count": 4,
   "outputs": [
    {
     "data": {
      "text/plain": "                         TCGA-AO-A12D  TCGA-C8-A131  TCGA-AO-A12B  \\\nRefSeq_accession_number                                             \nNP_958782                    1.096131      2.609943     -0.659828   \nNP_958785                    1.111370      2.650422     -0.648742   \nNP_958786                    1.111370      2.650422     -0.654285   \nNP_000436                    1.107561      2.646374     -0.632113   \nNP_958781                    1.115180      2.646374     -0.640428   \n\n                         TCGA-BH-A18Q  TCGA-C8-A130  TCGA-C8-A138  \\\nRefSeq_accession_number                                             \nNP_958782                    0.195341     -0.494060      2.765081   \nNP_958785                    0.215413     -0.503899      2.779709   \nNP_958786                    0.215413     -0.500619      2.779709   \nNP_000436                    0.205377     -0.510459      2.797995   \nNP_958781                    0.215413     -0.503899      2.787023   \n\n                         TCGA-E2-A154  TCGA-C8-A12L  TCGA-A2-A0EX  \\\nRefSeq_accession_number                                             \nNP_958782                    0.862659      1.407570      1.185108   \nNP_958785                    0.870186      1.407570      1.192612   \nNP_958786                    0.870186      1.410312      1.188860   \nNP_000436                    0.866423      1.407570      1.185108   \nNP_958781                    0.870186      1.413053      1.200116   \n\n                         TCGA-AO-A12D  ...  TCGA-AO-A12B  TCGA-A2-A0SW  \\\nRefSeq_accession_number                ...                               \nNP_958782                    1.100688  ...     -0.963904     -0.487772   \nNP_958785                    1.100688  ...     -0.938210     -0.487772   \nNP_958786                    1.100688  ...     -0.943919     -0.487772   \nNP_000436                    1.100688  ...     -0.935355     -0.487772   \nNP_958781                    1.093358  ...     -0.935355     -0.503853   \n\n                         TCGA-AO-A0JL  TCGA-BH-A0BV  TCGA-A2-A0YM  \\\nRefSeq_accession_number                                             \nNP_958782                    -0.10668     -0.065838      0.655850   \nNP_958785                    -0.10668     -0.055893      0.658143   \nNP_958786                    -0.10668     -0.065838      0.655850   \nNP_000436                    -0.10668     -0.055893      0.655850   \nNP_958781                    -0.10668     -0.062523      0.651264   \n\n                         TCGA-BH-A0C7  TCGA-A2-A0SX  263d3f-I.CPTAC  \\\nRefSeq_accession_number                                               \nNP_958782                   -0.552212     -0.398560        0.598585   \nNP_958785                   -0.547749     -0.392601        0.606697   \nNP_958786                   -0.552212     -0.392601        0.603993   \nNP_000436                   -0.552212     -0.392601        0.603993   \nNP_958781                   -0.556675     -0.395581        0.603993   \n\n                         blcdb9-I.CPTAC  c4155b-C.CPTAC  \nRefSeq_accession_number                                  \nNP_958782                     -0.191285        0.566975  \nNP_958785                     -0.183918        0.578702  \nNP_958786                     -0.186022        0.576747  \nNP_000436                     -0.186022        0.576747  \nNP_958781                     -0.167079        0.576747  \n\n[5 rows x 83 columns]",
      "text/html": "<div>\n<style scoped>\n    .dataframe tbody tr th:only-of-type {\n        vertical-align: middle;\n    }\n\n    .dataframe tbody tr th {\n        vertical-align: top;\n    }\n\n    .dataframe thead th {\n        text-align: right;\n    }\n</style>\n<table border=\"1\" class=\"dataframe\">\n  <thead>\n    <tr style=\"text-align: right;\">\n      <th></th>\n      <th>TCGA-AO-A12D</th>\n      <th>TCGA-C8-A131</th>\n      <th>TCGA-AO-A12B</th>\n      <th>TCGA-BH-A18Q</th>\n      <th>TCGA-C8-A130</th>\n      <th>TCGA-C8-A138</th>\n      <th>TCGA-E2-A154</th>\n      <th>TCGA-C8-A12L</th>\n      <th>TCGA-A2-A0EX</th>\n      <th>TCGA-AO-A12D</th>\n      <th>...</th>\n      <th>TCGA-AO-A12B</th>\n      <th>TCGA-A2-A0SW</th>\n      <th>TCGA-AO-A0JL</th>\n      <th>TCGA-BH-A0BV</th>\n      <th>TCGA-A2-A0YM</th>\n      <th>TCGA-BH-A0C7</th>\n      <th>TCGA-A2-A0SX</th>\n      <th>263d3f-I.CPTAC</th>\n      <th>blcdb9-I.CPTAC</th>\n      <th>c4155b-C.CPTAC</th>\n    </tr>\n    <tr>\n      <th>RefSeq_accession_number</th>\n      <th></th>\n      <th></th>\n      <th></th>\n      <th></th>\n      <th></th>\n      <th></th>\n      <th></th>\n      <th></th>\n      <th></th>\n      <th></th>\n      <th></th>\n      <th></th>\n      <th></th>\n      <th></th>\n      <th></th>\n      <th></th>\n      <th></th>\n      <th></th>\n      <th></th>\n      <th></th>\n      <th></th>\n    </tr>\n  </thead>\n  <tbody>\n    <tr>\n      <th>NP_958782</th>\n      <td>1.096131</td>\n      <td>2.609943</td>\n      <td>-0.659828</td>\n      <td>0.195341</td>\n      <td>-0.494060</td>\n      <td>2.765081</td>\n      <td>0.862659</td>\n      <td>1.407570</td>\n      <td>1.185108</td>\n      <td>1.100688</td>\n      <td>...</td>\n      <td>-0.963904</td>\n      <td>-0.487772</td>\n      <td>-0.10668</td>\n      <td>-0.065838</td>\n      <td>0.655850</td>\n      <td>-0.552212</td>\n      <td>-0.398560</td>\n      <td>0.598585</td>\n      <td>-0.191285</td>\n      <td>0.566975</td>\n    </tr>\n    <tr>\n      <th>NP_958785</th>\n      <td>1.111370</td>\n      <td>2.650422</td>\n      <td>-0.648742</td>\n      <td>0.215413</td>\n      <td>-0.503899</td>\n      <td>2.779709</td>\n      <td>0.870186</td>\n      <td>1.407570</td>\n      <td>1.192612</td>\n      <td>1.100688</td>\n      <td>...</td>\n      <td>-0.938210</td>\n      <td>-0.487772</td>\n      <td>-0.10668</td>\n      <td>-0.055893</td>\n      <td>0.658143</td>\n      <td>-0.547749</td>\n      <td>-0.392601</td>\n      <td>0.606697</td>\n      <td>-0.183918</td>\n      <td>0.578702</td>\n    </tr>\n    <tr>\n      <th>NP_958786</th>\n      <td>1.111370</td>\n      <td>2.650422</td>\n      <td>-0.654285</td>\n      <td>0.215413</td>\n      <td>-0.500619</td>\n      <td>2.779709</td>\n      <td>0.870186</td>\n      <td>1.410312</td>\n      <td>1.188860</td>\n      <td>1.100688</td>\n      <td>...</td>\n      <td>-0.943919</td>\n      <td>-0.487772</td>\n      <td>-0.10668</td>\n      <td>-0.065838</td>\n      <td>0.655850</td>\n      <td>-0.552212</td>\n      <td>-0.392601</td>\n      <td>0.603993</td>\n      <td>-0.186022</td>\n      <td>0.576747</td>\n    </tr>\n    <tr>\n      <th>NP_000436</th>\n      <td>1.107561</td>\n      <td>2.646374</td>\n      <td>-0.632113</td>\n      <td>0.205377</td>\n      <td>-0.510459</td>\n      <td>2.797995</td>\n      <td>0.866423</td>\n      <td>1.407570</td>\n      <td>1.185108</td>\n      <td>1.100688</td>\n      <td>...</td>\n      <td>-0.935355</td>\n      <td>-0.487772</td>\n      <td>-0.10668</td>\n      <td>-0.055893</td>\n      <td>0.655850</td>\n      <td>-0.552212</td>\n      <td>-0.392601</td>\n      <td>0.603993</td>\n      <td>-0.186022</td>\n      <td>0.576747</td>\n    </tr>\n    <tr>\n      <th>NP_958781</th>\n      <td>1.115180</td>\n      <td>2.646374</td>\n      <td>-0.640428</td>\n      <td>0.215413</td>\n      <td>-0.503899</td>\n      <td>2.787023</td>\n      <td>0.870186</td>\n      <td>1.413053</td>\n      <td>1.200116</td>\n      <td>1.093358</td>\n      <td>...</td>\n      <td>-0.935355</td>\n      <td>-0.503853</td>\n      <td>-0.10668</td>\n      <td>-0.062523</td>\n      <td>0.651264</td>\n      <td>-0.556675</td>\n      <td>-0.395581</td>\n      <td>0.603993</td>\n      <td>-0.167079</td>\n      <td>0.576747</td>\n    </tr>\n  </tbody>\n</table>\n<p>5 rows × 83 columns</p>\n</div>"
     },
     "execution_count": 4,
     "metadata": {},
     "output_type": "execute_result"
    }
   ],
   "source": [
    "## Drop unused information columns\n",
    "data.drop(['gene_symbol','gene_name'],axis=1,inplace=True)\n",
    "\n",
    "## Change the protein data sample names to a format matching the clinical data set\n",
    "data.rename(columns=lambda x: \"TCGA-%s\" % (re.split('[_|-|.]',x)[0]) if bool(re.search(\"TCGA\",x)) is True else x,inplace=True)\n",
    "\n",
    "data.head()"
   ],
   "metadata": {
    "collapsed": false
   }
  },
  {
   "cell_type": "code",
   "execution_count": 5,
   "outputs": [
    {
     "name": "stdout",
     "output_type": "stream",
     "text": [
      "(12553, 83)\n",
      "(83, 12553)\n"
     ]
    },
    {
     "data": {
      "text/plain": "RefSeq_accession_number  NP_958782  NP_958785  NP_958786  NP_000436  \\\nTCGA-AO-A12D              1.096131   1.111370   1.111370   1.107561   \nTCGA-C8-A131              2.609943   2.650422   2.650422   2.646374   \nTCGA-AO-A12B             -0.659828  -0.648742  -0.654285  -0.632113   \nTCGA-BH-A18Q              0.195341   0.215413   0.215413   0.205377   \nTCGA-C8-A130             -0.494060  -0.503899  -0.500619  -0.510459   \n\nRefSeq_accession_number  NP_958781  NP_958780  NP_958783  NP_958784  \\\nTCGA-AO-A12D              1.115180   1.107561   1.111370   1.111370   \nTCGA-C8-A131              2.646374   2.646374   2.650422   2.650422   \nTCGA-AO-A12B             -0.640428  -0.654285  -0.648742  -0.648742   \nTCGA-BH-A18Q              0.215413   0.215413   0.215413   0.215413   \nTCGA-C8-A130             -0.503899  -0.503899  -0.500619  -0.500619   \n\nRefSeq_accession_number  NP_112598  NP_001611  ...  NP_001193600  NP_061134  \\\nTCGA-AO-A12D             -1.517390   0.482754  ...           NaN        NaN   \nTCGA-C8-A131              3.909313  -1.045294  ...           NaN        NaN   \nTCGA-AO-A12B             -0.618256   1.222003  ...           NaN        NaN   \nTCGA-BH-A18Q             -1.035760  -0.517226  ...      0.048144        NaN   \nTCGA-C8-A130             -1.845366  -0.405503  ...      1.457462        NaN   \n\nRefSeq_accession_number  NP_932347  NP_003593  NP_997203  NP_001191293  \\\nTCGA-AO-A12D                   NaN  -0.340163        NaN           NaN   \nTCGA-C8-A131                   NaN   3.451902        NaN           NaN   \nTCGA-AO-A12B                   NaN  -1.718531        NaN           NaN   \nTCGA-BH-A18Q             -0.881872   2.527072  -8.111243    -16.029761   \nTCGA-C8-A130              1.710012   0.296389  -1.753529      1.729692   \n\nRefSeq_accession_number  NP_775791  NP_004065  NP_068752  NP_219494  \nTCGA-AO-A12D                   NaN        NaN  -0.633517  12.666488  \nTCGA-C8-A131                   NaN        NaN   4.840325   0.140736  \nTCGA-AO-A12B                   NaN        NaN  -1.965192  -2.854835  \nTCGA-BH-A18Q             -2.046065  -1.778435        NaN  -3.069752  \nTCGA-C8-A130             -0.425182  -0.149673        NaN  -0.047997  \n\n[5 rows x 12553 columns]",
      "text/html": "<div>\n<style scoped>\n    .dataframe tbody tr th:only-of-type {\n        vertical-align: middle;\n    }\n\n    .dataframe tbody tr th {\n        vertical-align: top;\n    }\n\n    .dataframe thead th {\n        text-align: right;\n    }\n</style>\n<table border=\"1\" class=\"dataframe\">\n  <thead>\n    <tr style=\"text-align: right;\">\n      <th>RefSeq_accession_number</th>\n      <th>NP_958782</th>\n      <th>NP_958785</th>\n      <th>NP_958786</th>\n      <th>NP_000436</th>\n      <th>NP_958781</th>\n      <th>NP_958780</th>\n      <th>NP_958783</th>\n      <th>NP_958784</th>\n      <th>NP_112598</th>\n      <th>NP_001611</th>\n      <th>...</th>\n      <th>NP_001193600</th>\n      <th>NP_061134</th>\n      <th>NP_932347</th>\n      <th>NP_003593</th>\n      <th>NP_997203</th>\n      <th>NP_001191293</th>\n      <th>NP_775791</th>\n      <th>NP_004065</th>\n      <th>NP_068752</th>\n      <th>NP_219494</th>\n    </tr>\n  </thead>\n  <tbody>\n    <tr>\n      <th>TCGA-AO-A12D</th>\n      <td>1.096131</td>\n      <td>1.111370</td>\n      <td>1.111370</td>\n      <td>1.107561</td>\n      <td>1.115180</td>\n      <td>1.107561</td>\n      <td>1.111370</td>\n      <td>1.111370</td>\n      <td>-1.517390</td>\n      <td>0.482754</td>\n      <td>...</td>\n      <td>NaN</td>\n      <td>NaN</td>\n      <td>NaN</td>\n      <td>-0.340163</td>\n      <td>NaN</td>\n      <td>NaN</td>\n      <td>NaN</td>\n      <td>NaN</td>\n      <td>-0.633517</td>\n      <td>12.666488</td>\n    </tr>\n    <tr>\n      <th>TCGA-C8-A131</th>\n      <td>2.609943</td>\n      <td>2.650422</td>\n      <td>2.650422</td>\n      <td>2.646374</td>\n      <td>2.646374</td>\n      <td>2.646374</td>\n      <td>2.650422</td>\n      <td>2.650422</td>\n      <td>3.909313</td>\n      <td>-1.045294</td>\n      <td>...</td>\n      <td>NaN</td>\n      <td>NaN</td>\n      <td>NaN</td>\n      <td>3.451902</td>\n      <td>NaN</td>\n      <td>NaN</td>\n      <td>NaN</td>\n      <td>NaN</td>\n      <td>4.840325</td>\n      <td>0.140736</td>\n    </tr>\n    <tr>\n      <th>TCGA-AO-A12B</th>\n      <td>-0.659828</td>\n      <td>-0.648742</td>\n      <td>-0.654285</td>\n      <td>-0.632113</td>\n      <td>-0.640428</td>\n      <td>-0.654285</td>\n      <td>-0.648742</td>\n      <td>-0.648742</td>\n      <td>-0.618256</td>\n      <td>1.222003</td>\n      <td>...</td>\n      <td>NaN</td>\n      <td>NaN</td>\n      <td>NaN</td>\n      <td>-1.718531</td>\n      <td>NaN</td>\n      <td>NaN</td>\n      <td>NaN</td>\n      <td>NaN</td>\n      <td>-1.965192</td>\n      <td>-2.854835</td>\n    </tr>\n    <tr>\n      <th>TCGA-BH-A18Q</th>\n      <td>0.195341</td>\n      <td>0.215413</td>\n      <td>0.215413</td>\n      <td>0.205377</td>\n      <td>0.215413</td>\n      <td>0.215413</td>\n      <td>0.215413</td>\n      <td>0.215413</td>\n      <td>-1.035760</td>\n      <td>-0.517226</td>\n      <td>...</td>\n      <td>0.048144</td>\n      <td>NaN</td>\n      <td>-0.881872</td>\n      <td>2.527072</td>\n      <td>-8.111243</td>\n      <td>-16.029761</td>\n      <td>-2.046065</td>\n      <td>-1.778435</td>\n      <td>NaN</td>\n      <td>-3.069752</td>\n    </tr>\n    <tr>\n      <th>TCGA-C8-A130</th>\n      <td>-0.494060</td>\n      <td>-0.503899</td>\n      <td>-0.500619</td>\n      <td>-0.510459</td>\n      <td>-0.503899</td>\n      <td>-0.503899</td>\n      <td>-0.500619</td>\n      <td>-0.500619</td>\n      <td>-1.845366</td>\n      <td>-0.405503</td>\n      <td>...</td>\n      <td>1.457462</td>\n      <td>NaN</td>\n      <td>1.710012</td>\n      <td>0.296389</td>\n      <td>-1.753529</td>\n      <td>1.729692</td>\n      <td>-0.425182</td>\n      <td>-0.149673</td>\n      <td>NaN</td>\n      <td>-0.047997</td>\n    </tr>\n  </tbody>\n</table>\n<p>5 rows × 12553 columns</p>\n</div>"
     },
     "execution_count": 5,
     "metadata": {},
     "output_type": "execute_result"
    }
   ],
   "source": [
    "## Transpose data for the clustering algorithm since we want to divide patient samples, not proteins\n",
    "print(data.shape)\n",
    "datat = data.transpose()\n",
    "print(datat.shape)\n",
    "\n",
    "datat.head()"
   ],
   "metadata": {
    "collapsed": false
   }
  },
  {
   "cell_type": "code",
   "execution_count": 6,
   "outputs": [
    {
     "name": "stdout",
     "output_type": "stream",
     "text": [
      "Number of patients in clinical data set:  105\n",
      "Number of patients in protein data set:  83\n"
     ]
    }
   ],
   "source": [
    "print(\"Number of patients in clinical data set: \", len(clinical_file.index))\n",
    "print(\"Number of patients in protein data set: \", len(datat.index))"
   ],
   "metadata": {
    "collapsed": false
   }
  },
  {
   "cell_type": "code",
   "execution_count": 7,
   "outputs": [
    {
     "name": "stdout",
     "output_type": "stream",
     "text": [
      "The shape of the clinical data set:  (77, 29)\n"
     ]
    },
    {
     "data": {
      "text/plain": "                  Gender  Age at Initial Pathologic Diagnosis ER Status  \\\nComplete TCGA ID                                                          \nTCGA-A2-A0CM      FEMALE                                   40  Negative   \nTCGA-BH-A18Q      FEMALE                                   56  Negative   \nTCGA-A7-A0CE      FEMALE                                   57  Negative   \nTCGA-D8-A142      FEMALE                                   74  Negative   \nTCGA-AO-A0J6      FEMALE                                   61  Negative   \n\n                 PR Status HER2 Final Status Tumor Tumor--T1 Coded Node  \\\nComplete TCGA ID                                                          \nTCGA-A2-A0CM      Negative          Negative    T2         T_Other   N0   \nTCGA-BH-A18Q      Negative          Negative    T2         T_Other   N1   \nTCGA-A7-A0CE      Negative          Negative    T2         T_Other   N0   \nTCGA-D8-A142      Negative          Negative    T3         T_Other   N0   \nTCGA-AO-A0J6      Negative          Negative    T2         T_Other   N0   \n\n                 Node-Coded Metastasis  ...  PAM50 mRNA  \\\nComplete TCGA ID                        ...               \nTCGA-A2-A0CM       Negative         M0  ...  Basal-like   \nTCGA-BH-A18Q       Positive         M0  ...  Basal-like   \nTCGA-A7-A0CE       Negative         M0  ...  Basal-like   \nTCGA-D8-A142       Negative         M0  ...  Basal-like   \nTCGA-AO-A0J6       Negative         M0  ...  Basal-like   \n\n                 SigClust Unsupervised mRNA SigClust Intrinsic mRNA  \\\nComplete TCGA ID                                                      \nTCGA-A2-A0CM                            -12                     -13   \nTCGA-BH-A18Q                            -12                     -13   \nTCGA-A7-A0CE                              0                     -13   \nTCGA-D8-A142                              0                     -13   \nTCGA-AO-A0J6                            -12                     -13   \n\n                 miRNA Clusters methylation Clusters  RPPA Clusters  \\\nComplete TCGA ID                                                      \nTCGA-A2-A0CM                  4                    4          Basal   \nTCGA-BH-A18Q                  5                    5          Basal   \nTCGA-A7-A0CE                  5                    5          Basal   \nTCGA-D8-A142                  3                    5              X   \nTCGA-AO-A0J6                  2                    5          Basal   \n\n                  CN Clusters  Integrated Clusters (with PAM50)  \\\nComplete TCGA ID                                                  \nTCGA-A2-A0CM                4                                 2   \nTCGA-BH-A18Q                1                                 2   \nTCGA-A7-A0CE                1                                 2   \nTCGA-D8-A142                1                                 2   \nTCGA-AO-A0J6                1                                 2   \n\n                  Integrated Clusters (no exp) Integrated Clusters (unsup exp)  \nComplete TCGA ID                                                                \nTCGA-A2-A0CM                                 1                               1  \nTCGA-BH-A18Q                                 2                               2  \nTCGA-A7-A0CE                                 2                               2  \nTCGA-D8-A142                                 2                               2  \nTCGA-AO-A0J6                                 2                               2  \n\n[5 rows x 29 columns]",
      "text/html": "<div>\n<style scoped>\n    .dataframe tbody tr th:only-of-type {\n        vertical-align: middle;\n    }\n\n    .dataframe tbody tr th {\n        vertical-align: top;\n    }\n\n    .dataframe thead th {\n        text-align: right;\n    }\n</style>\n<table border=\"1\" class=\"dataframe\">\n  <thead>\n    <tr style=\"text-align: right;\">\n      <th></th>\n      <th>Gender</th>\n      <th>Age at Initial Pathologic Diagnosis</th>\n      <th>ER Status</th>\n      <th>PR Status</th>\n      <th>HER2 Final Status</th>\n      <th>Tumor</th>\n      <th>Tumor--T1 Coded</th>\n      <th>Node</th>\n      <th>Node-Coded</th>\n      <th>Metastasis</th>\n      <th>...</th>\n      <th>PAM50 mRNA</th>\n      <th>SigClust Unsupervised mRNA</th>\n      <th>SigClust Intrinsic mRNA</th>\n      <th>miRNA Clusters</th>\n      <th>methylation Clusters</th>\n      <th>RPPA Clusters</th>\n      <th>CN Clusters</th>\n      <th>Integrated Clusters (with PAM50)</th>\n      <th>Integrated Clusters (no exp)</th>\n      <th>Integrated Clusters (unsup exp)</th>\n    </tr>\n    <tr>\n      <th>Complete TCGA ID</th>\n      <th></th>\n      <th></th>\n      <th></th>\n      <th></th>\n      <th></th>\n      <th></th>\n      <th></th>\n      <th></th>\n      <th></th>\n      <th></th>\n      <th></th>\n      <th></th>\n      <th></th>\n      <th></th>\n      <th></th>\n      <th></th>\n      <th></th>\n      <th></th>\n      <th></th>\n      <th></th>\n      <th></th>\n    </tr>\n  </thead>\n  <tbody>\n    <tr>\n      <th>TCGA-A2-A0CM</th>\n      <td>FEMALE</td>\n      <td>40</td>\n      <td>Negative</td>\n      <td>Negative</td>\n      <td>Negative</td>\n      <td>T2</td>\n      <td>T_Other</td>\n      <td>N0</td>\n      <td>Negative</td>\n      <td>M0</td>\n      <td>...</td>\n      <td>Basal-like</td>\n      <td>-12</td>\n      <td>-13</td>\n      <td>4</td>\n      <td>4</td>\n      <td>Basal</td>\n      <td>4</td>\n      <td>2</td>\n      <td>1</td>\n      <td>1</td>\n    </tr>\n    <tr>\n      <th>TCGA-BH-A18Q</th>\n      <td>FEMALE</td>\n      <td>56</td>\n      <td>Negative</td>\n      <td>Negative</td>\n      <td>Negative</td>\n      <td>T2</td>\n      <td>T_Other</td>\n      <td>N1</td>\n      <td>Positive</td>\n      <td>M0</td>\n      <td>...</td>\n      <td>Basal-like</td>\n      <td>-12</td>\n      <td>-13</td>\n      <td>5</td>\n      <td>5</td>\n      <td>Basal</td>\n      <td>1</td>\n      <td>2</td>\n      <td>2</td>\n      <td>2</td>\n    </tr>\n    <tr>\n      <th>TCGA-A7-A0CE</th>\n      <td>FEMALE</td>\n      <td>57</td>\n      <td>Negative</td>\n      <td>Negative</td>\n      <td>Negative</td>\n      <td>T2</td>\n      <td>T_Other</td>\n      <td>N0</td>\n      <td>Negative</td>\n      <td>M0</td>\n      <td>...</td>\n      <td>Basal-like</td>\n      <td>0</td>\n      <td>-13</td>\n      <td>5</td>\n      <td>5</td>\n      <td>Basal</td>\n      <td>1</td>\n      <td>2</td>\n      <td>2</td>\n      <td>2</td>\n    </tr>\n    <tr>\n      <th>TCGA-D8-A142</th>\n      <td>FEMALE</td>\n      <td>74</td>\n      <td>Negative</td>\n      <td>Negative</td>\n      <td>Negative</td>\n      <td>T3</td>\n      <td>T_Other</td>\n      <td>N0</td>\n      <td>Negative</td>\n      <td>M0</td>\n      <td>...</td>\n      <td>Basal-like</td>\n      <td>0</td>\n      <td>-13</td>\n      <td>3</td>\n      <td>5</td>\n      <td>X</td>\n      <td>1</td>\n      <td>2</td>\n      <td>2</td>\n      <td>2</td>\n    </tr>\n    <tr>\n      <th>TCGA-AO-A0J6</th>\n      <td>FEMALE</td>\n      <td>61</td>\n      <td>Negative</td>\n      <td>Negative</td>\n      <td>Negative</td>\n      <td>T2</td>\n      <td>T_Other</td>\n      <td>N0</td>\n      <td>Negative</td>\n      <td>M0</td>\n      <td>...</td>\n      <td>Basal-like</td>\n      <td>-12</td>\n      <td>-13</td>\n      <td>2</td>\n      <td>5</td>\n      <td>Basal</td>\n      <td>1</td>\n      <td>2</td>\n      <td>2</td>\n      <td>2</td>\n    </tr>\n  </tbody>\n</table>\n<p>5 rows × 29 columns</p>\n</div>"
     },
     "execution_count": 7,
     "metadata": {},
     "output_type": "execute_result"
    }
   ],
   "source": [
    "## Drop clinical entries for samples not in our protein data set\n",
    "clinical = clinical_file.loc[[x for x in clinical_file.index.tolist() if x in datat.index],:]\n",
    "\n",
    "print(\"The shape of the clinical data set: \", clinical.shape)\n",
    "clinical.head()"
   ],
   "metadata": {
    "collapsed": false
   }
  },
  {
   "cell_type": "code",
   "execution_count": 8,
   "outputs": [
    {
     "name": "stdout",
     "output_type": "stream",
     "text": [
      "Shape of the merged data set:  (74, 12582)\n",
      "with 74 patients and 12582 features\n"
     ]
    },
    {
     "data": {
      "text/plain": "              NP_958782  NP_958785  NP_958786  NP_000436  NP_958781  \\\nTCGA-A2-A0CM   0.683404   0.694424   0.698098   0.687077   0.687077   \nTCGA-A2-A0D2   0.107491   0.104164   0.107491   0.097512   0.104164   \nTCGA-A2-A0EQ  -0.912670  -0.927979  -0.927979  -0.931806  -0.927979   \nTCGA-A2-A0EV   0.452986   0.472590   0.472590   0.458587   0.472590   \nTCGA-A2-A0EX   1.185108   1.192612   1.188860   1.185108   1.200116   \n\n              NP_958780  NP_958783  NP_958784  NP_112598  NP_001611  ...  \\\nTCGA-A2-A0CM   0.698098   0.698098   0.698098  -2.652150  -0.984373  ...   \nTCGA-A2-A0D2   0.104164   0.104164   0.104164  -0.880454  -1.512473  ...   \nTCGA-A2-A0EQ  -0.927979  -0.927979  -0.927979  -3.071151  -2.278943  ...   \nTCGA-A2-A0EV   0.472590   0.472590   0.472590  -0.742871   1.811277  ...   \nTCGA-A2-A0EX   1.188860   1.188860   1.192612   1.046289   2.138081  ...   \n\n                 PAM50 mRNA  SigClust Unsupervised mRNA  \\\nTCGA-A2-A0CM     Basal-like                         -12   \nTCGA-A2-A0D2     Basal-like                         -12   \nTCGA-A2-A0EQ  HER2-enriched                          -5   \nTCGA-A2-A0EV      Luminal A                          -4   \nTCGA-A2-A0EX      Luminal A                          -7   \n\n              SigClust Intrinsic mRNA  miRNA Clusters  methylation Clusters  \\\nTCGA-A2-A0CM                      -13               4                     4   \nTCGA-A2-A0D2                      -13               4                     5   \nTCGA-A2-A0EQ                       -2               5                     4   \nTCGA-A2-A0EV                        0               4                     2   \nTCGA-A2-A0EX                       -5               4                     4   \n\n              RPPA Clusters  CN Clusters  Integrated Clusters (with PAM50)  \\\nTCGA-A2-A0CM          Basal            4                                 2   \nTCGA-A2-A0D2          Basal            3                                 2   \nTCGA-A2-A0EQ          Basal            4                                 4   \nTCGA-A2-A0EV          ReacI            3                                 3   \nTCGA-A2-A0EX          ReacI            4                                 3   \n\n              Integrated Clusters (no exp)  Integrated Clusters (unsup exp)  \nTCGA-A2-A0CM                             1                                1  \nTCGA-A2-A0D2                             2                                2  \nTCGA-A2-A0EQ                             1                                1  \nTCGA-A2-A0EV                             3                                4  \nTCGA-A2-A0EX                             1                                4  \n\n[5 rows x 12582 columns]",
      "text/html": "<div>\n<style scoped>\n    .dataframe tbody tr th:only-of-type {\n        vertical-align: middle;\n    }\n\n    .dataframe tbody tr th {\n        vertical-align: top;\n    }\n\n    .dataframe thead th {\n        text-align: right;\n    }\n</style>\n<table border=\"1\" class=\"dataframe\">\n  <thead>\n    <tr style=\"text-align: right;\">\n      <th></th>\n      <th>NP_958782</th>\n      <th>NP_958785</th>\n      <th>NP_958786</th>\n      <th>NP_000436</th>\n      <th>NP_958781</th>\n      <th>NP_958780</th>\n      <th>NP_958783</th>\n      <th>NP_958784</th>\n      <th>NP_112598</th>\n      <th>NP_001611</th>\n      <th>...</th>\n      <th>PAM50 mRNA</th>\n      <th>SigClust Unsupervised mRNA</th>\n      <th>SigClust Intrinsic mRNA</th>\n      <th>miRNA Clusters</th>\n      <th>methylation Clusters</th>\n      <th>RPPA Clusters</th>\n      <th>CN Clusters</th>\n      <th>Integrated Clusters (with PAM50)</th>\n      <th>Integrated Clusters (no exp)</th>\n      <th>Integrated Clusters (unsup exp)</th>\n    </tr>\n  </thead>\n  <tbody>\n    <tr>\n      <th>TCGA-A2-A0CM</th>\n      <td>0.683404</td>\n      <td>0.694424</td>\n      <td>0.698098</td>\n      <td>0.687077</td>\n      <td>0.687077</td>\n      <td>0.698098</td>\n      <td>0.698098</td>\n      <td>0.698098</td>\n      <td>-2.652150</td>\n      <td>-0.984373</td>\n      <td>...</td>\n      <td>Basal-like</td>\n      <td>-12</td>\n      <td>-13</td>\n      <td>4</td>\n      <td>4</td>\n      <td>Basal</td>\n      <td>4</td>\n      <td>2</td>\n      <td>1</td>\n      <td>1</td>\n    </tr>\n    <tr>\n      <th>TCGA-A2-A0D2</th>\n      <td>0.107491</td>\n      <td>0.104164</td>\n      <td>0.107491</td>\n      <td>0.097512</td>\n      <td>0.104164</td>\n      <td>0.104164</td>\n      <td>0.104164</td>\n      <td>0.104164</td>\n      <td>-0.880454</td>\n      <td>-1.512473</td>\n      <td>...</td>\n      <td>Basal-like</td>\n      <td>-12</td>\n      <td>-13</td>\n      <td>4</td>\n      <td>5</td>\n      <td>Basal</td>\n      <td>3</td>\n      <td>2</td>\n      <td>2</td>\n      <td>2</td>\n    </tr>\n    <tr>\n      <th>TCGA-A2-A0EQ</th>\n      <td>-0.912670</td>\n      <td>-0.927979</td>\n      <td>-0.927979</td>\n      <td>-0.931806</td>\n      <td>-0.927979</td>\n      <td>-0.927979</td>\n      <td>-0.927979</td>\n      <td>-0.927979</td>\n      <td>-3.071151</td>\n      <td>-2.278943</td>\n      <td>...</td>\n      <td>HER2-enriched</td>\n      <td>-5</td>\n      <td>-2</td>\n      <td>5</td>\n      <td>4</td>\n      <td>Basal</td>\n      <td>4</td>\n      <td>4</td>\n      <td>1</td>\n      <td>1</td>\n    </tr>\n    <tr>\n      <th>TCGA-A2-A0EV</th>\n      <td>0.452986</td>\n      <td>0.472590</td>\n      <td>0.472590</td>\n      <td>0.458587</td>\n      <td>0.472590</td>\n      <td>0.472590</td>\n      <td>0.472590</td>\n      <td>0.472590</td>\n      <td>-0.742871</td>\n      <td>1.811277</td>\n      <td>...</td>\n      <td>Luminal A</td>\n      <td>-4</td>\n      <td>0</td>\n      <td>4</td>\n      <td>2</td>\n      <td>ReacI</td>\n      <td>3</td>\n      <td>3</td>\n      <td>3</td>\n      <td>4</td>\n    </tr>\n    <tr>\n      <th>TCGA-A2-A0EX</th>\n      <td>1.185108</td>\n      <td>1.192612</td>\n      <td>1.188860</td>\n      <td>1.185108</td>\n      <td>1.200116</td>\n      <td>1.188860</td>\n      <td>1.188860</td>\n      <td>1.192612</td>\n      <td>1.046289</td>\n      <td>2.138081</td>\n      <td>...</td>\n      <td>Luminal A</td>\n      <td>-7</td>\n      <td>-5</td>\n      <td>4</td>\n      <td>4</td>\n      <td>ReacI</td>\n      <td>4</td>\n      <td>3</td>\n      <td>1</td>\n      <td>4</td>\n    </tr>\n  </tbody>\n</table>\n<p>5 rows × 12582 columns</p>\n</div>"
     },
     "execution_count": 8,
     "metadata": {},
     "output_type": "execute_result"
    }
   ],
   "source": [
    "## Add clinical meta data to our protein data set, note: all numerical features for analysis start with NP_ or XP_\n",
    "merged = datat.merge(clinical,left_index=True,right_index=True)\n",
    "\n",
    "# Drop the duplicated columns (added by Pietro Gavazzi)\n",
    "liste = merged.index.copy()\n",
    "liste = list(liste)\n",
    "\n",
    "for i in np.unique(merged.index):\n",
    "    liste.remove(i)\n",
    "\n",
    "## Change name to make it look nicer in the code!\n",
    "processed = merged.drop(np.unique(liste))\n",
    "\n",
    "print(\"Shape of the merged data set: \", processed.shape)\n",
    "print(\"with %d patients and %d features\" % (processed.shape[0], processed.shape[1]))\n",
    "\n",
    "processed.head()"
   ],
   "metadata": {
    "collapsed": false
   }
  },
  {
   "cell_type": "code",
   "execution_count": 9,
   "outputs": [
    {
     "data": {
      "text/plain": "Index(['NP_958782', 'NP_958785', 'NP_958786', 'NP_000436', 'NP_958781',\n       'NP_958780', 'NP_958783', 'NP_958784', 'NP_112598', 'NP_001611',\n       ...\n       'NP_001193600', 'NP_061134', 'NP_932347', 'NP_003593', 'NP_997203',\n       'NP_001191293', 'NP_775791', 'NP_004065', 'NP_068752', 'NP_219494'],\n      dtype='object', length=12553)"
     },
     "execution_count": 9,
     "metadata": {},
     "output_type": "execute_result"
    }
   ],
   "source": [
    "## Numerical data for the algorithm, NP_xx/XP_xx are protein identifiers from RefSeq database\n",
    "X = processed.loc[:,[x for x in processed.columns if bool(re.search(\"NP_|XP_|YP_\",x)) == True]]\n",
    "Y = pd.get_dummies(processed.drop(X.columns, axis=1)['Integrated Clusters (with PAM50)'], prefix=\"PAM50\")\n",
    "\n",
    "## Select only the PAM50 proteins - known panel of genes used for breast cancer subtype prediction\n",
    "# processed_numerical_p50 = processed_numerical.iloc[:,processed_numerical.columns.isin(pam50['RefSeqProteinID'])]\n",
    "# processed_numerical_p50.head()\n",
    "\n",
    "X.columns"
   ],
   "metadata": {
    "collapsed": false
   }
  },
  {
   "cell_type": "code",
   "execution_count": 10,
   "outputs": [
    {
     "data": {
      "text/plain": "              PAM50_1  PAM50_2  PAM50_3  PAM50_4\nTCGA-A2-A0CM        0        1        0        0\nTCGA-A2-A0D2        0        1        0        0\nTCGA-A2-A0EQ        0        0        0        1\nTCGA-A2-A0EV        0        0        1        0\nTCGA-A2-A0EX        0        0        1        0",
      "text/html": "<div>\n<style scoped>\n    .dataframe tbody tr th:only-of-type {\n        vertical-align: middle;\n    }\n\n    .dataframe tbody tr th {\n        vertical-align: top;\n    }\n\n    .dataframe thead th {\n        text-align: right;\n    }\n</style>\n<table border=\"1\" class=\"dataframe\">\n  <thead>\n    <tr style=\"text-align: right;\">\n      <th></th>\n      <th>PAM50_1</th>\n      <th>PAM50_2</th>\n      <th>PAM50_3</th>\n      <th>PAM50_4</th>\n    </tr>\n  </thead>\n  <tbody>\n    <tr>\n      <th>TCGA-A2-A0CM</th>\n      <td>0</td>\n      <td>1</td>\n      <td>0</td>\n      <td>0</td>\n    </tr>\n    <tr>\n      <th>TCGA-A2-A0D2</th>\n      <td>0</td>\n      <td>1</td>\n      <td>0</td>\n      <td>0</td>\n    </tr>\n    <tr>\n      <th>TCGA-A2-A0EQ</th>\n      <td>0</td>\n      <td>0</td>\n      <td>0</td>\n      <td>1</td>\n    </tr>\n    <tr>\n      <th>TCGA-A2-A0EV</th>\n      <td>0</td>\n      <td>0</td>\n      <td>1</td>\n      <td>0</td>\n    </tr>\n    <tr>\n      <th>TCGA-A2-A0EX</th>\n      <td>0</td>\n      <td>0</td>\n      <td>1</td>\n      <td>0</td>\n    </tr>\n  </tbody>\n</table>\n</div>"
     },
     "execution_count": 10,
     "metadata": {},
     "output_type": "execute_result"
    }
   ],
   "source": [
    "Y.head()"
   ],
   "metadata": {
    "collapsed": false
   }
  },
  {
   "cell_type": "code",
   "execution_count": 11,
   "outputs": [],
   "source": [
    "# Save the data\n",
    "torch.save(X, './Results/X')\n",
    "torch.save(Y, './Results/Y')"
   ],
   "metadata": {
    "collapsed": false
   }
  },
  {
   "cell_type": "markdown",
   "source": [
    "## 3. Data Engineering"
   ],
   "metadata": {
    "collapsed": false
   }
  },
  {
   "cell_type": "code",
   "execution_count": 12,
   "outputs": [],
   "source": [
    "# Read the processed data set\n",
    "X = torch.load('./Results/X')\n",
    "Y = torch.load('./Results/Y')"
   ],
   "metadata": {
    "collapsed": false
   }
  },
  {
   "cell_type": "code",
   "execution_count": 13,
   "outputs": [
    {
     "data": {
      "text/plain": "              NP_958782  NP_958785  NP_958786  NP_000436  NP_958781  \\\nTCGA-A2-A0CM   0.683404   0.694424   0.698098   0.687077   0.687077   \nTCGA-A2-A0D2   0.107491   0.104164   0.107491   0.097512   0.104164   \nTCGA-A2-A0EQ  -0.912670  -0.927979  -0.927979  -0.931806  -0.927979   \nTCGA-A2-A0EV   0.452986   0.472590   0.472590   0.458587   0.472590   \nTCGA-A2-A0EX   1.185108   1.192612   1.188860   1.185108   1.200116   \n\n              NP_958780  NP_958783  NP_958784  NP_112598  NP_001611  ...  \\\nTCGA-A2-A0CM   0.698098   0.698098   0.698098  -2.652150  -0.984373  ...   \nTCGA-A2-A0D2   0.104164   0.104164   0.104164  -0.880454  -1.512473  ...   \nTCGA-A2-A0EQ  -0.927979  -0.927979  -0.927979  -3.071151  -2.278943  ...   \nTCGA-A2-A0EV   0.472590   0.472590   0.472590  -0.742871   1.811277  ...   \nTCGA-A2-A0EX   1.188860   1.188860   1.192612   1.046289   2.138081  ...   \n\n              NP_001193600  NP_061134  NP_932347  NP_003593  NP_997203  \\\nTCGA-A2-A0CM           NaN        NaN   1.153614        NaN        NaN   \nTCGA-A2-A0D2      0.919136  -1.648856   0.832649        NaN  -8.324969   \nTCGA-A2-A0EQ     -0.801685        NaN        NaN   3.802310  -6.373934   \nTCGA-A2-A0EV     -4.966177  -1.471027        NaN  -0.474013 -12.278546   \nTCGA-A2-A0EX      1.451490  -2.018981   0.877456        NaN        NaN   \n\n              NP_001191293  NP_775791  NP_004065  NP_068752  NP_219494  \nTCGA-A2-A0CM           NaN        NaN        NaN        NaN        NaN  \nTCGA-A2-A0D2     -4.679219        NaN  -1.106650        NaN  -6.941181  \nTCGA-A2-A0EQ     -1.123160        NaN        NaN        NaN        NaN  \nTCGA-A2-A0EV    -10.337729  -0.653251        NaN        NaN        NaN  \nTCGA-A2-A0EX     -6.101005        NaN  -1.726336        NaN        NaN  \n\n[5 rows x 12553 columns]",
      "text/html": "<div>\n<style scoped>\n    .dataframe tbody tr th:only-of-type {\n        vertical-align: middle;\n    }\n\n    .dataframe tbody tr th {\n        vertical-align: top;\n    }\n\n    .dataframe thead th {\n        text-align: right;\n    }\n</style>\n<table border=\"1\" class=\"dataframe\">\n  <thead>\n    <tr style=\"text-align: right;\">\n      <th></th>\n      <th>NP_958782</th>\n      <th>NP_958785</th>\n      <th>NP_958786</th>\n      <th>NP_000436</th>\n      <th>NP_958781</th>\n      <th>NP_958780</th>\n      <th>NP_958783</th>\n      <th>NP_958784</th>\n      <th>NP_112598</th>\n      <th>NP_001611</th>\n      <th>...</th>\n      <th>NP_001193600</th>\n      <th>NP_061134</th>\n      <th>NP_932347</th>\n      <th>NP_003593</th>\n      <th>NP_997203</th>\n      <th>NP_001191293</th>\n      <th>NP_775791</th>\n      <th>NP_004065</th>\n      <th>NP_068752</th>\n      <th>NP_219494</th>\n    </tr>\n  </thead>\n  <tbody>\n    <tr>\n      <th>TCGA-A2-A0CM</th>\n      <td>0.683404</td>\n      <td>0.694424</td>\n      <td>0.698098</td>\n      <td>0.687077</td>\n      <td>0.687077</td>\n      <td>0.698098</td>\n      <td>0.698098</td>\n      <td>0.698098</td>\n      <td>-2.652150</td>\n      <td>-0.984373</td>\n      <td>...</td>\n      <td>NaN</td>\n      <td>NaN</td>\n      <td>1.153614</td>\n      <td>NaN</td>\n      <td>NaN</td>\n      <td>NaN</td>\n      <td>NaN</td>\n      <td>NaN</td>\n      <td>NaN</td>\n      <td>NaN</td>\n    </tr>\n    <tr>\n      <th>TCGA-A2-A0D2</th>\n      <td>0.107491</td>\n      <td>0.104164</td>\n      <td>0.107491</td>\n      <td>0.097512</td>\n      <td>0.104164</td>\n      <td>0.104164</td>\n      <td>0.104164</td>\n      <td>0.104164</td>\n      <td>-0.880454</td>\n      <td>-1.512473</td>\n      <td>...</td>\n      <td>0.919136</td>\n      <td>-1.648856</td>\n      <td>0.832649</td>\n      <td>NaN</td>\n      <td>-8.324969</td>\n      <td>-4.679219</td>\n      <td>NaN</td>\n      <td>-1.106650</td>\n      <td>NaN</td>\n      <td>-6.941181</td>\n    </tr>\n    <tr>\n      <th>TCGA-A2-A0EQ</th>\n      <td>-0.912670</td>\n      <td>-0.927979</td>\n      <td>-0.927979</td>\n      <td>-0.931806</td>\n      <td>-0.927979</td>\n      <td>-0.927979</td>\n      <td>-0.927979</td>\n      <td>-0.927979</td>\n      <td>-3.071151</td>\n      <td>-2.278943</td>\n      <td>...</td>\n      <td>-0.801685</td>\n      <td>NaN</td>\n      <td>NaN</td>\n      <td>3.802310</td>\n      <td>-6.373934</td>\n      <td>-1.123160</td>\n      <td>NaN</td>\n      <td>NaN</td>\n      <td>NaN</td>\n      <td>NaN</td>\n    </tr>\n    <tr>\n      <th>TCGA-A2-A0EV</th>\n      <td>0.452986</td>\n      <td>0.472590</td>\n      <td>0.472590</td>\n      <td>0.458587</td>\n      <td>0.472590</td>\n      <td>0.472590</td>\n      <td>0.472590</td>\n      <td>0.472590</td>\n      <td>-0.742871</td>\n      <td>1.811277</td>\n      <td>...</td>\n      <td>-4.966177</td>\n      <td>-1.471027</td>\n      <td>NaN</td>\n      <td>-0.474013</td>\n      <td>-12.278546</td>\n      <td>-10.337729</td>\n      <td>-0.653251</td>\n      <td>NaN</td>\n      <td>NaN</td>\n      <td>NaN</td>\n    </tr>\n    <tr>\n      <th>TCGA-A2-A0EX</th>\n      <td>1.185108</td>\n      <td>1.192612</td>\n      <td>1.188860</td>\n      <td>1.185108</td>\n      <td>1.200116</td>\n      <td>1.188860</td>\n      <td>1.188860</td>\n      <td>1.192612</td>\n      <td>1.046289</td>\n      <td>2.138081</td>\n      <td>...</td>\n      <td>1.451490</td>\n      <td>-2.018981</td>\n      <td>0.877456</td>\n      <td>NaN</td>\n      <td>NaN</td>\n      <td>-6.101005</td>\n      <td>NaN</td>\n      <td>-1.726336</td>\n      <td>NaN</td>\n      <td>NaN</td>\n    </tr>\n  </tbody>\n</table>\n<p>5 rows × 12553 columns</p>\n</div>"
     },
     "execution_count": 13,
     "metadata": {},
     "output_type": "execute_result"
    }
   ],
   "source": [
    "X.head()"
   ],
   "metadata": {
    "collapsed": false
   }
  },
  {
   "cell_type": "code",
   "execution_count": 14,
   "outputs": [
    {
     "data": {
      "text/plain": "              PAM50_1  PAM50_2  PAM50_3  PAM50_4\nTCGA-A2-A0CM        0        1        0        0\nTCGA-A2-A0D2        0        1        0        0\nTCGA-A2-A0EQ        0        0        0        1\nTCGA-A2-A0EV        0        0        1        0\nTCGA-A2-A0EX        0        0        1        0",
      "text/html": "<div>\n<style scoped>\n    .dataframe tbody tr th:only-of-type {\n        vertical-align: middle;\n    }\n\n    .dataframe tbody tr th {\n        vertical-align: top;\n    }\n\n    .dataframe thead th {\n        text-align: right;\n    }\n</style>\n<table border=\"1\" class=\"dataframe\">\n  <thead>\n    <tr style=\"text-align: right;\">\n      <th></th>\n      <th>PAM50_1</th>\n      <th>PAM50_2</th>\n      <th>PAM50_3</th>\n      <th>PAM50_4</th>\n    </tr>\n  </thead>\n  <tbody>\n    <tr>\n      <th>TCGA-A2-A0CM</th>\n      <td>0</td>\n      <td>1</td>\n      <td>0</td>\n      <td>0</td>\n    </tr>\n    <tr>\n      <th>TCGA-A2-A0D2</th>\n      <td>0</td>\n      <td>1</td>\n      <td>0</td>\n      <td>0</td>\n    </tr>\n    <tr>\n      <th>TCGA-A2-A0EQ</th>\n      <td>0</td>\n      <td>0</td>\n      <td>0</td>\n      <td>1</td>\n    </tr>\n    <tr>\n      <th>TCGA-A2-A0EV</th>\n      <td>0</td>\n      <td>0</td>\n      <td>1</td>\n      <td>0</td>\n    </tr>\n    <tr>\n      <th>TCGA-A2-A0EX</th>\n      <td>0</td>\n      <td>0</td>\n      <td>1</td>\n      <td>0</td>\n    </tr>\n  </tbody>\n</table>\n</div>"
     },
     "execution_count": 14,
     "metadata": {},
     "output_type": "execute_result"
    }
   ],
   "source": [
    "Y.head()"
   ],
   "metadata": {
    "collapsed": false
   }
  },
  {
   "cell_type": "markdown",
   "source": [
    "### 3.1 Missing value process\n",
    "We drop all the columns with nan values"
   ],
   "metadata": {
    "collapsed": false
   }
  },
  {
   "cell_type": "code",
   "execution_count": 15,
   "outputs": [],
   "source": [
    "nan_counts = np.sum(X.isna(), axis=0)\n",
    "col_to_drop = nan_counts[nan_counts != 0].index\n",
    "X.drop(col_to_drop, axis=1, inplace=True)"
   ],
   "metadata": {
    "collapsed": false
   }
  },
  {
   "cell_type": "code",
   "execution_count": 16,
   "outputs": [
    {
     "data": {
      "text/plain": "              NP_958782  NP_958785  NP_958786  NP_000436  NP_958781  \\\nTCGA-A2-A0CM   0.683404   0.694424   0.698098   0.687077   0.687077   \nTCGA-A2-A0D2   0.107491   0.104164   0.107491   0.097512   0.104164   \nTCGA-A2-A0EQ  -0.912670  -0.927979  -0.927979  -0.931806  -0.927979   \nTCGA-A2-A0EV   0.452986   0.472590   0.472590   0.458587   0.472590   \nTCGA-A2-A0EX   1.185108   1.192612   1.188860   1.185108   1.200116   \n\n              NP_958780  NP_958783  NP_958784  NP_112598  NP_001611  ...  \\\nTCGA-A2-A0CM   0.698098   0.698098   0.698098  -2.652150  -0.984373  ...   \nTCGA-A2-A0D2   0.104164   0.104164   0.104164  -0.880454  -1.512473  ...   \nTCGA-A2-A0EQ  -0.927979  -0.927979  -0.927979  -3.071151  -2.278943  ...   \nTCGA-A2-A0EV   0.472590   0.472590   0.472590  -0.742871   1.811277  ...   \nTCGA-A2-A0EX   1.188860   1.188860   1.192612   1.046289   2.138081  ...   \n\n              NP_001652  NP_071753  NP_001294  NP_065775  NP_001094348  \\\nTCGA-A2-A0CM   0.617280  -1.502339   2.130769   1.098511     -0.819065   \nTCGA-A2-A0D2   2.136604   2.322883   1.225166   1.777351      1.062172   \nTCGA-A2-A0EQ   2.133697   1.643829   1.364451   2.481962      1.785431   \nTCGA-A2-A0EV   1.335175   1.884093   2.231367   2.463817     -3.078572   \nTCGA-A2-A0EX   2.130577   2.378200   2.509515   0.948741      0.108324   \n\n              XP_003846524  NP_443073  NP_001004456  NP_997625  NP_003270  \nTCGA-A2-A0CM     -0.675798   0.014823      1.550354  -0.216608   1.032388  \nTCGA-A2-A0D2     -2.759878   0.154061      0.237221   0.270485   0.456764  \nTCGA-A2-A0EQ     -1.203529   0.664093      0.289037  -0.047747   0.128299  \nTCGA-A2-A0EV     -6.167635   0.842269      4.158181  -0.160346  -2.325210  \nTCGA-A2-A0EX     -0.743348   0.787411      3.158587   2.948483   2.025525  \n\n[5 rows x 8023 columns]",
      "text/html": "<div>\n<style scoped>\n    .dataframe tbody tr th:only-of-type {\n        vertical-align: middle;\n    }\n\n    .dataframe tbody tr th {\n        vertical-align: top;\n    }\n\n    .dataframe thead th {\n        text-align: right;\n    }\n</style>\n<table border=\"1\" class=\"dataframe\">\n  <thead>\n    <tr style=\"text-align: right;\">\n      <th></th>\n      <th>NP_958782</th>\n      <th>NP_958785</th>\n      <th>NP_958786</th>\n      <th>NP_000436</th>\n      <th>NP_958781</th>\n      <th>NP_958780</th>\n      <th>NP_958783</th>\n      <th>NP_958784</th>\n      <th>NP_112598</th>\n      <th>NP_001611</th>\n      <th>...</th>\n      <th>NP_001652</th>\n      <th>NP_071753</th>\n      <th>NP_001294</th>\n      <th>NP_065775</th>\n      <th>NP_001094348</th>\n      <th>XP_003846524</th>\n      <th>NP_443073</th>\n      <th>NP_001004456</th>\n      <th>NP_997625</th>\n      <th>NP_003270</th>\n    </tr>\n  </thead>\n  <tbody>\n    <tr>\n      <th>TCGA-A2-A0CM</th>\n      <td>0.683404</td>\n      <td>0.694424</td>\n      <td>0.698098</td>\n      <td>0.687077</td>\n      <td>0.687077</td>\n      <td>0.698098</td>\n      <td>0.698098</td>\n      <td>0.698098</td>\n      <td>-2.652150</td>\n      <td>-0.984373</td>\n      <td>...</td>\n      <td>0.617280</td>\n      <td>-1.502339</td>\n      <td>2.130769</td>\n      <td>1.098511</td>\n      <td>-0.819065</td>\n      <td>-0.675798</td>\n      <td>0.014823</td>\n      <td>1.550354</td>\n      <td>-0.216608</td>\n      <td>1.032388</td>\n    </tr>\n    <tr>\n      <th>TCGA-A2-A0D2</th>\n      <td>0.107491</td>\n      <td>0.104164</td>\n      <td>0.107491</td>\n      <td>0.097512</td>\n      <td>0.104164</td>\n      <td>0.104164</td>\n      <td>0.104164</td>\n      <td>0.104164</td>\n      <td>-0.880454</td>\n      <td>-1.512473</td>\n      <td>...</td>\n      <td>2.136604</td>\n      <td>2.322883</td>\n      <td>1.225166</td>\n      <td>1.777351</td>\n      <td>1.062172</td>\n      <td>-2.759878</td>\n      <td>0.154061</td>\n      <td>0.237221</td>\n      <td>0.270485</td>\n      <td>0.456764</td>\n    </tr>\n    <tr>\n      <th>TCGA-A2-A0EQ</th>\n      <td>-0.912670</td>\n      <td>-0.927979</td>\n      <td>-0.927979</td>\n      <td>-0.931806</td>\n      <td>-0.927979</td>\n      <td>-0.927979</td>\n      <td>-0.927979</td>\n      <td>-0.927979</td>\n      <td>-3.071151</td>\n      <td>-2.278943</td>\n      <td>...</td>\n      <td>2.133697</td>\n      <td>1.643829</td>\n      <td>1.364451</td>\n      <td>2.481962</td>\n      <td>1.785431</td>\n      <td>-1.203529</td>\n      <td>0.664093</td>\n      <td>0.289037</td>\n      <td>-0.047747</td>\n      <td>0.128299</td>\n    </tr>\n    <tr>\n      <th>TCGA-A2-A0EV</th>\n      <td>0.452986</td>\n      <td>0.472590</td>\n      <td>0.472590</td>\n      <td>0.458587</td>\n      <td>0.472590</td>\n      <td>0.472590</td>\n      <td>0.472590</td>\n      <td>0.472590</td>\n      <td>-0.742871</td>\n      <td>1.811277</td>\n      <td>...</td>\n      <td>1.335175</td>\n      <td>1.884093</td>\n      <td>2.231367</td>\n      <td>2.463817</td>\n      <td>-3.078572</td>\n      <td>-6.167635</td>\n      <td>0.842269</td>\n      <td>4.158181</td>\n      <td>-0.160346</td>\n      <td>-2.325210</td>\n    </tr>\n    <tr>\n      <th>TCGA-A2-A0EX</th>\n      <td>1.185108</td>\n      <td>1.192612</td>\n      <td>1.188860</td>\n      <td>1.185108</td>\n      <td>1.200116</td>\n      <td>1.188860</td>\n      <td>1.188860</td>\n      <td>1.192612</td>\n      <td>1.046289</td>\n      <td>2.138081</td>\n      <td>...</td>\n      <td>2.130577</td>\n      <td>2.378200</td>\n      <td>2.509515</td>\n      <td>0.948741</td>\n      <td>0.108324</td>\n      <td>-0.743348</td>\n      <td>0.787411</td>\n      <td>3.158587</td>\n      <td>2.948483</td>\n      <td>2.025525</td>\n    </tr>\n  </tbody>\n</table>\n<p>5 rows × 8023 columns</p>\n</div>"
     },
     "execution_count": 16,
     "metadata": {},
     "output_type": "execute_result"
    }
   ],
   "source": [
    "X.head()"
   ],
   "metadata": {
    "collapsed": false
   }
  },
  {
   "cell_type": "markdown",
   "source": [
    "### 3.2 Data Scaling\n",
    "We use the standardization for each feature of the data set"
   ],
   "metadata": {
    "collapsed": false
   }
  },
  {
   "cell_type": "code",
   "execution_count": 17,
   "outputs": [
    {
     "data": {
      "text/plain": "              NP_958782  NP_958785  NP_958786  NP_000436  NP_958781  \\\nTCGA-A2-A0CM   0.452431   0.457240   0.461851   0.454087   0.449388   \nTCGA-A2-A0D2  -0.172432  -0.181569  -0.177678  -0.185102  -0.181181   \nTCGA-A2-A0EQ  -1.279303  -1.298605  -1.298919  -1.301058  -1.297708   \nTCGA-A2-A0EV   0.202429   0.217160   0.217664   0.206365   0.217365   \nTCGA-A2-A0EX   0.996779   0.996403   0.993265   0.994038   1.004370   \n\n              NP_958780  NP_958783  NP_958784  NP_112598  NP_001611  ...  \\\nTCGA-A2-A0CM   0.461992   0.462014   0.461871  -1.154705  -0.927883  ...   \nTCGA-A2-A0D2  -0.181168  -0.180454  -0.180530  -0.262565  -1.283112  ...   \nTCGA-A2-A0EQ  -1.298859  -1.296940  -1.296900  -1.365693  -1.798682  ...   \nTCGA-A2-A0EV   0.217794   0.218079   0.217961  -0.193284   0.952625  ...   \nTCGA-A2-A0EX   0.993431   0.992880   0.996740   0.707650   1.172451  ...   \n\n              NP_001652  NP_071753  NP_001294  NP_065775  NP_001094348  \\\nTCGA-A2-A0CM   0.044546  -0.965931   0.677192   0.362810     -0.448672   \nTCGA-A2-A0D2   0.780823   0.803122   0.274983   0.640327      0.336494   \nTCGA-A2-A0EQ   0.779414   0.489079   0.336844   0.928380      0.638359   \nTCGA-A2-A0EV   0.392444   0.600195   0.721871   0.920962     -1.391716   \nTCGA-A2-A0EX   0.777902   0.828705   0.845406   0.301582     -0.061610   \n\n              XP_003846524  NP_443073  NP_001004456  NP_997625  NP_003270  \nTCGA-A2-A0CM      0.278981  -0.212651      0.434459  -0.183720   0.450670  \nTCGA-A2-A0D2     -0.556361  -0.097150     -0.132248   0.073308   0.166313  \nTCGA-A2-A0EQ      0.067456   0.325932     -0.109886  -0.094616   0.004053  \nTCGA-A2-A0EV     -1.922260   0.473734      1.559915  -0.154031  -1.207976  \nTCGA-A2-A0EX      0.251906   0.428227      1.128522   1.486423   0.941278  \n\n[5 rows x 8023 columns]",
      "text/html": "<div>\n<style scoped>\n    .dataframe tbody tr th:only-of-type {\n        vertical-align: middle;\n    }\n\n    .dataframe tbody tr th {\n        vertical-align: top;\n    }\n\n    .dataframe thead th {\n        text-align: right;\n    }\n</style>\n<table border=\"1\" class=\"dataframe\">\n  <thead>\n    <tr style=\"text-align: right;\">\n      <th></th>\n      <th>NP_958782</th>\n      <th>NP_958785</th>\n      <th>NP_958786</th>\n      <th>NP_000436</th>\n      <th>NP_958781</th>\n      <th>NP_958780</th>\n      <th>NP_958783</th>\n      <th>NP_958784</th>\n      <th>NP_112598</th>\n      <th>NP_001611</th>\n      <th>...</th>\n      <th>NP_001652</th>\n      <th>NP_071753</th>\n      <th>NP_001294</th>\n      <th>NP_065775</th>\n      <th>NP_001094348</th>\n      <th>XP_003846524</th>\n      <th>NP_443073</th>\n      <th>NP_001004456</th>\n      <th>NP_997625</th>\n      <th>NP_003270</th>\n    </tr>\n  </thead>\n  <tbody>\n    <tr>\n      <th>TCGA-A2-A0CM</th>\n      <td>0.452431</td>\n      <td>0.457240</td>\n      <td>0.461851</td>\n      <td>0.454087</td>\n      <td>0.449388</td>\n      <td>0.461992</td>\n      <td>0.462014</td>\n      <td>0.461871</td>\n      <td>-1.154705</td>\n      <td>-0.927883</td>\n      <td>...</td>\n      <td>0.044546</td>\n      <td>-0.965931</td>\n      <td>0.677192</td>\n      <td>0.362810</td>\n      <td>-0.448672</td>\n      <td>0.278981</td>\n      <td>-0.212651</td>\n      <td>0.434459</td>\n      <td>-0.183720</td>\n      <td>0.450670</td>\n    </tr>\n    <tr>\n      <th>TCGA-A2-A0D2</th>\n      <td>-0.172432</td>\n      <td>-0.181569</td>\n      <td>-0.177678</td>\n      <td>-0.185102</td>\n      <td>-0.181181</td>\n      <td>-0.181168</td>\n      <td>-0.180454</td>\n      <td>-0.180530</td>\n      <td>-0.262565</td>\n      <td>-1.283112</td>\n      <td>...</td>\n      <td>0.780823</td>\n      <td>0.803122</td>\n      <td>0.274983</td>\n      <td>0.640327</td>\n      <td>0.336494</td>\n      <td>-0.556361</td>\n      <td>-0.097150</td>\n      <td>-0.132248</td>\n      <td>0.073308</td>\n      <td>0.166313</td>\n    </tr>\n    <tr>\n      <th>TCGA-A2-A0EQ</th>\n      <td>-1.279303</td>\n      <td>-1.298605</td>\n      <td>-1.298919</td>\n      <td>-1.301058</td>\n      <td>-1.297708</td>\n      <td>-1.298859</td>\n      <td>-1.296940</td>\n      <td>-1.296900</td>\n      <td>-1.365693</td>\n      <td>-1.798682</td>\n      <td>...</td>\n      <td>0.779414</td>\n      <td>0.489079</td>\n      <td>0.336844</td>\n      <td>0.928380</td>\n      <td>0.638359</td>\n      <td>0.067456</td>\n      <td>0.325932</td>\n      <td>-0.109886</td>\n      <td>-0.094616</td>\n      <td>0.004053</td>\n    </tr>\n    <tr>\n      <th>TCGA-A2-A0EV</th>\n      <td>0.202429</td>\n      <td>0.217160</td>\n      <td>0.217664</td>\n      <td>0.206365</td>\n      <td>0.217365</td>\n      <td>0.217794</td>\n      <td>0.218079</td>\n      <td>0.217961</td>\n      <td>-0.193284</td>\n      <td>0.952625</td>\n      <td>...</td>\n      <td>0.392444</td>\n      <td>0.600195</td>\n      <td>0.721871</td>\n      <td>0.920962</td>\n      <td>-1.391716</td>\n      <td>-1.922260</td>\n      <td>0.473734</td>\n      <td>1.559915</td>\n      <td>-0.154031</td>\n      <td>-1.207976</td>\n    </tr>\n    <tr>\n      <th>TCGA-A2-A0EX</th>\n      <td>0.996779</td>\n      <td>0.996403</td>\n      <td>0.993265</td>\n      <td>0.994038</td>\n      <td>1.004370</td>\n      <td>0.993431</td>\n      <td>0.992880</td>\n      <td>0.996740</td>\n      <td>0.707650</td>\n      <td>1.172451</td>\n      <td>...</td>\n      <td>0.777902</td>\n      <td>0.828705</td>\n      <td>0.845406</td>\n      <td>0.301582</td>\n      <td>-0.061610</td>\n      <td>0.251906</td>\n      <td>0.428227</td>\n      <td>1.128522</td>\n      <td>1.486423</td>\n      <td>0.941278</td>\n    </tr>\n  </tbody>\n</table>\n<p>5 rows × 8023 columns</p>\n</div>"
     },
     "execution_count": 17,
     "metadata": {},
     "output_type": "execute_result"
    }
   ],
   "source": [
    "col_names = X.columns\n",
    "idx = X.index\n",
    "scaler = StandardScaler()\n",
    "X_scaled = pd.DataFrame(scaler.fit_transform(X), columns=col_names, index=idx)\n",
    "X_scaled.head()"
   ],
   "metadata": {
    "collapsed": false
   }
  },
  {
   "cell_type": "markdown",
   "source": [
    "## 4. Basic model"
   ],
   "metadata": {
    "collapsed": false
   }
  },
  {
   "cell_type": "markdown",
   "source": [
    "### 4.1 K-Means model"
   ],
   "metadata": {
    "collapsed": false
   }
  },
  {
   "cell_type": "code",
   "execution_count": 18,
   "outputs": [],
   "source": [
    "kmeans = KMeans(n_clusters=4, algorithm='full').fit(X)\n",
    "pred = kmeans.labels_"
   ],
   "metadata": {
    "collapsed": false
   }
  },
  {
   "cell_type": "code",
   "execution_count": 19,
   "outputs": [],
   "source": [
    "def eval_matrix(y_true, y_pred, name):\n",
    "    pred = pd.DataFrame(pd.get_dummies(y_pred))\n",
    "    pred.columns = ['cluster_' + str(x) for x in range(1, 5)]\n",
    "    pred = pred.set_index(y_true.index)\n",
    "    merged = pd.concat([y_true, pred], axis=1)\n",
    "\n",
    "    matrix = np.zeros((len(merged.T), len(merged.T)))\n",
    "\n",
    "    indi = 0\n",
    "    for i in merged.T.index:\n",
    "        indj = 0\n",
    "        for j in merged.T.index:\n",
    "            matrix[indi][indj] += np.array(merged[i]) @ np.array(merged[j])\n",
    "            indj+=1\n",
    "        indi+=1\n",
    "\n",
    "    for i in range(len(matrix)):\n",
    "        matrix[i] /= matrix[i][i]\n",
    "\n",
    "    file_name = './Figures/' + name + '.pdf'\n",
    "\n",
    "    plt.figure(figsize=(6, 6), dpi=100)\n",
    "    ax = sb.heatmap(matrix, annot=True, cbar=False)\n",
    "    ax.set_xticklabels(merged.columns, rotation=45)\n",
    "    ax.set_yticklabels(merged.columns, rotation=0)\n",
    "    plt.savefig(file_name)\n",
    "    plt.show()\n",
    "\n",
    "    return matrix"
   ],
   "metadata": {
    "collapsed": false
   }
  },
  {
   "cell_type": "code",
   "execution_count": 20,
   "outputs": [
    {
     "data": {
      "text/plain": "<Figure size 600x600 with 1 Axes>",
      "image/png": "[encoded data removed]"
     },
     "metadata": {},
     "output_type": "display_data"
    }
   ],
   "source": [
    "matrix = eval_matrix(Y, pred, name='KNN_4_full')"
   ],
   "metadata": {
    "collapsed": false
   }
  },
  {
   "cell_type": "markdown",
   "source": [
    "## 5. Model improvement"
   ],
   "metadata": {
    "collapsed": false
   }
  },
  {
   "cell_type": "markdown",
   "source": [
    "### 5.1 Feature selection"
   ],
   "metadata": {
    "collapsed": false
   }
  },
  {
   "cell_type": "code",
   "execution_count": null,
   "outputs": [],
   "source": [],
   "metadata": {
    "collapsed": false
   }
  },
  {
   "cell_type": "markdown",
   "source": [
    "### 5.2 Model selection"
   ],
   "metadata": {
    "collapsed": false
   }
  },
  {
   "cell_type": "code",
   "execution_count": 20,
   "outputs": [],
   "source": [],
   "metadata": {
    "collapsed": false
   }
  }
 ],
 "metadata": {
  "kernelspec": {
   "display_name": "Python 3",
   "language": "python",
   "name": "python3"
  },
  "language_info": {
   "codemirror_mode": {
    "name": "ipython",
    "version": 2
   },
   "file_extension": ".py",
   "mimetype": "text/x-python",
   "name": "python",
   "nbconvert_exporter": "python",
   "pygments_lexer": "ipython2",
   "version": "2.7.6"
  }
 },
 "nbformat": 4,
 "nbformat_minor": 0
}

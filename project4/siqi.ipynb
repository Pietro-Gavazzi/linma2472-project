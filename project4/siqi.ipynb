{
 "cells": [
  {
   "cell_type": "markdown",
   "source": [
    "# LINMA 2472 Final Project"
   ],
   "metadata": {
    "collapsed": false
   }
  },
  {
   "cell_type": "markdown",
   "source": [
    "## 1. Load packages"
   ],
   "metadata": {
    "collapsed": false
   }
  },
  {
   "cell_type": "code",
   "execution_count": 1,
   "metadata": {
    "collapsed": true
   },
   "outputs": [],
   "source": [
    "import numpy as np\n",
    "import pandas as pd"
   ]
  },
  {
   "cell_type": "markdown",
   "source": [
    "## 2. Read Data"
   ],
   "metadata": {
    "collapsed": false
   }
  },
  {
   "cell_type": "code",
   "execution_count": 2,
   "outputs": [
    {
     "data": {
      "text/plain": "  RefSeq_accession_number gene_symbol           gene_name  AO-A12D.01TCGA  \\\n0               NP_958782        PLEC   plectin isoform 1        1.096131   \n1               NP_958785         NaN  plectin isoform 1g        1.111370   \n2               NP_958786        PLEC  plectin isoform 1a        1.111370   \n3               NP_000436         NaN  plectin isoform 1c        1.107561   \n4               NP_958781         NaN  plectin isoform 1e        1.115180   \n\n   C8-A131.01TCGA  AO-A12B.01TCGA  BH-A18Q.02TCGA  C8-A130.02TCGA  \\\n0        2.609943       -0.659828        0.195341       -0.494060   \n1        2.650422       -0.648742        0.215413       -0.503899   \n2        2.650422       -0.654285        0.215413       -0.500619   \n3        2.646374       -0.632113        0.205377       -0.510459   \n4        2.646374       -0.640428        0.215413       -0.503899   \n\n   C8-A138.03TCGA  E2-A154.03TCGA  ...  AO-A12B.34TCGA  A2-A0SW.35TCGA  \\\n0        2.765081        0.862659  ...       -0.963904       -0.487772   \n1        2.779709        0.870186  ...       -0.938210       -0.487772   \n2        2.779709        0.870186  ...       -0.943919       -0.487772   \n3        2.797995        0.866423  ...       -0.935355       -0.487772   \n4        2.787023        0.870186  ...       -0.935355       -0.503853   \n\n   AO-A0JL.35TCGA  BH-A0BV.35TCGA  A2-A0YM.36TCGA  BH-A0C7.36TCGA  \\\n0        -0.10668       -0.065838        0.655850       -0.552212   \n1        -0.10668       -0.055893        0.658143       -0.547749   \n2        -0.10668       -0.065838        0.655850       -0.552212   \n3        -0.10668       -0.055893        0.655850       -0.552212   \n4        -0.10668       -0.062523        0.651264       -0.556675   \n\n   A2-A0SX.36TCGA  263d3f-I.CPTAC  blcdb9-I.CPTAC  c4155b-C.CPTAC  \n0       -0.398560        0.598585       -0.191285        0.566975  \n1       -0.392601        0.606697       -0.183918        0.578702  \n2       -0.392601        0.603993       -0.186022        0.576747  \n3       -0.392601        0.603993       -0.186022        0.576747  \n4       -0.395581        0.603993       -0.167079        0.576747  \n\n[5 rows x 86 columns]",
      "text/html": "<div>\n<style scoped>\n    .dataframe tbody tr th:only-of-type {\n        vertical-align: middle;\n    }\n\n    .dataframe tbody tr th {\n        vertical-align: top;\n    }\n\n    .dataframe thead th {\n        text-align: right;\n    }\n</style>\n<table border=\"1\" class=\"dataframe\">\n  <thead>\n    <tr style=\"text-align: right;\">\n      <th></th>\n      <th>RefSeq_accession_number</th>\n      <th>gene_symbol</th>\n      <th>gene_name</th>\n      <th>AO-A12D.01TCGA</th>\n      <th>C8-A131.01TCGA</th>\n      <th>AO-A12B.01TCGA</th>\n      <th>BH-A18Q.02TCGA</th>\n      <th>C8-A130.02TCGA</th>\n      <th>C8-A138.03TCGA</th>\n      <th>E2-A154.03TCGA</th>\n      <th>...</th>\n      <th>AO-A12B.34TCGA</th>\n      <th>A2-A0SW.35TCGA</th>\n      <th>AO-A0JL.35TCGA</th>\n      <th>BH-A0BV.35TCGA</th>\n      <th>A2-A0YM.36TCGA</th>\n      <th>BH-A0C7.36TCGA</th>\n      <th>A2-A0SX.36TCGA</th>\n      <th>263d3f-I.CPTAC</th>\n      <th>blcdb9-I.CPTAC</th>\n      <th>c4155b-C.CPTAC</th>\n    </tr>\n  </thead>\n  <tbody>\n    <tr>\n      <th>0</th>\n      <td>NP_958782</td>\n      <td>PLEC</td>\n      <td>plectin isoform 1</td>\n      <td>1.096131</td>\n      <td>2.609943</td>\n      <td>-0.659828</td>\n      <td>0.195341</td>\n      <td>-0.494060</td>\n      <td>2.765081</td>\n      <td>0.862659</td>\n      <td>...</td>\n      <td>-0.963904</td>\n      <td>-0.487772</td>\n      <td>-0.10668</td>\n      <td>-0.065838</td>\n      <td>0.655850</td>\n      <td>-0.552212</td>\n      <td>-0.398560</td>\n      <td>0.598585</td>\n      <td>-0.191285</td>\n      <td>0.566975</td>\n    </tr>\n    <tr>\n      <th>1</th>\n      <td>NP_958785</td>\n      <td>NaN</td>\n      <td>plectin isoform 1g</td>\n      <td>1.111370</td>\n      <td>2.650422</td>\n      <td>-0.648742</td>\n      <td>0.215413</td>\n      <td>-0.503899</td>\n      <td>2.779709</td>\n      <td>0.870186</td>\n      <td>...</td>\n      <td>-0.938210</td>\n      <td>-0.487772</td>\n      <td>-0.10668</td>\n      <td>-0.055893</td>\n      <td>0.658143</td>\n      <td>-0.547749</td>\n      <td>-0.392601</td>\n      <td>0.606697</td>\n      <td>-0.183918</td>\n      <td>0.578702</td>\n    </tr>\n    <tr>\n      <th>2</th>\n      <td>NP_958786</td>\n      <td>PLEC</td>\n      <td>plectin isoform 1a</td>\n      <td>1.111370</td>\n      <td>2.650422</td>\n      <td>-0.654285</td>\n      <td>0.215413</td>\n      <td>-0.500619</td>\n      <td>2.779709</td>\n      <td>0.870186</td>\n      <td>...</td>\n      <td>-0.943919</td>\n      <td>-0.487772</td>\n      <td>-0.10668</td>\n      <td>-0.065838</td>\n      <td>0.655850</td>\n      <td>-0.552212</td>\n      <td>-0.392601</td>\n      <td>0.603993</td>\n      <td>-0.186022</td>\n      <td>0.576747</td>\n    </tr>\n    <tr>\n      <th>3</th>\n      <td>NP_000436</td>\n      <td>NaN</td>\n      <td>plectin isoform 1c</td>\n      <td>1.107561</td>\n      <td>2.646374</td>\n      <td>-0.632113</td>\n      <td>0.205377</td>\n      <td>-0.510459</td>\n      <td>2.797995</td>\n      <td>0.866423</td>\n      <td>...</td>\n      <td>-0.935355</td>\n      <td>-0.487772</td>\n      <td>-0.10668</td>\n      <td>-0.055893</td>\n      <td>0.655850</td>\n      <td>-0.552212</td>\n      <td>-0.392601</td>\n      <td>0.603993</td>\n      <td>-0.186022</td>\n      <td>0.576747</td>\n    </tr>\n    <tr>\n      <th>4</th>\n      <td>NP_958781</td>\n      <td>NaN</td>\n      <td>plectin isoform 1e</td>\n      <td>1.115180</td>\n      <td>2.646374</td>\n      <td>-0.640428</td>\n      <td>0.215413</td>\n      <td>-0.503899</td>\n      <td>2.787023</td>\n      <td>0.870186</td>\n      <td>...</td>\n      <td>-0.935355</td>\n      <td>-0.503853</td>\n      <td>-0.10668</td>\n      <td>-0.062523</td>\n      <td>0.651264</td>\n      <td>-0.556675</td>\n      <td>-0.395581</td>\n      <td>0.603993</td>\n      <td>-0.167079</td>\n      <td>0.576747</td>\n    </tr>\n  </tbody>\n</table>\n<p>5 rows × 86 columns</p>\n</div>"
     },
     "execution_count": 2,
     "metadata": {},
     "output_type": "execute_result"
    }
   ],
   "source": [
    "data = pd.read_csv(\"./dataset/dataset.csv\")\n",
    "data.head()"
   ],
   "metadata": {
    "collapsed": false
   }
  },
  {
   "cell_type": "markdown",
   "source": [
    "## 3. Data Description"
   ],
   "metadata": {
    "collapsed": false
   }
  },
  {
   "cell_type": "markdown",
   "source": [
    "### 3.1 The size of the dataset"
   ],
   "metadata": {
    "collapsed": false
   }
  },
  {
   "cell_type": "code",
   "execution_count": 3,
   "outputs": [
    {
     "name": "stdout",
     "output_type": "stream",
     "text": [
      "The size of the dataset is 12553 rows with 86 features\n"
     ]
    }
   ],
   "source": [
    "print('The size of the dataset is %d rows with %d features' % (data.shape[0], data.shape[1]))"
   ],
   "metadata": {
    "collapsed": false
   }
  },
  {
   "cell_type": "markdown",
   "source": [
    "### 3.2 Columns"
   ],
   "metadata": {
    "collapsed": false
   }
  },
  {
   "cell_type": "code",
   "execution_count": 4,
   "outputs": [
    {
     "name": "stdout",
     "output_type": "stream",
     "text": [
      "<class 'pandas.core.frame.DataFrame'>\n",
      "RangeIndex: 12553 entries, 0 to 12552\n",
      "Data columns (total 86 columns):\n",
      " #   Column                   Non-Null Count  Dtype  \n",
      "---  ------                   --------------  -----  \n",
      " 0   RefSeq_accession_number  12553 non-null  object \n",
      " 1   gene_symbol              10773 non-null  object \n",
      " 2   gene_name                12553 non-null  object \n",
      " 3   AO-A12D.01TCGA           11334 non-null  float64\n",
      " 4   C8-A131.01TCGA           11335 non-null  float64\n",
      " 5   AO-A12B.01TCGA           11334 non-null  float64\n",
      " 6   BH-A18Q.02TCGA           12024 non-null  float64\n",
      " 7   C8-A130.02TCGA           12025 non-null  float64\n",
      " 8   C8-A138.03TCGA           11833 non-null  float64\n",
      " 9   E2-A154.03TCGA           11833 non-null  float64\n",
      " 10  C8-A12L.04TCGA           11732 non-null  float64\n",
      " 11  A2-A0EX.04TCGA           11732 non-null  float64\n",
      " 12  AO-A12D.05TCGA           11276 non-null  float64\n",
      " 13  AN-A04A.05TCGA           11276 non-null  float64\n",
      " 14  BH-A0AV.05TCGA           11274 non-null  float64\n",
      " 15  C8-A12T.06TCGA           11132 non-null  float64\n",
      " 16  A8-A06Z.07TCGA           10871 non-null  float64\n",
      " 17  A2-A0CM.07TCGA           10871 non-null  float64\n",
      " 18  BH-A18U.08TCGA           10980 non-null  float64\n",
      " 19  A2-A0EQ.08TCGA           10980 non-null  float64\n",
      " 20  AR-A0U4.09TCGA           10748 non-null  float64\n",
      " 21  AO-A0J9.10TCGA           11152 non-null  float64\n",
      " 22  AR-A1AP.11TCGA           11579 non-null  float64\n",
      " 23  AN-A0FK.11TCGA           11579 non-null  float64\n",
      " 24  AO-A0J6.11TCGA           11578 non-null  float64\n",
      " 25  A7-A13F.12TCGA           11108 non-null  float64\n",
      " 26  BH-A0E1.12TCGA           11108 non-null  float64\n",
      " 27  A7-A0CE.13TCGA           11145 non-null  float64\n",
      " 28  A2-A0YC.13TCGA           11145 non-null  float64\n",
      " 29  AO-A0JC.14TCGA           10919 non-null  float64\n",
      " 30  A8-A08Z.14TCGA           10919 non-null  float64\n",
      " 31  AR-A0TX.14TCGA           10916 non-null  float64\n",
      " 32  A8-A076.15TCGA           11269 non-null  float64\n",
      " 33  AO-A126.15TCGA           11269 non-null  float64\n",
      " 34  BH-A0C1.16TCGA           11380 non-null  float64\n",
      " 35  A2-A0EY.16TCGA           11380 non-null  float64\n",
      " 36  AR-A1AW.17TCGA           10893 non-null  float64\n",
      " 37  AR-A1AV.17TCGA           10893 non-null  float64\n",
      " 38  C8-A135.17TCGA           10892 non-null  float64\n",
      " 39  A2-A0EV.18TCGA           11477 non-null  float64\n",
      " 40  AN-A0AM.18TCGA           11477 non-null  float64\n",
      " 41  D8-A142.18TCGA           11477 non-null  float64\n",
      " 42  AN-A0FL.19TCGA           11281 non-null  float64\n",
      " 43  BH-A0DG.19TCGA           11281 non-null  float64\n",
      " 44  AR-A0TV.20TCGA           11801 non-null  float64\n",
      " 45  C8-A12Z.20TCGA           11800 non-null  float64\n",
      " 46  AO-A0JJ.20TCGA           11801 non-null  float64\n",
      " 47  AO-A0JE.21TCGA           11277 non-null  float64\n",
      " 48  AN-A0AJ.21TCGA           11277 non-null  float64\n",
      " 49  A7-A0CJ.22TCGA           11519 non-null  float64\n",
      " 50  AO-A12F.22TCGA           11519 non-null  float64\n",
      " 51  A8-A079.23TCGA           11418 non-null  float64\n",
      " 52  A2-A0T3.24TCGA           11512 non-null  float64\n",
      " 53  A2-A0YD.24TCGA           11512 non-null  float64\n",
      " 54  AR-A0TR.25TCGA           11950 non-null  float64\n",
      " 55  AO-A03O.25TCGA           11950 non-null  float64\n",
      " 56  AO-A12E.26TCGA           10850 non-null  float64\n",
      " 57  A8-A06N.26TCGA           10850 non-null  float64\n",
      " 58  A2-A0YG.27TCGA           11215 non-null  float64\n",
      " 59  BH-A18N.27TCGA           11215 non-null  float64\n",
      " 60  AN-A0AL.28TCGA           10866 non-null  float64\n",
      " 61  A2-A0T6.29TCGA           11280 non-null  float64\n",
      " 62  E2-A158.29TCGA           11281 non-null  float64\n",
      " 63  E2-A15A.29TCGA           11281 non-null  float64\n",
      " 64  AO-A0JM.30TCGA           11618 non-null  float64\n",
      " 65  C8-A12V.30TCGA           11619 non-null  float64\n",
      " 66  A2-A0D2.31TCGA           11706 non-null  float64\n",
      " 67  C8-A12U.31TCGA           11706 non-null  float64\n",
      " 68  AR-A1AS.31TCGA           11706 non-null  float64\n",
      " 69  A8-A09G.32TCGA           11397 non-null  float64\n",
      " 70  C8-A131.32TCGA           11397 non-null  float64\n",
      " 71  C8-A134.32TCGA           11397 non-null  float64\n",
      " 72  A2-A0YF.33TCGA           11224 non-null  float64\n",
      " 73  BH-A0DD.33TCGA           11224 non-null  float64\n",
      " 74  BH-A0E9.33TCGA           11224 non-null  float64\n",
      " 75  AR-A0TT.34TCGA           11477 non-null  float64\n",
      " 76  AO-A12B.34TCGA           11477 non-null  float64\n",
      " 77  A2-A0SW.35TCGA           10324 non-null  float64\n",
      " 78  AO-A0JL.35TCGA           10324 non-null  float64\n",
      " 79  BH-A0BV.35TCGA           10324 non-null  float64\n",
      " 80  A2-A0YM.36TCGA           9694 non-null   float64\n",
      " 81  BH-A0C7.36TCGA           9693 non-null   float64\n",
      " 82  A2-A0SX.36TCGA           9697 non-null   float64\n",
      " 83  263d3f-I.CPTAC           10912 non-null  float64\n",
      " 84  blcdb9-I.CPTAC           10885 non-null  float64\n",
      " 85  c4155b-C.CPTAC           10913 non-null  float64\n",
      "dtypes: float64(83), object(3)\n",
      "memory usage: 8.2+ MB\n"
     ]
    }
   ],
   "source": [
    "data.info()"
   ],
   "metadata": {
    "collapsed": false
   }
  },
  {
   "cell_type": "code",
   "execution_count": 10,
   "outputs": [
    {
     "data": {
      "text/plain": "array(['A1BG', 'A2BP1', 'A2LD1', ..., 'ZZEF1', 'ZZZ3', 'nan'],\n      dtype='<U32')"
     },
     "execution_count": 10,
     "metadata": {},
     "output_type": "execute_result"
    }
   ],
   "source": [
    "np.unique(data['gene_symbol'].tolist())"
   ],
   "metadata": {
    "collapsed": false
   }
  },
  {
   "cell_type": "code",
   "execution_count": null,
   "outputs": [],
   "source": [],
   "metadata": {
    "collapsed": false
   }
  }
 ],
 "metadata": {
  "kernelspec": {
   "display_name": "Python 3",
   "language": "python",
   "name": "python3"
  },
  "language_info": {
   "codemirror_mode": {
    "name": "ipython",
    "version": 2
   },
   "file_extension": ".py",
   "mimetype": "text/x-python",
   "name": "python",
   "nbconvert_exporter": "python",
   "pygments_lexer": "ipython2",
   "version": "2.7.6"
  }
 },
 "nbformat": 4,
 "nbformat_minor": 0
}

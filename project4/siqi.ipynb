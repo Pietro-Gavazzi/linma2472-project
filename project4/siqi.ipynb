{
 "cells": [
  {
   "cell_type": "markdown",
   "source": [
    "# LINMA 2472 Final Project"
   ],
   "metadata": {
    "collapsed": false
   }
  },
  {
   "cell_type": "markdown",
   "source": [
    "## 1. Load packages"
   ],
   "metadata": {
    "collapsed": false
   }
  },
  {
   "cell_type": "code",
   "execution_count": 2,
   "metadata": {
    "collapsed": true
   },
   "outputs": [],
   "source": [
    "import numpy as np\n",
    "import pandas as pd"
   ]
  },
  {
   "cell_type": "markdown",
   "source": [
    "## 2. Read Data"
   ],
   "metadata": {
    "collapsed": false
   }
  },
  {
   "cell_type": "code",
   "execution_count": 6,
   "outputs": [
    {
     "data": {
      "text/plain": "  RefSeq_accession_number gene_symbol           gene_name  AO-A12D.01TCGA  \\\n0               NP_958782        PLEC   plectin isoform 1        1.096131   \n1               NP_958785         NaN  plectin isoform 1g        1.111370   \n2               NP_958786        PLEC  plectin isoform 1a        1.111370   \n3               NP_000436         NaN  plectin isoform 1c        1.107561   \n4               NP_958781         NaN  plectin isoform 1e        1.115180   \n\n   C8-A131.01TCGA  AO-A12B.01TCGA  BH-A18Q.02TCGA  C8-A130.02TCGA  \\\n0        2.609943       -0.659828        0.195341       -0.494060   \n1        2.650422       -0.648742        0.215413       -0.503899   \n2        2.650422       -0.654285        0.215413       -0.500619   \n3        2.646374       -0.632113        0.205377       -0.510459   \n4        2.646374       -0.640428        0.215413       -0.503899   \n\n   C8-A138.03TCGA  E2-A154.03TCGA  ...  AO-A12B.34TCGA  A2-A0SW.35TCGA  \\\n0        2.765081        0.862659  ...       -0.963904       -0.487772   \n1        2.779709        0.870186  ...       -0.938210       -0.487772   \n2        2.779709        0.870186  ...       -0.943919       -0.487772   \n3        2.797995        0.866423  ...       -0.935355       -0.487772   \n4        2.787023        0.870186  ...       -0.935355       -0.503853   \n\n   AO-A0JL.35TCGA  BH-A0BV.35TCGA  A2-A0YM.36TCGA  BH-A0C7.36TCGA  \\\n0        -0.10668       -0.065838        0.655850       -0.552212   \n1        -0.10668       -0.055893        0.658143       -0.547749   \n2        -0.10668       -0.065838        0.655850       -0.552212   \n3        -0.10668       -0.055893        0.655850       -0.552212   \n4        -0.10668       -0.062523        0.651264       -0.556675   \n\n   A2-A0SX.36TCGA  263d3f-I.CPTAC  blcdb9-I.CPTAC  c4155b-C.CPTAC  \n0       -0.398560        0.598585       -0.191285        0.566975  \n1       -0.392601        0.606697       -0.183918        0.578702  \n2       -0.392601        0.603993       -0.186022        0.576747  \n3       -0.392601        0.603993       -0.186022        0.576747  \n4       -0.395581        0.603993       -0.167079        0.576747  \n\n[5 rows x 86 columns]",
      "text/html": "<div>\n<style scoped>\n    .dataframe tbody tr th:only-of-type {\n        vertical-align: middle;\n    }\n\n    .dataframe tbody tr th {\n        vertical-align: top;\n    }\n\n    .dataframe thead th {\n        text-align: right;\n    }\n</style>\n<table border=\"1\" class=\"dataframe\">\n  <thead>\n    <tr style=\"text-align: right;\">\n      <th></th>\n      <th>RefSeq_accession_number</th>\n      <th>gene_symbol</th>\n      <th>gene_name</th>\n      <th>AO-A12D.01TCGA</th>\n      <th>C8-A131.01TCGA</th>\n      <th>AO-A12B.01TCGA</th>\n      <th>BH-A18Q.02TCGA</th>\n      <th>C8-A130.02TCGA</th>\n      <th>C8-A138.03TCGA</th>\n      <th>E2-A154.03TCGA</th>\n      <th>...</th>\n      <th>AO-A12B.34TCGA</th>\n      <th>A2-A0SW.35TCGA</th>\n      <th>AO-A0JL.35TCGA</th>\n      <th>BH-A0BV.35TCGA</th>\n      <th>A2-A0YM.36TCGA</th>\n      <th>BH-A0C7.36TCGA</th>\n      <th>A2-A0SX.36TCGA</th>\n      <th>263d3f-I.CPTAC</th>\n      <th>blcdb9-I.CPTAC</th>\n      <th>c4155b-C.CPTAC</th>\n    </tr>\n  </thead>\n  <tbody>\n    <tr>\n      <th>0</th>\n      <td>NP_958782</td>\n      <td>PLEC</td>\n      <td>plectin isoform 1</td>\n      <td>1.096131</td>\n      <td>2.609943</td>\n      <td>-0.659828</td>\n      <td>0.195341</td>\n      <td>-0.494060</td>\n      <td>2.765081</td>\n      <td>0.862659</td>\n      <td>...</td>\n      <td>-0.963904</td>\n      <td>-0.487772</td>\n      <td>-0.10668</td>\n      <td>-0.065838</td>\n      <td>0.655850</td>\n      <td>-0.552212</td>\n      <td>-0.398560</td>\n      <td>0.598585</td>\n      <td>-0.191285</td>\n      <td>0.566975</td>\n    </tr>\n    <tr>\n      <th>1</th>\n      <td>NP_958785</td>\n      <td>NaN</td>\n      <td>plectin isoform 1g</td>\n      <td>1.111370</td>\n      <td>2.650422</td>\n      <td>-0.648742</td>\n      <td>0.215413</td>\n      <td>-0.503899</td>\n      <td>2.779709</td>\n      <td>0.870186</td>\n      <td>...</td>\n      <td>-0.938210</td>\n      <td>-0.487772</td>\n      <td>-0.10668</td>\n      <td>-0.055893</td>\n      <td>0.658143</td>\n      <td>-0.547749</td>\n      <td>-0.392601</td>\n      <td>0.606697</td>\n      <td>-0.183918</td>\n      <td>0.578702</td>\n    </tr>\n    <tr>\n      <th>2</th>\n      <td>NP_958786</td>\n      <td>PLEC</td>\n      <td>plectin isoform 1a</td>\n      <td>1.111370</td>\n      <td>2.650422</td>\n      <td>-0.654285</td>\n      <td>0.215413</td>\n      <td>-0.500619</td>\n      <td>2.779709</td>\n      <td>0.870186</td>\n      <td>...</td>\n      <td>-0.943919</td>\n      <td>-0.487772</td>\n      <td>-0.10668</td>\n      <td>-0.065838</td>\n      <td>0.655850</td>\n      <td>-0.552212</td>\n      <td>-0.392601</td>\n      <td>0.603993</td>\n      <td>-0.186022</td>\n      <td>0.576747</td>\n    </tr>\n    <tr>\n      <th>3</th>\n      <td>NP_000436</td>\n      <td>NaN</td>\n      <td>plectin isoform 1c</td>\n      <td>1.107561</td>\n      <td>2.646374</td>\n      <td>-0.632113</td>\n      <td>0.205377</td>\n      <td>-0.510459</td>\n      <td>2.797995</td>\n      <td>0.866423</td>\n      <td>...</td>\n      <td>-0.935355</td>\n      <td>-0.487772</td>\n      <td>-0.10668</td>\n      <td>-0.055893</td>\n      <td>0.655850</td>\n      <td>-0.552212</td>\n      <td>-0.392601</td>\n      <td>0.603993</td>\n      <td>-0.186022</td>\n      <td>0.576747</td>\n    </tr>\n    <tr>\n      <th>4</th>\n      <td>NP_958781</td>\n      <td>NaN</td>\n      <td>plectin isoform 1e</td>\n      <td>1.115180</td>\n      <td>2.646374</td>\n      <td>-0.640428</td>\n      <td>0.215413</td>\n      <td>-0.503899</td>\n      <td>2.787023</td>\n      <td>0.870186</td>\n      <td>...</td>\n      <td>-0.935355</td>\n      <td>-0.503853</td>\n      <td>-0.10668</td>\n      <td>-0.062523</td>\n      <td>0.651264</td>\n      <td>-0.556675</td>\n      <td>-0.395581</td>\n      <td>0.603993</td>\n      <td>-0.167079</td>\n      <td>0.576747</td>\n    </tr>\n  </tbody>\n</table>\n<p>5 rows × 86 columns</p>\n</div>"
     },
     "execution_count": 6,
     "metadata": {},
     "output_type": "execute_result"
    }
   ],
   "source": [
    "data = pd.read_csv(\"./dataset/dataset.csv\")\n",
    "data.head()"
   ],
   "metadata": {
    "collapsed": false
   }
  },
  {
   "cell_type": "markdown",
   "source": [
    "## 3. Data Description"
   ],
   "metadata": {
    "collapsed": false
   }
  },
  {
   "cell_type": "markdown",
   "source": [
    "### 3.1 The size of the dataset"
   ],
   "metadata": {
    "collapsed": false
   }
  },
  {
   "cell_type": "code",
   "execution_count": 8,
   "outputs": [
    {
     "name": "stdout",
     "output_type": "stream",
     "text": [
      "The size of the dataset is 12553 rows with 86 features\n"
     ]
    }
   ],
   "source": [
    "print('The size of the dataset is %d rows with %d features' % (data.shape[0], data.shape[1]))"
   ],
   "metadata": {
    "collapsed": false
   }
  },
  {
   "cell_type": "code",
   "execution_count": null,
   "outputs": [],
   "source": [],
   "metadata": {
    "collapsed": false
   }
  },
  {
   "cell_type": "code",
   "execution_count": 16,
   "outputs": [
    {
     "data": {
      "text/plain": "0           NP_958782\n1           NP_958785\n2           NP_958786\n3           NP_000436\n4           NP_958781\n             ...     \n12548    NP_001191293\n12549       NP_775791\n12550       NP_004065\n12551       NP_068752\n12552       NP_219494\nName: RefSeq_accession_number, Length: 12553, dtype: object"
     },
     "execution_count": 16,
     "metadata": {},
     "output_type": "execute_result"
    }
   ],
   "source": [
    "data['RefSeq_accession_number']"
   ],
   "metadata": {
    "collapsed": false
   }
  },
  {
   "cell_type": "code",
   "execution_count": 9,
   "outputs": [
    {
     "data": {
      "text/plain": "Index(['RefSeq_accession_number', 'gene_symbol', 'gene_name', 'AO-A12D.01TCGA',\n       'C8-A131.01TCGA', 'AO-A12B.01TCGA', 'BH-A18Q.02TCGA', 'C8-A130.02TCGA',\n       'C8-A138.03TCGA', 'E2-A154.03TCGA', 'C8-A12L.04TCGA', 'A2-A0EX.04TCGA',\n       'AO-A12D.05TCGA', 'AN-A04A.05TCGA', 'BH-A0AV.05TCGA', 'C8-A12T.06TCGA',\n       'A8-A06Z.07TCGA', 'A2-A0CM.07TCGA', 'BH-A18U.08TCGA', 'A2-A0EQ.08TCGA',\n       'AR-A0U4.09TCGA', 'AO-A0J9.10TCGA', 'AR-A1AP.11TCGA', 'AN-A0FK.11TCGA',\n       'AO-A0J6.11TCGA', 'A7-A13F.12TCGA', 'BH-A0E1.12TCGA', 'A7-A0CE.13TCGA',\n       'A2-A0YC.13TCGA', 'AO-A0JC.14TCGA', 'A8-A08Z.14TCGA', 'AR-A0TX.14TCGA',\n       'A8-A076.15TCGA', 'AO-A126.15TCGA', 'BH-A0C1.16TCGA', 'A2-A0EY.16TCGA',\n       'AR-A1AW.17TCGA', 'AR-A1AV.17TCGA', 'C8-A135.17TCGA', 'A2-A0EV.18TCGA',\n       'AN-A0AM.18TCGA', 'D8-A142.18TCGA', 'AN-A0FL.19TCGA', 'BH-A0DG.19TCGA',\n       'AR-A0TV.20TCGA', 'C8-A12Z.20TCGA', 'AO-A0JJ.20TCGA', 'AO-A0JE.21TCGA',\n       'AN-A0AJ.21TCGA', 'A7-A0CJ.22TCGA', 'AO-A12F.22TCGA', 'A8-A079.23TCGA',\n       'A2-A0T3.24TCGA', 'A2-A0YD.24TCGA', 'AR-A0TR.25TCGA', 'AO-A03O.25TCGA',\n       'AO-A12E.26TCGA', 'A8-A06N.26TCGA', 'A2-A0YG.27TCGA', 'BH-A18N.27TCGA',\n       'AN-A0AL.28TCGA', 'A2-A0T6.29TCGA', 'E2-A158.29TCGA', 'E2-A15A.29TCGA',\n       'AO-A0JM.30TCGA', 'C8-A12V.30TCGA', 'A2-A0D2.31TCGA', 'C8-A12U.31TCGA',\n       'AR-A1AS.31TCGA', 'A8-A09G.32TCGA', 'C8-A131.32TCGA', 'C8-A134.32TCGA',\n       'A2-A0YF.33TCGA', 'BH-A0DD.33TCGA', 'BH-A0E9.33TCGA', 'AR-A0TT.34TCGA',\n       'AO-A12B.34TCGA', 'A2-A0SW.35TCGA', 'AO-A0JL.35TCGA', 'BH-A0BV.35TCGA',\n       'A2-A0YM.36TCGA', 'BH-A0C7.36TCGA', 'A2-A0SX.36TCGA', '263d3f-I.CPTAC',\n       'blcdb9-I.CPTAC', 'c4155b-C.CPTAC'],\n      dtype='object')"
     },
     "execution_count": 9,
     "metadata": {},
     "output_type": "execute_result"
    }
   ],
   "source": [
    "data.columns"
   ],
   "metadata": {
    "collapsed": false
   }
  },
  {
   "cell_type": "code",
   "execution_count": null,
   "outputs": [],
   "source": [],
   "metadata": {
    "collapsed": false
   }
  }
 ],
 "metadata": {
  "kernelspec": {
   "display_name": "Python 3",
   "language": "python",
   "name": "python3"
  },
  "language_info": {
   "codemirror_mode": {
    "name": "ipython",
    "version": 2
   },
   "file_extension": ".py",
   "mimetype": "text/x-python",
   "name": "python",
   "nbconvert_exporter": "python",
   "pygments_lexer": "ipython2",
   "version": "2.7.6"
  }
 },
 "nbformat": 4,
 "nbformat_minor": 0
}
